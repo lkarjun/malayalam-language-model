{
 "cells": [
  {
   "cell_type": "code",
   "execution_count": 2,
   "id": "honest-phrase",
   "metadata": {},
   "outputs": [],
   "source": [
    "from fastai.text.all import *\n",
    "path = untar_data(URLs.IMDB)"
   ]
  },
  {
   "cell_type": "code",
   "execution_count": 3,
   "id": "parental-original",
   "metadata": {},
   "outputs": [],
   "source": [
    "files = get_text_files('Dataset/WikiText/data')"
   ]
  },
  {
   "cell_type": "code",
   "execution_count": 4,
   "id": "frequent-subcommittee",
   "metadata": {},
   "outputs": [
    {
     "data": {
      "text/plain": [
       "'കളിൽ ഒന്നാണ് മകൗ . ഹോങ്കോങ് ആണ് മറ്റേത് . പേൾ നദീതടത്തിന്റെ പടിഞ്ഞാറൻ ഭാഗത്താണ് മഹൗ സ്ഥിതി ചെയ്യുന്നത് . വടക്ക് ഗുവാങ്ഡൊങ് പ്രവിശ്യയും കിഴക്കും തെക്കും തെക്കൻ ചൈന കടലുമാണ് ഇതിന്റെ അതിരുകൾ . കാന്റൺ നദി ദക്ഷിണചൈനാസമുദ്രത്തിൽ പതിക്കുന്നതിനു സമീപമാണിത് . \\nപതിനാറാം ശതകം മുതൽ ഒരു പോർച്ചുഗീസ് അധീനപ്രദേശം ആയിരുന്നു ഇത്.1990 ലെ ഭരണഘടനപ്രകാരം രാഷ്ട്രീയ സ്വയംഭരണം ലഭിച്ചു.\\nഈ പ്രദേശത്തിന്റെ സാമ്പത്തികാവസ്ഥ പ്രധാനമായും ചൂതാട്ടത്തിലും ടൂറിസത്തിലും ഊന്നിയുള്ളതാണ് . വാണിജ്യ ഉത്പാദന കേന്ദ്രങ്ങളുമുണ്ട് . തുണിത്തരങ്ങൾ, ഇലക്ക്ട്രോണിക്സ്, കളിപ്പാട്ടം എന്നിവയുടെ മികച്ച വ്യവസായങ്ങൾ ഇവിടെയുണ്ട് . വിനോദസഞ്ചാരത്തിലും മുന്നിട്ട് നിൽക്കുന്നു . അനേകം ഹോട്ടലുകൾ, റിസോർട്ടുകൾ, സ്റ്റേഡിയങ്ങൾ, റെസ്റ്റൊറാന്റുകൾ, ചൂതാട്ടകേന്ദ്രങ്ങൾ എന്നിവ ഈ നഗരത്തിൽ പ്രവർത്തിക്കുന്നു.'"
      ]
     },
     "execution_count": 4,
     "metadata": {},
     "output_type": "execute_result"
    }
   ],
   "source": [
    "txt = files[100].open().read(); txt[30:-1]"
   ]
  },
  {
   "cell_type": "code",
   "execution_count": 3,
   "id": "accessible-patch",
   "metadata": {},
   "outputs": [],
   "source": [
    "path = 'Dataset/WikiText/data'\n",
    "get_texts = partial(get_text_files)\n",
    "\n",
    "dls_lm = DataBlock(\n",
    "    blocks=TextBlock.from_folder(path, is_lm=True),\n",
    "    get_items=get_texts, splitter=RandomSplitter(0.1)\n",
    ").dataloaders(path, path=path, bs=80, seq_len=20)"
   ]
  },
  {
   "cell_type": "code",
   "execution_count": 5,
   "id": "exclusive-sender",
   "metadata": {},
   "outputs": [
    {
     "data": {
      "text/html": [
       "<table border=\"1\" class=\"dataframe\">\n",
       "  <thead>\n",
       "    <tr style=\"text-align: right;\">\n",
       "      <th></th>\n",
       "      <th>text</th>\n",
       "      <th>text_</th>\n",
       "    </tr>\n",
       "  </thead>\n",
       "  <tbody>\n",
       "    <tr>\n",
       "      <th>0</th>\n",
       "      <td>xxbos xxunk മലയാള ഭാഷയിലെ ഒരു വൃത്തമാണ് . \\n ‎അഘഹരണം• ‎അചലധൃതി• ‎അജഗരഗമനം• ‎അതിരുചിര• അതിരുചിരം• അതിരുചിരം• ‎അതിമുദിതം• ‎അതിസമ്മത• ‎അതിസ്തിമിത• ‎അനപായം• അനുഷ്ടുപ്പ്• ‎അനംഗശേഖരം•</td>\n",
       "      <td>xxunk മലയാള ഭാഷയിലെ ഒരു വൃത്തമാണ് . \\n ‎അഘഹരണം• ‎അചലധൃതി• ‎അജഗരഗമനം• ‎അതിരുചിര• അതിരുചിരം• അതിരുചിരം• ‎അതിമുദിതം• ‎അതിസമ്മത• ‎അതിസ്തിമിത• ‎അനപായം• അനുഷ്ടുപ്പ്• ‎അനംഗശേഖരം• ‎അന്നനട•</td>\n",
       "    </tr>\n",
       "    <tr>\n",
       "      <th>1</th>\n",
       "      <td>അവാർഡ് ലഭിച്ചിട്ടുണ്ട് . xxbos പ്രഗല്ഭ ആണവ ശാസ്ത്രജ്ഞനും ഇന്ത്യയിലെ xxunk എനർജി xxunk ബോർഡിന്റെ മുൻ xxunk ഡോ . എ. ഗോപാലകൃഷ്ണൻ . xxunk</td>\n",
       "      <td>ലഭിച്ചിട്ടുണ്ട് . xxbos പ്രഗല്ഭ ആണവ ശാസ്ത്രജ്ഞനും ഇന്ത്യയിലെ xxunk എനർജി xxunk ബോർഡിന്റെ മുൻ xxunk ഡോ . എ. ഗോപാലകൃഷ്ണൻ . xxunk xxunk</td>\n",
       "    </tr>\n",
       "  </tbody>\n",
       "</table>"
      ],
      "text/plain": [
       "<IPython.core.display.HTML object>"
      ]
     },
     "metadata": {},
     "output_type": "display_data"
    }
   ],
   "source": [
    "dls_lm.show_batch(max_n=2)"
   ]
  },
  {
   "cell_type": "code",
   "execution_count": 4,
   "id": "incomplete-portable",
   "metadata": {},
   "outputs": [],
   "source": [
    "learn = language_model_learner(\n",
    "    dls_lm, AWD_LSTM, drop_mult=0.5, \n",
    "    metrics=[accuracy, Perplexity()], pretrained=False).to_fp16()"
   ]
  },
  {
   "cell_type": "code",
   "execution_count": 7,
   "id": "ruled-stephen",
   "metadata": {},
   "outputs": [
    {
     "data": {
      "text/html": [],
      "text/plain": [
       "<IPython.core.display.HTML object>"
      ]
     },
     "metadata": {},
     "output_type": "display_data"
    },
    {
     "data": {
      "text/plain": [
       "SuggestedLRs(lr_min=0.002754228748381138, lr_steep=0.0030199517495930195)"
      ]
     },
     "execution_count": 7,
     "metadata": {},
     "output_type": "execute_result"
    },
    {
     "data": {
      "image/png": "[encoded data removed]",
      "text/plain": [
       "<Figure size 432x288 with 1 Axes>"
      ]
     },
     "metadata": {
      "needs_background": "light"
     },
     "output_type": "display_data"
    }
   ],
   "source": [
    "learn.lr_find()"
   ]
  },
  {
   "cell_type": "code",
   "execution_count": 13,
   "id": "empirical-range",
   "metadata": {},
   "outputs": [
    {
     "data": {
      "text/html": [
       "<table border=\"1\" class=\"dataframe\">\n",
       "  <thead>\n",
       "    <tr style=\"text-align: left;\">\n",
       "      <th>epoch</th>\n",
       "      <th>train_loss</th>\n",
       "      <th>valid_loss</th>\n",
       "      <th>accuracy</th>\n",
       "      <th>perplexity</th>\n",
       "      <th>time</th>\n",
       "    </tr>\n",
       "  </thead>\n",
       "  <tbody>\n",
       "    <tr>\n",
       "      <td>0</td>\n",
       "      <td>7.167313</td>\n",
       "      <td>7.151900</td>\n",
       "      <td>0.229333</td>\n",
       "      <td>1276.528809</td>\n",
       "      <td>13:21</td>\n",
       "    </tr>\n",
       "    <tr>\n",
       "      <td>1</td>\n",
       "      <td>5.778377</td>\n",
       "      <td>6.111674</td>\n",
       "      <td>0.297648</td>\n",
       "      <td>451.093140</td>\n",
       "      <td>13:28</td>\n",
       "    </tr>\n",
       "    <tr>\n",
       "      <td>2</td>\n",
       "      <td>5.425362</td>\n",
       "      <td>5.620929</td>\n",
       "      <td>0.329215</td>\n",
       "      <td>276.145874</td>\n",
       "      <td>13:21</td>\n",
       "    </tr>\n",
       "    <tr>\n",
       "      <td>3</td>\n",
       "      <td>4.793969</td>\n",
       "      <td>4.955151</td>\n",
       "      <td>0.372848</td>\n",
       "      <td>141.904037</td>\n",
       "      <td>13:22</td>\n",
       "    </tr>\n",
       "    <tr>\n",
       "      <td>4</td>\n",
       "      <td>4.381094</td>\n",
       "      <td>4.580797</td>\n",
       "      <td>0.408788</td>\n",
       "      <td>97.592117</td>\n",
       "      <td>13:19</td>\n",
       "    </tr>\n",
       "    <tr>\n",
       "      <td>5</td>\n",
       "      <td>4.158104</td>\n",
       "      <td>4.402090</td>\n",
       "      <td>0.422709</td>\n",
       "      <td>81.621246</td>\n",
       "      <td>13:20</td>\n",
       "    </tr>\n",
       "    <tr>\n",
       "      <td>6</td>\n",
       "      <td>3.916116</td>\n",
       "      <td>4.300414</td>\n",
       "      <td>0.431230</td>\n",
       "      <td>73.730286</td>\n",
       "      <td>13:08</td>\n",
       "    </tr>\n",
       "    <tr>\n",
       "      <td>7</td>\n",
       "      <td>3.746299</td>\n",
       "      <td>4.159586</td>\n",
       "      <td>0.439183</td>\n",
       "      <td>64.044998</td>\n",
       "      <td>13:06</td>\n",
       "    </tr>\n",
       "    <tr>\n",
       "      <td>8</td>\n",
       "      <td>3.630838</td>\n",
       "      <td>4.073390</td>\n",
       "      <td>0.445173</td>\n",
       "      <td>58.755779</td>\n",
       "      <td>13:05</td>\n",
       "    </tr>\n",
       "    <tr>\n",
       "      <td>9</td>\n",
       "      <td>3.506808</td>\n",
       "      <td>4.002523</td>\n",
       "      <td>0.453105</td>\n",
       "      <td>54.736099</td>\n",
       "      <td>13:06</td>\n",
       "    </tr>\n",
       "    <tr>\n",
       "      <td>10</td>\n",
       "      <td>3.284269</td>\n",
       "      <td>3.963127</td>\n",
       "      <td>0.457217</td>\n",
       "      <td>52.621624</td>\n",
       "      <td>13:25</td>\n",
       "    </tr>\n",
       "    <tr>\n",
       "      <td>11</td>\n",
       "      <td>3.313831</td>\n",
       "      <td>3.905799</td>\n",
       "      <td>0.462832</td>\n",
       "      <td>49.689774</td>\n",
       "      <td>13:07</td>\n",
       "    </tr>\n",
       "    <tr>\n",
       "      <td>12</td>\n",
       "      <td>3.424340</td>\n",
       "      <td>3.827763</td>\n",
       "      <td>0.469132</td>\n",
       "      <td>45.959625</td>\n",
       "      <td>13:09</td>\n",
       "    </tr>\n",
       "    <tr>\n",
       "      <td>13</td>\n",
       "      <td>3.165725</td>\n",
       "      <td>3.820130</td>\n",
       "      <td>0.471112</td>\n",
       "      <td>45.610142</td>\n",
       "      <td>13:07</td>\n",
       "    </tr>\n",
       "    <tr>\n",
       "      <td>14</td>\n",
       "      <td>3.231790</td>\n",
       "      <td>3.770725</td>\n",
       "      <td>0.475378</td>\n",
       "      <td>43.411526</td>\n",
       "      <td>13:05</td>\n",
       "    </tr>\n",
       "    <tr>\n",
       "      <td>15</td>\n",
       "      <td>3.053434</td>\n",
       "      <td>3.782304</td>\n",
       "      <td>0.474159</td>\n",
       "      <td>43.917103</td>\n",
       "      <td>13:10</td>\n",
       "    </tr>\n",
       "    <tr>\n",
       "      <td>16</td>\n",
       "      <td>3.114327</td>\n",
       "      <td>3.734571</td>\n",
       "      <td>0.480030</td>\n",
       "      <td>41.870068</td>\n",
       "      <td>13:07</td>\n",
       "    </tr>\n",
       "    <tr>\n",
       "      <td>17</td>\n",
       "      <td>3.125124</td>\n",
       "      <td>3.732792</td>\n",
       "      <td>0.478750</td>\n",
       "      <td>41.795624</td>\n",
       "      <td>13:07</td>\n",
       "    </tr>\n",
       "    <tr>\n",
       "      <td>18</td>\n",
       "      <td>3.127155</td>\n",
       "      <td>3.681711</td>\n",
       "      <td>0.485494</td>\n",
       "      <td>39.714294</td>\n",
       "      <td>13:06</td>\n",
       "    </tr>\n",
       "    <tr>\n",
       "      <td>19</td>\n",
       "      <td>2.918716</td>\n",
       "      <td>3.670024</td>\n",
       "      <td>0.484614</td>\n",
       "      <td>39.252846</td>\n",
       "      <td>13:14</td>\n",
       "    </tr>\n",
       "    <tr>\n",
       "      <td>20</td>\n",
       "      <td>3.021787</td>\n",
       "      <td>3.635868</td>\n",
       "      <td>0.490406</td>\n",
       "      <td>37.934761</td>\n",
       "      <td>13:07</td>\n",
       "    </tr>\n",
       "    <tr>\n",
       "      <td>21</td>\n",
       "      <td>2.949454</td>\n",
       "      <td>3.645711</td>\n",
       "      <td>0.488473</td>\n",
       "      <td>38.309990</td>\n",
       "      <td>13:07</td>\n",
       "    </tr>\n",
       "    <tr>\n",
       "      <td>22</td>\n",
       "      <td>2.950557</td>\n",
       "      <td>3.627261</td>\n",
       "      <td>0.490650</td>\n",
       "      <td>37.609669</td>\n",
       "      <td>13:06</td>\n",
       "    </tr>\n",
       "    <tr>\n",
       "      <td>23</td>\n",
       "      <td>2.892196</td>\n",
       "      <td>3.607445</td>\n",
       "      <td>0.496170</td>\n",
       "      <td>36.871727</td>\n",
       "      <td>13:11</td>\n",
       "    </tr>\n",
       "    <tr>\n",
       "      <td>24</td>\n",
       "      <td>2.888867</td>\n",
       "      <td>3.587850</td>\n",
       "      <td>0.497047</td>\n",
       "      <td>36.156261</td>\n",
       "      <td>13:23</td>\n",
       "    </tr>\n",
       "    <tr>\n",
       "      <td>25</td>\n",
       "      <td>2.891431</td>\n",
       "      <td>3.576970</td>\n",
       "      <td>0.499442</td>\n",
       "      <td>35.765003</td>\n",
       "      <td>13:06</td>\n",
       "    </tr>\n",
       "    <tr>\n",
       "      <td>26</td>\n",
       "      <td>2.740154</td>\n",
       "      <td>3.586406</td>\n",
       "      <td>0.497184</td>\n",
       "      <td>36.104065</td>\n",
       "      <td>13:05</td>\n",
       "    </tr>\n",
       "    <tr>\n",
       "      <td>27</td>\n",
       "      <td>2.949825</td>\n",
       "      <td>3.535456</td>\n",
       "      <td>0.503944</td>\n",
       "      <td>34.310673</td>\n",
       "      <td>13:06</td>\n",
       "    </tr>\n",
       "    <tr>\n",
       "      <td>28</td>\n",
       "      <td>2.921718</td>\n",
       "      <td>3.562690</td>\n",
       "      <td>0.500666</td>\n",
       "      <td>35.257923</td>\n",
       "      <td>13:10</td>\n",
       "    </tr>\n",
       "    <tr>\n",
       "      <td>29</td>\n",
       "      <td>2.625119</td>\n",
       "      <td>3.545387</td>\n",
       "      <td>0.505596</td>\n",
       "      <td>34.653088</td>\n",
       "      <td>13:08</td>\n",
       "    </tr>\n",
       "  </tbody>\n",
       "</table>"
      ],
      "text/plain": [
       "<IPython.core.display.HTML object>"
      ]
     },
     "metadata": {},
     "output_type": "display_data"
    }
   ],
   "source": [
    "learn.fit(30, 2.9e-3)"
   ]
  },
  {
   "cell_type": "code",
   "execution_count": 17,
   "id": "twelve-liability",
   "metadata": {
    "scrolled": true
   },
   "outputs": [
    {
     "data": {
      "text/html": [],
      "text/plain": [
       "<IPython.core.display.HTML object>"
      ]
     },
     "metadata": {},
     "output_type": "display_data"
    },
    {
     "data": {
      "text/plain": [
       "'ഇത് നടപ്പിൽ നേതൃത്വം കൊടുക്കുന്ന ഒരു പാട്ട് ആണ് . തടവുശിക്ഷ ജ്ഞാനം ഭയം പൊതുവെ അല്ലെങ്കിൽ മംഗളം പോലെയുള്ള മറ്റു മേഖലകളിലും ഭൗതികശാസ്ത്രം , ആമുഖം എന്നിവിടങ്ങളിലും സാധാരണ ഗതിയിൽ ആകർഷിക്കുന്നു . ഓട്ടോമൻ രാജവംശത്തിനു വേണ്ടിയായിരുന്നു ഇവരുടെ കാലം . ഇസ്ലാം എന്നർത്ഥമുള്ള മിക്ക നിബന്ധനകൾ സാധ്യമാകുന്ന ഉപയോഗിക്കുന്നുണ്ട് , മിക്ക രീതിയിലുമുള്ള മതപരിവർത്തനം നൽകി നൃത്തം കട്ട . എന്നാൽ , ഈദ് ലൂതർ ബി .'"
      ]
     },
     "execution_count": 17,
     "metadata": {},
     "output_type": "execute_result"
    }
   ],
   "source": [
    "learn.predict('ഇത്', 50)"
   ]
  },
  {
   "cell_type": "code",
   "execution_count": 22,
   "id": "external-roman",
   "metadata": {},
   "outputs": [
    {
     "data": {
      "text/plain": [
       "Path('Dataset/WikiText/data/models/Wikimodel.pth')"
      ]
     },
     "execution_count": 22,
     "metadata": {},
     "output_type": "execute_result"
    }
   ],
   "source": [
    "learn.save('Wikimodel')"
   ]
  },
  {
   "cell_type": "code",
   "execution_count": null,
   "id": "animated-kansas",
   "metadata": {},
   "outputs": [],
   "source": []
  },
  {
   "cell_type": "code",
   "execution_count": 19,
   "id": "known-admission",
   "metadata": {},
   "outputs": [],
   "source": [
    "learn = learn.load('Wikimodel')"
   ]
  },
  {
   "cell_type": "code",
   "execution_count": 29,
   "id": "standing-tactics",
   "metadata": {},
   "outputs": [
    {
     "data": {
      "text/html": [],
      "text/plain": [
       "<IPython.core.display.HTML object>"
      ]
     },
     "metadata": {},
     "output_type": "display_data"
    },
    {
     "data": {
      "text/plain": [
       "'ഞാൻ അവിടെ മുഴുവൻ'"
      ]
     },
     "execution_count": 29,
     "metadata": {},
     "output_type": "execute_result"
    }
   ],
   "source": [
    "learn.predict('ഞാൻ അവിടെ', 1)"
   ]
  },
  {
   "cell_type": "code",
   "execution_count": 54,
   "id": "collectible-order",
   "metadata": {},
   "outputs": [],
   "source": [
    "learn.export(Path.cwd()/'Model.pth')"
   ]
  },
  {
   "cell_type": "code",
   "execution_count": null,
   "id": "typical-american",
   "metadata": {},
   "outputs": [],
   "source": []
  }
 ],
 "metadata": {
  "kernelspec": {
   "display_name": "Python 3",
   "language": "python",
   "name": "python3"
  },
  "language_info": {
   "codemirror_mode": {
    "name": "ipython",
    "version": 3
   },
   "file_extension": ".py",
   "mimetype": "text/x-python",
   "name": "python",
   "nbconvert_exporter": "python",
   "pygments_lexer": "ipython3",
   "version": "3.7.9"
  }
 },
 "nbformat": 4,
 "nbformat_minor": 5
}
