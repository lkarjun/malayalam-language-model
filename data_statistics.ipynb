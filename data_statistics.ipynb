{
 "cells": [
  {
   "cell_type": "markdown",
   "id": "114cca69",
   "metadata": {},
   "source": [
    "## Packages importing"
   ]
  },
  {
   "cell_type": "code",
   "execution_count": 49,
   "id": "5d5f2c7c",
   "metadata": {},
   "outputs": [],
   "source": [
    "import pandas as pd\n",
    "from pathlib import Path\n",
    "from tqdm import tqdm\n",
    "import seaborn as sns\n",
    "import matplotlib.pyplot as plt\n",
    "import re\n",
    "import numpy as np\n",
    "\n",
    "BASE_PATH = Path(\"datasets/\")\n",
    "\n",
    "sns.set()\n",
    "tqdm.pandas()"
   ]
  },
  {
   "cell_type": "markdown",
   "id": "76ca8e81",
   "metadata": {},
   "source": [
    " ### Loading data"
   ]
  },
  {
   "cell_type": "code",
   "execution_count": 50,
   "id": "500fcbc2",
   "metadata": {},
   "outputs": [],
   "source": [
    "def get_text_files(file_name: str):\n",
    "    '''open file and return the content'''\n",
    "    with open(file_name, \"r\", encoding=\"utf8\") as file:\n",
    "        txt = file.read()\n",
    "    return txt"
   ]
  },
  {
   "cell_type": "code",
   "execution_count": 51,
   "id": "da377471",
   "metadata": {},
   "outputs": [],
   "source": [
    "wiki = pd.read_csv(BASE_PATH/'wikitext_files.csv')\n",
    "mag = pd.read_csv(BASE_PATH/'magazine_files.csv')"
   ]
  },
  {
   "cell_type": "code",
   "execution_count": 8,
   "id": "f5818a90",
   "metadata": {},
   "outputs": [
    {
     "data": {
      "text/html": [
       "<div>\n",
       "<style scoped>\n",
       "    .dataframe tbody tr th:only-of-type {\n",
       "        vertical-align: middle;\n",
       "    }\n",
       "\n",
       "    .dataframe tbody tr th {\n",
       "        vertical-align: top;\n",
       "    }\n",
       "\n",
       "    .dataframe thead th {\n",
       "        text-align: right;\n",
       "    }\n",
       "</style>\n",
       "<table border=\"1\" class=\"dataframe\">\n",
       "  <thead>\n",
       "    <tr style=\"text-align: right;\">\n",
       "      <th></th>\n",
       "      <th>file_path</th>\n",
       "      <th>dataset_name</th>\n",
       "      <th>length</th>\n",
       "    </tr>\n",
       "  </thead>\n",
       "  <tbody>\n",
       "    <tr>\n",
       "      <th>8148</th>\n",
       "      <td>datasets/wikitext_raw/wiki6182.txt</td>\n",
       "      <td>wiki_text</td>\n",
       "      <td>884</td>\n",
       "    </tr>\n",
       "    <tr>\n",
       "      <th>205</th>\n",
       "      <td>datasets/wikitext_raw/wiki10181.txt</td>\n",
       "      <td>wiki_text</td>\n",
       "      <td>521</td>\n",
       "    </tr>\n",
       "    <tr>\n",
       "      <th>1311</th>\n",
       "      <td>datasets/wikitext_raw/wiki11177.txt</td>\n",
       "      <td>wiki_text</td>\n",
       "      <td>313</td>\n",
       "    </tr>\n",
       "    <tr>\n",
       "      <th>10147</th>\n",
       "      <td>datasets/wikitext_raw/wiki7982.txt</td>\n",
       "      <td>wiki_text</td>\n",
       "      <td>935</td>\n",
       "    </tr>\n",
       "  </tbody>\n",
       "</table>\n",
       "</div>"
      ],
      "text/plain": [
       "                                 file_path dataset_name  length\n",
       "8148    datasets/wikitext_raw/wiki6182.txt    wiki_text     884\n",
       "205    datasets/wikitext_raw/wiki10181.txt    wiki_text     521\n",
       "1311   datasets/wikitext_raw/wiki11177.txt    wiki_text     313\n",
       "10147   datasets/wikitext_raw/wiki7982.txt    wiki_text     935"
      ]
     },
     "execution_count": 8,
     "metadata": {},
     "output_type": "execute_result"
    }
   ],
   "source": [
    "wiki.sample(4, random_state=34)"
   ]
  },
  {
   "cell_type": "code",
   "execution_count": 9,
   "id": "a8e4470e-5e28-4811-826b-c5f7a4b5ff23",
   "metadata": {},
   "outputs": [
    {
     "data": {
      "text/html": [
       "<div>\n",
       "<style scoped>\n",
       "    .dataframe tbody tr th:only-of-type {\n",
       "        vertical-align: middle;\n",
       "    }\n",
       "\n",
       "    .dataframe tbody tr th {\n",
       "        vertical-align: top;\n",
       "    }\n",
       "\n",
       "    .dataframe thead th {\n",
       "        text-align: right;\n",
       "    }\n",
       "</style>\n",
       "<table border=\"1\" class=\"dataframe\">\n",
       "  <thead>\n",
       "    <tr style=\"text-align: right;\">\n",
       "      <th></th>\n",
       "      <th>file_path</th>\n",
       "      <th>dataset_name</th>\n",
       "      <th>length</th>\n",
       "    </tr>\n",
       "  </thead>\n",
       "  <tbody>\n",
       "    <tr>\n",
       "      <th>1242</th>\n",
       "      <td>datasets/magazine_raw/mag2115.txt</td>\n",
       "      <td>magazine_text</td>\n",
       "      <td>3812</td>\n",
       "    </tr>\n",
       "    <tr>\n",
       "      <th>1407</th>\n",
       "      <td>datasets/magazine_raw/mag2264.txt</td>\n",
       "      <td>magazine_text</td>\n",
       "      <td>4365</td>\n",
       "    </tr>\n",
       "    <tr>\n",
       "      <th>2579</th>\n",
       "      <td>datasets/magazine_raw/mag3319.txt</td>\n",
       "      <td>magazine_text</td>\n",
       "      <td>3681</td>\n",
       "    </tr>\n",
       "    <tr>\n",
       "      <th>1075</th>\n",
       "      <td>datasets/magazine_raw/mag1966.txt</td>\n",
       "      <td>magazine_text</td>\n",
       "      <td>2132</td>\n",
       "    </tr>\n",
       "  </tbody>\n",
       "</table>\n",
       "</div>"
      ],
      "text/plain": [
       "                              file_path   dataset_name  length\n",
       "1242  datasets/magazine_raw/mag2115.txt  magazine_text    3812\n",
       "1407  datasets/magazine_raw/mag2264.txt  magazine_text    4365\n",
       "2579  datasets/magazine_raw/mag3319.txt  magazine_text    3681\n",
       "1075  datasets/magazine_raw/mag1966.txt  magazine_text    2132"
      ]
     },
     "execution_count": 9,
     "metadata": {},
     "output_type": "execute_result"
    }
   ],
   "source": [
    "mag.sample(4, random_state=42)"
   ]
  },
  {
   "cell_type": "code",
   "execution_count": 52,
   "id": "ba6adac3",
   "metadata": {
    "scrolled": true
   },
   "outputs": [
    {
     "name": "stderr",
     "output_type": "stream",
     "text": [
      "100%|██████████████████████████████████████████████████████████████████████████████████| 12388/12388 [01:59<00:00, 103.61it/s]\n"
     ]
    }
   ],
   "source": [
    "wiki['content'] = wiki['file_path'].progress_map(get_text_files)\n",
    "mag['content'] = mag['file_path'].progress_map(get_text_files)"
   ]
  },
  {
   "cell_type": "code",
   "execution_count": 11,
   "id": "7a51181f",
   "metadata": {},
   "outputs": [
    {
     "data": {
      "text/html": [
       "<div>\n",
       "<style scoped>\n",
       "    .dataframe tbody tr th:only-of-type {\n",
       "        vertical-align: middle;\n",
       "    }\n",
       "\n",
       "    .dataframe tbody tr th {\n",
       "        vertical-align: top;\n",
       "    }\n",
       "\n",
       "    .dataframe thead th {\n",
       "        text-align: right;\n",
       "    }\n",
       "</style>\n",
       "<table border=\"1\" class=\"dataframe\">\n",
       "  <thead>\n",
       "    <tr style=\"text-align: right;\">\n",
       "      <th></th>\n",
       "      <th>file_path</th>\n",
       "      <th>dataset_name</th>\n",
       "      <th>length</th>\n",
       "      <th>content</th>\n",
       "    </tr>\n",
       "  </thead>\n",
       "  <tbody>\n",
       "    <tr>\n",
       "      <th>7067</th>\n",
       "      <td>datasets/magazine_raw/mag7359.txt</td>\n",
       "      <td>magazine_text</td>\n",
       "      <td>917</td>\n",
       "      <td>ഫ്‌ളോറിഡ : മുന്‍ കാമുകിയുടെ കത്തിന് 100 ല്‍ 61...</td>\n",
       "    </tr>\n",
       "    <tr>\n",
       "      <th>2001</th>\n",
       "      <td>datasets/magazine_raw/mag28.txt</td>\n",
       "      <td>magazine_text</td>\n",
       "      <td>1648</td>\n",
       "      <td>സൂക്ഷിച്ചുനോക്കൂ, ഇടതൂര്‍ന്ന ഈ കാട്ടിനുള്ളില്‍...</td>\n",
       "    </tr>\n",
       "    <tr>\n",
       "      <th>721</th>\n",
       "      <td>datasets/magazine_raw/mag1647.txt</td>\n",
       "      <td>magazine_text</td>\n",
       "      <td>3163</td>\n",
       "      <td>സമുദ്രത്തിലെ പ്ലാസ്റ്റിക് മാലിന്യങ്ങൾ അടുത്ത 2...</td>\n",
       "    </tr>\n",
       "    <tr>\n",
       "      <th>7517</th>\n",
       "      <td>datasets/magazine_raw/mag7764.txt</td>\n",
       "      <td>magazine_text</td>\n",
       "      <td>1521</td>\n",
       "      <td>ചെന്നൈ: എം.എസ് സുബ്ബലക്ഷ്മി എന്ന് കേള്‍ക്കുമ്പ...</td>\n",
       "    </tr>\n",
       "  </tbody>\n",
       "</table>\n",
       "</div>"
      ],
      "text/plain": [
       "                              file_path   dataset_name  length  \\\n",
       "7067  datasets/magazine_raw/mag7359.txt  magazine_text     917   \n",
       "2001    datasets/magazine_raw/mag28.txt  magazine_text    1648   \n",
       "721   datasets/magazine_raw/mag1647.txt  magazine_text    3163   \n",
       "7517  datasets/magazine_raw/mag7764.txt  magazine_text    1521   \n",
       "\n",
       "                                                content  \n",
       "7067  ഫ്‌ളോറിഡ : മുന്‍ കാമുകിയുടെ കത്തിന് 100 ല്‍ 61...  \n",
       "2001  സൂക്ഷിച്ചുനോക്കൂ, ഇടതൂര്‍ന്ന ഈ കാട്ടിനുള്ളില്‍...  \n",
       "721   സമുദ്രത്തിലെ പ്ലാസ്റ്റിക് മാലിന്യങ്ങൾ അടുത്ത 2...  \n",
       "7517  ചെന്നൈ: എം.എസ് സുബ്ബലക്ഷ്മി എന്ന് കേള്‍ക്കുമ്പ...  "
      ]
     },
     "execution_count": 11,
     "metadata": {},
     "output_type": "execute_result"
    }
   ],
   "source": [
    "mag.sample(4)"
   ]
  },
  {
   "cell_type": "code",
   "execution_count": 12,
   "id": "567283ac-ad76-4e71-8045-83bcf74c928c",
   "metadata": {},
   "outputs": [
    {
     "data": {
      "text/html": [
       "<div>\n",
       "<style scoped>\n",
       "    .dataframe tbody tr th:only-of-type {\n",
       "        vertical-align: middle;\n",
       "    }\n",
       "\n",
       "    .dataframe tbody tr th {\n",
       "        vertical-align: top;\n",
       "    }\n",
       "\n",
       "    .dataframe thead th {\n",
       "        text-align: right;\n",
       "    }\n",
       "</style>\n",
       "<table border=\"1\" class=\"dataframe\">\n",
       "  <thead>\n",
       "    <tr style=\"text-align: right;\">\n",
       "      <th></th>\n",
       "      <th>file_path</th>\n",
       "      <th>dataset_name</th>\n",
       "      <th>length</th>\n",
       "      <th>content</th>\n",
       "    </tr>\n",
       "  </thead>\n",
       "  <tbody>\n",
       "    <tr>\n",
       "      <th>3261</th>\n",
       "      <td>datasets/wikitext_raw/wiki1784.txt</td>\n",
       "      <td>wiki_text</td>\n",
       "      <td>1615</td>\n",
       "      <td>ഹിന്ദി സിനിമയിലെ പ്രശസ്ത നടനും ഗുസ്തിക്കാരനുമാ...</td>\n",
       "    </tr>\n",
       "    <tr>\n",
       "      <th>7540</th>\n",
       "      <td>datasets/wikitext_raw/wiki5635.txt</td>\n",
       "      <td>wiki_text</td>\n",
       "      <td>105</td>\n",
       "      <td>ഗ്രിഗോറിയൻ കലണ്ടർ പ്രകാരം ജനുവരി 5 വർഷത്തിലെ 5...</td>\n",
       "    </tr>\n",
       "    <tr>\n",
       "      <th>1337</th>\n",
       "      <td>datasets/wikitext_raw/wiki1120.txt</td>\n",
       "      <td>wiki_text</td>\n",
       "      <td>784</td>\n",
       "      <td>തെക്കേഇന്ത്യയിലെ തമിഴ്നാട് സംസ്ഥാനത്തെ തിരുവാര...</td>\n",
       "    </tr>\n",
       "    <tr>\n",
       "      <th>1797</th>\n",
       "      <td>datasets/wikitext_raw/wiki11614.txt</td>\n",
       "      <td>wiki_text</td>\n",
       "      <td>448</td>\n",
       "      <td>Coordinates: 9°10′39.67″N 76°33′35.18″E / 9.17...</td>\n",
       "    </tr>\n",
       "  </tbody>\n",
       "</table>\n",
       "</div>"
      ],
      "text/plain": [
       "                                file_path dataset_name  length  \\\n",
       "3261   datasets/wikitext_raw/wiki1784.txt    wiki_text    1615   \n",
       "7540   datasets/wikitext_raw/wiki5635.txt    wiki_text     105   \n",
       "1337   datasets/wikitext_raw/wiki1120.txt    wiki_text     784   \n",
       "1797  datasets/wikitext_raw/wiki11614.txt    wiki_text     448   \n",
       "\n",
       "                                                content  \n",
       "3261  ഹിന്ദി സിനിമയിലെ പ്രശസ്ത നടനും ഗുസ്തിക്കാരനുമാ...  \n",
       "7540  ഗ്രിഗോറിയൻ കലണ്ടർ പ്രകാരം ജനുവരി 5 വർഷത്തിലെ 5...  \n",
       "1337  തെക്കേഇന്ത്യയിലെ തമിഴ്നാട് സംസ്ഥാനത്തെ തിരുവാര...  \n",
       "1797  Coordinates: 9°10′39.67″N 76°33′35.18″E / 9.17...  "
      ]
     },
     "execution_count": 12,
     "metadata": {},
     "output_type": "execute_result"
    }
   ],
   "source": [
    "wiki.sample(4)"
   ]
  },
  {
   "cell_type": "markdown",
   "id": "4557bd9f",
   "metadata": {},
   "source": [
    "### Analysing"
   ]
  },
  {
   "cell_type": "code",
   "execution_count": 26,
   "id": "67c07eb9",
   "metadata": {},
   "outputs": [
    {
     "data": {
      "image/png": "[encoded data removed]",
      "text/plain": [
       "<Figure size 720x216 with 2 Axes>"
      ]
     },
     "metadata": {},
     "output_type": "display_data"
    }
   ],
   "source": [
    "fig, ax = plt.subplots(ncols = 2, nrows = 1, figsize = (10, 3))\n",
    "\n",
    "sns.histplot(wiki['length'], ax = ax[0], color = 'green', label=\"Wiki dataset\")\n",
    "sns.histplot(mag['length'], ax = ax[1], color = 'red', label=\"Mag dataset\")\n",
    "\n",
    "ax[0].legend()\n",
    "ax[1].legend()\n",
    "ax[0].set_title('Wiki text length distribution')\n",
    "ax[1].set_title('Magazine text length distribution')\n",
    "\n",
    "plt.show()"
   ]
  },
  {
   "cell_type": "code",
   "execution_count": null,
   "id": "95a00a26-2aad-45ba-ae8f-d10e5ab616a6",
   "metadata": {},
   "outputs": [],
   "source": []
  },
  {
   "cell_type": "markdown",
   "id": "2cdadf15-f0d0-4bcc-bb5e-b5607f89360f",
   "metadata": {},
   "source": [
    "#### Checking for Duplicates"
   ]
  },
  {
   "cell_type": "code",
   "execution_count": 53,
   "id": "d7bb7409-af4f-440f-b586-c203c4a8b7a4",
   "metadata": {},
   "outputs": [
    {
     "data": {
      "image/png": "[encoded data removed]",
      "text/plain": [
       "<Figure size 432x288 with 1 Axes>"
      ]
     },
     "metadata": {},
     "output_type": "display_data"
    }
   ],
   "source": [
    "wiki['length'].value_counts().head(10).plot.barh();"
   ]
  },
  {
   "cell_type": "code",
   "execution_count": 55,
   "id": "b6e9dad6-7f6e-4004-ac8b-d12fd8cfbf56",
   "metadata": {},
   "outputs": [
    {
     "data": {
      "text/html": [
       "<div>\n",
       "<style scoped>\n",
       "    .dataframe tbody tr th:only-of-type {\n",
       "        vertical-align: middle;\n",
       "    }\n",
       "\n",
       "    .dataframe tbody tr th {\n",
       "        vertical-align: top;\n",
       "    }\n",
       "\n",
       "    .dataframe thead th {\n",
       "        text-align: right;\n",
       "    }\n",
       "</style>\n",
       "<table border=\"1\" class=\"dataframe\">\n",
       "  <thead>\n",
       "    <tr style=\"text-align: right;\">\n",
       "      <th></th>\n",
       "      <th>length</th>\n",
       "    </tr>\n",
       "  </thead>\n",
       "  <tbody>\n",
       "    <tr>\n",
       "      <th>count</th>\n",
       "      <td>12388.000000</td>\n",
       "    </tr>\n",
       "    <tr>\n",
       "      <th>mean</th>\n",
       "      <td>2269.721101</td>\n",
       "    </tr>\n",
       "    <tr>\n",
       "      <th>std</th>\n",
       "      <td>4845.988836</td>\n",
       "    </tr>\n",
       "    <tr>\n",
       "      <th>min</th>\n",
       "      <td>0.000000</td>\n",
       "    </tr>\n",
       "    <tr>\n",
       "      <th>25%</th>\n",
       "      <td>451.750000</td>\n",
       "    </tr>\n",
       "    <tr>\n",
       "      <th>50%</th>\n",
       "      <td>959.000000</td>\n",
       "    </tr>\n",
       "    <tr>\n",
       "      <th>75%</th>\n",
       "      <td>2200.000000</td>\n",
       "    </tr>\n",
       "    <tr>\n",
       "      <th>max</th>\n",
       "      <td>106224.000000</td>\n",
       "    </tr>\n",
       "  </tbody>\n",
       "</table>\n",
       "</div>"
      ],
      "text/plain": [
       "              length\n",
       "count   12388.000000\n",
       "mean     2269.721101\n",
       "std      4845.988836\n",
       "min         0.000000\n",
       "25%       451.750000\n",
       "50%       959.000000\n",
       "75%      2200.000000\n",
       "max    106224.000000"
      ]
     },
     "execution_count": 55,
     "metadata": {},
     "output_type": "execute_result"
    }
   ],
   "source": [
    "wiki.describe()"
   ]
  },
  {
   "cell_type": "code",
   "execution_count": 79,
   "id": "06724f67-cd9b-45a8-a7ca-a6f7e3913302",
   "metadata": {},
   "outputs": [],
   "source": [
    "wiki = wiki[wiki['length'] >= 200]\n",
    "wiki.drop('content', axis =1).to_csv(BASE_PATH/\"wikitext_files.csv\", index = False)"
   ]
  },
  {
   "cell_type": "code",
   "execution_count": 60,
   "id": "f2701570-d074-4113-a136-290d61c0251c",
   "metadata": {},
   "outputs": [
    {
     "data": {
      "image/png": "[encoded data removed]",
      "text/plain": [
       "<Figure size 432x288 with 1 Axes>"
      ]
     },
     "metadata": {},
     "output_type": "display_data"
    }
   ],
   "source": [
    "wiki['length'].value_counts().head(10).plot.barh();"
   ]
  },
  {
   "cell_type": "code",
   "execution_count": 74,
   "id": "0c406509-ae99-441f-9a7c-af3d97090d60",
   "metadata": {},
   "outputs": [
    {
     "data": {
      "text/plain": [
       "5641     ലോകത്തിലെ ഏറ്റവും ഉയരം കൂടിയ കൊടുമുടികളിലൊന്നാ...\n",
       "5551     പഞ്ചാബ് സംസ്ഥാനത്തെ കപൂർത്തല ജില്ലയിലെ ഒരു വില...\n",
       "6412     ജൂതദാർശനികൻ. സ്പിനോസയുടെ മുൻഗാമി. പോർച്ചുഗലിൽ ...\n",
       "9961     പ്രശസ്ത ഗണിതശാസ്ത്രജ്ഞനും, സാമ്പത്തിക ശാസ്ത്രത...\n",
       "3306     ലോകത്തിലെ ഏറ്റവും ഉയരം കൂടിയ കൊടുമുടികളിലൊന്നാ...\n",
       "11036    പഞ്ചാബ് സംസ്ഥാനത്തെ കപൂർത്തല ജില്ലയിലെ ഒരു വില...\n",
       "5726     പ്രശസ്ത ഗണിതശാസ്ത്രജ്ഞനും, സാമ്പത്തിക ശാസ്ത്രത...\n",
       "3199     സമൃദ്ധിയുടേയും ഉർവരതയുടേയും ദേവതയാണു ലജ്ജാ ഗൗര...\n",
       "3022     പഞ്ചാബ് സംസ്ഥാനത്തെ ലുധിയാന ജില്ലയിലെ ഒരു വില്...\n",
       "7053     ഡാന്യൂബ്-ഇപ്പോളി ദേശീയോദ്യാനം ഹംഗറിയിലെ ഏറ്റവു...\n",
       "Name: content, dtype: object"
      ]
     },
     "execution_count": 74,
     "metadata": {},
     "output_type": "execute_result"
    }
   ],
   "source": [
    "wiki[wiki['length'] == 995]['content'].sample(10)\n",
    "# just keeping the data because we're going to build language model."
   ]
  },
  {
   "cell_type": "code",
   "execution_count": null,
   "id": "17238445-2ad1-412f-982e-1e837a3e7986",
   "metadata": {},
   "outputs": [],
   "source": []
  },
  {
   "cell_type": "code",
   "execution_count": 69,
   "id": "9a9406c5-3c08-4630-8eaf-063ca15c392e",
   "metadata": {},
   "outputs": [
    {
     "data": {
      "image/png": "[encoded data removed]",
      "text/plain": [
       "<Figure size 432x288 with 1 Axes>"
      ]
     },
     "metadata": {},
     "output_type": "display_data"
    }
   ],
   "source": [
    "mag['length'].value_counts().head(10).plot.barh();"
   ]
  },
  {
   "cell_type": "code",
   "execution_count": 56,
   "id": "b9a5facc-e297-4227-bd63-5ea9c88ba180",
   "metadata": {},
   "outputs": [
    {
     "data": {
      "text/html": [
       "<div>\n",
       "<style scoped>\n",
       "    .dataframe tbody tr th:only-of-type {\n",
       "        vertical-align: middle;\n",
       "    }\n",
       "\n",
       "    .dataframe tbody tr th {\n",
       "        vertical-align: top;\n",
       "    }\n",
       "\n",
       "    .dataframe thead th {\n",
       "        text-align: right;\n",
       "    }\n",
       "</style>\n",
       "<table border=\"1\" class=\"dataframe\">\n",
       "  <thead>\n",
       "    <tr style=\"text-align: right;\">\n",
       "      <th></th>\n",
       "      <th>length</th>\n",
       "    </tr>\n",
       "  </thead>\n",
       "  <tbody>\n",
       "    <tr>\n",
       "      <th>count</th>\n",
       "      <td>7863.000000</td>\n",
       "    </tr>\n",
       "    <tr>\n",
       "      <th>mean</th>\n",
       "      <td>4887.352792</td>\n",
       "    </tr>\n",
       "    <tr>\n",
       "      <th>std</th>\n",
       "      <td>3907.649499</td>\n",
       "    </tr>\n",
       "    <tr>\n",
       "      <th>min</th>\n",
       "      <td>203.000000</td>\n",
       "    </tr>\n",
       "    <tr>\n",
       "      <th>25%</th>\n",
       "      <td>2417.000000</td>\n",
       "    </tr>\n",
       "    <tr>\n",
       "      <th>50%</th>\n",
       "      <td>3889.000000</td>\n",
       "    </tr>\n",
       "    <tr>\n",
       "      <th>75%</th>\n",
       "      <td>6188.000000</td>\n",
       "    </tr>\n",
       "    <tr>\n",
       "      <th>max</th>\n",
       "      <td>45545.000000</td>\n",
       "    </tr>\n",
       "  </tbody>\n",
       "</table>\n",
       "</div>"
      ],
      "text/plain": [
       "             length\n",
       "count   7863.000000\n",
       "mean    4887.352792\n",
       "std     3907.649499\n",
       "min      203.000000\n",
       "25%     2417.000000\n",
       "50%     3889.000000\n",
       "75%     6188.000000\n",
       "max    45545.000000"
      ]
     },
     "execution_count": 56,
     "metadata": {},
     "output_type": "execute_result"
    }
   ],
   "source": [
    "mag.describe()"
   ]
  },
  {
   "cell_type": "code",
   "execution_count": 77,
   "id": "61104ab8-47bb-4f3d-b2a7-1181bde3056c",
   "metadata": {},
   "outputs": [
    {
     "data": {
      "text/plain": [
       "5805    ഉള്ളിലുണ്ടാവും, തോരാതെ ചില മഴകള്‍. മഴക്കാലങ്ങള...\n",
       "2538    രാജ്യത്ത് ഉള്ളിവില വര്‍ദ്ധിച്ച് കിലോഗ്രാമിന് 2...\n",
       "1345    പെട്ടെന്നൊരു ദിവസം എല്ലാ മനുഷ്യരും ഉറുമ്പുകളായ...\n",
       "3910    കുഞ്ഞുങ്ങളുടെ വളര്‍ച്ചപോലെ മറ്റൊന്നില്ല. കുസൃത...\n",
       "6335    കുടുംബത്തോട് ഇണങ്ങിച്ചേരുന്ന വളര്‍ത്തുമൃഗമായാണ...\n",
       "2200    ഇന്ന് എണ്ണിയാലൊടുങ്ങാത്ത രോഗങ്ങളുടെ നാടുവിലാണ്...\n",
       "3993    കാണാമറയത്ത് നിങ്ങള്‍ അന്വേഷിക്കുന്ന പ്രിയപ്പെട...\n",
       "666     നിങ്ങളിൽ ആരെങ്കിലും ഒരു റഷ്യൻ ചാരനെ, ഒരു കെജിബ...\n",
       "Name: content, dtype: object"
      ]
     },
     "execution_count": 77,
     "metadata": {},
     "output_type": "execute_result"
    }
   ],
   "source": [
    "mag[mag['length'] == 3585]['content'].sample(8)\n",
    "# just keeping the data because we're going to build language model."
   ]
  },
  {
   "cell_type": "code",
   "execution_count": null,
   "id": "3cdc4141-083b-40f0-bb32-fca4a07b6728",
   "metadata": {},
   "outputs": [],
   "source": []
  }
 ],
 "metadata": {
  "kernelspec": {
   "display_name": "Python 3",
   "language": "python",
   "name": "python3"
  },
  "language_info": {
   "codemirror_mode": {
    "name": "ipython",
    "version": 3
   },
   "file_extension": ".py",
   "mimetype": "text/x-python",
   "name": "python",
   "nbconvert_exporter": "python",
   "pygments_lexer": "ipython3",
   "version": "3.9.5"
  }
 },
 "nbformat": 4,
 "nbformat_minor": 5
}
