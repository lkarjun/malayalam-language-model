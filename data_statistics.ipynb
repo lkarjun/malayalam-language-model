{
 "cells": [
  {
   "cell_type": "markdown",
   "id": "114cca69",
   "metadata": {},
   "source": [
    "## Packages importing"
   ]
  },
  {
   "cell_type": "code",
   "execution_count": 143,
   "id": "5d5f2c7c",
   "metadata": {},
   "outputs": [],
   "source": [
    "import pandas as pd\n",
    "from pathlib import Path\n",
    "from tqdm import tqdm\n",
    "import seaborn as sns\n",
    "import matplotlib.pyplot as plt\n",
    "import re\n",
    "\n",
    "BASE_PATH = Path(\"datasets/\")\n",
    "\n",
    "sns.set()\n",
    "tqdm.pandas()"
   ]
  },
  {
   "cell_type": "markdown",
   "id": "76ca8e81",
   "metadata": {},
   "source": [
    " ### Loading data"
   ]
  },
  {
   "cell_type": "code",
   "execution_count": 148,
   "id": "500fcbc2",
   "metadata": {},
   "outputs": [],
   "source": [
    "def get_text_files(file_name: str):\n",
    "    '''open file and return the content'''\n",
    "    with open(file_name, \"r\", encoding=\"utf8\") as file:\n",
    "        txt = file.read()\n",
    "    return txt"
   ]
  },
  {
   "cell_type": "code",
   "execution_count": 111,
   "id": "da377471",
   "metadata": {},
   "outputs": [],
   "source": [
    "df = pd.read_csv(BASE_PATH/'files.csv')"
   ]
  },
  {
   "cell_type": "code",
   "execution_count": 117,
   "id": "f5818a90",
   "metadata": {},
   "outputs": [
    {
     "data": {
      "text/html": [
       "<div>\n",
       "<style scoped>\n",
       "    .dataframe tbody tr th:only-of-type {\n",
       "        vertical-align: middle;\n",
       "    }\n",
       "\n",
       "    .dataframe tbody tr th {\n",
       "        vertical-align: top;\n",
       "    }\n",
       "\n",
       "    .dataframe thead th {\n",
       "        text-align: right;\n",
       "    }\n",
       "</style>\n",
       "<table border=\"1\" class=\"dataframe\">\n",
       "  <thead>\n",
       "    <tr style=\"text-align: right;\">\n",
       "      <th></th>\n",
       "      <th>file_path</th>\n",
       "      <th>dataset_name</th>\n",
       "    </tr>\n",
       "  </thead>\n",
       "  <tbody>\n",
       "    <tr>\n",
       "      <th>20216</th>\n",
       "      <td>datasets/magazine_raw/mag968.txt</td>\n",
       "      <td>magazine_text</td>\n",
       "    </tr>\n",
       "    <tr>\n",
       "      <th>20208</th>\n",
       "      <td>datasets/magazine_raw/mag960.txt</td>\n",
       "      <td>magazine_text</td>\n",
       "    </tr>\n",
       "    <tr>\n",
       "      <th>8151</th>\n",
       "      <td>datasets/wikitext_raw/wiki6185.txt</td>\n",
       "      <td>wiki_text</td>\n",
       "    </tr>\n",
       "    <tr>\n",
       "      <th>14142</th>\n",
       "      <td>datasets/magazine_raw/mag2577.txt</td>\n",
       "      <td>magazine_text</td>\n",
       "    </tr>\n",
       "  </tbody>\n",
       "</table>\n",
       "</div>"
      ],
      "text/plain": [
       "                                file_path   dataset_name\n",
       "20216    datasets/magazine_raw/mag968.txt  magazine_text\n",
       "20208    datasets/magazine_raw/mag960.txt  magazine_text\n",
       "8151   datasets/wikitext_raw/wiki6185.txt      wiki_text\n",
       "14142   datasets/magazine_raw/mag2577.txt  magazine_text"
      ]
     },
     "execution_count": 117,
     "metadata": {},
     "output_type": "execute_result"
    }
   ],
   "source": [
    "df.sample(4, random_state=34)"
   ]
  },
  {
   "cell_type": "code",
   "execution_count": 149,
   "id": "ba6adac3",
   "metadata": {
    "scrolled": true
   },
   "outputs": [
    {
     "name": "stderr",
     "output_type": "stream",
     "text": [
      "100%|██████████████████████████████████████████████████████████████████████████████████| 20251/20251 [03:10<00:00, 106.10it/s]\n"
     ]
    }
   ],
   "source": [
    "df['content'] = df['file_path'].progress_map(get_text_files)"
   ]
  },
  {
   "cell_type": "code",
   "execution_count": 126,
   "id": "7a51181f",
   "metadata": {},
   "outputs": [
    {
     "data": {
      "text/html": [
       "<div>\n",
       "<style scoped>\n",
       "    .dataframe tbody tr th:only-of-type {\n",
       "        vertical-align: middle;\n",
       "    }\n",
       "\n",
       "    .dataframe tbody tr th {\n",
       "        vertical-align: top;\n",
       "    }\n",
       "\n",
       "    .dataframe thead th {\n",
       "        text-align: right;\n",
       "    }\n",
       "</style>\n",
       "<table border=\"1\" class=\"dataframe\">\n",
       "  <thead>\n",
       "    <tr style=\"text-align: right;\">\n",
       "      <th></th>\n",
       "      <th>file_path</th>\n",
       "      <th>dataset_name</th>\n",
       "      <th>content</th>\n",
       "    </tr>\n",
       "  </thead>\n",
       "  <tbody>\n",
       "    <tr>\n",
       "      <th>12428</th>\n",
       "      <td>datasets/magazine_raw/mag1033.txt</td>\n",
       "      <td>magazine_text</td>\n",
       "      <td>വികസനത്തിന് വേണ്ടിയും വ്യവസായങ്ങള്‍ തുടങ്ങുന്ന...</td>\n",
       "    </tr>\n",
       "    <tr>\n",
       "      <th>14147</th>\n",
       "      <td>datasets/magazine_raw/mag2581.txt</td>\n",
       "      <td>magazine_text</td>\n",
       "      <td>\\n'ഹൃദയത്തിൽ സംഗീതവും സിരകളിൽ ഭാംഗുമായി അലഞ്ഞ...</td>\n",
       "    </tr>\n",
       "    <tr>\n",
       "      <th>1958</th>\n",
       "      <td>datasets/wikitext_raw/wiki1176.txt</td>\n",
       "      <td>wiki_text</td>\n",
       "      <td>ഒരു ഇന്ത്യൻ സ്വാതന്ത്ര്യസമര നേതാവായിരുന്നു 'അത...</td>\n",
       "    </tr>\n",
       "    <tr>\n",
       "      <th>9838</th>\n",
       "      <td>datasets/wikitext_raw/wiki7703.txt</td>\n",
       "      <td>wiki_text</td>\n",
       "      <td>രവി അപ്പുലു രചനയും സംവിധാനവും നിർവ്വഹിച്ച് 200...</td>\n",
       "    </tr>\n",
       "  </tbody>\n",
       "</table>\n",
       "</div>"
      ],
      "text/plain": [
       "                                file_path   dataset_name  \\\n",
       "12428   datasets/magazine_raw/mag1033.txt  magazine_text   \n",
       "14147   datasets/magazine_raw/mag2581.txt  magazine_text   \n",
       "1958   datasets/wikitext_raw/wiki1176.txt      wiki_text   \n",
       "9838   datasets/wikitext_raw/wiki7703.txt      wiki_text   \n",
       "\n",
       "                                                 content  \n",
       "12428  വികസനത്തിന് വേണ്ടിയും വ്യവസായങ്ങള്‍ തുടങ്ങുന്ന...  \n",
       "14147   \\n'ഹൃദയത്തിൽ സംഗീതവും സിരകളിൽ ഭാംഗുമായി അലഞ്ഞ...  \n",
       "1958   ഒരു ഇന്ത്യൻ സ്വാതന്ത്ര്യസമര നേതാവായിരുന്നു 'അത...  \n",
       "9838   രവി അപ്പുലു രചനയും സംവിധാനവും നിർവ്വഹിച്ച് 200...  "
      ]
     },
     "execution_count": 126,
     "metadata": {},
     "output_type": "execute_result"
    }
   ],
   "source": [
    "df.sample(4)"
   ]
  },
  {
   "cell_type": "markdown",
   "id": "4557bd9f",
   "metadata": {},
   "source": [
    "### Analysing"
   ]
  },
  {
   "cell_type": "code",
   "execution_count": 150,
   "id": "72438946",
   "metadata": {},
   "outputs": [
    {
     "name": "stderr",
     "output_type": "stream",
     "text": [
      "100%|███████████████████████████████████████████████████████████████████████████████| 20251/20251 [00:00<00:00, 258607.48it/s]\n"
     ]
    }
   ],
   "source": [
    "df['length'] = df['content'].progress_map(len)"
   ]
  },
  {
   "cell_type": "code",
   "execution_count": 34,
   "id": "a1ed2586",
   "metadata": {},
   "outputs": [],
   "source": [
    "wiki_text = df['dataset_name'] == 'wiki_text'"
   ]
  },
  {
   "cell_type": "code",
   "execution_count": 40,
   "id": "67c07eb9",
   "metadata": {},
   "outputs": [
    {
     "data": {
      "image/png": "[encoded data removed]",
      "text/plain": [
       "<Figure size 720x216 with 2 Axes>"
      ]
     },
     "metadata": {},
     "output_type": "display_data"
    }
   ],
   "source": [
    "fig, ax = plt.subplots(ncols = 2, nrows = 1, figsize = (10, 3))\n",
    "\n",
    "sns.histplot(df[wiki_text]['length'], ax = ax[0], color = 'green', kde = True, label=\"Wiki dataset\")\n",
    "sns.histplot(df[~wiki_text]['length'], ax = ax[1], color = 'red', kde = True, label=\"Mag dataset\")\n",
    "\n",
    "ax[0].legend()\n",
    "ax[1].legend()\n",
    "ax[0].set_title('Wiki text length distribution')\n",
    "ax[1].set_title('Magazine text length distribution')\n",
    "\n",
    "plt.show()"
   ]
  },
  {
   "cell_type": "code",
   "execution_count": null,
   "id": "95a00a26-2aad-45ba-ae8f-d10e5ab616a6",
   "metadata": {},
   "outputs": [],
   "source": []
  },
  {
   "cell_type": "markdown",
   "id": "2cdadf15-f0d0-4bcc-bb5e-b5607f89360f",
   "metadata": {},
   "source": [
    "#### Checking for duplicates"
   ]
  },
  {
   "cell_type": "code",
   "execution_count": 121,
   "id": "9a9406c5-3c08-4630-8eaf-063ca15c392e",
   "metadata": {},
   "outputs": [
    {
     "data": {
      "image/png": "[encoded data removed]",
      "text/plain": [
       "<Figure size 432x288 with 1 Axes>"
      ]
     },
     "metadata": {},
     "output_type": "display_data"
    }
   ],
   "source": [
    "df['length'].value_counts().head(10).plot.barh();"
   ]
  },
  {
   "cell_type": "code",
   "execution_count": 138,
   "id": "17e6dc62-f468-4d0a-b951-01ef904fda96",
   "metadata": {},
   "outputs": [],
   "source": [
    "df = df[~df['length'] <= 50]\n",
    "\n",
    "df.drop(['content', 'length'], axis=1).to_csv(BASE_PATH/'files.csv', index = False)"
   ]
  },
  {
   "cell_type": "code",
   "execution_count": null,
   "id": "f4fb7310-a291-432e-90db-a28f86f247b9",
   "metadata": {},
   "outputs": [],
   "source": []
  },
  {
   "cell_type": "code",
   "execution_count": 140,
   "id": "7d3ef786-0efc-4db2-9418-4f6181ac19e2",
   "metadata": {},
   "outputs": [
    {
     "data": {
      "text/html": [
       "<div>\n",
       "<style scoped>\n",
       "    .dataframe tbody tr th:only-of-type {\n",
       "        vertical-align: middle;\n",
       "    }\n",
       "\n",
       "    .dataframe tbody tr th {\n",
       "        vertical-align: top;\n",
       "    }\n",
       "\n",
       "    .dataframe thead th {\n",
       "        text-align: right;\n",
       "    }\n",
       "</style>\n",
       "<table border=\"1\" class=\"dataframe\">\n",
       "  <thead>\n",
       "    <tr style=\"text-align: right;\">\n",
       "      <th></th>\n",
       "      <th>file_path</th>\n",
       "      <th>dataset_name</th>\n",
       "    </tr>\n",
       "  </thead>\n",
       "  <tbody>\n",
       "    <tr>\n",
       "      <th>13821</th>\n",
       "      <td>datasets/magazine_raw/mag2288.txt</td>\n",
       "      <td>magazine_text</td>\n",
       "    </tr>\n",
       "    <tr>\n",
       "      <th>8320</th>\n",
       "      <td>datasets/wikitext_raw/wiki6337.txt</td>\n",
       "      <td>wiki_text</td>\n",
       "    </tr>\n",
       "    <tr>\n",
       "      <th>12116</th>\n",
       "      <td>datasets/wikitext_raw/wiki9754.txt</td>\n",
       "      <td>wiki_text</td>\n",
       "    </tr>\n",
       "    <tr>\n",
       "      <th>15029</th>\n",
       "      <td>datasets/magazine_raw/mag3375.txt</td>\n",
       "      <td>magazine_text</td>\n",
       "    </tr>\n",
       "  </tbody>\n",
       "</table>\n",
       "</div>"
      ],
      "text/plain": [
       "                                file_path   dataset_name\n",
       "13821   datasets/magazine_raw/mag2288.txt  magazine_text\n",
       "8320   datasets/wikitext_raw/wiki6337.txt      wiki_text\n",
       "12116  datasets/wikitext_raw/wiki9754.txt      wiki_text\n",
       "15029   datasets/magazine_raw/mag3375.txt  magazine_text"
      ]
     },
     "execution_count": 140,
     "metadata": {},
     "output_type": "execute_result"
    }
   ],
   "source": [
    "df = pd.read_csv(BASE_PATH/'files.csv')\n",
    "df.sample(4)"
   ]
  },
  {
   "cell_type": "code",
   "execution_count": null,
   "id": "b9a5facc-e297-4227-bd63-5ea9c88ba180",
   "metadata": {},
   "outputs": [],
   "source": []
  }
 ],
 "metadata": {
  "kernelspec": {
   "display_name": "Python 3",
   "language": "python",
   "name": "python3"
  },
  "language_info": {
   "codemirror_mode": {
    "name": "ipython",
    "version": 3
   },
   "file_extension": ".py",
   "mimetype": "text/x-python",
   "name": "python",
   "nbconvert_exporter": "python",
   "pygments_lexer": "ipython3",
   "version": "3.9.5"
  }
 },
 "nbformat": 4,
 "nbformat_minor": 5
}
