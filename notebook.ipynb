{
  "cells": [
    {
      "cell_type": "markdown",
      "metadata": {
        "id": "view-in-github",
        "colab_type": "text"
      },
      "source": [
        "<a href=\"https://colab.research.google.com/github/lkarjun/malayalam-language-model/blob/main/notebook.ipynb\" target=\"_parent\"><img src=\"https://colab.research.google.com/assets/colab-badge.svg\" alt=\"Open In Colab\"/></a>"
      ]
    },
    {
      "cell_type": "code",
      "execution_count": null,
      "id": "5196cc3c-4418-4bee-9bb1-a4602e9cb51a",
      "metadata": {
        "id": "5196cc3c-4418-4bee-9bb1-a4602e9cb51a"
      },
      "outputs": [],
      "source": [
        "!pip install dvc[gdrive]"
      ]
    },
    {
      "cell_type": "code",
      "source": [
        "!dvc get https://github.com/lkarjun/malayalam-language-model \\\n",
        "datasets/"
      ],
      "metadata": {
        "id": "TmTXVX-mCpt3",
        "outputId": "05fadd03-3736-4307-a2c7-3540cb4584a5",
        "colab": {
          "base_uri": "https://localhost:8080/"
        }
      },
      "id": "TmTXVX-mCpt3",
      "execution_count": 8,
      "outputs": [
        {
          "output_type": "stream",
          "name": "stdout",
          "text": [
            "Downloading directory:  25% 1/4 [00:00<00:00,  8.12Files/s{'info': ''}]Go to the following link in your browser:\n",
            "\n",
            "    https://accounts.google.com/o/oauth2/auth?client_id=710796635688-iivsgbgsb6uv1fap6635dhvuei09o66c.apps.googleusercontent.com&redirect_uri=urn%3Aietf%3Awg%3Aoauth%3A2.0%3Aoob&scope=https%3A%2F%2Fwww.googleapis.com%2Fauth%2Fdrive+https%3A%2F%2Fwww.googleapis.com%2Fauth%2Fdrive.appdata&access_type=offline&response_type=code&approval_prompt=force\n",
            "\n",
            "Enter verification code: 4/1AX4XfWhhn3op0hA-S2FSo5zzR05FuADTulRgs5xtOQOzW0mtXapvw1Kc_ME\n",
            "Authentication successful.\n",
            "\u001b[0m"
          ]
        }
      ]
    },
    {
      "cell_type": "code",
      "source": [
        ""
      ],
      "metadata": {
        "id": "ZNBuehjFDAOV"
      },
      "id": "ZNBuehjFDAOV",
      "execution_count": null,
      "outputs": []
    }
  ],
  "metadata": {
    "kernelspec": {
      "display_name": "Python 3",
      "language": "python",
      "name": "python3"
    },
    "language_info": {
      "codemirror_mode": {
        "name": "ipython",
        "version": 3
      },
      "file_extension": ".py",
      "mimetype": "text/x-python",
      "name": "python",
      "nbconvert_exporter": "python",
      "pygments_lexer": "ipython3",
      "version": "3.9.5"
    },
    "colab": {
      "name": "notebook.ipynb",
      "provenance": [],
      "include_colab_link": true
    }
  },
  "nbformat": 4,
  "nbformat_minor": 5
}