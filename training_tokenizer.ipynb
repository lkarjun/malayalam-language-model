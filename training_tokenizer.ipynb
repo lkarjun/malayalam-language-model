{
  "nbformat": 4,
  "nbformat_minor": 0,
  "metadata": {
    "colab": {
      "name": "training-tokenizer.ipynb",
      "provenance": [],
      "authorship_tag": "ABX9TyPJkwYIkbelxX4hfQoaU0da",
      "include_colab_link": true
    },
    "kernelspec": {
      "name": "python3",
      "display_name": "Python 3"
    },
    "language_info": {
      "name": "python"
    }
  },
  "cells": [
    {
      "cell_type": "markdown",
      "metadata": {
        "id": "view-in-github",
        "colab_type": "text"
      },
      "source": [
        "<a href=\"https://colab.research.google.com/github/lkarjun/malayalam-language-model/blob/language-model/training_tokenizer.ipynb\" target=\"_parent\"><img src=\"https://colab.research.google.com/assets/colab-badge.svg\" alt=\"Open In Colab\"/></a>"
      ]
    },
    {
      "cell_type": "markdown",
      "source": [
        "### Dataset Loading"
      ],
      "metadata": {
        "id": "LycIPSbAG9Lx"
      }
    },
    {
      "cell_type": "code",
      "source": [
        "!pip install -qq dvc[gdrive]\n",
        "\n",
        "!dvc get https://github.com/lkarjun/malayalam-language-model \\\n",
        "Datasets/"
      ],
      "metadata": {
        "id": "cF6bu7JFHCmI"
      },
      "execution_count": null,
      "outputs": []
    },
    {
      "cell_type": "code",
      "source": [
        "!unzip -q 'Datasets/*.zip' -d Datasets/"
      ],
      "metadata": {
        "id": "TAuuV3ePHWwF"
      },
      "execution_count": 2,
      "outputs": []
    },
    {
      "cell_type": "code",
      "source": [
        "import pandas as pd\n",
        "from pathlib import Path\n",
        "\n",
        "DS_Path = Path(\"/content/Datasets\")\n",
        "\n",
        "csv_files = [\"magazine_files.csv\", \n",
        "             \"wikitext_files.csv\",\n",
        "             \"article_files.csv\"\n",
        "             ]\n",
        "             \n",
        "df = pd.concat([pd.read_csv(DS_Path/csv) for csv in csv_files])"
      ],
      "metadata": {
        "id": "Vv0G6VcPIM73"
      },
      "execution_count": 1,
      "outputs": []
    },
    {
      "cell_type": "code",
      "source": [
        "sample = df['file_path'][:10].to_list()\n",
        "\n",
        "with open(sample[0], \"r\") as file:\n",
        "  sample_txt = file.read()"
      ],
      "metadata": {
        "id": "WS53797YMJFK"
      },
      "execution_count": 2,
      "outputs": []
    },
    {
      "cell_type": "markdown",
      "source": [
        "### Imports"
      ],
      "metadata": {
        "id": "wZGPsto2Fw1J"
      }
    },
    {
      "cell_type": "code",
      "source": [
        "!pip install -qq tokenizer transformers"
      ],
      "metadata": {
        "id": "rmSR2POgF1p4"
      },
      "execution_count": null,
      "outputs": []
    },
    {
      "cell_type": "code",
      "source": [
        "from tokenizers import Tokenizer, pre_tokenizers, decoders\n",
        "from tokenizers.models import Unigram, WordPiece\n",
        "from tokenizers.trainers import UnigramTrainer, WordPieceTrainer\n",
        "from tokenizers.pre_tokenizers import Whitespace\n",
        "from tokenizers.processors import TemplateProcessing\n",
        "from tokenizers.pre_tokenizers import Digits\n",
        "from tokenizers.normalizers import Strip"
      ],
      "metadata": {
        "id": "8c2eXgNjG5ig"
      },
      "execution_count": 3,
      "outputs": []
    },
    {
      "cell_type": "code",
      "source": [
        ""
      ],
      "metadata": {
        "id": "vXQIc0YBVlsr"
      },
      "execution_count": 6,
      "outputs": []
    },
    {
      "cell_type": "markdown",
      "source": [
        "## Training Subword Tokenizer For Malayalm "
      ],
      "metadata": {
        "id": "iVECNzyJFn-S"
      }
    },
    {
      "cell_type": "code",
      "execution_count": 5,
      "metadata": {
        "id": "DpL6YNUjFjKs"
      },
      "outputs": [],
      "source": [
        "tokenizer = Tokenizer(WordPiece(unk_token=\"<unk>\"))\n",
        "tokenizer.normalizer = Strip()\n",
        "tokenizer.decoders = decoders.WordPiece()\n",
        "\n",
        "trainer = WordPieceTrainer(vocab_size=1000,\n",
        "                           min_frequency=4,\n",
        "                           special_tokens=[\"<unk>\", \"<bos>\", \"<eos>\", \"<pad>\", \"<mask>\"],\n",
        "                           show_progress=True)"
      ]
    },
    {
      "cell_type": "code",
      "source": [
        "pre_tokenizer = pre_tokenizers.Sequence([\n",
        "                                         Whitespace(),  \n",
        "                                         Digits(individual_digits=False)\n",
        "                                        ])\n",
        "\n",
        "\n",
        "tokenizer.pre_tokenizer = pre_tokenizer\n",
        "\n",
        "# training tokenizer\n",
        "tokenizer.train(sample, trainer)"
      ],
      "metadata": {
        "id": "dVmDN5XiR0sm"
      },
      "execution_count": 7,
      "outputs": []
    },
    {
      "cell_type": "code",
      "source": [
        "tokenizer.post_processor = TemplateProcessing(\n",
        "                                single=\"<bos> $A <eos>\",\n",
        "                                pair=\"<bos> $A <eos> <bos> $B:1 <eos>:1\",\n",
        "                                special_tokens=[\n",
        "                                        (\"<bos>\", tokenizer.token_to_id(\"<bos>\")),\n",
        "                                        (\"<eos>\", tokenizer.token_to_id(\"<eos>\")),\n",
        "                                  ],\n",
        "                              )\n",
        "tokenizer.decoders = decoders.WordPiece()"
      ],
      "metadata": {
        "id": "E6fu_gOtJb6m"
      },
      "execution_count": 8,
      "outputs": []
    },
    {
      "cell_type": "code",
      "source": [
        "tokenizer.enable_padding(pad_id=3, pad_token=\"<pad>\")\n",
        "tokenizer.enable_truncation(max_length=500)"
      ],
      "metadata": {
        "id": "G-X0zbwuvO-a"
      },
      "execution_count": 9,
      "outputs": []
    },
    {
      "cell_type": "code",
      "source": [
        ""
      ],
      "metadata": {
        "id": "5CUNIXlrytIS"
      },
      "execution_count": 9,
      "outputs": []
    },
    {
      "cell_type": "code",
      "source": [
        "output = tokenizer.encode(sample_txt[:20])\n",
        "print(output.tokens)"
      ],
      "metadata": {
        "colab": {
          "base_uri": "https://localhost:8080/"
        },
        "id": "pAi-ASpULNPU",
        "outputId": "1b34047c-da21-4d4a-8f58-3c3304725b47"
      },
      "execution_count": 10,
      "outputs": [
        {
          "output_type": "stream",
          "name": "stdout",
          "text": [
            "['<bos>', 'ഇ', '##ന്ത്', '##യ', '##യിലെ', 'ആദ്യ', '##ത്തെ', '<eos>']\n"
          ]
        }
      ]
    },
    {
      "cell_type": "code",
      "source": [
        "print(output.ids)"
      ],
      "metadata": {
        "colab": {
          "base_uri": "https://localhost:8080/"
        },
        "id": "VQGg6IdjLex3",
        "outputId": "975a5895-3823-4ad9-b6d1-e38bdf622b68"
      },
      "execution_count": 11,
      "outputs": [
        {
          "output_type": "stream",
          "name": "stdout",
          "text": [
            "[1, 33, 861, 117, 596, 583, 287, 2]\n"
          ]
        }
      ]
    },
    {
      "cell_type": "code",
      "source": [
        "tokenizer.decode(output.ids, skip_special_tokens=True)"
      ],
      "metadata": {
        "colab": {
          "base_uri": "https://localhost:8080/",
          "height": 35
        },
        "id": "Rp5OVuewZQMG",
        "outputId": "21d14cd0-aa83-4242-c6a9-89f86958c1c8"
      },
      "execution_count": 12,
      "outputs": [
        {
          "output_type": "execute_result",
          "data": {
            "application/vnd.google.colaboratory.intrinsic+json": {
              "type": "string"
            },
            "text/plain": [
              "'ഇ ##ന്ത് ##യ ##യിലെ ആദ്യ ##ത്തെ'"
            ]
          },
          "metadata": {},
          "execution_count": 12
        }
      ]
    },
    {
      "cell_type": "code",
      "source": [
        ""
      ],
      "metadata": {
        "id": "TSGO2O6OYXEI"
      },
      "execution_count": 12,
      "outputs": []
    },
    {
      "cell_type": "code",
      "source": [
        "check_unk = tokenizer.encode(\"Hello\")\n",
        "check_unk.tokens, check_unk.ids, tokenizer.id_to_token(0)"
      ],
      "metadata": {
        "colab": {
          "base_uri": "https://localhost:8080/"
        },
        "id": "ydBwuUIpPsdc",
        "outputId": "de5431ea-8da7-4bfa-c59d-c9efbd4781eb"
      },
      "execution_count": 13,
      "outputs": [
        {
          "output_type": "execute_result",
          "data": {
            "text/plain": [
              "(['<bos>', '<unk>', '<eos>'], [1, 0, 2], '<unk>')"
            ]
          },
          "metadata": {},
          "execution_count": 13
        }
      ]
    },
    {
      "cell_type": "code",
      "source": [
        "output = tokenizer.encode_batch([sample_txt[:30], sample_txt[:10]])\n",
        "print(output[1].tokens)\n",
        "print(output[0].tokens)"
      ],
      "metadata": {
        "id": "DRVaTiy9tV5l",
        "outputId": "f657b319-286b-418a-c4b8-0390d405d694",
        "colab": {
          "base_uri": "https://localhost:8080/"
        }
      },
      "execution_count": 16,
      "outputs": [
        {
          "output_type": "stream",
          "name": "stdout",
          "text": [
            "['<bos>', 'ഇ', '##ന്ത്', '##യ', '##യിലെ', '<eos>', '<pad>', '<pad>', '<pad>', '<pad>', '<pad>', '<pad>', '<pad>', '<pad>', '<pad>', '<pad>']\n",
            "['<bos>', 'ഇ', '##ന്ത്', '##യ', '##യിലെ', 'ആദ്യ', '##ത്തെ', 'വ', '##നി', '##ത', '##ാ', 'ഐ', '##\\u200c', '##എ', '##\\u200c', '<eos>']\n"
          ]
        }
      ]
    },
    {
      "cell_type": "code",
      "source": [
        "print(output[1].attention_mask)"
      ],
      "metadata": {
        "id": "wU5WPi5hw4Tx",
        "outputId": "0096d012-1e64-45b5-8352-0bcfb5b0a734",
        "colab": {
          "base_uri": "https://localhost:8080/"
        }
      },
      "execution_count": 17,
      "outputs": [
        {
          "output_type": "stream",
          "name": "stdout",
          "text": [
            "[1, 1, 1, 1, 1, 1, 0, 0, 0, 0, 0, 0, 0, 0, 0, 0]\n"
          ]
        }
      ]
    },
    {
      "cell_type": "markdown",
      "source": [
        "### Training Tokenizer"
      ],
      "metadata": {
        "id": "m_JZj_ctb8Ud"
      }
    },
    {
      "cell_type": "code",
      "source": [
        "tokenizer = Tokenizer(WordPiece(unk_token=\"<unk>\"))\n",
        "tokenizer.normalizer = Strip()\n",
        "tokenizer.decoders = decoders.WordPiece()\n",
        "\n",
        "trainer = WordPieceTrainer(vocab_size=100000,\n",
        "                           min_frequency=4,\n",
        "                           special_tokens=[\"<unk>\", \"<bos>\", \"<eos>\", \"<pad>\", \"<mask>\"],\n",
        "                           show_progress=True)\n",
        "\n",
        "pre_tokenizer = pre_tokenizers.Sequence([\n",
        "                                         Whitespace(),  \n",
        "                                         Digits(individual_digits=False)\n",
        "                                        ])\n",
        "\n",
        "\n",
        "tokenizer.pre_tokenizer = pre_tokenizer\n",
        "\n",
        "# training tokenizer\n",
        "tokenizer.train(df['file_path'], trainer)\n",
        "\n",
        "tokenizer.enable_padding(pad_id=3, pad_token=\"<pad>\")\n",
        "tokenizer.enable_truncation(max_length=500)\n",
        "\n",
        "tokenizer.post_processor = TemplateProcessing(\n",
        "                                single=\"<bos> $A <eos>\",\n",
        "                                pair=\"<bos> $A <eos> <bos> $B:1 <eos>:1\",\n",
        "                                special_tokens=[\n",
        "                                        (\"<bos>\", tokenizer.token_to_id(\"<bos>\")),\n",
        "                                        (\"<eos>\", tokenizer.token_to_id(\"<eos>\")),\n",
        "                                  ],\n",
        "                              )\n",
        "\n",
        "tokenizer.decoders = decoders.WordPiece()"
      ],
      "metadata": {
        "id": "Em_n5aU8YHFu"
      },
      "execution_count": 18,
      "outputs": []
    },
    {
      "cell_type": "code",
      "source": [
        ""
      ],
      "metadata": {
        "id": "B0Xcm_KIYHAr"
      },
      "execution_count": 69,
      "outputs": []
    },
    {
      "cell_type": "code",
      "source": [
        "tokenizer.save(\"tokenizer-malayalam.json\")"
      ],
      "metadata": {
        "id": "FatmynqpwHgO"
      },
      "execution_count": 19,
      "outputs": []
    },
    {
      "cell_type": "code",
      "source": [
        ""
      ],
      "metadata": {
        "id": "3PbooHwFy6Ko"
      },
      "execution_count": null,
      "outputs": []
    },
    {
      "cell_type": "code",
      "source": [
        "from transformers import PreTrainedTokenizerFast"
      ],
      "metadata": {
        "id": "zmU-iyOKmPOP"
      },
      "execution_count": 20,
      "outputs": []
    },
    {
      "cell_type": "code",
      "source": [
        "wrapped_tokenizer = PreTrainedTokenizerFast(\n",
        "    tokenizer_object=tokenizer,\n",
        "    unk_token=\"<unk>\",\n",
        "    pad_token=\"<pad>\",\n",
        "    cls_token=\"<bos>\",\n",
        "    sep_token=\"<eos>\",\n",
        "    mask_token=\"<mask>\",\n",
        ")"
      ],
      "metadata": {
        "id": "6_bFvuorAPDc"
      },
      "execution_count": 21,
      "outputs": []
    },
    {
      "cell_type": "code",
      "source": [
        "wrapped_tokenizer(sample_txt)"
      ],
      "metadata": {
        "id": "YdeObC8OAehk",
        "outputId": "6f116cb9-d011-46e5-cb77-69c5ce342a70",
        "colab": {
          "base_uri": "https://localhost:8080/"
        }
      },
      "execution_count": 24,
      "outputs": [
        {
          "output_type": "execute_result",
          "data": {
            "text/plain": [
              "{'input_ids': [1, 4119, 3785, 8630, 81675, 1322, 38133, 5036, 2309, 9826, 34450, 36, 2721, 7114, 3182, 2355, 1298, 54142, 19, 2570, 2111, 7422, 5176, 3711, 4703, 34497, 7682, 3579, 98571, 19, 62827, 1267, 36210, 11545, 4822, 10428, 17338, 22177, 7310, 5570, 3182, 2355, 1298, 12164, 1312, 19509, 2093, 34327, 2947, 19, 11491, 14297, 54015, 10160, 17, 10152, 60903, 40243, 1264, 3674, 25485, 30493, 2570, 17, 4119, 3785, 8630, 81675, 1322, 38133, 5036, 19, 37784, 2073, 34964, 1304, 10757, 18426, 2406, 8832, 12882, 2570, 19, 2745, 13851, 15076, 2721, 2447, 19, 25930, 6094, 4209, 18, 2896, 3991, 65618, 8841, 7316, 3182, 17, 11240, 14049, 2448, 5292, 19807, 16340, 9973, 5288, 19, 11559, 18, 4970, 12905, 8752, 48719, 2893, 2461, 3182, 20150, 19, 7891, 4877, 3906, 2111, 9986, 12905, 8752, 6815, 8773, 73887, 1312, 7326, 25789, 2950, 14345, 9004, 19, 11180, 29434, 544, 47724, 6449, 28998, 19, 2593, 17, 74140, 13056, 2390, 3182, 18391, 4355, 19, 4518, 4679, 2079, 2136, 35503, 2338, 6449, 17031, 24079, 19, 2593, 17, 10545, 36856, 11620, 80900, 3182, 14264, 19, 2894, 35633, 28176, 2294, 11979, 43896, 3142, 19, 19167, 18, 628, 17, 35633, 10933, 2098, 3182, 14088, 17, 2111, 12119, 4362, 2275, 9573, 41403, 19, 3322, 66378, 8752, 2111, 59362, 5435, 45497, 42244, 2124, 4287, 78812, 91937, 2128, 9573, 7241, 19, 2593, 17, 75646, 3186, 24967, 3182, 2622, 45155, 3332, 21214, 28084, 19916, 19, 4518, 3423, 11904, 3691, 7191, 4362, 4531, 25559, 3122, 2951, 19, 2894, 42854, 5288, 11240, 45080, 3640, 6305, 19, 2593, 716, 4462, 20841, 3022, 4724, 8900, 12696, 717, 2102, 11962, 11599, 88218, 16681, 4651, 19, 9080, 17, 4787, 12381, 2740, 17, 544, 33698, 6098, 2951, 19, 6751, 4692, 3182, 11240, 10982, 6100, 11044, 2827, 19, 2842, 8792, 2423, 19, 48998, 2208, 31043, 45567, 2406, 26229, 19, 2593, 17, 7310, 16420, 33974, 32176, 5062, 3435, 36933, 11140, 3653, 2125, 19, 41736, 17534, 6994, 4507, 88269, 41957, 30298, 2390, 4198, 2589, 2111, 7898, 6145, 72353, 6290, 2474, 4315, 34964, 5024, 2111, 5752, 11435, 2663, 19, 2593, 17, 18110, 4939, 2448, 4770, 4507, 5983, 57454, 34495, 4748, 4285, 2285, 3182, 44165, 19, 3721, 68127, 5302, 3901, 2570, 27740, 19, 2622, 22746, 4755, 55850, 6283, 31056, 6994, 4507, 56453, 2722, 10223, 11018, 18846, 31800, 2570, 2622, 4362, 2529, 2734, 29298, 30908, 19, 4518, 17, 83030, 2456, 8236, 6145, 26960, 5957, 3182, 49696, 19, 2894, 5660, 2406, 8832, 6145, 26960, 5957, 3182, 3470, 19, 2111, 2918, 8130, 7310, 2313, 4102, 15819, 8616, 6171, 88269, 5460, 19, 6171, 5557, 8131, 3182, 3376, 4102, 13089, 19, 2572, 73013, 14854, 19, 2570, 88269, 4905, 3572, 17, 10956, 3229, 8042, 40589, 4484, 2111, 8281, 2547, 17, 12, 29098, 2101, 4859, 3597, 4575, 19, 29098, 8373, 2709, 55084, 19, 12, 7714, 88269, 4770, 14460, 19, 2111, 11107, 2073, 2448, 7614, 5301, 97410, 5547, 18846, 2570, 38574, 19, 2593, 17, 78812, 2275, 4531, 5202, 49117, 92391, 19, 2111, 3184, 2825, 26272, 2679, 30528, 4507, 43005, 21191, 3376, 21435, 2144, 24713, 2053, 19, 8550, 45780, 1267, 15232, 48135, 27799, 2570, 18206, 14504, 28899, 2135, 19, 10716, 2111, 27767, 17, 2111, 11107, 3461, 2693, 2706, 2622, 65935, 3782, 18110, 2269, 5996, 20038, 5891, 3182, 19250, 19, 5461, 5361, 64715, 43769, 10998, 2128, 88269, 3721, 2999, 2999, 3721, 5048, 29270, 19, 2593, 2424, 18110, 21714, 3415, 2724, 2108, 17, 4315, 3213, 14297, 16801, 18725, 10160, 3200, 19, 96981, 1266, 17, 65480, 47476, 17, 16508, 17534, 2876, 70498, 2242, 3551, 96514, 3142, 8383, 17976, 19, 2593, 5594, 8084, 7413, 7536, 17, 48998, 2474, 45567, 18561, 71763, 28170, 12271, 17, 15397, 54770, 2716, 74852, 1266, 26873, 88269, 11646, 2663, 19, 7974, 8792, 6661, 7392, 16742, 2461, 88269, 18696, 3538, 19, 2424, 3626, 17, 13775, 18, 628, 49298, 2255, 16962, 9909, 90820, 2378, 4828, 3182, 9654, 19, 22004, 74944, 3182, 8900, 70802, 2533, 19, 76737, 51167, 4707, 4477, 12850, 2345, 76627, 27158, 8066, 6597, 2199, 2721, 2490, 2906, 5833, 2060, 4906, 19, 2424, 14818, 14794, 5076, 2753, 3485, 4531, 22537, 18101, 1301, 5460, 19, 15329, 7828, 2884, 20692, 8562, 3301, 2421, 58925, 3269, 19, 3771, 19, 54142, 23975, 3182, 4462, 4545, 19, 6339, 99377, 4209, 18, 8212, 2570, 24822, 19, 2], 'token_type_ids': [0, 0, 0, 0, 0, 0, 0, 0, 0, 0, 0, 0, 0, 0, 0, 0, 0, 0, 0, 0, 0, 0, 0, 0, 0, 0, 0, 0, 0, 0, 0, 0, 0, 0, 0, 0, 0, 0, 0, 0, 0, 0, 0, 0, 0, 0, 0, 0, 0, 0, 0, 0, 0, 0, 0, 0, 0, 0, 0, 0, 0, 0, 0, 0, 0, 0, 0, 0, 0, 0, 0, 0, 0, 0, 0, 0, 0, 0, 0, 0, 0, 0, 0, 0, 0, 0, 0, 0, 0, 0, 0, 0, 0, 0, 0, 0, 0, 0, 0, 0, 0, 0, 0, 0, 0, 0, 0, 0, 0, 0, 0, 0, 0, 0, 0, 0, 0, 0, 0, 0, 0, 0, 0, 0, 0, 0, 0, 0, 0, 0, 0, 0, 0, 0, 0, 0, 0, 0, 0, 0, 0, 0, 0, 0, 0, 0, 0, 0, 0, 0, 0, 0, 0, 0, 0, 0, 0, 0, 0, 0, 0, 0, 0, 0, 0, 0, 0, 0, 0, 0, 0, 0, 0, 0, 0, 0, 0, 0, 0, 0, 0, 0, 0, 0, 0, 0, 0, 0, 0, 0, 0, 0, 0, 0, 0, 0, 0, 0, 0, 0, 0, 0, 0, 0, 0, 0, 0, 0, 0, 0, 0, 0, 0, 0, 0, 0, 0, 0, 0, 0, 0, 0, 0, 0, 0, 0, 0, 0, 0, 0, 0, 0, 0, 0, 0, 0, 0, 0, 0, 0, 0, 0, 0, 0, 0, 0, 0, 0, 0, 0, 0, 0, 0, 0, 0, 0, 0, 0, 0, 0, 0, 0, 0, 0, 0, 0, 0, 0, 0, 0, 0, 0, 0, 0, 0, 0, 0, 0, 0, 0, 0, 0, 0, 0, 0, 0, 0, 0, 0, 0, 0, 0, 0, 0, 0, 0, 0, 0, 0, 0, 0, 0, 0, 0, 0, 0, 0, 0, 0, 0, 0, 0, 0, 0, 0, 0, 0, 0, 0, 0, 0, 0, 0, 0, 0, 0, 0, 0, 0, 0, 0, 0, 0, 0, 0, 0, 0, 0, 0, 0, 0, 0, 0, 0, 0, 0, 0, 0, 0, 0, 0, 0, 0, 0, 0, 0, 0, 0, 0, 0, 0, 0, 0, 0, 0, 0, 0, 0, 0, 0, 0, 0, 0, 0, 0, 0, 0, 0, 0, 0, 0, 0, 0, 0, 0, 0, 0, 0, 0, 0, 0, 0, 0, 0, 0, 0, 0, 0, 0, 0, 0, 0, 0, 0, 0, 0, 0, 0, 0, 0, 0, 0, 0, 0, 0, 0, 0, 0, 0, 0, 0, 0, 0, 0, 0, 0, 0, 0, 0, 0, 0, 0, 0, 0, 0, 0, 0, 0, 0, 0, 0, 0, 0, 0, 0, 0, 0, 0, 0, 0, 0, 0, 0, 0, 0, 0, 0, 0, 0, 0, 0, 0, 0, 0, 0, 0, 0, 0, 0, 0, 0, 0, 0, 0, 0, 0, 0, 0, 0, 0, 0, 0, 0, 0, 0, 0, 0, 0, 0, 0, 0, 0, 0, 0, 0, 0, 0, 0, 0, 0, 0, 0, 0, 0, 0, 0, 0, 0, 0, 0, 0, 0, 0, 0, 0, 0, 0, 0, 0, 0, 0, 0, 0, 0, 0, 0, 0, 0, 0, 0, 0, 0, 0, 0, 0, 0, 0, 0, 0, 0, 0, 0, 0, 0, 0, 0, 0, 0, 0, 0, 0, 0, 0, 0, 0, 0, 0, 0, 0, 0, 0, 0, 0, 0, 0, 0, 0, 0, 0, 0, 0, 0, 0, 0, 0, 0, 0, 0, 0, 0, 0, 0, 0, 0, 0, 0, 0, 0, 0, 0, 0, 0, 0, 0, 0, 0, 0, 0, 0, 0, 0, 0, 0, 0, 0, 0, 0, 0, 0, 0, 0, 0, 0, 0, 0, 0, 0, 0, 0, 0, 0, 0, 0, 0, 0, 0, 0, 0, 0, 0, 0, 0, 0, 0, 0, 0, 0, 0, 0, 0, 0, 0, 0, 0, 0, 0, 0, 0, 0, 0, 0, 0, 0, 0, 0, 0, 0, 0, 0, 0, 0, 0, 0, 0, 0, 0, 0, 0, 0, 0, 0, 0, 0, 0, 0, 0, 0, 0, 0, 0], 'attention_mask': [1, 1, 1, 1, 1, 1, 1, 1, 1, 1, 1, 1, 1, 1, 1, 1, 1, 1, 1, 1, 1, 1, 1, 1, 1, 1, 1, 1, 1, 1, 1, 1, 1, 1, 1, 1, 1, 1, 1, 1, 1, 1, 1, 1, 1, 1, 1, 1, 1, 1, 1, 1, 1, 1, 1, 1, 1, 1, 1, 1, 1, 1, 1, 1, 1, 1, 1, 1, 1, 1, 1, 1, 1, 1, 1, 1, 1, 1, 1, 1, 1, 1, 1, 1, 1, 1, 1, 1, 1, 1, 1, 1, 1, 1, 1, 1, 1, 1, 1, 1, 1, 1, 1, 1, 1, 1, 1, 1, 1, 1, 1, 1, 1, 1, 1, 1, 1, 1, 1, 1, 1, 1, 1, 1, 1, 1, 1, 1, 1, 1, 1, 1, 1, 1, 1, 1, 1, 1, 1, 1, 1, 1, 1, 1, 1, 1, 1, 1, 1, 1, 1, 1, 1, 1, 1, 1, 1, 1, 1, 1, 1, 1, 1, 1, 1, 1, 1, 1, 1, 1, 1, 1, 1, 1, 1, 1, 1, 1, 1, 1, 1, 1, 1, 1, 1, 1, 1, 1, 1, 1, 1, 1, 1, 1, 1, 1, 1, 1, 1, 1, 1, 1, 1, 1, 1, 1, 1, 1, 1, 1, 1, 1, 1, 1, 1, 1, 1, 1, 1, 1, 1, 1, 1, 1, 1, 1, 1, 1, 1, 1, 1, 1, 1, 1, 1, 1, 1, 1, 1, 1, 1, 1, 1, 1, 1, 1, 1, 1, 1, 1, 1, 1, 1, 1, 1, 1, 1, 1, 1, 1, 1, 1, 1, 1, 1, 1, 1, 1, 1, 1, 1, 1, 1, 1, 1, 1, 1, 1, 1, 1, 1, 1, 1, 1, 1, 1, 1, 1, 1, 1, 1, 1, 1, 1, 1, 1, 1, 1, 1, 1, 1, 1, 1, 1, 1, 1, 1, 1, 1, 1, 1, 1, 1, 1, 1, 1, 1, 1, 1, 1, 1, 1, 1, 1, 1, 1, 1, 1, 1, 1, 1, 1, 1, 1, 1, 1, 1, 1, 1, 1, 1, 1, 1, 1, 1, 1, 1, 1, 1, 1, 1, 1, 1, 1, 1, 1, 1, 1, 1, 1, 1, 1, 1, 1, 1, 1, 1, 1, 1, 1, 1, 1, 1, 1, 1, 1, 1, 1, 1, 1, 1, 1, 1, 1, 1, 1, 1, 1, 1, 1, 1, 1, 1, 1, 1, 1, 1, 1, 1, 1, 1, 1, 1, 1, 1, 1, 1, 1, 1, 1, 1, 1, 1, 1, 1, 1, 1, 1, 1, 1, 1, 1, 1, 1, 1, 1, 1, 1, 1, 1, 1, 1, 1, 1, 1, 1, 1, 1, 1, 1, 1, 1, 1, 1, 1, 1, 1, 1, 1, 1, 1, 1, 1, 1, 1, 1, 1, 1, 1, 1, 1, 1, 1, 1, 1, 1, 1, 1, 1, 1, 1, 1, 1, 1, 1, 1, 1, 1, 1, 1, 1, 1, 1, 1, 1, 1, 1, 1, 1, 1, 1, 1, 1, 1, 1, 1, 1, 1, 1, 1, 1, 1, 1, 1, 1, 1, 1, 1, 1, 1, 1, 1, 1, 1, 1, 1, 1, 1, 1, 1, 1, 1, 1, 1, 1, 1, 1, 1, 1, 1, 1, 1, 1, 1, 1, 1, 1, 1, 1, 1, 1, 1, 1, 1, 1, 1, 1, 1, 1, 1, 1, 1, 1, 1, 1, 1, 1, 1, 1, 1, 1, 1, 1, 1, 1, 1, 1, 1, 1, 1, 1, 1, 1, 1, 1, 1, 1, 1, 1, 1, 1, 1, 1, 1, 1, 1, 1, 1, 1, 1, 1, 1, 1, 1, 1, 1, 1, 1, 1, 1, 1, 1, 1, 1, 1, 1, 1, 1, 1, 1, 1, 1, 1, 1, 1, 1, 1, 1, 1, 1, 1, 1, 1, 1, 1, 1, 1, 1, 1, 1, 1, 1, 1, 1, 1, 1, 1, 1, 1, 1, 1, 1, 1, 1, 1, 1, 1, 1, 1, 1, 1, 1, 1, 1, 1, 1, 1, 1, 1, 1, 1, 1, 1, 1, 1, 1, 1, 1, 1, 1, 1, 1, 1, 1, 1, 1, 1, 1, 1, 1]}"
            ]
          },
          "metadata": {},
          "execution_count": 24
        }
      ]
    },
    {
      "cell_type": "code",
      "source": [
        "wrapped_tokenizer.save_pretrained(\"Tokenizer\")"
      ],
      "metadata": {
        "id": "-BFlFJBnAmk1",
        "outputId": "b933b89a-5b55-43bf-e4b0-ec2cc4bb350e",
        "colab": {
          "base_uri": "https://localhost:8080/"
        }
      },
      "execution_count": 27,
      "outputs": [
        {
          "output_type": "execute_result",
          "data": {
            "text/plain": [
              "('Tokenizer/tokenizer_config.json',\n",
              " 'Tokenizer/special_tokens_map.json',\n",
              " 'Tokenizer/tokenizer.json')"
            ]
          },
          "metadata": {},
          "execution_count": 27
        }
      ]
    },
    {
      "cell_type": "code",
      "source": [
        ""
      ],
      "metadata": {
        "id": "VQuvVjd7BX8w"
      },
      "execution_count": null,
      "outputs": []
    }
  ]
}