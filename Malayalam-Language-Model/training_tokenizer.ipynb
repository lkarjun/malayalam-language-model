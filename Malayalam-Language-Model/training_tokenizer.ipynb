{
  "cells": [
    {
      "cell_type": "markdown",
      "metadata": {
        "id": "view-in-github",
        "colab_type": "text"
      },
      "source": [
        "<a href=\"https://colab.research.google.com/github/lkarjun/malayalam-language-model/blob/main/Malayalam-Language-Model/training_tokenizer.ipynb\" target=\"_parent\"><img src=\"https://colab.research.google.com/assets/colab-badge.svg\" alt=\"Open In Colab\"/></a>"
      ]
    },
    {
      "cell_type": "markdown",
      "metadata": {
        "id": "wZGPsto2Fw1J"
      },
      "source": [
        "### Imports"
      ]
    },
    {
      "cell_type": "code",
      "execution_count": null,
      "metadata": {
        "colab": {
          "base_uri": "https://localhost:8080/"
        },
        "id": "rmSR2POgF1p4",
        "outputId": "bd49fed9-1f64-4501-cacf-d3d85c534fc2"
      },
      "outputs": [
        {
          "output_type": "stream",
          "name": "stdout",
          "text": [
            "\u001b[K     |████████████████████████████████| 311 kB 12.0 MB/s \n",
            "\u001b[K     |████████████████████████████████| 134 kB 25.8 MB/s \n",
            "\u001b[K     |████████████████████████████████| 1.1 MB 54.1 MB/s \n",
            "\u001b[K     |████████████████████████████████| 212 kB 52.8 MB/s \n",
            "\u001b[K     |████████████████████████████████| 144 kB 54.8 MB/s \n",
            "\u001b[K     |████████████████████████████████| 271 kB 46.6 MB/s \n",
            "\u001b[K     |████████████████████████████████| 94 kB 4.4 MB/s \n",
            "\u001b[?25h"
          ]
        }
      ],
      "source": [
        "!pip install -qq tokenizer transformers datasets"
      ]
    },
    {
      "cell_type": "code",
      "execution_count": 1,
      "metadata": {
        "id": "8c2eXgNjG5ig"
      },
      "outputs": [],
      "source": [
        "from tokenizers import Tokenizer, pre_tokenizers, decoders\n",
        "from tokenizers.models import Unigram, WordPiece\n",
        "from tokenizers.trainers import UnigramTrainer, WordPieceTrainer\n",
        "from tokenizers.pre_tokenizers import Whitespace\n",
        "from tokenizers.processors import TemplateProcessing\n",
        "from tokenizers.pre_tokenizers import Digits\n",
        "from tokenizers.normalizers import Strip\n",
        "\n",
        "from datasets import load_dataset\n",
        "import pandas as pd"
      ]
    },
    {
      "cell_type": "code",
      "execution_count": null,
      "metadata": {
        "id": "vXQIc0YBVlsr"
      },
      "outputs": [],
      "source": [
        ""
      ]
    },
    {
      "cell_type": "markdown",
      "metadata": {
        "id": "LycIPSbAG9Lx"
      },
      "source": [
        "### Dataset Loading"
      ]
    },
    {
      "cell_type": "code",
      "execution_count": 2,
      "metadata": {
        "id": "WS53797YMJFK",
        "outputId": "01d760f9-c54c-4689-fbff-b8bfbb8827ae",
        "colab": {
          "base_uri": "https://localhost:8080/",
          "height": 284,
          "referenced_widgets": [
            "a3ff8426f3a645139dec0f2670ef8741",
            "04826035bc9d434d8a8a70cfd1b715da",
            "75bcdbab91bf40f2acde8d9494545183",
            "637f805d7c1248d587d7db3def7c09c7",
            "eb5cb889420149cb8a1b32eb174428ea",
            "dc15712c26de4103a0aa778e8058612b",
            "a3411745bac842e3a01ab791c2d97354",
            "9dd219c1377c4bf6ae7cb551c17565d5",
            "079b89b9e1eb418592db707888857836",
            "72d749a50896462c828e46830742973e",
            "92ebc061dcf74136b261e96a7738cac5"
          ]
        }
      },
      "outputs": [
        {
          "output_type": "stream",
          "name": "stderr",
          "text": [
            "Using custom data configuration lkarjun--Malayalam-Articles-d44c52244000c266\n",
            "Reusing dataset csv (/root/.cache/huggingface/datasets/csv/lkarjun--Malayalam-Articles-d44c52244000c266/0.0.0/6b9057d9e23d9d8a2f05b985917a0da84d70c5dae3d22ddd8a3f22fb01c69d9e)\n"
          ]
        },
        {
          "output_type": "display_data",
          "data": {
            "application/vnd.jupyter.widget-view+json": {
              "model_id": "a3ff8426f3a645139dec0f2670ef8741",
              "version_minor": 0,
              "version_major": 2
            },
            "text/plain": [
              "  0%|          | 0/2 [00:00<?, ?it/s]"
            ]
          },
          "metadata": {}
        },
        {
          "output_type": "execute_result",
          "data": {
            "text/plain": [
              "DatasetDict({\n",
              "    train: Dataset({\n",
              "        features: ['content', 'is_valid'],\n",
              "        num_rows: 26617\n",
              "    })\n",
              "    validation: Dataset({\n",
              "        features: ['content', 'is_valid'],\n",
              "        num_rows: 8873\n",
              "    })\n",
              "})"
            ]
          },
          "metadata": {},
          "execution_count": 2
        }
      ],
      "source": [
        "dset = load_dataset(\"lkarjun/Malayalam-Articles\")\n",
        "dset"
      ]
    },
    {
      "cell_type": "code",
      "source": [
        "df = pd.concat([\n",
        "                dset['train'].to_pandas().dropna(),\n",
        "                dset['validation'].to_pandas().dropna()\n",
        "])"
      ],
      "metadata": {
        "id": "4vTFXgbOGTBs"
      },
      "execution_count": 7,
      "outputs": []
    },
    {
      "cell_type": "markdown",
      "source": [
        "## Traning Bert Tokenizer"
      ],
      "metadata": {
        "id": "pk8mPS2iHJJs"
      }
    },
    {
      "cell_type": "code",
      "source": [
        "from tokenizers import BertWordPieceTokenizer"
      ],
      "metadata": {
        "id": "r_X9-ilcHRJR"
      },
      "execution_count": 3,
      "outputs": []
    },
    {
      "cell_type": "code",
      "source": [
        "bert_tok = BertWordPieceTokenizer()"
      ],
      "metadata": {
        "id": "o-fW78Q7Hn5d"
      },
      "execution_count": 5,
      "outputs": []
    },
    {
      "cell_type": "code",
      "source": [
        "def batch_iterator(bs = 5000, col = 'content'):\n",
        "  for i in range(0, len(df), bs):\n",
        "    yield df[i: i + bs][col]"
      ],
      "metadata": {
        "id": "-qbdfU-rHjfT"
      },
      "execution_count": 4,
      "outputs": []
    },
    {
      "cell_type": "code",
      "source": [
        "bert_tokenizer = bert_tok.train_from_iterator(batch_iterator(), \n",
        "                                              vocab_size=50000)"
      ],
      "metadata": {
        "id": "4k0cGarrHjDr"
      },
      "execution_count": null,
      "outputs": []
    },
    {
      "cell_type": "code",
      "source": [
        "bert_tokenizer.save_pretrained(\"bert-tokenizer\")"
      ],
      "metadata": {
        "id": "ZQDMaG0CIj2D"
      },
      "execution_count": null,
      "outputs": []
    },
    {
      "cell_type": "code",
      "source": [
        ""
      ],
      "metadata": {
        "id": "MR0HoEHdN1ER"
      },
      "execution_count": null,
      "outputs": []
    },
    {
      "cell_type": "code",
      "source": [
        ""
      ],
      "metadata": {
        "id": "YWyjRYtXLzhc"
      },
      "execution_count": null,
      "outputs": []
    },
    {
      "cell_type": "markdown",
      "metadata": {
        "id": "iVECNzyJFn-S"
      },
      "source": [
        "## Training WordPiece Tokenizer "
      ]
    },
    {
      "cell_type": "code",
      "execution_count": null,
      "metadata": {
        "id": "DpL6YNUjFjKs"
      },
      "outputs": [],
      "source": [
        "tokenizer = Tokenizer(WordPiece(unk_token=\"[UNK]\"))\n",
        "tokenizer.normalizer = Strip()\n",
        "tokenizer.decoders = decoders.WordPiece()\n",
        "\n",
        "trainer = WordPieceTrainer(vocab_size=1000,\n",
        "                           min_frequency=4,\n",
        "                           special_tokens=[\"[UNK]\", \"[CLS]\", \"[SEP]\", \"[PAD]\", \"[MASK]\"],\n",
        "                           show_progress=True)"
      ]
    },
    {
      "cell_type": "code",
      "execution_count": null,
      "metadata": {
        "id": "dVmDN5XiR0sm"
      },
      "outputs": [],
      "source": [
        "pre_tokenizer = pre_tokenizers.Sequence([\n",
        "                                         Whitespace(),  \n",
        "                                         Digits(individual_digits=False)\n",
        "                                        ])\n",
        "\n",
        "\n",
        "tokenizer.pre_tokenizer = pre_tokenizer\n",
        "\n",
        "# training tokenizer\n",
        "tokenizer.train(sample, trainer)"
      ]
    },
    {
      "cell_type": "code",
      "execution_count": null,
      "metadata": {
        "id": "E6fu_gOtJb6m"
      },
      "outputs": [],
      "source": [
        "tokenizer.post_processor = TemplateProcessing(\n",
        "                                single=\"[CLS] $A [SEP]\",\n",
        "                                pair=\"[CLS] $A [SEP] $B:1 [SEP]:1\",\n",
        "                                special_tokens=[\n",
        "                                        (\"[CLS]\", tokenizer.token_to_id(\"[CLS]\")),\n",
        "                                        (\"[SEP]\", tokenizer.token_to_id(\"[SEP]\")),\n",
        "                                  ],\n",
        "                              )\n",
        "tokenizer.decoders = decoders.WordPiece()"
      ]
    },
    {
      "cell_type": "code",
      "execution_count": null,
      "metadata": {
        "id": "G-X0zbwuvO-a"
      },
      "outputs": [],
      "source": [
        "tokenizer.enable_padding(direction=\"right\", pad_id=3, pad_token=\"[PAD]\")\n",
        "tokenizer.enable_truncation(max_length=500)"
      ]
    },
    {
      "cell_type": "code",
      "execution_count": null,
      "metadata": {
        "id": "5CUNIXlrytIS"
      },
      "outputs": [],
      "source": [
        ""
      ]
    },
    {
      "cell_type": "code",
      "execution_count": null,
      "metadata": {
        "colab": {
          "base_uri": "https://localhost:8080/"
        },
        "id": "pAi-ASpULNPU",
        "outputId": "1b34047c-da21-4d4a-8f58-3c3304725b47"
      },
      "outputs": [
        {
          "name": "stdout",
          "output_type": "stream",
          "text": [
            "['[CLS]', 'ഇ', '##ന്ത്', '##യ', '##യിലെ', 'ആദ്യ', '##ത്തെ', '[SEP]']\n"
          ]
        }
      ],
      "source": [
        "output = tokenizer.encode(sample_txt[:20])\n",
        "print(output.tokens)"
      ]
    },
    {
      "cell_type": "code",
      "execution_count": null,
      "metadata": {
        "colab": {
          "base_uri": "https://localhost:8080/"
        },
        "id": "VQGg6IdjLex3",
        "outputId": "975a5895-3823-4ad9-b6d1-e38bdf622b68"
      },
      "outputs": [
        {
          "name": "stdout",
          "output_type": "stream",
          "text": [
            "[1, 33, 862, 108, 596, 584, 286, 2]\n"
          ]
        }
      ],
      "source": [
        "print(output.ids)"
      ]
    },
    {
      "cell_type": "code",
      "execution_count": null,
      "metadata": {
        "colab": {
          "base_uri": "https://localhost:8080/",
          "height": 35
        },
        "id": "Rp5OVuewZQMG",
        "outputId": "21d14cd0-aa83-4242-c6a9-89f86958c1c8"
      },
      "outputs": [
        {
          "data": {
            "text/plain": [
              "'ഇ ##ന്ത് ##യ ##യിലെ ആദ്യ ##ത്തെ'"
            ]
          },
          "execution_count": 32,
          "metadata": {},
          "output_type": "execute_result"
        }
      ],
      "source": [
        "tokenizer.decode(output.ids, skip_special_tokens=True)"
      ]
    },
    {
      "cell_type": "code",
      "execution_count": null,
      "metadata": {
        "id": "TSGO2O6OYXEI"
      },
      "outputs": [],
      "source": [
        ""
      ]
    },
    {
      "cell_type": "code",
      "execution_count": null,
      "metadata": {
        "colab": {
          "base_uri": "https://localhost:8080/"
        },
        "id": "ydBwuUIpPsdc",
        "outputId": "de5431ea-8da7-4bfa-c59d-c9efbd4781eb"
      },
      "outputs": [
        {
          "data": {
            "text/plain": [
              "(['[CLS]', '[UNK]', '[SEP]'], [1, 0, 2], '[UNK]')"
            ]
          },
          "execution_count": 33,
          "metadata": {},
          "output_type": "execute_result"
        }
      ],
      "source": [
        "check_unk = tokenizer.encode(\"Hello\")\n",
        "check_unk.tokens, check_unk.ids, tokenizer.id_to_token(0)"
      ]
    },
    {
      "cell_type": "code",
      "execution_count": null,
      "metadata": {
        "colab": {
          "base_uri": "https://localhost:8080/"
        },
        "id": "DRVaTiy9tV5l",
        "outputId": "f657b319-286b-418a-c4b8-0390d405d694"
      },
      "outputs": [
        {
          "name": "stdout",
          "output_type": "stream",
          "text": [
            "['[CLS]', 'ഇ', '##ന്ത്', '##യ', '##യിലെ', '[SEP]', '[PAD]', '[PAD]', '[PAD]', '[PAD]', '[PAD]', '[PAD]', '[PAD]', '[PAD]', '[PAD]', '[PAD]']\n",
            "['[CLS]', 'ഇ', '##ന്ത്', '##യ', '##യിലെ', 'ആദ്യ', '##ത്തെ', 'വ', '##നി', '##ത', '##ാ', 'ഐ', '##\\u200c', '##എ', '##\\u200c', '[SEP]']\n"
          ]
        }
      ],
      "source": [
        "output = tokenizer.encode_batch([sample_txt[:30], sample_txt[:10]])\n",
        "print(output[1].tokens)\n",
        "print(output[0].tokens)"
      ]
    },
    {
      "cell_type": "code",
      "execution_count": null,
      "metadata": {
        "colab": {
          "base_uri": "https://localhost:8080/"
        },
        "id": "wU5WPi5hw4Tx",
        "outputId": "0096d012-1e64-45b5-8352-0bcfb5b0a734"
      },
      "outputs": [
        {
          "name": "stdout",
          "output_type": "stream",
          "text": [
            "[1, 1, 1, 1, 1, 1, 0, 0, 0, 0, 0, 0, 0, 0, 0, 0]\n"
          ]
        }
      ],
      "source": [
        "print(output[1].attention_mask)"
      ]
    },
    {
      "cell_type": "code",
      "execution_count": null,
      "metadata": {
        "id": "1R0t-KcUZ1Ko"
      },
      "outputs": [],
      "source": [
        ""
      ]
    },
    {
      "cell_type": "markdown",
      "metadata": {
        "id": "m_JZj_ctb8Ud"
      },
      "source": [
        "### Training Tokenizer"
      ]
    },
    {
      "cell_type": "code",
      "execution_count": null,
      "metadata": {
        "id": "Em_n5aU8YHFu"
      },
      "outputs": [],
      "source": [
        "tokenizer = Tokenizer(WordPiece(unk_token=\"[UNK]\"))\n",
        "tokenizer.normalizer = Strip()\n",
        "tokenizer.decoders = decoders.WordPiece()\n",
        "\n",
        "trainer = WordPieceTrainer(vocab_size=75000,\n",
        "                           min_frequency=4,\n",
        "                           special_tokens=[\"[UNK]\", \"[CLS]\", \"[SEP]\", \"[PAD]\", \"[MASK]\"],\n",
        "                           show_progress=True)\n",
        "\n",
        "pre_tokenizer = pre_tokenizers.Sequence([\n",
        "                                         Whitespace(),  \n",
        "                                         Digits(individual_digits=False)\n",
        "                                        ])\n",
        "\n",
        "\n",
        "tokenizer.pre_tokenizer = pre_tokenizer\n",
        "\n",
        "# training tokenizer\n",
        "tokenizer.train(df['file_path'], trainer)\n",
        "\n",
        "tokenizer.post_processor = TemplateProcessing(\n",
        "                                single=\"[CLS] $A [SEP]\",\n",
        "                                pair=\"[CLS] $A [SEP] $B:1 [SEP]:1\",\n",
        "                                special_tokens=[\n",
        "                                        (\"[CLS]\", tokenizer.token_to_id(\"[CLS]\")),\n",
        "                                        (\"[SEP]\", tokenizer.token_to_id(\"[SEP]\")),\n",
        "                                  ],\n",
        "                              )\n",
        "\n",
        "tokenizer.decoders = decoders.WordPiece()\n",
        "\n",
        "tokenizer.enable_padding(direction=\"right\", pad_id=3, pad_token=\"[PAD]\")\n",
        "tokenizer.enable_truncation(max_length=500)"
      ]
    },
    {
      "cell_type": "code",
      "execution_count": null,
      "metadata": {
        "id": "B0Xcm_KIYHAr"
      },
      "outputs": [],
      "source": [
        ""
      ]
    },
    {
      "cell_type": "code",
      "execution_count": null,
      "metadata": {
        "id": "FatmynqpwHgO"
      },
      "outputs": [],
      "source": [
        "tokenizer.save(\"tokenizer-malayalam.json\")"
      ]
    },
    {
      "cell_type": "code",
      "execution_count": null,
      "metadata": {
        "id": "3PbooHwFy6Ko"
      },
      "outputs": [],
      "source": [
        ""
      ]
    },
    {
      "cell_type": "code",
      "execution_count": null,
      "metadata": {
        "id": "zmU-iyOKmPOP"
      },
      "outputs": [],
      "source": [
        "from transformers import PreTrainedTokenizerFast"
      ]
    },
    {
      "cell_type": "code",
      "execution_count": null,
      "metadata": {
        "id": "6_bFvuorAPDc"
      },
      "outputs": [],
      "source": [
        "wrapped_tokenizer = PreTrainedTokenizerFast(\n",
        "    tokenizer_object=tokenizer,\n",
        "    unk_token=\"[UNK]\",\n",
        "    pad_token=\"[PAD]\",\n",
        "    cls_token=\"[CLS]\",\n",
        "    sep_token=\"[SEP]\",\n",
        "    mask_token=\"[MASK]\",\n",
        ")"
      ]
    },
    {
      "cell_type": "code",
      "execution_count": null,
      "metadata": {
        "id": "X9pwCR_tFsdu",
        "outputId": "bcbe0469-92dc-4f5f-bc15-16f1d700c50c"
      },
      "outputs": [
        {
          "name": "stdout",
          "output_type": "stream",
          "text": [
            "3 1 2\n"
          ]
        }
      ],
      "source": [
        "print(\n",
        "    wrapped_tokenizer.pad_token_id,\n",
        "    wrapped_tokenizer.cls_token_id,\n",
        "    wrapped_tokenizer.sep_token_id\n",
        ")"
      ]
    },
    {
      "cell_type": "code",
      "execution_count": null,
      "metadata": {
        "colab": {
          "base_uri": "https://localhost:8080/"
        },
        "id": "-BFlFJBnAmk1",
        "outputId": "dabe9b2c-f742-40a5-e300-7e0f26d36241"
      },
      "outputs": [
        {
          "data": {
            "text/plain": [
              "('Tokenizer\\\\tokenizer_config.json',\n",
              " 'Tokenizer\\\\special_tokens_map.json',\n",
              " 'Tokenizer\\\\tokenizer.json')"
            ]
          },
          "execution_count": 53,
          "metadata": {},
          "output_type": "execute_result"
        }
      ],
      "source": [
        "wrapped_tokenizer.save_pretrained(\"Tokenizer\")"
      ]
    },
    {
      "cell_type": "code",
      "execution_count": null,
      "metadata": {
        "id": "u3GRTI0iFsdw"
      },
      "outputs": [],
      "source": [
        ""
      ]
    }
  ],
  "metadata": {
    "colab": {
      "name": "training-tokenizer.ipynb",
      "provenance": [],
      "include_colab_link": true
    },
    "kernelspec": {
      "display_name": "Python 3",
      "name": "python3"
    },
    "language_info": {
      "codemirror_mode": {
        "name": "ipython",
        "version": 3
      },
      "file_extension": ".py",
      "mimetype": "text/x-python",
      "name": "python",
      "nbconvert_exporter": "python",
      "pygments_lexer": "ipython3",
      "version": "3.9.5"
    },
    "widgets": {
      "application/vnd.jupyter.widget-state+json": {
        "a3ff8426f3a645139dec0f2670ef8741": {
          "model_module": "@jupyter-widgets/controls",
          "model_name": "HBoxModel",
          "model_module_version": "1.5.0",
          "state": {
            "_view_name": "HBoxView",
            "_dom_classes": [],
            "_model_name": "HBoxModel",
            "_view_module": "@jupyter-widgets/controls",
            "_model_module_version": "1.5.0",
            "_view_count": null,
            "_view_module_version": "1.5.0",
            "box_style": "",
            "layout": "IPY_MODEL_04826035bc9d434d8a8a70cfd1b715da",
            "_model_module": "@jupyter-widgets/controls",
            "children": [
              "IPY_MODEL_75bcdbab91bf40f2acde8d9494545183",
              "IPY_MODEL_637f805d7c1248d587d7db3def7c09c7",
              "IPY_MODEL_eb5cb889420149cb8a1b32eb174428ea"
            ]
          }
        },
        "04826035bc9d434d8a8a70cfd1b715da": {
          "model_module": "@jupyter-widgets/base",
          "model_name": "LayoutModel",
          "model_module_version": "1.2.0",
          "state": {
            "_view_name": "LayoutView",
            "grid_template_rows": null,
            "right": null,
            "justify_content": null,
            "_view_module": "@jupyter-widgets/base",
            "overflow": null,
            "_model_module_version": "1.2.0",
            "_view_count": null,
            "flex_flow": null,
            "width": null,
            "min_width": null,
            "border": null,
            "align_items": null,
            "bottom": null,
            "_model_module": "@jupyter-widgets/base",
            "top": null,
            "grid_column": null,
            "overflow_y": null,
            "overflow_x": null,
            "grid_auto_flow": null,
            "grid_area": null,
            "grid_template_columns": null,
            "flex": null,
            "_model_name": "LayoutModel",
            "justify_items": null,
            "grid_row": null,
            "max_height": null,
            "align_content": null,
            "visibility": null,
            "align_self": null,
            "height": null,
            "min_height": null,
            "padding": null,
            "grid_auto_rows": null,
            "grid_gap": null,
            "max_width": null,
            "order": null,
            "_view_module_version": "1.2.0",
            "grid_template_areas": null,
            "object_position": null,
            "object_fit": null,
            "grid_auto_columns": null,
            "margin": null,
            "display": null,
            "left": null
          }
        },
        "75bcdbab91bf40f2acde8d9494545183": {
          "model_module": "@jupyter-widgets/controls",
          "model_name": "HTMLModel",
          "model_module_version": "1.5.0",
          "state": {
            "_view_name": "HTMLView",
            "style": "IPY_MODEL_dc15712c26de4103a0aa778e8058612b",
            "_dom_classes": [],
            "description": "",
            "_model_name": "HTMLModel",
            "placeholder": "​",
            "_view_module": "@jupyter-widgets/controls",
            "_model_module_version": "1.5.0",
            "value": "100%",
            "_view_count": null,
            "_view_module_version": "1.5.0",
            "description_tooltip": null,
            "_model_module": "@jupyter-widgets/controls",
            "layout": "IPY_MODEL_a3411745bac842e3a01ab791c2d97354"
          }
        },
        "637f805d7c1248d587d7db3def7c09c7": {
          "model_module": "@jupyter-widgets/controls",
          "model_name": "FloatProgressModel",
          "model_module_version": "1.5.0",
          "state": {
            "_view_name": "ProgressView",
            "style": "IPY_MODEL_9dd219c1377c4bf6ae7cb551c17565d5",
            "_dom_classes": [],
            "description": "",
            "_model_name": "FloatProgressModel",
            "bar_style": "success",
            "max": 2,
            "_view_module": "@jupyter-widgets/controls",
            "_model_module_version": "1.5.0",
            "value": 2,
            "_view_count": null,
            "_view_module_version": "1.5.0",
            "orientation": "horizontal",
            "min": 0,
            "description_tooltip": null,
            "_model_module": "@jupyter-widgets/controls",
            "layout": "IPY_MODEL_079b89b9e1eb418592db707888857836"
          }
        },
        "eb5cb889420149cb8a1b32eb174428ea": {
          "model_module": "@jupyter-widgets/controls",
          "model_name": "HTMLModel",
          "model_module_version": "1.5.0",
          "state": {
            "_view_name": "HTMLView",
            "style": "IPY_MODEL_72d749a50896462c828e46830742973e",
            "_dom_classes": [],
            "description": "",
            "_model_name": "HTMLModel",
            "placeholder": "​",
            "_view_module": "@jupyter-widgets/controls",
            "_model_module_version": "1.5.0",
            "value": " 2/2 [00:00&lt;00:00,  7.27it/s]",
            "_view_count": null,
            "_view_module_version": "1.5.0",
            "description_tooltip": null,
            "_model_module": "@jupyter-widgets/controls",
            "layout": "IPY_MODEL_92ebc061dcf74136b261e96a7738cac5"
          }
        },
        "dc15712c26de4103a0aa778e8058612b": {
          "model_module": "@jupyter-widgets/controls",
          "model_name": "DescriptionStyleModel",
          "model_module_version": "1.5.0",
          "state": {
            "_view_name": "StyleView",
            "_model_name": "DescriptionStyleModel",
            "description_width": "",
            "_view_module": "@jupyter-widgets/base",
            "_model_module_version": "1.5.0",
            "_view_count": null,
            "_view_module_version": "1.2.0",
            "_model_module": "@jupyter-widgets/controls"
          }
        },
        "a3411745bac842e3a01ab791c2d97354": {
          "model_module": "@jupyter-widgets/base",
          "model_name": "LayoutModel",
          "model_module_version": "1.2.0",
          "state": {
            "_view_name": "LayoutView",
            "grid_template_rows": null,
            "right": null,
            "justify_content": null,
            "_view_module": "@jupyter-widgets/base",
            "overflow": null,
            "_model_module_version": "1.2.0",
            "_view_count": null,
            "flex_flow": null,
            "width": null,
            "min_width": null,
            "border": null,
            "align_items": null,
            "bottom": null,
            "_model_module": "@jupyter-widgets/base",
            "top": null,
            "grid_column": null,
            "overflow_y": null,
            "overflow_x": null,
            "grid_auto_flow": null,
            "grid_area": null,
            "grid_template_columns": null,
            "flex": null,
            "_model_name": "LayoutModel",
            "justify_items": null,
            "grid_row": null,
            "max_height": null,
            "align_content": null,
            "visibility": null,
            "align_self": null,
            "height": null,
            "min_height": null,
            "padding": null,
            "grid_auto_rows": null,
            "grid_gap": null,
            "max_width": null,
            "order": null,
            "_view_module_version": "1.2.0",
            "grid_template_areas": null,
            "object_position": null,
            "object_fit": null,
            "grid_auto_columns": null,
            "margin": null,
            "display": null,
            "left": null
          }
        },
        "9dd219c1377c4bf6ae7cb551c17565d5": {
          "model_module": "@jupyter-widgets/controls",
          "model_name": "ProgressStyleModel",
          "model_module_version": "1.5.0",
          "state": {
            "_view_name": "StyleView",
            "_model_name": "ProgressStyleModel",
            "description_width": "",
            "_view_module": "@jupyter-widgets/base",
            "_model_module_version": "1.5.0",
            "_view_count": null,
            "_view_module_version": "1.2.0",
            "bar_color": null,
            "_model_module": "@jupyter-widgets/controls"
          }
        },
        "079b89b9e1eb418592db707888857836": {
          "model_module": "@jupyter-widgets/base",
          "model_name": "LayoutModel",
          "model_module_version": "1.2.0",
          "state": {
            "_view_name": "LayoutView",
            "grid_template_rows": null,
            "right": null,
            "justify_content": null,
            "_view_module": "@jupyter-widgets/base",
            "overflow": null,
            "_model_module_version": "1.2.0",
            "_view_count": null,
            "flex_flow": null,
            "width": null,
            "min_width": null,
            "border": null,
            "align_items": null,
            "bottom": null,
            "_model_module": "@jupyter-widgets/base",
            "top": null,
            "grid_column": null,
            "overflow_y": null,
            "overflow_x": null,
            "grid_auto_flow": null,
            "grid_area": null,
            "grid_template_columns": null,
            "flex": null,
            "_model_name": "LayoutModel",
            "justify_items": null,
            "grid_row": null,
            "max_height": null,
            "align_content": null,
            "visibility": null,
            "align_self": null,
            "height": null,
            "min_height": null,
            "padding": null,
            "grid_auto_rows": null,
            "grid_gap": null,
            "max_width": null,
            "order": null,
            "_view_module_version": "1.2.0",
            "grid_template_areas": null,
            "object_position": null,
            "object_fit": null,
            "grid_auto_columns": null,
            "margin": null,
            "display": null,
            "left": null
          }
        },
        "72d749a50896462c828e46830742973e": {
          "model_module": "@jupyter-widgets/controls",
          "model_name": "DescriptionStyleModel",
          "model_module_version": "1.5.0",
          "state": {
            "_view_name": "StyleView",
            "_model_name": "DescriptionStyleModel",
            "description_width": "",
            "_view_module": "@jupyter-widgets/base",
            "_model_module_version": "1.5.0",
            "_view_count": null,
            "_view_module_version": "1.2.0",
            "_model_module": "@jupyter-widgets/controls"
          }
        },
        "92ebc061dcf74136b261e96a7738cac5": {
          "model_module": "@jupyter-widgets/base",
          "model_name": "LayoutModel",
          "model_module_version": "1.2.0",
          "state": {
            "_view_name": "LayoutView",
            "grid_template_rows": null,
            "right": null,
            "justify_content": null,
            "_view_module": "@jupyter-widgets/base",
            "overflow": null,
            "_model_module_version": "1.2.0",
            "_view_count": null,
            "flex_flow": null,
            "width": null,
            "min_width": null,
            "border": null,
            "align_items": null,
            "bottom": null,
            "_model_module": "@jupyter-widgets/base",
            "top": null,
            "grid_column": null,
            "overflow_y": null,
            "overflow_x": null,
            "grid_auto_flow": null,
            "grid_area": null,
            "grid_template_columns": null,
            "flex": null,
            "_model_name": "LayoutModel",
            "justify_items": null,
            "grid_row": null,
            "max_height": null,
            "align_content": null,
            "visibility": null,
            "align_self": null,
            "height": null,
            "min_height": null,
            "padding": null,
            "grid_auto_rows": null,
            "grid_gap": null,
            "max_width": null,
            "order": null,
            "_view_module_version": "1.2.0",
            "grid_template_areas": null,
            "object_position": null,
            "object_fit": null,
            "grid_auto_columns": null,
            "margin": null,
            "display": null,
            "left": null
          }
        }
      }
    }
  },
  "nbformat": 4,
  "nbformat_minor": 0
}