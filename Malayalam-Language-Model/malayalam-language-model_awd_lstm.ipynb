{
  "cells": [
    {
      "cell_type": "markdown",
      "metadata": {
        "id": "view-in-github",
        "colab_type": "text"
      },
      "source": [
        "<a href=\"https://colab.research.google.com/github/lkarjun/malayalam-language-model/blob/main/Malayalam-Language-Model/malayalam-language-model_awd_lstm.ipynb\" target=\"_parent\"><img src=\"https://colab.research.google.com/assets/colab-badge.svg\" alt=\"Open In Colab\"/></a>"
      ]
    },
    {
      "cell_type": "markdown",
      "metadata": {
        "id": "_sK9FQnG7NMS"
      },
      "source": [
        "## Malayalam Language Model AWD-LSTM"
      ]
    },
    {
      "cell_type": "markdown",
      "source": [
        "### Imports"
      ],
      "metadata": {
        "id": "6P0TuL5D8FEH"
      }
    },
    {
      "cell_type": "code",
      "source": [
        "!pip install -qq fastai==2.5.3 sentencepiece transformers datasets"
      ],
      "metadata": {
        "colab": {
          "base_uri": "https://localhost:8080/"
        },
        "id": "Dgp-vpolJ_hU",
        "outputId": "0e4ea23e-240f-478e-9197-a25e07bd4911"
      },
      "execution_count": 1,
      "outputs": [
        {
          "output_type": "stream",
          "name": "stdout",
          "text": [
            "\u001b[K     |████████████████████████████████| 189 kB 5.2 MB/s \n",
            "\u001b[K     |████████████████████████████████| 1.2 MB 54.0 MB/s \n",
            "\u001b[K     |████████████████████████████████| 3.5 MB 50.4 MB/s \n",
            "\u001b[K     |████████████████████████████████| 311 kB 27.6 MB/s \n",
            "\u001b[K     |████████████████████████████████| 56 kB 3.3 MB/s \n",
            "\u001b[K     |████████████████████████████████| 596 kB 54.0 MB/s \n",
            "\u001b[K     |████████████████████████████████| 6.8 MB 41.9 MB/s \n",
            "\u001b[K     |████████████████████████████████| 67 kB 4.6 MB/s \n",
            "\u001b[K     |████████████████████████████████| 895 kB 56.5 MB/s \n",
            "\u001b[K     |████████████████████████████████| 133 kB 57.1 MB/s \n",
            "\u001b[K     |████████████████████████████████| 1.1 MB 38.6 MB/s \n",
            "\u001b[K     |████████████████████████████████| 243 kB 43.7 MB/s \n",
            "\u001b[K     |████████████████████████████████| 271 kB 45.0 MB/s \n",
            "\u001b[K     |████████████████████████████████| 144 kB 45.6 MB/s \n",
            "\u001b[K     |████████████████████████████████| 94 kB 2.0 MB/s \n",
            "\u001b[?25h"
          ]
        }
      ]
    },
    {
      "cell_type": "code",
      "source": [
        "from fastai.text.all import *\n",
        "from transformers import PreTrainedTokenizerFast\n",
        "from datasets import load_dataset"
      ],
      "metadata": {
        "id": "xXcR6juM7TeW"
      },
      "execution_count": 5,
      "outputs": []
    },
    {
      "cell_type": "code",
      "source": [
        "dset = load_dataset(\"lkarjun/Malayalam-Articles\")"
      ],
      "metadata": {
        "id": "BuK855XnLgk0",
        "outputId": "e689f134-7e13-41fe-ec18-94c2df6c805d",
        "colab": {
          "base_uri": "https://localhost:8080/",
          "height": 251,
          "referenced_widgets": [
            "db7a331b20124836ac51b4b4c34d8711",
            "652e63faf0d146b2a07a8fe827e6a493",
            "0a44be151a7a4e20b5dc51cb1fb37163",
            "39e64dd2211d4e9ab7eb0f48c21a05d7",
            "cf1eac1f51ab4e8584be5ab8df5ebc79",
            "87be351c22744220be9b40a999ca9553",
            "308173fce60045809aa1dd7c1e52d228",
            "827319b94d334a98950fa087d1dbfd16",
            "258cc989d38f452cbf487e211ef406fe",
            "bd8a26cf07d043878c0c5ea2be027387",
            "0d7927a758244b1994290ed0f09314d0",
            "cc254de308e741e69a997203f3e7ecd8",
            "ef33549bdeb34ab9ae0311e7129334c0",
            "2fae5b721a664c159f608c73b35c94eb",
            "820f8a2136724fdb93421065a82e2e37",
            "16e3dcf616f4495fb1537fafffe1d818",
            "e924664b6d5843f5b93ea1c127b145af",
            "bed78e72c4874246873812fa98ee1368",
            "740251d062074b728f737cdd85080c8f",
            "1a34d1b21d5a4d9b8017ca8ac6d8f1ba",
            "7421493f67b34c83aead0302d78ba7de",
            "4882b9f2572d4050bf6c076e9253bb7a",
            "9dbcdfb738124647b1f0506a07412f5a",
            "38726b148ea54fbd85faecc6b3843bb2",
            "d520b4ac077a4962badd2fba452f021b",
            "f178a54b9c5f42fabcc0672fbbde28d2",
            "8e4bd61bcfa740a0b9c531aec2fb6efe",
            "015a76e8c0294d26a5d0a073251cce5c",
            "de631b486722497ebc7bfe9e84d03736",
            "76277258d9104a519c2d78017895cf85",
            "db6a0fd01d4643288a3f967acfd9b44e",
            "f094e733760840ceaf2acc5a52450d69",
            "83fcb27d0b8d42d6b1bfa1faac96b193",
            "9dfee95c764545b4abacd07c8cc8f2bc",
            "e95c5b1318ce49fc94803a52e15f3eff",
            "ac90c7233f9645659a9509142e493539",
            "b83d1d1d5d8f41d583875d025d8cd814",
            "91a4f06056114f92902c9b2f32ea2090",
            "4196ef637367471387f313c45ba6d2f2",
            "2acc6feb047b4cb3a89131481d178797",
            "a64358bf28e64079a116837536f45923",
            "8f6f843354a942f49a89088e7405823d",
            "cacf44501ccf47eabfed0f0fab927773",
            "ec320d8462d94d46a06d41d32a6f31d0",
            "f0afeb440322489f8da1ac01e49ce9c0",
            "48b94ad0392d46ce8123e34b14474cd3",
            "1bfef538fc76423a81ffbc9d0ce60b9a",
            "91191c7c2ac14f909020f2e6abbbf571",
            "8c478bac2928409393078fc882505d48",
            "9d0c75320e7d4594938b645069967198",
            "c08718f418334d038bf2268262610e1b",
            "dec0a182848947ceab97c3edc475cdcb",
            "8518277e64de44a5a30d91c4bcdac8f8",
            "d7072e2106c94a3889322b743ef09992",
            "2152bdab867b4b1385d07eea4b73324d"
          ]
        }
      },
      "execution_count": 6,
      "outputs": [
        {
          "output_type": "stream",
          "name": "stderr",
          "text": [
            "Using custom data configuration lkarjun--Malayalam-Articles-d44c52244000c266\n"
          ]
        },
        {
          "output_type": "stream",
          "name": "stdout",
          "text": [
            "Downloading and preparing dataset csv/lkarjun--Malayalam-Articles to /root/.cache/huggingface/datasets/csv/lkarjun--Malayalam-Articles-d44c52244000c266/0.0.0/6b9057d9e23d9d8a2f05b985917a0da84d70c5dae3d22ddd8a3f22fb01c69d9e...\n"
          ]
        },
        {
          "output_type": "display_data",
          "data": {
            "application/vnd.jupyter.widget-view+json": {
              "model_id": "db7a331b20124836ac51b4b4c34d8711",
              "version_minor": 0,
              "version_major": 2
            },
            "text/plain": [
              "  0%|          | 0/2 [00:00<?, ?it/s]"
            ]
          },
          "metadata": {}
        },
        {
          "output_type": "display_data",
          "data": {
            "application/vnd.jupyter.widget-view+json": {
              "model_id": "cc254de308e741e69a997203f3e7ecd8",
              "version_minor": 0,
              "version_major": 2
            },
            "text/plain": [
              "Downloading:   0%|          | 0.00/252M [00:00<?, ?B/s]"
            ]
          },
          "metadata": {}
        },
        {
          "output_type": "display_data",
          "data": {
            "application/vnd.jupyter.widget-view+json": {
              "model_id": "9dbcdfb738124647b1f0506a07412f5a",
              "version_minor": 0,
              "version_major": 2
            },
            "text/plain": [
              "Downloading:   0%|          | 0.00/81.3M [00:00<?, ?B/s]"
            ]
          },
          "metadata": {}
        },
        {
          "output_type": "display_data",
          "data": {
            "application/vnd.jupyter.widget-view+json": {
              "model_id": "9dfee95c764545b4abacd07c8cc8f2bc",
              "version_minor": 0,
              "version_major": 2
            },
            "text/plain": [
              "  0%|          | 0/2 [00:00<?, ?it/s]"
            ]
          },
          "metadata": {}
        },
        {
          "output_type": "stream",
          "name": "stdout",
          "text": [
            "Dataset csv downloaded and prepared to /root/.cache/huggingface/datasets/csv/lkarjun--Malayalam-Articles-d44c52244000c266/0.0.0/6b9057d9e23d9d8a2f05b985917a0da84d70c5dae3d22ddd8a3f22fb01c69d9e. Subsequent calls will reuse this data.\n"
          ]
        },
        {
          "output_type": "display_data",
          "data": {
            "application/vnd.jupyter.widget-view+json": {
              "model_id": "f0afeb440322489f8da1ac01e49ce9c0",
              "version_minor": 0,
              "version_major": 2
            },
            "text/plain": [
              "  0%|          | 0/2 [00:00<?, ?it/s]"
            ]
          },
          "metadata": {}
        }
      ]
    },
    {
      "cell_type": "markdown",
      "source": [
        "### Load datasets"
      ],
      "metadata": {
        "id": "YuYMIzC5LiUN"
      }
    },
    {
      "cell_type": "code",
      "source": [
        "train = dset['train'].to_pandas()[:4000]"
      ],
      "metadata": {
        "id": "gzlnSIciLttE"
      },
      "execution_count": 9,
      "outputs": []
    },
    {
      "cell_type": "code",
      "source": [
        "train.isna().sum()"
      ],
      "metadata": {
        "id": "wgUYfSRHLnMD",
        "outputId": "6e86fd82-28d3-4abc-c88a-394570392c3e",
        "colab": {
          "base_uri": "https://localhost:8080/"
        }
      },
      "execution_count": 10,
      "outputs": [
        {
          "output_type": "execute_result",
          "data": {
            "text/plain": [
              "content     12\n",
              "is_valid     0\n",
              "dtype: int64"
            ]
          },
          "metadata": {},
          "execution_count": 10
        }
      ]
    },
    {
      "cell_type": "code",
      "source": [
        "train.dropna(inplace = True)"
      ],
      "metadata": {
        "id": "rBtpCx1qMJxQ"
      },
      "execution_count": 11,
      "outputs": []
    },
    {
      "cell_type": "markdown",
      "source": [
        "### Tokenizer"
      ],
      "metadata": {
        "id": "KIqdXTiBsDQ_"
      }
    },
    {
      "cell_type": "code",
      "source": [
        "pre_tokenizer = PreTrainedTokenizerFast.from_pretrained(\"lkarjun/malayalam-language-model\")"
      ],
      "metadata": {
        "id": "f_zWRhkOMQKo"
      },
      "execution_count": 12,
      "outputs": []
    },
    {
      "cell_type": "code",
      "source": [
        "def tokenize(text):\n",
        "  assert type(text) == str, \"check the input type\"\n",
        "  toks = pre_tokenizer.tokenize(text)\n",
        "  toks = ['[CLS]'] + toks + ['[SEP]']\n",
        "  toks = pre_tokenizer.convert_tokens_to_ids(toks)\n",
        "  return tensor(toks)"
      ],
      "metadata": {
        "id": "QKk_1gWGMV-n"
      },
      "execution_count": 13,
      "outputs": []
    },
    {
      "cell_type": "code",
      "source": [
        "class MlTokenizer(Transform):\n",
        "    def __init__(self, tokenizer): \n",
        "      self.tokenizer = tokenizer\n",
        "    def encodes(self, x): \n",
        "        return x if isinstance(x, Tensor) else tokenize(x)\n",
        "    def decodes(self, x): return TitledStr(self.tokenizer.decode(x.cpu().numpy()))"
      ],
      "metadata": {
        "id": "HMkdMbdJ5_on"
      },
      "execution_count": 14,
      "outputs": []
    },
    {
      "cell_type": "code",
      "source": [
        "tokenizer = MlTokenizer(pre_tokenizer)\n",
        "vocab = pre_tokenizer.vocab"
      ],
      "metadata": {
        "id": "BxfgCRiQ67zu"
      },
      "execution_count": 15,
      "outputs": []
    },
    {
      "cell_type": "markdown",
      "source": [
        "### Dataloder"
      ],
      "metadata": {
        "id": "ms3_XLMQX6OK"
      }
    },
    {
      "cell_type": "code",
      "source": [
        "tokenized = [tokenize(t) for t in progress_bar(train['content'])]"
      ],
      "metadata": {
        "id": "PBAoMdtcMzWo",
        "outputId": "d4eddd01-c219-4d1f-a088-e78fd9ef98b2",
        "colab": {
          "base_uri": "https://localhost:8080/",
          "height": 37
        }
      },
      "execution_count": 21,
      "outputs": [
        {
          "output_type": "display_data",
          "data": {
            "text/html": [
              "\n",
              "    <div>\n",
              "        <style>\n",
              "            /* Turns off some styling */\n",
              "            progress {\n",
              "                /* gets rid of default border in Firefox and Opera. */\n",
              "                border: none;\n",
              "                /* Needs to be in here for Safari polyfill so background images work as expected. */\n",
              "                background-size: auto;\n",
              "            }\n",
              "            .progress-bar-interrupted, .progress-bar-interrupted::-webkit-progress-bar {\n",
              "                background: #F44336;\n",
              "            }\n",
              "        </style>\n",
              "      <progress value='3988' class='' max='3988' style='width:300px; height:20px; vertical-align: middle;'></progress>\n",
              "      100.00% [3988/3988 00:16<00:00]\n",
              "    </div>\n",
              "    "
            ],
            "text/plain": [
              "<IPython.core.display.HTML object>"
            ]
          },
          "metadata": {}
        }
      ]
    },
    {
      "cell_type": "code",
      "source": [
        "splits = RandomSplitter(.2, 7)(train)\n",
        "splits"
      ],
      "metadata": {
        "id": "PZPlbJy9PsPl",
        "outputId": "6145d49d-96a6-4a29-b204-e0851655284e",
        "colab": {
          "base_uri": "https://localhost:8080/"
        }
      },
      "execution_count": 18,
      "outputs": [
        {
          "output_type": "execute_result",
          "data": {
            "text/plain": [
              "((#3191) [3272,1806,1347,2860,2784,2521,1463,1081,2698,2000...],\n",
              " (#797) [3787,1580,2931,34,3335,3649,1161,1071,696,2661...])"
            ]
          },
          "metadata": {},
          "execution_count": 18
        }
      ]
    },
    {
      "cell_type": "code",
      "source": [
        ""
      ],
      "metadata": {
        "id": "W1WcjA1EM5q-"
      },
      "execution_count": null,
      "outputs": []
    },
    {
      "cell_type": "code",
      "source": [
        "tfms = TfmdLists(tokenized, \n",
        "                 tokenizer, \n",
        "                 splits=splits, \n",
        "                 dl_type=LMDataLoader)"
      ],
      "metadata": {
        "id": "sibA1ogf7kG-"
      },
      "execution_count": 22,
      "outputs": []
    },
    {
      "cell_type": "code",
      "source": [
        "mldls = tfms.dataloaders(bs=6, seq_len=72)"
      ],
      "metadata": {
        "id": "tX3MeJBGJeEW"
      },
      "execution_count": 28,
      "outputs": []
    },
    {
      "cell_type": "code",
      "source": [
        "mldls.vocab = vocab"
      ],
      "metadata": {
        "id": "HQ-6aTQTNXqm"
      },
      "execution_count": 29,
      "outputs": []
    },
    {
      "cell_type": "code",
      "source": [
        "mldls.show_batch(max_n = 4)"
      ],
      "metadata": {
        "id": "bM8YbkmtQnxV",
        "outputId": "bff1a052-c75c-441d-e3c9-3f8ea5494ba1",
        "colab": {
          "base_uri": "https://localhost:8080/",
          "height": 816
        }
      },
      "execution_count": 30,
      "outputs": [
        {
          "output_type": "display_data",
          "data": {
            "text/html": [
              "<table border=\"1\" class=\"dataframe\">\n",
              "  <thead>\n",
              "    <tr style=\"text-align: right;\">\n",
              "      <th></th>\n",
              "      <th>text</th>\n",
              "      <th>text_</th>\n",
              "    </tr>\n",
              "  </thead>\n",
              "  <tbody>\n",
              "    <tr>\n",
              "      <th>0</th>\n",
              "      <td>[CLS] ഉക്ര ##േന ##ിലെ റോസ് ##‍ ##റ്റോ ##ക്സ് മേഖലയിൽ സ്ഥിതിചെയ്യുന്ന പടിഞ്ഞാറൻ ഉക്ര ##ൈനിലെ ഏറ്റവും രസകരമായ ഫിസി ##യി ##യോഗ ##്ര ##ാഫിക് പ്രദേശങ്ങളിൽ ഒന്നാണ് യാ ##വോ ##റിവ് ##സ്കി നാഷണൽ പാർക്ക് [SEP] [CLS] 1970 - കളിൽ ലോകമെങ്ങും വൃക്ഷ സ്നേഹ ##ത്തിൻറെ പുതിയ മാതൃക കാണിച്ചു കൊടുത്ത ചിപ് ##കോ പ്രസ്ഥാനത്തിന് പുതു ##ജീവൻ നൽകി ഉത്തരാഖണ്ഡിലെ വനിതകൾ. ബാഗ ##േശ്വർ ജില്ലയില ജാ ##ഖ് ##നി ഗ്രാമത്തിലുള്ള വനിത ##കളാണ് വനനശ ##ീകരണ ##ത്തിനെതിരെ മരങ്ങളിൽ കെട്ടിപ്പിടിച്ചു ##ള്ള സമര ##മുറ ##യുമായി രംഗത്തെത്തിയത്. പുതിയ റോഡ്</td>\n",
              "      <td>ഉക്ര ##േന ##ിലെ റോസ് ##‍ ##റ്റോ ##ക്സ് മേഖലയിൽ സ്ഥിതിചെയ്യുന്ന പടിഞ്ഞാറൻ ഉക്ര ##ൈനിലെ ഏറ്റവും രസകരമായ ഫിസി ##യി ##യോഗ ##്ര ##ാഫിക് പ്രദേശങ്ങളിൽ ഒന്നാണ് യാ ##വോ ##റിവ് ##സ്കി നാഷണൽ പാർക്ക് [SEP] [CLS] 1970 - കളിൽ ലോകമെങ്ങും വൃക്ഷ സ്നേഹ ##ത്തിൻറെ പുതിയ മാതൃക കാണിച്ചു കൊടുത്ത ചിപ് ##കോ പ്രസ്ഥാനത്തിന് പുതു ##ജീവൻ നൽകി ഉത്തരാഖണ്ഡിലെ വനിതകൾ. ബാഗ ##േശ്വർ ജില്ലയില ജാ ##ഖ് ##നി ഗ്രാമത്തിലുള്ള വനിത ##കളാണ് വനനശ ##ീകരണ ##ത്തിനെതിരെ മരങ്ങളിൽ കെട്ടിപ്പിടിച്ചു ##ള്ള സമര ##മുറ ##യുമായി രംഗത്തെത്തിയത്. പുതിയ റോഡ് നിർമ്മിക്കുന്ന</td>\n",
              "    </tr>\n",
              "    <tr>\n",
              "      <th>1</th>\n",
              "      <td>. തി രുച ##് ##ചിറ ##പ്പള്ളിയിൽ നിന്നും പിന്നീട് ചെന്ന ##െയിലേക്ക് മാറിയ സരസ്വതി ##യുടെ കഥ വായിക്കാന ##ിടയ ##ായ അന്നത്തെ മുഖ്യമന്ത്രി ജയലളിത മുൻകൈ ##യെടുത്തു കൊണ്ട് താമസിക്കാന ##ൊരു വീടും പെൻഷൻ തുകയും അനുവദിക്കുന്നത് പല കഷ്ട ##തകളും സഹിച്ചു കൊണ്ടായിരുന്നു സരസ്വതി ജീവിച്ചിരുന്നത് എന്നത് വേദനിപ്പിക്കുന്ന വാർത്തയായിരുന്നു. തന്റെ തുച്ഛമായ പെൻഷൻ തുകയ ##ിൽ നിന്നും നല്ലൊരു ശതമാനം 2004 ലെ സുനാമി ബാധിത ##ർക്ക് നൽകിയ വാർത്ത പുറത്തു വന്നപ്പോഴാണ് പിന്നീട് ആ ധീര വനിത ##യെക്കുറിച്ചു ഇന്നത്തെ തലമുറ കൂടുതൽ മനസിലാക്കിയത്. 2018 ൽ മരണമടയ ##ുമ്പോൾ ഇന്ത്യയുടെ</td>\n",
              "      <td>തി രുച ##് ##ചിറ ##പ്പള്ളിയിൽ നിന്നും പിന്നീട് ചെന്ന ##െയിലേക്ക് മാറിയ സരസ്വതി ##യുടെ കഥ വായിക്കാന ##ിടയ ##ായ അന്നത്തെ മുഖ്യമന്ത്രി ജയലളിത മുൻകൈ ##യെടുത്തു കൊണ്ട് താമസിക്കാന ##ൊരു വീടും പെൻഷൻ തുകയും അനുവദിക്കുന്നത് പല കഷ്ട ##തകളും സഹിച്ചു കൊണ്ടായിരുന്നു സരസ്വതി ജീവിച്ചിരുന്നത് എന്നത് വേദനിപ്പിക്കുന്ന വാർത്തയായിരുന്നു. തന്റെ തുച്ഛമായ പെൻഷൻ തുകയ ##ിൽ നിന്നും നല്ലൊരു ശതമാനം 2004 ലെ സുനാമി ബാധിത ##ർക്ക് നൽകിയ വാർത്ത പുറത്തു വന്നപ്പോഴാണ് പിന്നീട് ആ ധീര വനിത ##യെക്കുറിച്ചു ഇന്നത്തെ തലമുറ കൂടുതൽ മനസിലാക്കിയത്. 2018 ൽ മരണമടയ ##ുമ്പോൾ ഇന്ത്യയുടെ ആദ്യ</td>\n",
              "    </tr>\n",
              "    <tr>\n",
              "      <th>2</th>\n",
              "      <td>##ട്ട ##ത്തിന്റെയും കു ##ച്ചിപ്പ ##ുടിയ ##ുടെയും ചില സവിശേഷതകൾ സ്വി ##കരി ##ച്ചുകൊണ്ട് ക്ലാസിക്കൽ ശൈലിയിൽ രൂപമെടുത്ത ##താണ് ഈ നൃത്ത ##വിശേഷം എന്നും കരുതപ്പെടുന്നു. ‘ ത്രി ##ഭംഗ ’ ഒഡീസ്സി ##യുമായി ബന്ധപ്പെട്ടിരിക്കുന്നു. സംയുക്ത പാണ ##ി ##ഗ്രാഹ ##ി, സോണ ##ാൽ മാൻ ##സിങ്ങ്, മാധവി മു ##ദ്‌ ##ഗൽ, കിരൺ സൈഗ ##ാൾ, റാണി കരൺ എന്നിവർ പ്രശസ്തരായ ഒഡീസ്സി നർത്തക ##രാണ്. ജയ ##ദേവ ##രുടെ ‘ ഗീതാ ##ഗോവിന്ദ ##ത്തിലെ ’ കവിതകളാണ് ഒഡീസ്സി നൃത്തത്തിന്റെ സംഗീത ##ത്തിനായി പ്രധാനമായും ഉപയോഗിച്ചിരിക്കുന്നത്</td>\n",
              "      <td>##ത്തിന്റെയും കു ##ച്ചിപ്പ ##ുടിയ ##ുടെയും ചില സവിശേഷതകൾ സ്വി ##കരി ##ച്ചുകൊണ്ട് ക്ലാസിക്കൽ ശൈലിയിൽ രൂപമെടുത്ത ##താണ് ഈ നൃത്ത ##വിശേഷം എന്നും കരുതപ്പെടുന്നു. ‘ ത്രി ##ഭംഗ ’ ഒഡീസ്സി ##യുമായി ബന്ധപ്പെട്ടിരിക്കുന്നു. സംയുക്ത പാണ ##ി ##ഗ്രാഹ ##ി, സോണ ##ാൽ മാൻ ##സിങ്ങ്, മാധവി മു ##ദ്‌ ##ഗൽ, കിരൺ സൈഗ ##ാൾ, റാണി കരൺ എന്നിവർ പ്രശസ്തരായ ഒഡീസ്സി നർത്തക ##രാണ്. ജയ ##ദേവ ##രുടെ ‘ ഗീതാ ##ഗോവിന്ദ ##ത്തിലെ ’ കവിതകളാണ് ഒഡീസ്സി നൃത്തത്തിന്റെ സംഗീത ##ത്തിനായി പ്രധാനമായും ഉപയോഗിച്ചിരിക്കുന്നത്.</td>\n",
              "    </tr>\n",
              "    <tr>\n",
              "      <th>3</th>\n",
              "      <td>. അവിടെ ചെന്നകാലത്ത്, ഫിഗറേറ്റീവ് ചിത്രങ്ങളാണ് ഞാന്‍ ചെയ്തുകൊണ്ടിരുന്നത്. ഒരുതരം ക്യൂബി ##സ്റ്റിക് ടൈപ്പ്. ധാരാളം ഡ്രോയി ##ങ്ങുകള്‍ - ബ്ലാക്ക് ല്ക്ക വൈറ്റ് - ഉണ്ടായിരുന്നു. പൊതുവേ പറഞ്ഞാല്‍, ജര്‍മന്‍ ഇംപ്രഷനി ##സത്തില്‍ പെടുത്താവുന്ന തരം പെയിന്റിങ്ങുകള്‍. 68 - ല്‍ അതു നിര്‍ത്തി. പിന്നെ ചെറിയ പെയിന്റിങ്ങുകള്‍ ചെയ്തുതുടങ്ങി. ആയിടെ അജിത് മുഖര്‍ജിയുടെ ഒരു പുസ്തകമിറങ്ങി - താന്ത്രിക് ആര്‍ട്ട്. അത്തരം ചിത്രങ്ങള്‍ ഞാനും ചെയ്തുതുടങ്ങി. വിശ്വനാഥനും ഏതാണ്ടി ##ങ്ങനെയാണ് ചെയ്തത്. പക്ഷേ, അതു കുറേക്കൂടി വലുതായിരുന്നു. അക്കാലത്ത് കെ</td>\n",
              "      <td>അവിടെ ചെന്നകാലത്ത്, ഫിഗറേറ്റീവ് ചിത്രങ്ങളാണ് ഞാന്‍ ചെയ്തുകൊണ്ടിരുന്നത്. ഒരുതരം ക്യൂബി ##സ്റ്റിക് ടൈപ്പ്. ധാരാളം ഡ്രോയി ##ങ്ങുകള്‍ - ബ്ലാക്ക് ല്ക്ക വൈറ്റ് - ഉണ്ടായിരുന്നു. പൊതുവേ പറഞ്ഞാല്‍, ജര്‍മന്‍ ഇംപ്രഷനി ##സത്തില്‍ പെടുത്താവുന്ന തരം പെയിന്റിങ്ങുകള്‍. 68 - ല്‍ അതു നിര്‍ത്തി. പിന്നെ ചെറിയ പെയിന്റിങ്ങുകള്‍ ചെയ്തുതുടങ്ങി. ആയിടെ അജിത് മുഖര്‍ജിയുടെ ഒരു പുസ്തകമിറങ്ങി - താന്ത്രിക് ആര്‍ട്ട്. അത്തരം ചിത്രങ്ങള്‍ ഞാനും ചെയ്തുതുടങ്ങി. വിശ്വനാഥനും ഏതാണ്ടി ##ങ്ങനെയാണ് ചെയ്തത്. പക്ഷേ, അതു കുറേക്കൂടി വലുതായിരുന്നു. അക്കാലത്ത് കെ.</td>\n",
              "    </tr>\n",
              "  </tbody>\n",
              "</table>"
            ],
            "text/plain": [
              "<IPython.core.display.HTML object>"
            ]
          },
          "metadata": {}
        }
      ]
    },
    {
      "cell_type": "markdown",
      "source": [
        "### Traning Language Model"
      ],
      "metadata": {
        "id": "rG9XNIACudBB"
      }
    },
    {
      "cell_type": "code",
      "source": [
        "x, y = mldls.one_batch()\n",
        "x.shape, y.shape"
      ],
      "metadata": {
        "id": "_dIi-8_ENpRV",
        "outputId": "0fba6ff9-144c-4712-c9e8-b3f325f43a14",
        "colab": {
          "base_uri": "https://localhost:8080/"
        }
      },
      "execution_count": 42,
      "outputs": [
        {
          "output_type": "execute_result",
          "data": {
            "text/plain": [
              "(torch.Size([6, 72]), torch.Size([6, 72]))"
            ]
          },
          "metadata": {},
          "execution_count": 42
        }
      ]
    },
    {
      "cell_type": "code",
      "source": [
        "doc(language_model_learner)"
      ],
      "metadata": {
        "id": "pkG4JpB5vHr7",
        "outputId": "654a2336-0cba-491d-9f00-9f6056249711",
        "colab": {
          "base_uri": "https://localhost:8080/"
        }
      },
      "execution_count": 31,
      "outputs": [
        {
          "output_type": "stream",
          "name": "stdout",
          "text": [
            "language_model_learner(dls, arch, config=None, drop_mult=1.0, backwards=False, pretrained=True, pretrained_fnames=None, loss_func=None, opt_func=<function Adam at 0x7fb239826cb0>, lr=0.001, splitter=<function trainable_params at 0x7fb247d77dd0>, cbs=None, metrics=None, path=None, model_dir='models', wd=None, wd_bn_bias=False, train_bn=True, moms=(0.95, 0.85, 0.95))\n",
            "Create a `Learner` with a language model from `dls` and `arch`.\n",
            "\n",
            "To get a prettier result with hyperlinks to source code and documentation, install nbdev: pip install nbdev\n"
          ]
        }
      ]
    },
    {
      "cell_type": "code",
      "source": [
        "learn = language_model_learner(\n",
        "            mldls, \n",
        "            AWD_LSTM,\n",
        "            drop_mult=.3,\n",
        "            pretrained = False,\n",
        "            metrics = Perplexity()\n",
        "            ).to_fp16()"
      ],
      "metadata": {
        "id": "d_Lwkv44ueK4",
        "outputId": "08661cd3-c1c4-495d-e4e3-1e606619a04b",
        "colab": {
          "base_uri": "https://localhost:8080/"
        }
      },
      "execution_count": 43,
      "outputs": [
        {
          "output_type": "stream",
          "name": "stderr",
          "text": [
            "/usr/local/lib/python3.7/dist-packages/torch/autocast_mode.py:141: UserWarning: User provided device_type of 'cuda', but CUDA is not available. Disabling\n",
            "  warnings.warn('User provided device_type of \\'cuda\\', but CUDA is not available. Disabling')\n"
          ]
        }
      ]
    },
    {
      "cell_type": "code",
      "source": [
        "learn.fit(1, 3e-4)"
      ],
      "metadata": {
        "id": "rkThzMDiw4LF"
      },
      "execution_count": null,
      "outputs": []
    },
    {
      "cell_type": "code",
      "source": [
        ""
      ],
      "metadata": {
        "id": "p_z0OXlnxJHV"
      },
      "execution_count": null,
      "outputs": []
    }
  ],
  "metadata": {
    "language_info": {
      "name": "python"
    },
    "orig_nbformat": 4,
    "colab": {
      "name": "malayalam-language-model.ipynb",
      "provenance": [],
      "include_colab_link": true
    },
    "kernelspec": {
      "name": "python3",
      "display_name": "Python 3"
    },
    "accelerator": "GPU",
    "widgets": {
      "application/vnd.jupyter.widget-state+json": {
        "db7a331b20124836ac51b4b4c34d8711": {
          "model_module": "@jupyter-widgets/controls",
          "model_name": "HBoxModel",
          "model_module_version": "1.5.0",
          "state": {
            "_view_name": "HBoxView",
            "_dom_classes": [],
            "_model_name": "HBoxModel",
            "_view_module": "@jupyter-widgets/controls",
            "_model_module_version": "1.5.0",
            "_view_count": null,
            "_view_module_version": "1.5.0",
            "box_style": "",
            "layout": "IPY_MODEL_652e63faf0d146b2a07a8fe827e6a493",
            "_model_module": "@jupyter-widgets/controls",
            "children": [
              "IPY_MODEL_0a44be151a7a4e20b5dc51cb1fb37163",
              "IPY_MODEL_39e64dd2211d4e9ab7eb0f48c21a05d7",
              "IPY_MODEL_cf1eac1f51ab4e8584be5ab8df5ebc79"
            ]
          }
        },
        "652e63faf0d146b2a07a8fe827e6a493": {
          "model_module": "@jupyter-widgets/base",
          "model_name": "LayoutModel",
          "model_module_version": "1.2.0",
          "state": {
            "_view_name": "LayoutView",
            "grid_template_rows": null,
            "right": null,
            "justify_content": null,
            "_view_module": "@jupyter-widgets/base",
            "overflow": null,
            "_model_module_version": "1.2.0",
            "_view_count": null,
            "flex_flow": null,
            "width": null,
            "min_width": null,
            "border": null,
            "align_items": null,
            "bottom": null,
            "_model_module": "@jupyter-widgets/base",
            "top": null,
            "grid_column": null,
            "overflow_y": null,
            "overflow_x": null,
            "grid_auto_flow": null,
            "grid_area": null,
            "grid_template_columns": null,
            "flex": null,
            "_model_name": "LayoutModel",
            "justify_items": null,
            "grid_row": null,
            "max_height": null,
            "align_content": null,
            "visibility": null,
            "align_self": null,
            "height": null,
            "min_height": null,
            "padding": null,
            "grid_auto_rows": null,
            "grid_gap": null,
            "max_width": null,
            "order": null,
            "_view_module_version": "1.2.0",
            "grid_template_areas": null,
            "object_position": null,
            "object_fit": null,
            "grid_auto_columns": null,
            "margin": null,
            "display": null,
            "left": null
          }
        },
        "0a44be151a7a4e20b5dc51cb1fb37163": {
          "model_module": "@jupyter-widgets/controls",
          "model_name": "HTMLModel",
          "model_module_version": "1.5.0",
          "state": {
            "_view_name": "HTMLView",
            "style": "IPY_MODEL_87be351c22744220be9b40a999ca9553",
            "_dom_classes": [],
            "description": "",
            "_model_name": "HTMLModel",
            "placeholder": "​",
            "_view_module": "@jupyter-widgets/controls",
            "_model_module_version": "1.5.0",
            "value": "100%",
            "_view_count": null,
            "_view_module_version": "1.5.0",
            "description_tooltip": null,
            "_model_module": "@jupyter-widgets/controls",
            "layout": "IPY_MODEL_308173fce60045809aa1dd7c1e52d228"
          }
        },
        "39e64dd2211d4e9ab7eb0f48c21a05d7": {
          "model_module": "@jupyter-widgets/controls",
          "model_name": "FloatProgressModel",
          "model_module_version": "1.5.0",
          "state": {
            "_view_name": "ProgressView",
            "style": "IPY_MODEL_827319b94d334a98950fa087d1dbfd16",
            "_dom_classes": [],
            "description": "",
            "_model_name": "FloatProgressModel",
            "bar_style": "success",
            "max": 2,
            "_view_module": "@jupyter-widgets/controls",
            "_model_module_version": "1.5.0",
            "value": 2,
            "_view_count": null,
            "_view_module_version": "1.5.0",
            "orientation": "horizontal",
            "min": 0,
            "description_tooltip": null,
            "_model_module": "@jupyter-widgets/controls",
            "layout": "IPY_MODEL_258cc989d38f452cbf487e211ef406fe"
          }
        },
        "cf1eac1f51ab4e8584be5ab8df5ebc79": {
          "model_module": "@jupyter-widgets/controls",
          "model_name": "HTMLModel",
          "model_module_version": "1.5.0",
          "state": {
            "_view_name": "HTMLView",
            "style": "IPY_MODEL_bd8a26cf07d043878c0c5ea2be027387",
            "_dom_classes": [],
            "description": "",
            "_model_name": "HTMLModel",
            "placeholder": "​",
            "_view_module": "@jupyter-widgets/controls",
            "_model_module_version": "1.5.0",
            "value": " 2/2 [00:13&lt;00:00,  5.89s/it]",
            "_view_count": null,
            "_view_module_version": "1.5.0",
            "description_tooltip": null,
            "_model_module": "@jupyter-widgets/controls",
            "layout": "IPY_MODEL_0d7927a758244b1994290ed0f09314d0"
          }
        },
        "87be351c22744220be9b40a999ca9553": {
          "model_module": "@jupyter-widgets/controls",
          "model_name": "DescriptionStyleModel",
          "model_module_version": "1.5.0",
          "state": {
            "_view_name": "StyleView",
            "_model_name": "DescriptionStyleModel",
            "description_width": "",
            "_view_module": "@jupyter-widgets/base",
            "_model_module_version": "1.5.0",
            "_view_count": null,
            "_view_module_version": "1.2.0",
            "_model_module": "@jupyter-widgets/controls"
          }
        },
        "308173fce60045809aa1dd7c1e52d228": {
          "model_module": "@jupyter-widgets/base",
          "model_name": "LayoutModel",
          "model_module_version": "1.2.0",
          "state": {
            "_view_name": "LayoutView",
            "grid_template_rows": null,
            "right": null,
            "justify_content": null,
            "_view_module": "@jupyter-widgets/base",
            "overflow": null,
            "_model_module_version": "1.2.0",
            "_view_count": null,
            "flex_flow": null,
            "width": null,
            "min_width": null,
            "border": null,
            "align_items": null,
            "bottom": null,
            "_model_module": "@jupyter-widgets/base",
            "top": null,
            "grid_column": null,
            "overflow_y": null,
            "overflow_x": null,
            "grid_auto_flow": null,
            "grid_area": null,
            "grid_template_columns": null,
            "flex": null,
            "_model_name": "LayoutModel",
            "justify_items": null,
            "grid_row": null,
            "max_height": null,
            "align_content": null,
            "visibility": null,
            "align_self": null,
            "height": null,
            "min_height": null,
            "padding": null,
            "grid_auto_rows": null,
            "grid_gap": null,
            "max_width": null,
            "order": null,
            "_view_module_version": "1.2.0",
            "grid_template_areas": null,
            "object_position": null,
            "object_fit": null,
            "grid_auto_columns": null,
            "margin": null,
            "display": null,
            "left": null
          }
        },
        "827319b94d334a98950fa087d1dbfd16": {
          "model_module": "@jupyter-widgets/controls",
          "model_name": "ProgressStyleModel",
          "model_module_version": "1.5.0",
          "state": {
            "_view_name": "StyleView",
            "_model_name": "ProgressStyleModel",
            "description_width": "",
            "_view_module": "@jupyter-widgets/base",
            "_model_module_version": "1.5.0",
            "_view_count": null,
            "_view_module_version": "1.2.0",
            "bar_color": null,
            "_model_module": "@jupyter-widgets/controls"
          }
        },
        "258cc989d38f452cbf487e211ef406fe": {
          "model_module": "@jupyter-widgets/base",
          "model_name": "LayoutModel",
          "model_module_version": "1.2.0",
          "state": {
            "_view_name": "LayoutView",
            "grid_template_rows": null,
            "right": null,
            "justify_content": null,
            "_view_module": "@jupyter-widgets/base",
            "overflow": null,
            "_model_module_version": "1.2.0",
            "_view_count": null,
            "flex_flow": null,
            "width": null,
            "min_width": null,
            "border": null,
            "align_items": null,
            "bottom": null,
            "_model_module": "@jupyter-widgets/base",
            "top": null,
            "grid_column": null,
            "overflow_y": null,
            "overflow_x": null,
            "grid_auto_flow": null,
            "grid_area": null,
            "grid_template_columns": null,
            "flex": null,
            "_model_name": "LayoutModel",
            "justify_items": null,
            "grid_row": null,
            "max_height": null,
            "align_content": null,
            "visibility": null,
            "align_self": null,
            "height": null,
            "min_height": null,
            "padding": null,
            "grid_auto_rows": null,
            "grid_gap": null,
            "max_width": null,
            "order": null,
            "_view_module_version": "1.2.0",
            "grid_template_areas": null,
            "object_position": null,
            "object_fit": null,
            "grid_auto_columns": null,
            "margin": null,
            "display": null,
            "left": null
          }
        },
        "bd8a26cf07d043878c0c5ea2be027387": {
          "model_module": "@jupyter-widgets/controls",
          "model_name": "DescriptionStyleModel",
          "model_module_version": "1.5.0",
          "state": {
            "_view_name": "StyleView",
            "_model_name": "DescriptionStyleModel",
            "description_width": "",
            "_view_module": "@jupyter-widgets/base",
            "_model_module_version": "1.5.0",
            "_view_count": null,
            "_view_module_version": "1.2.0",
            "_model_module": "@jupyter-widgets/controls"
          }
        },
        "0d7927a758244b1994290ed0f09314d0": {
          "model_module": "@jupyter-widgets/base",
          "model_name": "LayoutModel",
          "model_module_version": "1.2.0",
          "state": {
            "_view_name": "LayoutView",
            "grid_template_rows": null,
            "right": null,
            "justify_content": null,
            "_view_module": "@jupyter-widgets/base",
            "overflow": null,
            "_model_module_version": "1.2.0",
            "_view_count": null,
            "flex_flow": null,
            "width": null,
            "min_width": null,
            "border": null,
            "align_items": null,
            "bottom": null,
            "_model_module": "@jupyter-widgets/base",
            "top": null,
            "grid_column": null,
            "overflow_y": null,
            "overflow_x": null,
            "grid_auto_flow": null,
            "grid_area": null,
            "grid_template_columns": null,
            "flex": null,
            "_model_name": "LayoutModel",
            "justify_items": null,
            "grid_row": null,
            "max_height": null,
            "align_content": null,
            "visibility": null,
            "align_self": null,
            "height": null,
            "min_height": null,
            "padding": null,
            "grid_auto_rows": null,
            "grid_gap": null,
            "max_width": null,
            "order": null,
            "_view_module_version": "1.2.0",
            "grid_template_areas": null,
            "object_position": null,
            "object_fit": null,
            "grid_auto_columns": null,
            "margin": null,
            "display": null,
            "left": null
          }
        },
        "cc254de308e741e69a997203f3e7ecd8": {
          "model_module": "@jupyter-widgets/controls",
          "model_name": "HBoxModel",
          "model_module_version": "1.5.0",
          "state": {
            "_view_name": "HBoxView",
            "_dom_classes": [],
            "_model_name": "HBoxModel",
            "_view_module": "@jupyter-widgets/controls",
            "_model_module_version": "1.5.0",
            "_view_count": null,
            "_view_module_version": "1.5.0",
            "box_style": "",
            "layout": "IPY_MODEL_ef33549bdeb34ab9ae0311e7129334c0",
            "_model_module": "@jupyter-widgets/controls",
            "children": [
              "IPY_MODEL_2fae5b721a664c159f608c73b35c94eb",
              "IPY_MODEL_820f8a2136724fdb93421065a82e2e37",
              "IPY_MODEL_16e3dcf616f4495fb1537fafffe1d818"
            ]
          }
        },
        "ef33549bdeb34ab9ae0311e7129334c0": {
          "model_module": "@jupyter-widgets/base",
          "model_name": "LayoutModel",
          "model_module_version": "1.2.0",
          "state": {
            "_view_name": "LayoutView",
            "grid_template_rows": null,
            "right": null,
            "justify_content": null,
            "_view_module": "@jupyter-widgets/base",
            "overflow": null,
            "_model_module_version": "1.2.0",
            "_view_count": null,
            "flex_flow": null,
            "width": null,
            "min_width": null,
            "border": null,
            "align_items": null,
            "bottom": null,
            "_model_module": "@jupyter-widgets/base",
            "top": null,
            "grid_column": null,
            "overflow_y": null,
            "overflow_x": null,
            "grid_auto_flow": null,
            "grid_area": null,
            "grid_template_columns": null,
            "flex": null,
            "_model_name": "LayoutModel",
            "justify_items": null,
            "grid_row": null,
            "max_height": null,
            "align_content": null,
            "visibility": null,
            "align_self": null,
            "height": null,
            "min_height": null,
            "padding": null,
            "grid_auto_rows": null,
            "grid_gap": null,
            "max_width": null,
            "order": null,
            "_view_module_version": "1.2.0",
            "grid_template_areas": null,
            "object_position": null,
            "object_fit": null,
            "grid_auto_columns": null,
            "margin": null,
            "display": null,
            "left": null
          }
        },
        "2fae5b721a664c159f608c73b35c94eb": {
          "model_module": "@jupyter-widgets/controls",
          "model_name": "HTMLModel",
          "model_module_version": "1.5.0",
          "state": {
            "_view_name": "HTMLView",
            "style": "IPY_MODEL_e924664b6d5843f5b93ea1c127b145af",
            "_dom_classes": [],
            "description": "",
            "_model_name": "HTMLModel",
            "placeholder": "​",
            "_view_module": "@jupyter-widgets/controls",
            "_model_module_version": "1.5.0",
            "value": "Downloading: 100%",
            "_view_count": null,
            "_view_module_version": "1.5.0",
            "description_tooltip": null,
            "_model_module": "@jupyter-widgets/controls",
            "layout": "IPY_MODEL_bed78e72c4874246873812fa98ee1368"
          }
        },
        "820f8a2136724fdb93421065a82e2e37": {
          "model_module": "@jupyter-widgets/controls",
          "model_name": "FloatProgressModel",
          "model_module_version": "1.5.0",
          "state": {
            "_view_name": "ProgressView",
            "style": "IPY_MODEL_740251d062074b728f737cdd85080c8f",
            "_dom_classes": [],
            "description": "",
            "_model_name": "FloatProgressModel",
            "bar_style": "success",
            "max": 252244653,
            "_view_module": "@jupyter-widgets/controls",
            "_model_module_version": "1.5.0",
            "value": 252244653,
            "_view_count": null,
            "_view_module_version": "1.5.0",
            "orientation": "horizontal",
            "min": 0,
            "description_tooltip": null,
            "_model_module": "@jupyter-widgets/controls",
            "layout": "IPY_MODEL_1a34d1b21d5a4d9b8017ca8ac6d8f1ba"
          }
        },
        "16e3dcf616f4495fb1537fafffe1d818": {
          "model_module": "@jupyter-widgets/controls",
          "model_name": "HTMLModel",
          "model_module_version": "1.5.0",
          "state": {
            "_view_name": "HTMLView",
            "style": "IPY_MODEL_7421493f67b34c83aead0302d78ba7de",
            "_dom_classes": [],
            "description": "",
            "_model_name": "HTMLModel",
            "placeholder": "​",
            "_view_module": "@jupyter-widgets/controls",
            "_model_module_version": "1.5.0",
            "value": " 252M/252M [00:09&lt;00:00, 42.6MB/s]",
            "_view_count": null,
            "_view_module_version": "1.5.0",
            "description_tooltip": null,
            "_model_module": "@jupyter-widgets/controls",
            "layout": "IPY_MODEL_4882b9f2572d4050bf6c076e9253bb7a"
          }
        },
        "e924664b6d5843f5b93ea1c127b145af": {
          "model_module": "@jupyter-widgets/controls",
          "model_name": "DescriptionStyleModel",
          "model_module_version": "1.5.0",
          "state": {
            "_view_name": "StyleView",
            "_model_name": "DescriptionStyleModel",
            "description_width": "",
            "_view_module": "@jupyter-widgets/base",
            "_model_module_version": "1.5.0",
            "_view_count": null,
            "_view_module_version": "1.2.0",
            "_model_module": "@jupyter-widgets/controls"
          }
        },
        "bed78e72c4874246873812fa98ee1368": {
          "model_module": "@jupyter-widgets/base",
          "model_name": "LayoutModel",
          "model_module_version": "1.2.0",
          "state": {
            "_view_name": "LayoutView",
            "grid_template_rows": null,
            "right": null,
            "justify_content": null,
            "_view_module": "@jupyter-widgets/base",
            "overflow": null,
            "_model_module_version": "1.2.0",
            "_view_count": null,
            "flex_flow": null,
            "width": null,
            "min_width": null,
            "border": null,
            "align_items": null,
            "bottom": null,
            "_model_module": "@jupyter-widgets/base",
            "top": null,
            "grid_column": null,
            "overflow_y": null,
            "overflow_x": null,
            "grid_auto_flow": null,
            "grid_area": null,
            "grid_template_columns": null,
            "flex": null,
            "_model_name": "LayoutModel",
            "justify_items": null,
            "grid_row": null,
            "max_height": null,
            "align_content": null,
            "visibility": null,
            "align_self": null,
            "height": null,
            "min_height": null,
            "padding": null,
            "grid_auto_rows": null,
            "grid_gap": null,
            "max_width": null,
            "order": null,
            "_view_module_version": "1.2.0",
            "grid_template_areas": null,
            "object_position": null,
            "object_fit": null,
            "grid_auto_columns": null,
            "margin": null,
            "display": null,
            "left": null
          }
        },
        "740251d062074b728f737cdd85080c8f": {
          "model_module": "@jupyter-widgets/controls",
          "model_name": "ProgressStyleModel",
          "model_module_version": "1.5.0",
          "state": {
            "_view_name": "StyleView",
            "_model_name": "ProgressStyleModel",
            "description_width": "",
            "_view_module": "@jupyter-widgets/base",
            "_model_module_version": "1.5.0",
            "_view_count": null,
            "_view_module_version": "1.2.0",
            "bar_color": null,
            "_model_module": "@jupyter-widgets/controls"
          }
        },
        "1a34d1b21d5a4d9b8017ca8ac6d8f1ba": {
          "model_module": "@jupyter-widgets/base",
          "model_name": "LayoutModel",
          "model_module_version": "1.2.0",
          "state": {
            "_view_name": "LayoutView",
            "grid_template_rows": null,
            "right": null,
            "justify_content": null,
            "_view_module": "@jupyter-widgets/base",
            "overflow": null,
            "_model_module_version": "1.2.0",
            "_view_count": null,
            "flex_flow": null,
            "width": null,
            "min_width": null,
            "border": null,
            "align_items": null,
            "bottom": null,
            "_model_module": "@jupyter-widgets/base",
            "top": null,
            "grid_column": null,
            "overflow_y": null,
            "overflow_x": null,
            "grid_auto_flow": null,
            "grid_area": null,
            "grid_template_columns": null,
            "flex": null,
            "_model_name": "LayoutModel",
            "justify_items": null,
            "grid_row": null,
            "max_height": null,
            "align_content": null,
            "visibility": null,
            "align_self": null,
            "height": null,
            "min_height": null,
            "padding": null,
            "grid_auto_rows": null,
            "grid_gap": null,
            "max_width": null,
            "order": null,
            "_view_module_version": "1.2.0",
            "grid_template_areas": null,
            "object_position": null,
            "object_fit": null,
            "grid_auto_columns": null,
            "margin": null,
            "display": null,
            "left": null
          }
        },
        "7421493f67b34c83aead0302d78ba7de": {
          "model_module": "@jupyter-widgets/controls",
          "model_name": "DescriptionStyleModel",
          "model_module_version": "1.5.0",
          "state": {
            "_view_name": "StyleView",
            "_model_name": "DescriptionStyleModel",
            "description_width": "",
            "_view_module": "@jupyter-widgets/base",
            "_model_module_version": "1.5.0",
            "_view_count": null,
            "_view_module_version": "1.2.0",
            "_model_module": "@jupyter-widgets/controls"
          }
        },
        "4882b9f2572d4050bf6c076e9253bb7a": {
          "model_module": "@jupyter-widgets/base",
          "model_name": "LayoutModel",
          "model_module_version": "1.2.0",
          "state": {
            "_view_name": "LayoutView",
            "grid_template_rows": null,
            "right": null,
            "justify_content": null,
            "_view_module": "@jupyter-widgets/base",
            "overflow": null,
            "_model_module_version": "1.2.0",
            "_view_count": null,
            "flex_flow": null,
            "width": null,
            "min_width": null,
            "border": null,
            "align_items": null,
            "bottom": null,
            "_model_module": "@jupyter-widgets/base",
            "top": null,
            "grid_column": null,
            "overflow_y": null,
            "overflow_x": null,
            "grid_auto_flow": null,
            "grid_area": null,
            "grid_template_columns": null,
            "flex": null,
            "_model_name": "LayoutModel",
            "justify_items": null,
            "grid_row": null,
            "max_height": null,
            "align_content": null,
            "visibility": null,
            "align_self": null,
            "height": null,
            "min_height": null,
            "padding": null,
            "grid_auto_rows": null,
            "grid_gap": null,
            "max_width": null,
            "order": null,
            "_view_module_version": "1.2.0",
            "grid_template_areas": null,
            "object_position": null,
            "object_fit": null,
            "grid_auto_columns": null,
            "margin": null,
            "display": null,
            "left": null
          }
        },
        "9dbcdfb738124647b1f0506a07412f5a": {
          "model_module": "@jupyter-widgets/controls",
          "model_name": "HBoxModel",
          "model_module_version": "1.5.0",
          "state": {
            "_view_name": "HBoxView",
            "_dom_classes": [],
            "_model_name": "HBoxModel",
            "_view_module": "@jupyter-widgets/controls",
            "_model_module_version": "1.5.0",
            "_view_count": null,
            "_view_module_version": "1.5.0",
            "box_style": "",
            "layout": "IPY_MODEL_38726b148ea54fbd85faecc6b3843bb2",
            "_model_module": "@jupyter-widgets/controls",
            "children": [
              "IPY_MODEL_d520b4ac077a4962badd2fba452f021b",
              "IPY_MODEL_f178a54b9c5f42fabcc0672fbbde28d2",
              "IPY_MODEL_8e4bd61bcfa740a0b9c531aec2fb6efe"
            ]
          }
        },
        "38726b148ea54fbd85faecc6b3843bb2": {
          "model_module": "@jupyter-widgets/base",
          "model_name": "LayoutModel",
          "model_module_version": "1.2.0",
          "state": {
            "_view_name": "LayoutView",
            "grid_template_rows": null,
            "right": null,
            "justify_content": null,
            "_view_module": "@jupyter-widgets/base",
            "overflow": null,
            "_model_module_version": "1.2.0",
            "_view_count": null,
            "flex_flow": null,
            "width": null,
            "min_width": null,
            "border": null,
            "align_items": null,
            "bottom": null,
            "_model_module": "@jupyter-widgets/base",
            "top": null,
            "grid_column": null,
            "overflow_y": null,
            "overflow_x": null,
            "grid_auto_flow": null,
            "grid_area": null,
            "grid_template_columns": null,
            "flex": null,
            "_model_name": "LayoutModel",
            "justify_items": null,
            "grid_row": null,
            "max_height": null,
            "align_content": null,
            "visibility": null,
            "align_self": null,
            "height": null,
            "min_height": null,
            "padding": null,
            "grid_auto_rows": null,
            "grid_gap": null,
            "max_width": null,
            "order": null,
            "_view_module_version": "1.2.0",
            "grid_template_areas": null,
            "object_position": null,
            "object_fit": null,
            "grid_auto_columns": null,
            "margin": null,
            "display": null,
            "left": null
          }
        },
        "d520b4ac077a4962badd2fba452f021b": {
          "model_module": "@jupyter-widgets/controls",
          "model_name": "HTMLModel",
          "model_module_version": "1.5.0",
          "state": {
            "_view_name": "HTMLView",
            "style": "IPY_MODEL_015a76e8c0294d26a5d0a073251cce5c",
            "_dom_classes": [],
            "description": "",
            "_model_name": "HTMLModel",
            "placeholder": "​",
            "_view_module": "@jupyter-widgets/controls",
            "_model_module_version": "1.5.0",
            "value": "Downloading: 100%",
            "_view_count": null,
            "_view_module_version": "1.5.0",
            "description_tooltip": null,
            "_model_module": "@jupyter-widgets/controls",
            "layout": "IPY_MODEL_de631b486722497ebc7bfe9e84d03736"
          }
        },
        "f178a54b9c5f42fabcc0672fbbde28d2": {
          "model_module": "@jupyter-widgets/controls",
          "model_name": "FloatProgressModel",
          "model_module_version": "1.5.0",
          "state": {
            "_view_name": "ProgressView",
            "style": "IPY_MODEL_76277258d9104a519c2d78017895cf85",
            "_dom_classes": [],
            "description": "",
            "_model_name": "FloatProgressModel",
            "bar_style": "success",
            "max": 81327693,
            "_view_module": "@jupyter-widgets/controls",
            "_model_module_version": "1.5.0",
            "value": 81327693,
            "_view_count": null,
            "_view_module_version": "1.5.0",
            "orientation": "horizontal",
            "min": 0,
            "description_tooltip": null,
            "_model_module": "@jupyter-widgets/controls",
            "layout": "IPY_MODEL_db6a0fd01d4643288a3f967acfd9b44e"
          }
        },
        "8e4bd61bcfa740a0b9c531aec2fb6efe": {
          "model_module": "@jupyter-widgets/controls",
          "model_name": "HTMLModel",
          "model_module_version": "1.5.0",
          "state": {
            "_view_name": "HTMLView",
            "style": "IPY_MODEL_f094e733760840ceaf2acc5a52450d69",
            "_dom_classes": [],
            "description": "",
            "_model_name": "HTMLModel",
            "placeholder": "​",
            "_view_module": "@jupyter-widgets/controls",
            "_model_module_version": "1.5.0",
            "value": " 81.3M/81.3M [00:02&lt;00:00, 38.3MB/s]",
            "_view_count": null,
            "_view_module_version": "1.5.0",
            "description_tooltip": null,
            "_model_module": "@jupyter-widgets/controls",
            "layout": "IPY_MODEL_83fcb27d0b8d42d6b1bfa1faac96b193"
          }
        },
        "015a76e8c0294d26a5d0a073251cce5c": {
          "model_module": "@jupyter-widgets/controls",
          "model_name": "DescriptionStyleModel",
          "model_module_version": "1.5.0",
          "state": {
            "_view_name": "StyleView",
            "_model_name": "DescriptionStyleModel",
            "description_width": "",
            "_view_module": "@jupyter-widgets/base",
            "_model_module_version": "1.5.0",
            "_view_count": null,
            "_view_module_version": "1.2.0",
            "_model_module": "@jupyter-widgets/controls"
          }
        },
        "de631b486722497ebc7bfe9e84d03736": {
          "model_module": "@jupyter-widgets/base",
          "model_name": "LayoutModel",
          "model_module_version": "1.2.0",
          "state": {
            "_view_name": "LayoutView",
            "grid_template_rows": null,
            "right": null,
            "justify_content": null,
            "_view_module": "@jupyter-widgets/base",
            "overflow": null,
            "_model_module_version": "1.2.0",
            "_view_count": null,
            "flex_flow": null,
            "width": null,
            "min_width": null,
            "border": null,
            "align_items": null,
            "bottom": null,
            "_model_module": "@jupyter-widgets/base",
            "top": null,
            "grid_column": null,
            "overflow_y": null,
            "overflow_x": null,
            "grid_auto_flow": null,
            "grid_area": null,
            "grid_template_columns": null,
            "flex": null,
            "_model_name": "LayoutModel",
            "justify_items": null,
            "grid_row": null,
            "max_height": null,
            "align_content": null,
            "visibility": null,
            "align_self": null,
            "height": null,
            "min_height": null,
            "padding": null,
            "grid_auto_rows": null,
            "grid_gap": null,
            "max_width": null,
            "order": null,
            "_view_module_version": "1.2.0",
            "grid_template_areas": null,
            "object_position": null,
            "object_fit": null,
            "grid_auto_columns": null,
            "margin": null,
            "display": null,
            "left": null
          }
        },
        "76277258d9104a519c2d78017895cf85": {
          "model_module": "@jupyter-widgets/controls",
          "model_name": "ProgressStyleModel",
          "model_module_version": "1.5.0",
          "state": {
            "_view_name": "StyleView",
            "_model_name": "ProgressStyleModel",
            "description_width": "",
            "_view_module": "@jupyter-widgets/base",
            "_model_module_version": "1.5.0",
            "_view_count": null,
            "_view_module_version": "1.2.0",
            "bar_color": null,
            "_model_module": "@jupyter-widgets/controls"
          }
        },
        "db6a0fd01d4643288a3f967acfd9b44e": {
          "model_module": "@jupyter-widgets/base",
          "model_name": "LayoutModel",
          "model_module_version": "1.2.0",
          "state": {
            "_view_name": "LayoutView",
            "grid_template_rows": null,
            "right": null,
            "justify_content": null,
            "_view_module": "@jupyter-widgets/base",
            "overflow": null,
            "_model_module_version": "1.2.0",
            "_view_count": null,
            "flex_flow": null,
            "width": null,
            "min_width": null,
            "border": null,
            "align_items": null,
            "bottom": null,
            "_model_module": "@jupyter-widgets/base",
            "top": null,
            "grid_column": null,
            "overflow_y": null,
            "overflow_x": null,
            "grid_auto_flow": null,
            "grid_area": null,
            "grid_template_columns": null,
            "flex": null,
            "_model_name": "LayoutModel",
            "justify_items": null,
            "grid_row": null,
            "max_height": null,
            "align_content": null,
            "visibility": null,
            "align_self": null,
            "height": null,
            "min_height": null,
            "padding": null,
            "grid_auto_rows": null,
            "grid_gap": null,
            "max_width": null,
            "order": null,
            "_view_module_version": "1.2.0",
            "grid_template_areas": null,
            "object_position": null,
            "object_fit": null,
            "grid_auto_columns": null,
            "margin": null,
            "display": null,
            "left": null
          }
        },
        "f094e733760840ceaf2acc5a52450d69": {
          "model_module": "@jupyter-widgets/controls",
          "model_name": "DescriptionStyleModel",
          "model_module_version": "1.5.0",
          "state": {
            "_view_name": "StyleView",
            "_model_name": "DescriptionStyleModel",
            "description_width": "",
            "_view_module": "@jupyter-widgets/base",
            "_model_module_version": "1.5.0",
            "_view_count": null,
            "_view_module_version": "1.2.0",
            "_model_module": "@jupyter-widgets/controls"
          }
        },
        "83fcb27d0b8d42d6b1bfa1faac96b193": {
          "model_module": "@jupyter-widgets/base",
          "model_name": "LayoutModel",
          "model_module_version": "1.2.0",
          "state": {
            "_view_name": "LayoutView",
            "grid_template_rows": null,
            "right": null,
            "justify_content": null,
            "_view_module": "@jupyter-widgets/base",
            "overflow": null,
            "_model_module_version": "1.2.0",
            "_view_count": null,
            "flex_flow": null,
            "width": null,
            "min_width": null,
            "border": null,
            "align_items": null,
            "bottom": null,
            "_model_module": "@jupyter-widgets/base",
            "top": null,
            "grid_column": null,
            "overflow_y": null,
            "overflow_x": null,
            "grid_auto_flow": null,
            "grid_area": null,
            "grid_template_columns": null,
            "flex": null,
            "_model_name": "LayoutModel",
            "justify_items": null,
            "grid_row": null,
            "max_height": null,
            "align_content": null,
            "visibility": null,
            "align_self": null,
            "height": null,
            "min_height": null,
            "padding": null,
            "grid_auto_rows": null,
            "grid_gap": null,
            "max_width": null,
            "order": null,
            "_view_module_version": "1.2.0",
            "grid_template_areas": null,
            "object_position": null,
            "object_fit": null,
            "grid_auto_columns": null,
            "margin": null,
            "display": null,
            "left": null
          }
        },
        "9dfee95c764545b4abacd07c8cc8f2bc": {
          "model_module": "@jupyter-widgets/controls",
          "model_name": "HBoxModel",
          "model_module_version": "1.5.0",
          "state": {
            "_view_name": "HBoxView",
            "_dom_classes": [],
            "_model_name": "HBoxModel",
            "_view_module": "@jupyter-widgets/controls",
            "_model_module_version": "1.5.0",
            "_view_count": null,
            "_view_module_version": "1.5.0",
            "box_style": "",
            "layout": "IPY_MODEL_e95c5b1318ce49fc94803a52e15f3eff",
            "_model_module": "@jupyter-widgets/controls",
            "children": [
              "IPY_MODEL_ac90c7233f9645659a9509142e493539",
              "IPY_MODEL_b83d1d1d5d8f41d583875d025d8cd814",
              "IPY_MODEL_91a4f06056114f92902c9b2f32ea2090"
            ]
          }
        },
        "e95c5b1318ce49fc94803a52e15f3eff": {
          "model_module": "@jupyter-widgets/base",
          "model_name": "LayoutModel",
          "model_module_version": "1.2.0",
          "state": {
            "_view_name": "LayoutView",
            "grid_template_rows": null,
            "right": null,
            "justify_content": null,
            "_view_module": "@jupyter-widgets/base",
            "overflow": null,
            "_model_module_version": "1.2.0",
            "_view_count": null,
            "flex_flow": null,
            "width": null,
            "min_width": null,
            "border": null,
            "align_items": null,
            "bottom": null,
            "_model_module": "@jupyter-widgets/base",
            "top": null,
            "grid_column": null,
            "overflow_y": null,
            "overflow_x": null,
            "grid_auto_flow": null,
            "grid_area": null,
            "grid_template_columns": null,
            "flex": null,
            "_model_name": "LayoutModel",
            "justify_items": null,
            "grid_row": null,
            "max_height": null,
            "align_content": null,
            "visibility": null,
            "align_self": null,
            "height": null,
            "min_height": null,
            "padding": null,
            "grid_auto_rows": null,
            "grid_gap": null,
            "max_width": null,
            "order": null,
            "_view_module_version": "1.2.0",
            "grid_template_areas": null,
            "object_position": null,
            "object_fit": null,
            "grid_auto_columns": null,
            "margin": null,
            "display": null,
            "left": null
          }
        },
        "ac90c7233f9645659a9509142e493539": {
          "model_module": "@jupyter-widgets/controls",
          "model_name": "HTMLModel",
          "model_module_version": "1.5.0",
          "state": {
            "_view_name": "HTMLView",
            "style": "IPY_MODEL_4196ef637367471387f313c45ba6d2f2",
            "_dom_classes": [],
            "description": "",
            "_model_name": "HTMLModel",
            "placeholder": "​",
            "_view_module": "@jupyter-widgets/controls",
            "_model_module_version": "1.5.0",
            "value": "100%",
            "_view_count": null,
            "_view_module_version": "1.5.0",
            "description_tooltip": null,
            "_model_module": "@jupyter-widgets/controls",
            "layout": "IPY_MODEL_2acc6feb047b4cb3a89131481d178797"
          }
        },
        "b83d1d1d5d8f41d583875d025d8cd814": {
          "model_module": "@jupyter-widgets/controls",
          "model_name": "FloatProgressModel",
          "model_module_version": "1.5.0",
          "state": {
            "_view_name": "ProgressView",
            "style": "IPY_MODEL_a64358bf28e64079a116837536f45923",
            "_dom_classes": [],
            "description": "",
            "_model_name": "FloatProgressModel",
            "bar_style": "success",
            "max": 2,
            "_view_module": "@jupyter-widgets/controls",
            "_model_module_version": "1.5.0",
            "value": 2,
            "_view_count": null,
            "_view_module_version": "1.5.0",
            "orientation": "horizontal",
            "min": 0,
            "description_tooltip": null,
            "_model_module": "@jupyter-widgets/controls",
            "layout": "IPY_MODEL_8f6f843354a942f49a89088e7405823d"
          }
        },
        "91a4f06056114f92902c9b2f32ea2090": {
          "model_module": "@jupyter-widgets/controls",
          "model_name": "HTMLModel",
          "model_module_version": "1.5.0",
          "state": {
            "_view_name": "HTMLView",
            "style": "IPY_MODEL_cacf44501ccf47eabfed0f0fab927773",
            "_dom_classes": [],
            "description": "",
            "_model_name": "HTMLModel",
            "placeholder": "​",
            "_view_module": "@jupyter-widgets/controls",
            "_model_module_version": "1.5.0",
            "value": " 2/2 [00:00&lt;00:00, 46.85it/s]",
            "_view_count": null,
            "_view_module_version": "1.5.0",
            "description_tooltip": null,
            "_model_module": "@jupyter-widgets/controls",
            "layout": "IPY_MODEL_ec320d8462d94d46a06d41d32a6f31d0"
          }
        },
        "4196ef637367471387f313c45ba6d2f2": {
          "model_module": "@jupyter-widgets/controls",
          "model_name": "DescriptionStyleModel",
          "model_module_version": "1.5.0",
          "state": {
            "_view_name": "StyleView",
            "_model_name": "DescriptionStyleModel",
            "description_width": "",
            "_view_module": "@jupyter-widgets/base",
            "_model_module_version": "1.5.0",
            "_view_count": null,
            "_view_module_version": "1.2.0",
            "_model_module": "@jupyter-widgets/controls"
          }
        },
        "2acc6feb047b4cb3a89131481d178797": {
          "model_module": "@jupyter-widgets/base",
          "model_name": "LayoutModel",
          "model_module_version": "1.2.0",
          "state": {
            "_view_name": "LayoutView",
            "grid_template_rows": null,
            "right": null,
            "justify_content": null,
            "_view_module": "@jupyter-widgets/base",
            "overflow": null,
            "_model_module_version": "1.2.0",
            "_view_count": null,
            "flex_flow": null,
            "width": null,
            "min_width": null,
            "border": null,
            "align_items": null,
            "bottom": null,
            "_model_module": "@jupyter-widgets/base",
            "top": null,
            "grid_column": null,
            "overflow_y": null,
            "overflow_x": null,
            "grid_auto_flow": null,
            "grid_area": null,
            "grid_template_columns": null,
            "flex": null,
            "_model_name": "LayoutModel",
            "justify_items": null,
            "grid_row": null,
            "max_height": null,
            "align_content": null,
            "visibility": null,
            "align_self": null,
            "height": null,
            "min_height": null,
            "padding": null,
            "grid_auto_rows": null,
            "grid_gap": null,
            "max_width": null,
            "order": null,
            "_view_module_version": "1.2.0",
            "grid_template_areas": null,
            "object_position": null,
            "object_fit": null,
            "grid_auto_columns": null,
            "margin": null,
            "display": null,
            "left": null
          }
        },
        "a64358bf28e64079a116837536f45923": {
          "model_module": "@jupyter-widgets/controls",
          "model_name": "ProgressStyleModel",
          "model_module_version": "1.5.0",
          "state": {
            "_view_name": "StyleView",
            "_model_name": "ProgressStyleModel",
            "description_width": "",
            "_view_module": "@jupyter-widgets/base",
            "_model_module_version": "1.5.0",
            "_view_count": null,
            "_view_module_version": "1.2.0",
            "bar_color": null,
            "_model_module": "@jupyter-widgets/controls"
          }
        },
        "8f6f843354a942f49a89088e7405823d": {
          "model_module": "@jupyter-widgets/base",
          "model_name": "LayoutModel",
          "model_module_version": "1.2.0",
          "state": {
            "_view_name": "LayoutView",
            "grid_template_rows": null,
            "right": null,
            "justify_content": null,
            "_view_module": "@jupyter-widgets/base",
            "overflow": null,
            "_model_module_version": "1.2.0",
            "_view_count": null,
            "flex_flow": null,
            "width": null,
            "min_width": null,
            "border": null,
            "align_items": null,
            "bottom": null,
            "_model_module": "@jupyter-widgets/base",
            "top": null,
            "grid_column": null,
            "overflow_y": null,
            "overflow_x": null,
            "grid_auto_flow": null,
            "grid_area": null,
            "grid_template_columns": null,
            "flex": null,
            "_model_name": "LayoutModel",
            "justify_items": null,
            "grid_row": null,
            "max_height": null,
            "align_content": null,
            "visibility": null,
            "align_self": null,
            "height": null,
            "min_height": null,
            "padding": null,
            "grid_auto_rows": null,
            "grid_gap": null,
            "max_width": null,
            "order": null,
            "_view_module_version": "1.2.0",
            "grid_template_areas": null,
            "object_position": null,
            "object_fit": null,
            "grid_auto_columns": null,
            "margin": null,
            "display": null,
            "left": null
          }
        },
        "cacf44501ccf47eabfed0f0fab927773": {
          "model_module": "@jupyter-widgets/controls",
          "model_name": "DescriptionStyleModel",
          "model_module_version": "1.5.0",
          "state": {
            "_view_name": "StyleView",
            "_model_name": "DescriptionStyleModel",
            "description_width": "",
            "_view_module": "@jupyter-widgets/base",
            "_model_module_version": "1.5.0",
            "_view_count": null,
            "_view_module_version": "1.2.0",
            "_model_module": "@jupyter-widgets/controls"
          }
        },
        "ec320d8462d94d46a06d41d32a6f31d0": {
          "model_module": "@jupyter-widgets/base",
          "model_name": "LayoutModel",
          "model_module_version": "1.2.0",
          "state": {
            "_view_name": "LayoutView",
            "grid_template_rows": null,
            "right": null,
            "justify_content": null,
            "_view_module": "@jupyter-widgets/base",
            "overflow": null,
            "_model_module_version": "1.2.0",
            "_view_count": null,
            "flex_flow": null,
            "width": null,
            "min_width": null,
            "border": null,
            "align_items": null,
            "bottom": null,
            "_model_module": "@jupyter-widgets/base",
            "top": null,
            "grid_column": null,
            "overflow_y": null,
            "overflow_x": null,
            "grid_auto_flow": null,
            "grid_area": null,
            "grid_template_columns": null,
            "flex": null,
            "_model_name": "LayoutModel",
            "justify_items": null,
            "grid_row": null,
            "max_height": null,
            "align_content": null,
            "visibility": null,
            "align_self": null,
            "height": null,
            "min_height": null,
            "padding": null,
            "grid_auto_rows": null,
            "grid_gap": null,
            "max_width": null,
            "order": null,
            "_view_module_version": "1.2.0",
            "grid_template_areas": null,
            "object_position": null,
            "object_fit": null,
            "grid_auto_columns": null,
            "margin": null,
            "display": null,
            "left": null
          }
        },
        "f0afeb440322489f8da1ac01e49ce9c0": {
          "model_module": "@jupyter-widgets/controls",
          "model_name": "HBoxModel",
          "model_module_version": "1.5.0",
          "state": {
            "_view_name": "HBoxView",
            "_dom_classes": [],
            "_model_name": "HBoxModel",
            "_view_module": "@jupyter-widgets/controls",
            "_model_module_version": "1.5.0",
            "_view_count": null,
            "_view_module_version": "1.5.0",
            "box_style": "",
            "layout": "IPY_MODEL_48b94ad0392d46ce8123e34b14474cd3",
            "_model_module": "@jupyter-widgets/controls",
            "children": [
              "IPY_MODEL_1bfef538fc76423a81ffbc9d0ce60b9a",
              "IPY_MODEL_91191c7c2ac14f909020f2e6abbbf571",
              "IPY_MODEL_8c478bac2928409393078fc882505d48"
            ]
          }
        },
        "48b94ad0392d46ce8123e34b14474cd3": {
          "model_module": "@jupyter-widgets/base",
          "model_name": "LayoutModel",
          "model_module_version": "1.2.0",
          "state": {
            "_view_name": "LayoutView",
            "grid_template_rows": null,
            "right": null,
            "justify_content": null,
            "_view_module": "@jupyter-widgets/base",
            "overflow": null,
            "_model_module_version": "1.2.0",
            "_view_count": null,
            "flex_flow": null,
            "width": null,
            "min_width": null,
            "border": null,
            "align_items": null,
            "bottom": null,
            "_model_module": "@jupyter-widgets/base",
            "top": null,
            "grid_column": null,
            "overflow_y": null,
            "overflow_x": null,
            "grid_auto_flow": null,
            "grid_area": null,
            "grid_template_columns": null,
            "flex": null,
            "_model_name": "LayoutModel",
            "justify_items": null,
            "grid_row": null,
            "max_height": null,
            "align_content": null,
            "visibility": null,
            "align_self": null,
            "height": null,
            "min_height": null,
            "padding": null,
            "grid_auto_rows": null,
            "grid_gap": null,
            "max_width": null,
            "order": null,
            "_view_module_version": "1.2.0",
            "grid_template_areas": null,
            "object_position": null,
            "object_fit": null,
            "grid_auto_columns": null,
            "margin": null,
            "display": null,
            "left": null
          }
        },
        "1bfef538fc76423a81ffbc9d0ce60b9a": {
          "model_module": "@jupyter-widgets/controls",
          "model_name": "HTMLModel",
          "model_module_version": "1.5.0",
          "state": {
            "_view_name": "HTMLView",
            "style": "IPY_MODEL_9d0c75320e7d4594938b645069967198",
            "_dom_classes": [],
            "description": "",
            "_model_name": "HTMLModel",
            "placeholder": "​",
            "_view_module": "@jupyter-widgets/controls",
            "_model_module_version": "1.5.0",
            "value": "100%",
            "_view_count": null,
            "_view_module_version": "1.5.0",
            "description_tooltip": null,
            "_model_module": "@jupyter-widgets/controls",
            "layout": "IPY_MODEL_c08718f418334d038bf2268262610e1b"
          }
        },
        "91191c7c2ac14f909020f2e6abbbf571": {
          "model_module": "@jupyter-widgets/controls",
          "model_name": "FloatProgressModel",
          "model_module_version": "1.5.0",
          "state": {
            "_view_name": "ProgressView",
            "style": "IPY_MODEL_dec0a182848947ceab97c3edc475cdcb",
            "_dom_classes": [],
            "description": "",
            "_model_name": "FloatProgressModel",
            "bar_style": "success",
            "max": 2,
            "_view_module": "@jupyter-widgets/controls",
            "_model_module_version": "1.5.0",
            "value": 2,
            "_view_count": null,
            "_view_module_version": "1.5.0",
            "orientation": "horizontal",
            "min": 0,
            "description_tooltip": null,
            "_model_module": "@jupyter-widgets/controls",
            "layout": "IPY_MODEL_8518277e64de44a5a30d91c4bcdac8f8"
          }
        },
        "8c478bac2928409393078fc882505d48": {
          "model_module": "@jupyter-widgets/controls",
          "model_name": "HTMLModel",
          "model_module_version": "1.5.0",
          "state": {
            "_view_name": "HTMLView",
            "style": "IPY_MODEL_d7072e2106c94a3889322b743ef09992",
            "_dom_classes": [],
            "description": "",
            "_model_name": "HTMLModel",
            "placeholder": "​",
            "_view_module": "@jupyter-widgets/controls",
            "_model_module_version": "1.5.0",
            "value": " 2/2 [00:00&lt;00:00, 27.16it/s]",
            "_view_count": null,
            "_view_module_version": "1.5.0",
            "description_tooltip": null,
            "_model_module": "@jupyter-widgets/controls",
            "layout": "IPY_MODEL_2152bdab867b4b1385d07eea4b73324d"
          }
        },
        "9d0c75320e7d4594938b645069967198": {
          "model_module": "@jupyter-widgets/controls",
          "model_name": "DescriptionStyleModel",
          "model_module_version": "1.5.0",
          "state": {
            "_view_name": "StyleView",
            "_model_name": "DescriptionStyleModel",
            "description_width": "",
            "_view_module": "@jupyter-widgets/base",
            "_model_module_version": "1.5.0",
            "_view_count": null,
            "_view_module_version": "1.2.0",
            "_model_module": "@jupyter-widgets/controls"
          }
        },
        "c08718f418334d038bf2268262610e1b": {
          "model_module": "@jupyter-widgets/base",
          "model_name": "LayoutModel",
          "model_module_version": "1.2.0",
          "state": {
            "_view_name": "LayoutView",
            "grid_template_rows": null,
            "right": null,
            "justify_content": null,
            "_view_module": "@jupyter-widgets/base",
            "overflow": null,
            "_model_module_version": "1.2.0",
            "_view_count": null,
            "flex_flow": null,
            "width": null,
            "min_width": null,
            "border": null,
            "align_items": null,
            "bottom": null,
            "_model_module": "@jupyter-widgets/base",
            "top": null,
            "grid_column": null,
            "overflow_y": null,
            "overflow_x": null,
            "grid_auto_flow": null,
            "grid_area": null,
            "grid_template_columns": null,
            "flex": null,
            "_model_name": "LayoutModel",
            "justify_items": null,
            "grid_row": null,
            "max_height": null,
            "align_content": null,
            "visibility": null,
            "align_self": null,
            "height": null,
            "min_height": null,
            "padding": null,
            "grid_auto_rows": null,
            "grid_gap": null,
            "max_width": null,
            "order": null,
            "_view_module_version": "1.2.0",
            "grid_template_areas": null,
            "object_position": null,
            "object_fit": null,
            "grid_auto_columns": null,
            "margin": null,
            "display": null,
            "left": null
          }
        },
        "dec0a182848947ceab97c3edc475cdcb": {
          "model_module": "@jupyter-widgets/controls",
          "model_name": "ProgressStyleModel",
          "model_module_version": "1.5.0",
          "state": {
            "_view_name": "StyleView",
            "_model_name": "ProgressStyleModel",
            "description_width": "",
            "_view_module": "@jupyter-widgets/base",
            "_model_module_version": "1.5.0",
            "_view_count": null,
            "_view_module_version": "1.2.0",
            "bar_color": null,
            "_model_module": "@jupyter-widgets/controls"
          }
        },
        "8518277e64de44a5a30d91c4bcdac8f8": {
          "model_module": "@jupyter-widgets/base",
          "model_name": "LayoutModel",
          "model_module_version": "1.2.0",
          "state": {
            "_view_name": "LayoutView",
            "grid_template_rows": null,
            "right": null,
            "justify_content": null,
            "_view_module": "@jupyter-widgets/base",
            "overflow": null,
            "_model_module_version": "1.2.0",
            "_view_count": null,
            "flex_flow": null,
            "width": null,
            "min_width": null,
            "border": null,
            "align_items": null,
            "bottom": null,
            "_model_module": "@jupyter-widgets/base",
            "top": null,
            "grid_column": null,
            "overflow_y": null,
            "overflow_x": null,
            "grid_auto_flow": null,
            "grid_area": null,
            "grid_template_columns": null,
            "flex": null,
            "_model_name": "LayoutModel",
            "justify_items": null,
            "grid_row": null,
            "max_height": null,
            "align_content": null,
            "visibility": null,
            "align_self": null,
            "height": null,
            "min_height": null,
            "padding": null,
            "grid_auto_rows": null,
            "grid_gap": null,
            "max_width": null,
            "order": null,
            "_view_module_version": "1.2.0",
            "grid_template_areas": null,
            "object_position": null,
            "object_fit": null,
            "grid_auto_columns": null,
            "margin": null,
            "display": null,
            "left": null
          }
        },
        "d7072e2106c94a3889322b743ef09992": {
          "model_module": "@jupyter-widgets/controls",
          "model_name": "DescriptionStyleModel",
          "model_module_version": "1.5.0",
          "state": {
            "_view_name": "StyleView",
            "_model_name": "DescriptionStyleModel",
            "description_width": "",
            "_view_module": "@jupyter-widgets/base",
            "_model_module_version": "1.5.0",
            "_view_count": null,
            "_view_module_version": "1.2.0",
            "_model_module": "@jupyter-widgets/controls"
          }
        },
        "2152bdab867b4b1385d07eea4b73324d": {
          "model_module": "@jupyter-widgets/base",
          "model_name": "LayoutModel",
          "model_module_version": "1.2.0",
          "state": {
            "_view_name": "LayoutView",
            "grid_template_rows": null,
            "right": null,
            "justify_content": null,
            "_view_module": "@jupyter-widgets/base",
            "overflow": null,
            "_model_module_version": "1.2.0",
            "_view_count": null,
            "flex_flow": null,
            "width": null,
            "min_width": null,
            "border": null,
            "align_items": null,
            "bottom": null,
            "_model_module": "@jupyter-widgets/base",
            "top": null,
            "grid_column": null,
            "overflow_y": null,
            "overflow_x": null,
            "grid_auto_flow": null,
            "grid_area": null,
            "grid_template_columns": null,
            "flex": null,
            "_model_name": "LayoutModel",
            "justify_items": null,
            "grid_row": null,
            "max_height": null,
            "align_content": null,
            "visibility": null,
            "align_self": null,
            "height": null,
            "min_height": null,
            "padding": null,
            "grid_auto_rows": null,
            "grid_gap": null,
            "max_width": null,
            "order": null,
            "_view_module_version": "1.2.0",
            "grid_template_areas": null,
            "object_position": null,
            "object_fit": null,
            "grid_auto_columns": null,
            "margin": null,
            "display": null,
            "left": null
          }
        }
      }
    }
  },
  "nbformat": 4,
  "nbformat_minor": 0
}