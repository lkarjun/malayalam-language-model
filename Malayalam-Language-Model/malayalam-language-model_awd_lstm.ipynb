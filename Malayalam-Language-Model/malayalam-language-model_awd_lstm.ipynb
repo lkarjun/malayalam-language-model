{
  "cells": [
    {
      "cell_type": "markdown",
      "metadata": {
        "id": "view-in-github",
        "colab_type": "text"
      },
      "source": [
        "<a href=\"https://colab.research.google.com/github/lkarjun/malayalam-language-model/blob/main/Malayalam-Language-Model/malayalam-language-model_awd_lstm.ipynb\" target=\"_parent\"><img src=\"https://colab.research.google.com/assets/colab-badge.svg\" alt=\"Open In Colab\"/></a>"
      ]
    },
    {
      "cell_type": "markdown",
      "source": [
        "## Dataset Downloading"
      ],
      "metadata": {
        "id": "V1ZOJD9N7baL"
      }
    },
    {
      "cell_type": "code",
      "source": [
        "!pip install -qq dvc[gdrive]\n",
        "\n",
        "!dvc get https://github.com/lkarjun/malayalam-language-model \\\n",
        "Datasets/\n",
        "\n",
        "!unzip -q 'Datasets/*.zip' -d Datasets/"
      ],
      "metadata": {
        "id": "_9KbU26l7Yuz",
        "outputId": "db688422-6ea3-4db6-a90a-739c83b90a9b",
        "colab": {
          "base_uri": "https://localhost:8080/"
        }
      },
      "execution_count": 44,
      "outputs": [
        {
          "output_type": "stream",
          "name": "stdout",
          "text": [
            "Downloading directory:  14% 1/7 [00:00<00:01,  4.72Files/s{'info': ''}]Go to the following link in your browser:\n",
            "\n",
            "    https://accounts.google.com/o/oauth2/auth?client_id=710796635688-iivsgbgsb6uv1fap6635dhvuei09o66c.apps.googleusercontent.com&redirect_uri=urn%3Aietf%3Awg%3Aoauth%3A2.0%3Aoob&scope=https%3A%2F%2Fwww.googleapis.com%2Fauth%2Fdrive+https%3A%2F%2Fwww.googleapis.com%2Fauth%2Fdrive.appdata&access_type=offline&response_type=code&approval_prompt=force\n",
            "\n",
            "Enter verification code: 4/1AX4XfWjm6SqYTmDl62YT2Dmy5xjb-fMKRJQ45L9hAox_k9lJByv18_qN7OY\n",
            "Authentication successful.\n",
            "\u001b[0m\n",
            "3 archives were successfully processed.\n"
          ]
        }
      ]
    },
    {
      "cell_type": "markdown",
      "metadata": {
        "id": "_sK9FQnG7NMS"
      },
      "source": [
        "## Malayalam Language Model AWD-LSTM"
      ]
    },
    {
      "cell_type": "markdown",
      "source": [
        "### Imports"
      ],
      "metadata": {
        "id": "6P0TuL5D8FEH"
      }
    },
    {
      "cell_type": "code",
      "source": [
        "!pip install -qq fastai==2.5.3 sentencepiece transformers"
      ],
      "metadata": {
        "colab": {
          "base_uri": "https://localhost:8080/"
        },
        "id": "Dgp-vpolJ_hU",
        "outputId": "84e21d5f-cb45-49e8-a2f3-412ae14fe3dd"
      },
      "execution_count": 1,
      "outputs": [
        {
          "output_type": "stream",
          "name": "stdout",
          "text": [
            "\u001b[K     |████████████████████████████████| 189 kB 7.3 MB/s \n",
            "\u001b[K     |████████████████████████████████| 1.2 MB 43.9 MB/s \n",
            "\u001b[K     |████████████████████████████████| 3.5 MB 33.1 MB/s \n",
            "\u001b[K     |████████████████████████████████| 56 kB 4.5 MB/s \n",
            "\u001b[K     |████████████████████████████████| 596 kB 35.8 MB/s \n",
            "\u001b[K     |████████████████████████████████| 895 kB 48.3 MB/s \n",
            "\u001b[K     |████████████████████████████████| 6.8 MB 45.9 MB/s \n",
            "\u001b[K     |████████████████████████████████| 67 kB 3.9 MB/s \n",
            "\u001b[?25h"
          ]
        }
      ]
    },
    {
      "cell_type": "code",
      "source": [
        "from fastai.text.all import *\n",
        "from transformers import PreTrainedTokenizerFast\n",
        "\n",
        "import pandas as pd\n",
        "from tqdm import tqdm\n",
        "\n",
        "DATASET = Path(\"/content/Datasets/\")\n",
        "\n",
        "tqdm.pandas(colour = 'red')"
      ],
      "metadata": {
        "id": "xXcR6juM7TeW"
      },
      "execution_count": 58,
      "outputs": []
    },
    {
      "cell_type": "code",
      "source": [
        "tokenizer = PreTrainedTokenizerFast.from_pretrained(\"lkarjun/malayalam-language-model\", \n",
        "                                                    use_auth_token=True,\n",
        "                                                    )"
      ],
      "metadata": {
        "id": "LB7qWge75vBA"
      },
      "execution_count": 59,
      "outputs": []
    },
    {
      "cell_type": "markdown",
      "source": [
        "### Dataset Loading"
      ],
      "metadata": {
        "id": "DUns4ed6A-5M"
      }
    },
    {
      "cell_type": "code",
      "source": [
        "def open_text_files(f: str):\n",
        "  return Path(f).read_text(encoding=\"utf-8\")"
      ],
      "metadata": {
        "id": "ZXYyIO2jcrSh"
      },
      "execution_count": 60,
      "outputs": []
    },
    {
      "cell_type": "code",
      "source": [
        "files = ['article_files.csv', 'magazine_files.csv', 'wikitext_files.csv']\n",
        "df = pd.concat([pd.read_csv(DATASET/f) for f in files], ignore_index = True)"
      ],
      "metadata": {
        "id": "tUTpTfCQ8nAA"
      },
      "execution_count": 61,
      "outputs": []
    },
    {
      "cell_type": "code",
      "source": [
        "df['content'] = df['file_path'].progress_apply(open_text_files)"
      ],
      "metadata": {
        "id": "bUUP4XUCrcPn",
        "outputId": "aebd9680-55f6-4976-e1d1-2e1a599801f6",
        "colab": {
          "base_uri": "https://localhost:8080/"
        }
      },
      "execution_count": 62,
      "outputs": [
        {
          "output_type": "stream",
          "name": "stderr",
          "text": [
            "100%|\u001b[31m██████████\u001b[0m| 35490/35490 [00:03<00:00, 11247.86it/s]\n"
          ]
        }
      ]
    },
    {
      "cell_type": "code",
      "source": [
        "sample = df[:100]\n",
        "len(sample)"
      ],
      "metadata": {
        "colab": {
          "base_uri": "https://localhost:8080/"
        },
        "id": "sbthgdv8OdDO",
        "outputId": "1b1c93ee-5732-4a78-86c4-9ae3415f8d08"
      },
      "execution_count": 63,
      "outputs": [
        {
          "output_type": "execute_result",
          "data": {
            "text/plain": [
              "100"
            ]
          },
          "metadata": {},
          "execution_count": 63
        }
      ]
    },
    {
      "cell_type": "markdown",
      "source": [
        "### Tokenizer"
      ],
      "metadata": {
        "id": "KIqdXTiBsDQ_"
      }
    },
    {
      "cell_type": "code",
      "source": [
        "class MalayalamTokenizer(Transform):\n",
        "  def __init__(self, hf_tok: PreTrainedTokenizerFast):\n",
        "    self.hf_tok = hf_tok\n",
        "  \n",
        "  def encodes(self, x): \n",
        "        toks = self.hf_tok.tokenize(x)\n",
        "        toks = self.hf_tok.convert_tokens_to_ids(toks)\n",
        "        return tensor(toks)\n",
        "\n",
        "  def decodes(self, x): \n",
        "    x = self.hf_tok.decode(x.cpu().numpy())\n",
        "    return TitledStr(x)\n"
      ],
      "metadata": {
        "id": "HMkdMbdJ5_on"
      },
      "execution_count": 64,
      "outputs": []
    },
    {
      "cell_type": "code",
      "source": [
        "tok = MalayalamTokenizer(tokenizer)\n",
        "tok"
      ],
      "metadata": {
        "id": "BxfgCRiQ67zu",
        "outputId": "d3625b27-af91-4248-f12d-aed90039a5db",
        "colab": {
          "base_uri": "https://localhost:8080/"
        }
      },
      "execution_count": 65,
      "outputs": [
        {
          "output_type": "execute_result",
          "data": {
            "text/plain": [
              "MalayalamTokenizer:\n",
              "encodes: (object,object) -> encodes\n",
              "decodes: (object,object) -> decodes"
            ]
          },
          "metadata": {},
          "execution_count": 65
        }
      ]
    },
    {
      "cell_type": "markdown",
      "source": [
        "### Dataloder"
      ],
      "metadata": {
        "id": "ms3_XLMQX6OK"
      }
    },
    {
      "cell_type": "code",
      "source": [
        "splits = RandomSplitter(.1, 7)(df)"
      ],
      "metadata": {
        "id": "PZPlbJy9PsPl"
      },
      "execution_count": 67,
      "outputs": []
    },
    {
      "cell_type": "code",
      "source": [
        "tfms = TfmdLists(df['content'], \n",
        "                 MalayalamTokenizer(tokenizer), \n",
        "                 splits=splits, \n",
        "                 dl_type=LMDataLoader)"
      ],
      "metadata": {
        "id": "sibA1ogf7kG-"
      },
      "execution_count": 68,
      "outputs": []
    },
    {
      "cell_type": "code",
      "source": [
        "mldls = tfms.dataloaders(bs=120, seq_len=72)"
      ],
      "metadata": {
        "id": "tX3MeJBGJeEW"
      },
      "execution_count": 70,
      "outputs": []
    },
    {
      "cell_type": "code",
      "source": [
        "mldls.show_batch(max_n = 2)"
      ],
      "metadata": {
        "id": "bM8YbkmtQnxV",
        "outputId": "bad7ab06-cd6e-4f9f-f7ff-17e389f956a3",
        "colab": {
          "base_uri": "https://localhost:8080/",
          "height": 406
        }
      },
      "execution_count": 73,
      "outputs": [
        {
          "output_type": "display_data",
          "data": {
            "text/html": [
              "<table border=\"1\" class=\"dataframe\">\n",
              "  <thead>\n",
              "    <tr style=\"text-align: right;\">\n",
              "      <th></th>\n",
              "      <th>text</th>\n",
              "      <th>text_</th>\n",
              "    </tr>\n",
              "  </thead>\n",
              "  <tbody>\n",
              "    <tr>\n",
              "      <th>0</th>\n",
              "      <td>തെങ്ങ് നനച്ച ##ാൽ വിളവ് ഇരട്ടി ##ക്കും. തുള്ളിനന ##യാണെങ്കിൽ ഒരു ദിവസം 60 – 70 ലീറ്റര്‍ നൽകുക. തടത്തിൽ വെള്ളം തുറന്നുവിട ##ുകയാണെങ്കിൽ ഒരു തവണ 400 – 700 ലീറ്റർ ##‌. ഇടവേള 5 – 8 ദിവസം. മണല ##ിന്റെ അംശം കൂടിയ മണ്ണിൽ ചെറിയ അളവും ചെറിയ ഇടവേള ##യും. കളിമണ്ണ ##ിന്റെ അംശം കൂടിയ മണ്ണിൽ കൂടുതൽ അളവും കൂടിയ ഇടവേള ##യും. മണല ##ിന്റെ അംശം കൂടിയ തടങ്ങളിൽ ചേ ##റും കളിമണ്ണ ##ിന്റെ അംശം കൂടിയ തടങ്ങളിൽ മണലും ചേർ ##‌</td>\n",
              "      <td>നനച്ച ##ാൽ വിളവ് ഇരട്ടി ##ക്കും. തുള്ളിനന ##യാണെങ്കിൽ ഒരു ദിവസം 60 – 70 ലീറ്റര്‍ നൽകുക. തടത്തിൽ വെള്ളം തുറന്നുവിട ##ുകയാണെങ്കിൽ ഒരു തവണ 400 – 700 ലീറ്റർ ##‌. ഇടവേള 5 – 8 ദിവസം. മണല ##ിന്റെ അംശം കൂടിയ മണ്ണിൽ ചെറിയ അളവും ചെറിയ ഇടവേള ##യും. കളിമണ്ണ ##ിന്റെ അംശം കൂടിയ മണ്ണിൽ കൂടുതൽ അളവും കൂടിയ ഇടവേള ##യും. മണല ##ിന്റെ അംശം കൂടിയ തടങ്ങളിൽ ചേ ##റും കളിമണ്ണ ##ിന്റെ അംശം കൂടിയ തടങ്ങളിൽ മണലും ചേർ ##‌ ##ക്കുന്നതു</td>\n",
              "    </tr>\n",
              "    <tr>\n",
              "      <th>1</th>\n",
              "      <td>##ഡെ ##ടുത്ത ##ാലും അതിലൊക്കെ നിരവധി ആഴത്തിലുള്ള സൗഹൃദ ##ങ്ങളുള്ള ആ യുവാവിനെ മറ്റാർക്കും വിട്ടു ##നൽക ##ാതെ മുല ##ായം തന്റെ കൂടെത്തന്നെ നിലനിർത്തി. മുല ##ായ ##മാണ് അമർ സിങ്ങിനെ പ്രാഥമിക ##ാംഗ ##ത്വം നൽകി സമാജ് ##‌വ ##ാദി പാർട്ടിയിൽ എടുത്തത്. അന്ന് മുല ##ായം സിങിന്റെ നാലുപാടും, രാജ് ബബ ##്ബ ##ർ, ആസ ##ം ഖാൻ, റാം ഗോപാൽ യാദവ്, ബേ ##നി പ്രസാദ് വർമ്മ എന്നിങ്ങനെ നിരവധിപേർ അടുപ്പം സ്ഥാപിക്കാൻ മിനക്കെട ##്ട ##ു നടക്കുന്ന കാലം. അവരെയൊക്കെ നിരാശപ്പെടുത്ത ##ിക്കൊണ്ട് മുല</td>\n",
              "      <td>##ടുത്ത ##ാലും അതിലൊക്കെ നിരവധി ആഴത്തിലുള്ള സൗഹൃദ ##ങ്ങളുള്ള ആ യുവാവിനെ മറ്റാർക്കും വിട്ടു ##നൽക ##ാതെ മുല ##ായം തന്റെ കൂടെത്തന്നെ നിലനിർത്തി. മുല ##ായ ##മാണ് അമർ സിങ്ങിനെ പ്രാഥമിക ##ാംഗ ##ത്വം നൽകി സമാജ് ##‌വ ##ാദി പാർട്ടിയിൽ എടുത്തത്. അന്ന് മുല ##ായം സിങിന്റെ നാലുപാടും, രാജ് ബബ ##്ബ ##ർ, ആസ ##ം ഖാൻ, റാം ഗോപാൽ യാദവ്, ബേ ##നി പ്രസാദ് വർമ്മ എന്നിങ്ങനെ നിരവധിപേർ അടുപ്പം സ്ഥാപിക്കാൻ മിനക്കെട ##്ട ##ു നടക്കുന്ന കാലം. അവരെയൊക്കെ നിരാശപ്പെടുത്ത ##ിക്കൊണ്ട് മുല ##ായത്ത</td>\n",
              "    </tr>\n",
              "  </tbody>\n",
              "</table>"
            ],
            "text/plain": [
              "<IPython.core.display.HTML object>"
            ]
          },
          "metadata": {}
        }
      ]
    },
    {
      "cell_type": "markdown",
      "source": [
        "### Language Model"
      ],
      "metadata": {
        "id": "rG9XNIACudBB"
      }
    },
    {
      "cell_type": "code",
      "source": [
        "mldls.vocab = tokenizer.vocab"
      ],
      "metadata": {
        "id": "043UNRIqRBlo"
      },
      "execution_count": 79,
      "outputs": []
    },
    {
      "cell_type": "code",
      "source": [
        "doc(language_model_learner)"
      ],
      "metadata": {
        "id": "pkG4JpB5vHr7",
        "outputId": "cd0e36a1-1896-477f-a7ef-aac66ac008fa",
        "colab": {
          "base_uri": "https://localhost:8080/"
        }
      },
      "execution_count": 75,
      "outputs": [
        {
          "output_type": "stream",
          "name": "stdout",
          "text": [
            "language_model_learner(dls, arch, config=None, drop_mult=1.0, backwards=False, pretrained=True, pretrained_fnames=None, loss_func=None, opt_func=<function Adam at 0x7f0915e7e050>, lr=0.001, splitter=<function trainable_params at 0x7f0924349680>, cbs=None, metrics=None, path=None, model_dir='models', wd=None, wd_bn_bias=False, train_bn=True, moms=(0.95, 0.85, 0.95))\n",
            "Create a `Learner` with a language model from `dls` and `arch`.\n",
            "\n",
            "To get a prettier result with hyperlinks to source code and documentation, install nbdev: pip install nbdev\n"
          ]
        }
      ]
    },
    {
      "cell_type": "code",
      "source": [
        "learn = language_model_learner(\n",
        "            mldls, \n",
        "            AWD_LSTM,\n",
        "            drop_mult=.3,\n",
        "            pretrained = False,\n",
        "            metrics = [accuracy, Perplexity()]\n",
        "            ).to_fp16()"
      ],
      "metadata": {
        "id": "d_Lwkv44ueK4",
        "outputId": "8c5c912e-58d6-45fd-a63a-918212eeb11a",
        "colab": {
          "base_uri": "https://localhost:8080/"
        }
      },
      "execution_count": 80,
      "outputs": [
        {
          "output_type": "stream",
          "name": "stderr",
          "text": [
            "/usr/local/lib/python3.7/dist-packages/torch/autocast_mode.py:141: UserWarning: User provided device_type of 'cuda', but CUDA is not available. Disabling\n",
            "  warnings.warn('User provided device_type of \\'cuda\\', but CUDA is not available. Disabling')\n"
          ]
        }
      ]
    },
    {
      "cell_type": "code",
      "source": [
        "learn.fit(1, 3e-4)"
      ],
      "metadata": {
        "id": "rkThzMDiw4LF"
      },
      "execution_count": null,
      "outputs": []
    },
    {
      "cell_type": "code",
      "source": [
        ""
      ],
      "metadata": {
        "id": "p_z0OXlnxJHV"
      },
      "execution_count": null,
      "outputs": []
    }
  ],
  "metadata": {
    "language_info": {
      "name": "python"
    },
    "orig_nbformat": 4,
    "colab": {
      "name": "malayalam-language-model.ipynb",
      "provenance": [],
      "include_colab_link": true
    },
    "kernelspec": {
      "name": "python3",
      "display_name": "Python 3"
    },
    "accelerator": "GPU"
  },
  "nbformat": 4,
  "nbformat_minor": 0
}