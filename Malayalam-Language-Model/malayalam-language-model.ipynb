{
  "cells": [
    {
      "cell_type": "markdown",
      "metadata": {
        "id": "view-in-github",
        "colab_type": "text"
      },
      "source": [
        "<a href=\"https://colab.research.google.com/github/lkarjun/malayalam-language-model/blob/main/Malayalam-Language-Model/malayalam-language-model.ipynb\" target=\"_parent\"><img src=\"https://colab.research.google.com/assets/colab-badge.svg\" alt=\"Open In Colab\"/></a>"
      ]
    },
    {
      "cell_type": "markdown",
      "source": [
        "## Dataset Downloading"
      ],
      "metadata": {
        "id": "V1ZOJD9N7baL"
      }
    },
    {
      "cell_type": "code",
      "source": [
        "!pip install -qq dvc[gdrive]\n",
        "\n",
        "!dvc get https://github.com/lkarjun/malayalam-language-model \\\n",
        "Datasets/\n",
        "\n",
        "!unzip -q 'Datasets/*.zip' -d Datasets/"
      ],
      "metadata": {
        "id": "_9KbU26l7Yuz",
        "outputId": "58a1856c-a129-4dbe-ede5-720016242b6c",
        "colab": {
          "base_uri": "https://localhost:8080/"
        }
      },
      "execution_count": 1,
      "outputs": [
        {
          "output_type": "stream",
          "name": "stdout",
          "text": [
            "\u001b[K     |████████████████████████████████| 401 kB 28.5 MB/s \n",
            "\u001b[K     |████████████████████████████████| 44 kB 3.6 MB/s \n",
            "\u001b[K     |████████████████████████████████| 280 kB 63.0 MB/s \n",
            "\u001b[K     |████████████████████████████████| 49 kB 7.6 MB/s \n",
            "\u001b[K     |████████████████████████████████| 109 kB 69.8 MB/s \n",
            "\u001b[K     |████████████████████████████████| 48 kB 6.8 MB/s \n",
            "\u001b[K     |████████████████████████████████| 41 kB 54 kB/s \n",
            "\u001b[K     |████████████████████████████████| 217 kB 73.3 MB/s \n",
            "\u001b[K     |████████████████████████████████| 133 kB 63.5 MB/s \n",
            "\u001b[K     |████████████████████████████████| 180 kB 72.3 MB/s \n",
            "\u001b[K     |████████████████████████████████| 548 kB 62.6 MB/s \n",
            "\u001b[K     |████████████████████████████████| 287 kB 76.3 MB/s \n",
            "\u001b[K     |████████████████████████████████| 4.5 MB 60.1 MB/s \n",
            "\u001b[K     |████████████████████████████████| 1.1 MB 67.0 MB/s \n",
            "\u001b[K     |████████████████████████████████| 3.6 MB 63.4 MB/s \n",
            "\u001b[K     |████████████████████████████████| 63 kB 2.4 MB/s \n",
            "\u001b[K     |████████████████████████████████| 55 kB 5.2 MB/s \n",
            "\u001b[K     |████████████████████████████████| 229 kB 75.0 MB/s \n",
            "\u001b[K     |████████████████████████████████| 2.6 MB 59.3 MB/s \n",
            "\u001b[K     |████████████████████████████████| 53 kB 2.4 MB/s \n",
            "\u001b[K     |████████████████████████████████| 51 kB 9.5 MB/s \n",
            "\u001b[K     |████████████████████████████████| 546 kB 56.9 MB/s \n",
            "\u001b[K     |████████████████████████████████| 144 kB 75.5 MB/s \n",
            "\u001b[K     |████████████████████████████████| 271 kB 71.5 MB/s \n",
            "\u001b[K     |████████████████████████████████| 94 kB 4.6 MB/s \n",
            "\u001b[?25h  Building wheel for configobj (setup.py) ... \u001b[?25l\u001b[?25hdone\n",
            "  Building wheel for nanotime (setup.py) ... \u001b[?25l\u001b[?25hdone\n",
            "  Building wheel for pygtrie (setup.py) ... \u001b[?25l\u001b[?25hdone\n",
            "  Building wheel for voluptuous (setup.py) ... \u001b[?25l\u001b[?25hdone\n",
            "  Building wheel for mailchecker (setup.py) ... \u001b[?25l\u001b[?25hdone\n",
            "Downloading directory:  14% 1/7 [00:00<00:01,  4.76Files/s{'info': ''}]Go to the following link in your browser:\n",
            "\n",
            "    https://accounts.google.com/o/oauth2/auth?client_id=710796635688-iivsgbgsb6uv1fap6635dhvuei09o66c.apps.googleusercontent.com&redirect_uri=urn%3Aietf%3Awg%3Aoauth%3A2.0%3Aoob&scope=https%3A%2F%2Fwww.googleapis.com%2Fauth%2Fdrive+https%3A%2F%2Fwww.googleapis.com%2Fauth%2Fdrive.appdata&access_type=offline&response_type=code&approval_prompt=force\n",
            "\n",
            "Enter verification code: 4/1AX4XfWjNQaM3sSRw8taM-lmC-vGcQ3CGxe33qzzPKmKNzZofHleOhIw47CQ\n",
            "Authentication successful.\n",
            "\u001b[0m\n",
            "3 archives were successfully processed.\n"
          ]
        }
      ]
    },
    {
      "cell_type": "markdown",
      "metadata": {
        "id": "_sK9FQnG7NMS"
      },
      "source": [
        "## Malayalam Language Model"
      ]
    },
    {
      "cell_type": "markdown",
      "source": [
        "### Imports"
      ],
      "metadata": {
        "id": "6P0TuL5D8FEH"
      }
    },
    {
      "cell_type": "code",
      "source": [
        "!pip install -qq fastai==2.5.3 transformers tokenizers ohmeow-blurr"
      ],
      "metadata": {
        "colab": {
          "base_uri": "https://localhost:8080/"
        },
        "id": "Dgp-vpolJ_hU",
        "outputId": "9aba2456-4ea7-47a0-fe7d-e8f417f3e2cf"
      },
      "execution_count": 2,
      "outputs": [
        {
          "output_type": "stream",
          "name": "stdout",
          "text": [
            "\u001b[K     |████████████████████████████████| 189 kB 31.4 MB/s \n",
            "\u001b[K     |████████████████████████████████| 3.5 MB 61.0 MB/s \n",
            "\u001b[K     |████████████████████████████████| 6.8 MB 60.0 MB/s \n",
            "\u001b[K     |████████████████████████████████| 91 kB 14.0 MB/s \n",
            "\u001b[K     |████████████████████████████████| 56 kB 5.9 MB/s \n",
            "\u001b[K     |████████████████████████████████| 895 kB 57.6 MB/s \n",
            "\u001b[K     |████████████████████████████████| 596 kB 66.1 MB/s \n",
            "\u001b[K     |████████████████████████████████| 67 kB 6.7 MB/s \n",
            "\u001b[K     |████████████████████████████████| 1.2 MB 59.3 MB/s \n",
            "\u001b[K     |████████████████████████████████| 43 kB 2.7 MB/s \n",
            "\u001b[K     |████████████████████████████████| 311 kB 63.6 MB/s \n",
            "\u001b[K     |████████████████████████████████| 243 kB 68.9 MB/s \n",
            "\u001b[?25h  Building wheel for seqeval (setup.py) ... \u001b[?25l\u001b[?25hdone\n"
          ]
        }
      ]
    },
    {
      "cell_type": "code",
      "source": [
        "!huggingface-cli login"
      ],
      "metadata": {
        "id": "SeFZBm8aMHqI"
      },
      "execution_count": null,
      "outputs": []
    },
    {
      "cell_type": "code",
      "source": [
        "from fastai.text.all import *\n",
        "\n",
        "from transformers import (BertLMHeadModel,\n",
        "                          BertConfig,\n",
        "                          PreTrainedTokenizerFast)\n",
        "\n",
        "from blurr.modeling.language_modeling import (HF_LMBeforeBatchTransform, \n",
        "                                              HF_CausalLMInput, \n",
        "                                              CausalLMStrategy)\n",
        "\n",
        "from blurr.modeling.core import (HF_BaseModelWrapper, \n",
        "                                 HF_TextBlock)\n",
        "\n",
        "import pandas as pd\n",
        "from tqdm import tqdm\n",
        "\n",
        "DATASET = Path(\"/content/Datasets/\")\n",
        "\n",
        "tqdm.pandas(colour = 'red')"
      ],
      "metadata": {
        "id": "xXcR6juM7TeW"
      },
      "execution_count": 5,
      "outputs": []
    },
    {
      "cell_type": "code",
      "source": [
        "MalayalamTokenizer = PreTrainedTokenizerFast.from_pretrained(\"lkarjun/malayalam-language-model\", \n",
        "                                                    use_auth_token=True,\n",
        "                                                    )"
      ],
      "metadata": {
        "id": "FVgT2HTwLAz_"
      },
      "execution_count": 42,
      "outputs": []
    },
    {
      "cell_type": "markdown",
      "source": [
        "### Dataset Loading"
      ],
      "metadata": {
        "id": "DUns4ed6A-5M"
      }
    },
    {
      "cell_type": "code",
      "source": [
        "def open_text_files(f: str):\n",
        "  return Path(f).read_text(encoding=\"utf-8\")"
      ],
      "metadata": {
        "id": "ZXYyIO2jcrSh"
      },
      "execution_count": 26,
      "outputs": []
    },
    {
      "cell_type": "code",
      "source": [
        "files = ['article_files.csv', 'magazine_files.csv', 'wikitext_files.csv']\n",
        "df = pd.concat([pd.read_csv(DATASET/f) for f in files], ignore_index = True)"
      ],
      "metadata": {
        "id": "tUTpTfCQ8nAA"
      },
      "execution_count": 8,
      "outputs": []
    },
    {
      "cell_type": "code",
      "source": [
        "sample = df.iloc[:1000]\n",
        "len(sample)"
      ],
      "metadata": {
        "colab": {
          "base_uri": "https://localhost:8080/"
        },
        "id": "sbthgdv8OdDO",
        "outputId": "52d7e1a6-6de3-4893-f0d7-7d57ec56b632"
      },
      "execution_count": 164,
      "outputs": [
        {
          "output_type": "execute_result",
          "data": {
            "text/plain": [
              "1000"
            ]
          },
          "metadata": {},
          "execution_count": 164
        }
      ]
    },
    {
      "cell_type": "markdown",
      "source": [
        "### Model Config"
      ],
      "metadata": {
        "id": "tzIEERfGPTMl"
      }
    },
    {
      "cell_type": "markdown",
      "source": [
        "Default Bert Config \n",
        "\n",
        "( vocab_size = 30522 hidden_size = 768 num_hidden_layers = 12 num_attention_heads = 12 intermediate_size = 3072 hidden_act = 'gelu' hidden_dropout_prob = 0.1 attention_probs_dropout_prob = 0.1 max_position_embeddings = 512 type_vocab_size = 2 initializer_range = 0.02 layer_norm_eps = 1e-12 pad_token_id = 0 position_embedding_type = 'absolute'use_cache = Truec lassifier_dropout = None **kwargs )"
      ],
      "metadata": {
        "id": "Ro6faPRrRMdE"
      }
    },
    {
      "cell_type": "code",
      "source": [
        "CONFIG = BertConfig(\n",
        "            vocab_size=MalayalamTokenizer.vocab_size,\n",
        "            pad_token_id=MalayalamTokenizer.pad_token_id,\n",
        "            is_decoder=True,\n",
        "            name_or_path = \"lkarjun/malayalam-language-model\",\n",
        "            )\n"
      ],
      "metadata": {
        "id": "j6UQa5sAB_db"
      },
      "execution_count": 126,
      "outputs": []
    },
    {
      "cell_type": "code",
      "source": [
        "LModel = BertLMHeadModel(CONFIG)"
      ],
      "metadata": {
        "id": "aQtvlCqEUiRi"
      },
      "execution_count": 127,
      "outputs": []
    },
    {
      "cell_type": "code",
      "source": [
        ""
      ],
      "metadata": {
        "id": "z35Rz3S3XM3X"
      },
      "execution_count": 164,
      "outputs": []
    },
    {
      "cell_type": "markdown",
      "source": [
        "### Dataloder"
      ],
      "metadata": {
        "id": "ms3_XLMQX6OK"
      }
    },
    {
      "cell_type": "code",
      "source": [
        "train_bs, val_bs, train_sl, val_sl = 200, 256, 250, 300"
      ],
      "metadata": {
        "id": "qR8tedglskZ4"
      },
      "execution_count": 128,
      "outputs": []
    },
    {
      "cell_type": "code",
      "source": [
        "splits = RandomSplitter(valid_pct=.1, seed=7)(df)\n",
        "splits"
      ],
      "metadata": {
        "colab": {
          "base_uri": "https://localhost:8080/"
        },
        "id": "_si1T8aEqAEB",
        "outputId": "8a9e33c1-2b18-4528-ca5b-12918d5e0c81"
      },
      "execution_count": 129,
      "outputs": [
        {
          "output_type": "execute_result",
          "data": {
            "text/plain": [
              "((#31941) [3766,31980,26266,28238,1806,26070,5042,5295,130,25751...],\n",
              " (#3549) [26955,5036,13403,35141,30641,11352,31865,12251,2872,31166...])"
            ]
          },
          "metadata": {},
          "execution_count": 129
        }
      ]
    },
    {
      "cell_type": "code",
      "source": [
        ""
      ],
      "metadata": {
        "id": "pBEl_6E7s4Er"
      },
      "execution_count": 151,
      "outputs": []
    },
    {
      "cell_type": "code",
      "source": [
        "before_batch_tfm = HF_LMBeforeBatchTransform(\n",
        "                            hf_arch = None,\n",
        "                            hf_config = CONFIG,\n",
        "                            hf_tokenizer = MalayalamTokenizer,\n",
        "                            hf_model = LModel,\n",
        "                            lm_strategy_cls=CausalLMStrategy\n",
        "                    )"
      ],
      "metadata": {
        "id": "par7o3bW7Zbz"
      },
      "execution_count": 155,
      "outputs": []
    },
    {
      "cell_type": "code",
      "source": [
        "block = HF_TextBlock(before_batch_tfm = before_batch_tfm, \n",
        "                     input_return_type = HF_CausalLMInput)\n",
        "          "
      ],
      "metadata": {
        "id": "_pQiypuPEdj0"
      },
      "execution_count": 157,
      "outputs": []
    },
    {
      "cell_type": "code",
      "source": [
        "Mdblock = DataBlock(\n",
        "          blocks = block,\n",
        "          get_x = open_text_files,\n",
        "          get_items = ColReader(\"file_path\"),\n",
        "          splitter = RandomSplitter(valid_pct=.1, seed=7)\n",
        "      )"
      ],
      "metadata": {
        "id": "xnDozCBs8SuU"
      },
      "execution_count": 160,
      "outputs": []
    },
    {
      "cell_type": "code",
      "source": [
        "dls = Mdblock.dataloaders(sample, bs=2, seq_len = 32)"
      ],
      "metadata": {
        "id": "yV0WCKfH9U6X"
      },
      "execution_count": 165,
      "outputs": []
    },
    {
      "cell_type": "code",
      "source": [
        "dls.one_batch()"
      ],
      "metadata": {
        "id": "SO464wc3A4wW",
        "outputId": "c40c617e-7ee8-4e69-ce1e-6812de067998",
        "colab": {
          "base_uri": "https://localhost:8080/"
        }
      },
      "execution_count": 166,
      "outputs": [
        {
          "output_type": "execute_result",
          "data": {
            "text/plain": [
              "({'attention_mask': tensor([[1, 1, 1,  ..., 1, 1, 1],\n",
              "          [1, 1, 1,  ..., 0, 0, 0]], device='cuda:0'),\n",
              "  'input_ids': tensor([[    1,  8668, 60382,  ...,  7554,    19,     2],\n",
              "          [    1, 12567, 47071,  ...,     3,     3,     3]], device='cuda:0'),\n",
              "  'token_type_ids': tensor([[0, 0, 0,  ..., 0, 0, 0],\n",
              "          [0, 0, 0,  ..., 0, 0, 0]], device='cuda:0')},)"
            ]
          },
          "metadata": {},
          "execution_count": 166
        }
      ]
    },
    {
      "cell_type": "code",
      "source": [
        ""
      ],
      "metadata": {
        "id": "Kc_WApwEDyTA"
      },
      "execution_count": null,
      "outputs": []
    }
  ],
  "metadata": {
    "language_info": {
      "name": "python"
    },
    "orig_nbformat": 4,
    "colab": {
      "name": "malayalam-language-model.ipynb",
      "provenance": [],
      "include_colab_link": true
    },
    "kernelspec": {
      "name": "python3",
      "display_name": "Python 3"
    },
    "accelerator": "GPU"
  },
  "nbformat": 4,
  "nbformat_minor": 0
}