{
  "cells": [
    {
      "cell_type": "markdown",
      "metadata": {
        "id": "view-in-github",
        "colab_type": "text"
      },
      "source": [
        "<a href=\"https://colab.research.google.com/github/lkarjun/malayalam-language-model/blob/language-model/Malayalam-Language-Model/malayalam-language-model.ipynb\" target=\"_parent\"><img src=\"https://colab.research.google.com/assets/colab-badge.svg\" alt=\"Open In Colab\"/></a>"
      ]
    },
    {
      "cell_type": "markdown",
      "source": [
        "## Dataset Downloading"
      ],
      "metadata": {
        "id": "V1ZOJD9N7baL"
      }
    },
    {
      "cell_type": "code",
      "source": [
        "!pip install -qq dvc[gdrive]\n",
        "\n",
        "!dvc get https://github.com/lkarjun/malayalam-language-model \\\n",
        "Datasets/\n",
        "\n",
        "!unzip -q 'Datasets/*.zip' -d Datasets/"
      ],
      "metadata": {
        "id": "_9KbU26l7Yuz",
        "outputId": "6d4ec881-1afa-496f-db67-0b67a6f658f7",
        "colab": {
          "base_uri": "https://localhost:8080/"
        }
      },
      "execution_count": 1,
      "outputs": [
        {
          "output_type": "stream",
          "name": "stdout",
          "text": [
            "\u001b[K     |████████████████████████████████| 401 kB 5.4 MB/s \n",
            "\u001b[K     |████████████████████████████████| 41 kB 32 kB/s \n",
            "\u001b[K     |████████████████████████████████| 280 kB 34.5 MB/s \n",
            "\u001b[K     |████████████████████████████████| 217 kB 20.5 MB/s \n",
            "\u001b[K     |████████████████████████████████| 109 kB 54.3 MB/s \n",
            "\u001b[K     |████████████████████████████████| 44 kB 2.8 MB/s \n",
            "\u001b[K     |████████████████████████████████| 49 kB 5.5 MB/s \n",
            "\u001b[K     |████████████████████████████████| 48 kB 4.9 MB/s \n",
            "\u001b[K     |████████████████████████████████| 133 kB 50.6 MB/s \n",
            "\u001b[K     |████████████████████████████████| 180 kB 55.9 MB/s \n",
            "\u001b[K     |████████████████████████████████| 287 kB 43.8 MB/s \n",
            "\u001b[K     |████████████████████████████████| 4.5 MB 46.7 MB/s \n",
            "\u001b[K     |████████████████████████████████| 548 kB 47.6 MB/s \n",
            "\u001b[K     |████████████████████████████████| 1.1 MB 42.3 MB/s \n",
            "\u001b[K     |████████████████████████████████| 3.6 MB 36.7 MB/s \n",
            "\u001b[K     |████████████████████████████████| 63 kB 1.7 MB/s \n",
            "\u001b[K     |████████████████████████████████| 55 kB 3.8 MB/s \n",
            "\u001b[K     |████████████████████████████████| 229 kB 50.9 MB/s \n",
            "\u001b[K     |████████████████████████████████| 2.6 MB 39.1 MB/s \n",
            "\u001b[K     |████████████████████████████████| 53 kB 1.6 MB/s \n",
            "\u001b[K     |████████████████████████████████| 51 kB 6.7 MB/s \n",
            "\u001b[K     |████████████████████████████████| 546 kB 39.1 MB/s \n",
            "\u001b[K     |████████████████████████████████| 271 kB 46.0 MB/s \n",
            "\u001b[K     |████████████████████████████████| 94 kB 3.2 MB/s \n",
            "\u001b[K     |████████████████████████████████| 144 kB 49.0 MB/s \n",
            "\u001b[?25h  Building wheel for configobj (setup.py) ... \u001b[?25l\u001b[?25hdone\n",
            "  Building wheel for nanotime (setup.py) ... \u001b[?25l\u001b[?25hdone\n",
            "  Building wheel for pygtrie (setup.py) ... \u001b[?25l\u001b[?25hdone\n",
            "  Building wheel for voluptuous (setup.py) ... \u001b[?25l\u001b[?25hdone\n",
            "  Building wheel for mailchecker (setup.py) ... \u001b[?25l\u001b[?25hdone\n",
            "Downloading directory:  14% 1/7 [00:00<00:01,  3.25Files/s{'info': ''}]Go to the following link in your browser:\n",
            "\n",
            "    https://accounts.google.com/o/oauth2/auth?client_id=710796635688-iivsgbgsb6uv1fap6635dhvuei09o66c.apps.googleusercontent.com&redirect_uri=urn%3Aietf%3Awg%3Aoauth%3A2.0%3Aoob&scope=https%3A%2F%2Fwww.googleapis.com%2Fauth%2Fdrive+https%3A%2F%2Fwww.googleapis.com%2Fauth%2Fdrive.appdata&access_type=offline&response_type=code&approval_prompt=force\n",
            "\n",
            "Enter verification code: 4/1AX4XfWhRztbmxTMkXa3Wbkas6NuSuXmsQm0IqBzCEna6LPMfP-Kf6nicUWY\n",
            "Authentication successful.\n",
            "\u001b[0m\n",
            "3 archives were successfully processed.\n"
          ]
        }
      ]
    },
    {
      "cell_type": "markdown",
      "metadata": {
        "id": "_sK9FQnG7NMS"
      },
      "source": [
        "## Malayalam Language Model"
      ]
    },
    {
      "cell_type": "markdown",
      "source": [
        "### Imports"
      ],
      "metadata": {
        "id": "6P0TuL5D8FEH"
      }
    },
    {
      "cell_type": "code",
      "source": [
        "# !pip install -Uqq fastai\n",
        "from fastai.text.all import *\n",
        "\n",
        "import pandas as pd\n",
        "\n",
        "DATASET = Path(\"Datasets/\")"
      ],
      "metadata": {
        "id": "xXcR6juM7TeW"
      },
      "execution_count": 11,
      "outputs": []
    },
    {
      "cell_type": "markdown",
      "source": [
        "### Dataset Loading"
      ],
      "metadata": {
        "id": "DUns4ed6A-5M"
      }
    },
    {
      "cell_type": "code",
      "source": [
        "articles = pd.read_csv(DATASET/'article_files.csv')\n",
        "magazines = pd.read_csv(DATASET/'magazine_files.csv')\n",
        "wikitexts = pd.read_csv(DATASET/'wikitext_files.csv')\n",
        "\n",
        "df = pd.concat([articles, magazines, wikitexts])"
      ],
      "metadata": {
        "id": "tUTpTfCQ8nAA"
      },
      "execution_count": 17,
      "outputs": []
    },
    {
      "cell_type": "code",
      "source": [
        "del articles, magazines, wikitexts"
      ],
      "metadata": {
        "id": "QcBQKiPH8kHY"
      },
      "execution_count": 18,
      "outputs": []
    },
    {
      "cell_type": "code",
      "source": [
        ""
      ],
      "metadata": {
        "id": "j6UQa5sAB_db"
      },
      "execution_count": 19,
      "outputs": []
    },
    {
      "cell_type": "code",
      "source": [
        ""
      ],
      "metadata": {
        "id": "iYz3GFRZCAlj"
      },
      "execution_count": null,
      "outputs": []
    },
    {
      "cell_type": "code",
      "source": [
        ""
      ],
      "metadata": {
        "id": "HxOaFOoxCKNn"
      },
      "execution_count": null,
      "outputs": []
    }
  ],
  "metadata": {
    "language_info": {
      "name": "python"
    },
    "orig_nbformat": 4,
    "colab": {
      "name": "malayalam-language-model.ipynb",
      "provenance": [],
      "include_colab_link": true
    },
    "kernelspec": {
      "name": "python3",
      "display_name": "Python 3"
    }
  },
  "nbformat": 4,
  "nbformat_minor": 0
}