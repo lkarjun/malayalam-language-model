{
 "cells": [
  {
   "cell_type": "markdown",
   "id": "114cca69",
   "metadata": {},
   "source": [
    "## Packages importing"
   ]
  },
  {
   "cell_type": "code",
   "execution_count": null,
   "id": "d45dfa62",
   "metadata": {},
   "outputs": [],
   "source": []
  },
  {
   "cell_type": "code",
   "execution_count": 14,
   "id": "5d5f2c7c",
   "metadata": {},
   "outputs": [],
   "source": [
    "import pandas as pd\n",
    "from pathlib import Path\n",
    "from tqdm import tqdm\n",
    "import seaborn as sns\n",
    "import matplotlib.pyplot as plt\n",
    "import re\n",
    "import numpy as np\n",
    "\n",
    "BASE_PATH = Path(\"../Datasets/\")\n",
    "\n",
    "sns.set()\n",
    "tqdm.pandas(colour='red')"
   ]
  },
  {
   "cell_type": "markdown",
   "id": "76ca8e81",
   "metadata": {},
   "source": [
    " ### Loading data"
   ]
  },
  {
   "cell_type": "code",
   "execution_count": 15,
   "id": "500fcbc2",
   "metadata": {},
   "outputs": [],
   "source": [
    "def get_text_files(file_name: str):\n",
    "    '''open file and return the content'''\n",
    "    with open(f'../{file_name}', \"r\", encoding=\"utf8\") as file:\n",
    "        txt = file.read()\n",
    "    return txt"
   ]
  },
  {
   "cell_type": "code",
   "execution_count": 10,
   "id": "da377471",
   "metadata": {},
   "outputs": [],
   "source": [
    "wiki = pd.read_csv(BASE_PATH/'wikitext_files.csv')\n",
    "mag = pd.read_csv(BASE_PATH/'magazine_files.csv')\n",
    "art = pd.read_csv(BASE_PATH/'article_files.csv')"
   ]
  },
  {
   "cell_type": "code",
   "execution_count": 11,
   "id": "f5818a90",
   "metadata": {},
   "outputs": [
    {
     "data": {
      "text/html": [
       "<div>\n",
       "<style scoped>\n",
       "    .dataframe tbody tr th:only-of-type {\n",
       "        vertical-align: middle;\n",
       "    }\n",
       "\n",
       "    .dataframe tbody tr th {\n",
       "        vertical-align: top;\n",
       "    }\n",
       "\n",
       "    .dataframe thead th {\n",
       "        text-align: right;\n",
       "    }\n",
       "</style>\n",
       "<table border=\"1\" class=\"dataframe\">\n",
       "  <thead>\n",
       "    <tr style=\"text-align: right;\">\n",
       "      <th></th>\n",
       "      <th>file_path</th>\n",
       "      <th>dataset_name</th>\n",
       "      <th>length</th>\n",
       "    </tr>\n",
       "  </thead>\n",
       "  <tbody>\n",
       "    <tr>\n",
       "      <th>9233</th>\n",
       "      <td>Datasets/wikitext_raw/wiki10206.txt</td>\n",
       "      <td>wiki_text</td>\n",
       "      <td>1281</td>\n",
       "    </tr>\n",
       "    <tr>\n",
       "      <th>6234</th>\n",
       "      <td>Datasets/wikitext_raw/wiki6890.txt</td>\n",
       "      <td>wiki_text</td>\n",
       "      <td>2870</td>\n",
       "    </tr>\n",
       "    <tr>\n",
       "      <th>5647</th>\n",
       "      <td>Datasets/wikitext_raw/wiki6253.txt</td>\n",
       "      <td>wiki_text</td>\n",
       "      <td>22070</td>\n",
       "    </tr>\n",
       "    <tr>\n",
       "      <th>2522</th>\n",
       "      <td>Datasets/wikitext_raw/wiki2793.txt</td>\n",
       "      <td>wiki_text</td>\n",
       "      <td>7135</td>\n",
       "    </tr>\n",
       "  </tbody>\n",
       "</table>\n",
       "</div>"
      ],
      "text/plain": [
       "                                file_path dataset_name  length\n",
       "9233  Datasets/wikitext_raw/wiki10206.txt    wiki_text    1281\n",
       "6234   Datasets/wikitext_raw/wiki6890.txt    wiki_text    2870\n",
       "5647   Datasets/wikitext_raw/wiki6253.txt    wiki_text   22070\n",
       "2522   Datasets/wikitext_raw/wiki2793.txt    wiki_text    7135"
      ]
     },
     "execution_count": 11,
     "metadata": {},
     "output_type": "execute_result"
    }
   ],
   "source": [
    "wiki.sample(4, random_state=34)"
   ]
  },
  {
   "cell_type": "code",
   "execution_count": 12,
   "id": "a8e4470e-5e28-4811-826b-c5f7a4b5ff23",
   "metadata": {},
   "outputs": [
    {
     "data": {
      "text/html": [
       "<div>\n",
       "<style scoped>\n",
       "    .dataframe tbody tr th:only-of-type {\n",
       "        vertical-align: middle;\n",
       "    }\n",
       "\n",
       "    .dataframe tbody tr th {\n",
       "        vertical-align: top;\n",
       "    }\n",
       "\n",
       "    .dataframe thead th {\n",
       "        text-align: right;\n",
       "    }\n",
       "</style>\n",
       "<table border=\"1\" class=\"dataframe\">\n",
       "  <thead>\n",
       "    <tr style=\"text-align: right;\">\n",
       "      <th></th>\n",
       "      <th>file_path</th>\n",
       "      <th>dataset_name</th>\n",
       "      <th>length</th>\n",
       "    </tr>\n",
       "  </thead>\n",
       "  <tbody>\n",
       "    <tr>\n",
       "      <th>2470</th>\n",
       "      <td>Datasets/magazine_raw/mag2526.txt</td>\n",
       "      <td>magazine_text</td>\n",
       "      <td>8254</td>\n",
       "    </tr>\n",
       "    <tr>\n",
       "      <th>1034</th>\n",
       "      <td>Datasets/magazine_raw/mag1060.txt</td>\n",
       "      <td>magazine_text</td>\n",
       "      <td>2978</td>\n",
       "    </tr>\n",
       "    <tr>\n",
       "      <th>6206</th>\n",
       "      <td>Datasets/magazine_raw/mag6452.txt</td>\n",
       "      <td>magazine_text</td>\n",
       "      <td>10577</td>\n",
       "    </tr>\n",
       "    <tr>\n",
       "      <th>5218</th>\n",
       "      <td>Datasets/magazine_raw/mag5410.txt</td>\n",
       "      <td>magazine_text</td>\n",
       "      <td>1002</td>\n",
       "    </tr>\n",
       "  </tbody>\n",
       "</table>\n",
       "</div>"
      ],
      "text/plain": [
       "                              file_path   dataset_name  length\n",
       "2470  Datasets/magazine_raw/mag2526.txt  magazine_text    8254\n",
       "1034  Datasets/magazine_raw/mag1060.txt  magazine_text    2978\n",
       "6206  Datasets/magazine_raw/mag6452.txt  magazine_text   10577\n",
       "5218  Datasets/magazine_raw/mag5410.txt  magazine_text    1002"
      ]
     },
     "execution_count": 12,
     "metadata": {},
     "output_type": "execute_result"
    }
   ],
   "source": [
    "mag.sample(4, random_state=42)"
   ]
  },
  {
   "cell_type": "code",
   "execution_count": 16,
   "id": "ba6adac3",
   "metadata": {
    "scrolled": true
   },
   "outputs": [
    {
     "name": "stderr",
     "output_type": "stream",
     "text": [
      "100%|\u001b[31m██████████\u001b[0m| 11227/11227 [04:44<00:00, 39.51it/s]\n",
      "100%|\u001b[31m██████████\u001b[0m| 7539/7539 [02:35<00:00, 48.36it/s]\n",
      "100%|\u001b[31m██████████\u001b[0m| 16844/16844 [02:57<00:00, 94.82it/s] \n"
     ]
    }
   ],
   "source": [
    "wiki['content'] = wiki['file_path'].progress_map(get_text_files)\n",
    "mag['content'] = mag['file_path'].progress_map(get_text_files)\n",
    "art['content'] = art['file_path'].progress_map(get_text_files)"
   ]
  },
  {
   "cell_type": "code",
   "execution_count": 18,
   "id": "7a51181f",
   "metadata": {},
   "outputs": [
    {
     "data": {
      "text/html": [
       "<div>\n",
       "<style scoped>\n",
       "    .dataframe tbody tr th:only-of-type {\n",
       "        vertical-align: middle;\n",
       "    }\n",
       "\n",
       "    .dataframe tbody tr th {\n",
       "        vertical-align: top;\n",
       "    }\n",
       "\n",
       "    .dataframe thead th {\n",
       "        text-align: right;\n",
       "    }\n",
       "</style>\n",
       "<table border=\"1\" class=\"dataframe\">\n",
       "  <thead>\n",
       "    <tr style=\"text-align: right;\">\n",
       "      <th></th>\n",
       "      <th>file_path</th>\n",
       "      <th>dataset_name</th>\n",
       "      <th>length</th>\n",
       "      <th>content</th>\n",
       "    </tr>\n",
       "  </thead>\n",
       "  <tbody>\n",
       "    <tr>\n",
       "      <th>1516</th>\n",
       "      <td>Datasets/magazine_raw/mag1550.txt</td>\n",
       "      <td>magazine_text</td>\n",
       "      <td>3050</td>\n",
       "      <td>രാജസ്ഥാനിലെ ജോധ്പുർ ജില്ലയിൽ, പാകിസ്ഥാനിൽ നിന്...</td>\n",
       "    </tr>\n",
       "    <tr>\n",
       "      <th>6784</th>\n",
       "      <td>Datasets/magazine_raw/mag7063.txt</td>\n",
       "      <td>magazine_text</td>\n",
       "      <td>6789</td>\n",
       "      <td>നാലാം ക്ലാസ് വരെ പ്രണയം എന്തെന്ന് ഞാന്‍ അറിഞ്...</td>\n",
       "    </tr>\n",
       "    <tr>\n",
       "      <th>6370</th>\n",
       "      <td>Datasets/magazine_raw/mag6622.txt</td>\n",
       "      <td>magazine_text</td>\n",
       "      <td>5627</td>\n",
       "      <td>രാത്രികളില്‍ ഒറ്റയ്ക്ക് ഇറങ്ങിനടക്കാന്‍ കഴിയാത...</td>\n",
       "    </tr>\n",
       "    <tr>\n",
       "      <th>2810</th>\n",
       "      <td>Datasets/magazine_raw/mag2870.txt</td>\n",
       "      <td>magazine_text</td>\n",
       "      <td>3682</td>\n",
       "      <td>ഗാന്ധിജി എന്നത് സമാധാനം എന്ന വാക്കിന്റെ പര്യായ...</td>\n",
       "    </tr>\n",
       "  </tbody>\n",
       "</table>\n",
       "</div>"
      ],
      "text/plain": [
       "                              file_path   dataset_name  length  \\\n",
       "1516  Datasets/magazine_raw/mag1550.txt  magazine_text    3050   \n",
       "6784  Datasets/magazine_raw/mag7063.txt  magazine_text    6789   \n",
       "6370  Datasets/magazine_raw/mag6622.txt  magazine_text    5627   \n",
       "2810  Datasets/magazine_raw/mag2870.txt  magazine_text    3682   \n",
       "\n",
       "                                                content  \n",
       "1516  രാജസ്ഥാനിലെ ജോധ്പുർ ജില്ലയിൽ, പാകിസ്ഥാനിൽ നിന്...  \n",
       "6784   നാലാം ക്ലാസ് വരെ പ്രണയം എന്തെന്ന് ഞാന്‍ അറിഞ്...  \n",
       "6370  രാത്രികളില്‍ ഒറ്റയ്ക്ക് ഇറങ്ങിനടക്കാന്‍ കഴിയാത...  \n",
       "2810  ഗാന്ധിജി എന്നത് സമാധാനം എന്ന വാക്കിന്റെ പര്യായ...  "
      ]
     },
     "execution_count": 18,
     "metadata": {},
     "output_type": "execute_result"
    }
   ],
   "source": [
    "mag.sample(4)"
   ]
  },
  {
   "cell_type": "code",
   "execution_count": 19,
   "id": "567283ac-ad76-4e71-8045-83bcf74c928c",
   "metadata": {},
   "outputs": [
    {
     "data": {
      "text/html": [
       "<div>\n",
       "<style scoped>\n",
       "    .dataframe tbody tr th:only-of-type {\n",
       "        vertical-align: middle;\n",
       "    }\n",
       "\n",
       "    .dataframe tbody tr th {\n",
       "        vertical-align: top;\n",
       "    }\n",
       "\n",
       "    .dataframe thead th {\n",
       "        text-align: right;\n",
       "    }\n",
       "</style>\n",
       "<table border=\"1\" class=\"dataframe\">\n",
       "  <thead>\n",
       "    <tr style=\"text-align: right;\">\n",
       "      <th></th>\n",
       "      <th>file_path</th>\n",
       "      <th>dataset_name</th>\n",
       "      <th>length</th>\n",
       "      <th>content</th>\n",
       "    </tr>\n",
       "  </thead>\n",
       "  <tbody>\n",
       "    <tr>\n",
       "      <th>1558</th>\n",
       "      <td>Datasets/wikitext_raw/wiki1728.txt</td>\n",
       "      <td>wiki_text</td>\n",
       "      <td>995</td>\n",
       "      <td>സമൃദ്ധിയുടേയും ഉർവരതയുടേയും ദേവതയാണു ലജ്ജാ ഗൗര...</td>\n",
       "    </tr>\n",
       "    <tr>\n",
       "      <th>1274</th>\n",
       "      <td>Datasets/wikitext_raw/wiki1415.txt</td>\n",
       "      <td>wiki_text</td>\n",
       "      <td>2244</td>\n",
       "      <td>ഇന്ത്യൻ സ്പേസ് റിസർച്ച് ഓർഗനൈസേഷൻ വികസിപ്പിച്ച...</td>\n",
       "    </tr>\n",
       "    <tr>\n",
       "      <th>7967</th>\n",
       "      <td>Datasets/wikitext_raw/wiki8807.txt</td>\n",
       "      <td>wiki_text</td>\n",
       "      <td>3264</td>\n",
       "      <td>ഇൽതുമിഷ് ഇന്ത്യ ഭരിച്ച അടിമ വംശത്തിലെ സുൽത്താൻ...</td>\n",
       "    </tr>\n",
       "    <tr>\n",
       "      <th>7921</th>\n",
       "      <td>Datasets/wikitext_raw/wiki8757.txt</td>\n",
       "      <td>wiki_text</td>\n",
       "      <td>8925</td>\n",
       "      <td>ഹെബ്രായ-ബൈബിളിൽ, ഒരു യുവാവിന്റേയും യുവതിയുടേയു...</td>\n",
       "    </tr>\n",
       "  </tbody>\n",
       "</table>\n",
       "</div>"
      ],
      "text/plain": [
       "                               file_path dataset_name  length  \\\n",
       "1558  Datasets/wikitext_raw/wiki1728.txt    wiki_text     995   \n",
       "1274  Datasets/wikitext_raw/wiki1415.txt    wiki_text    2244   \n",
       "7967  Datasets/wikitext_raw/wiki8807.txt    wiki_text    3264   \n",
       "7921  Datasets/wikitext_raw/wiki8757.txt    wiki_text    8925   \n",
       "\n",
       "                                                content  \n",
       "1558  സമൃദ്ധിയുടേയും ഉർവരതയുടേയും ദേവതയാണു ലജ്ജാ ഗൗര...  \n",
       "1274  ഇന്ത്യൻ സ്പേസ് റിസർച്ച് ഓർഗനൈസേഷൻ വികസിപ്പിച്ച...  \n",
       "7967  ഇൽതുമിഷ് ഇന്ത്യ ഭരിച്ച അടിമ വംശത്തിലെ സുൽത്താൻ...  \n",
       "7921  ഹെബ്രായ-ബൈബിളിൽ, ഒരു യുവാവിന്റേയും യുവതിയുടേയു...  "
      ]
     },
     "execution_count": 19,
     "metadata": {},
     "output_type": "execute_result"
    }
   ],
   "source": [
    "wiki.sample(4)"
   ]
  },
  {
   "cell_type": "code",
   "execution_count": 20,
   "id": "d07ee959",
   "metadata": {},
   "outputs": [
    {
     "data": {
      "text/html": [
       "<div>\n",
       "<style scoped>\n",
       "    .dataframe tbody tr th:only-of-type {\n",
       "        vertical-align: middle;\n",
       "    }\n",
       "\n",
       "    .dataframe tbody tr th {\n",
       "        vertical-align: top;\n",
       "    }\n",
       "\n",
       "    .dataframe thead th {\n",
       "        text-align: right;\n",
       "    }\n",
       "</style>\n",
       "<table border=\"1\" class=\"dataframe\">\n",
       "  <thead>\n",
       "    <tr style=\"text-align: right;\">\n",
       "      <th></th>\n",
       "      <th>file_path</th>\n",
       "      <th>dataset_name</th>\n",
       "      <th>length</th>\n",
       "      <th>content</th>\n",
       "    </tr>\n",
       "  </thead>\n",
       "  <tbody>\n",
       "    <tr>\n",
       "      <th>1740</th>\n",
       "      <td>Datasets\\articles_raw\\article1740.txt</td>\n",
       "      <td>article_text</td>\n",
       "      <td>1712</td>\n",
       "      <td>മഹാരാഷ്ട്രയിലെ പൂന്തോപ്പുകളിലും വഴിയോരങ്ങളിലും...</td>\n",
       "    </tr>\n",
       "    <tr>\n",
       "      <th>165</th>\n",
       "      <td>Datasets\\articles_raw\\article165.txt</td>\n",
       "      <td>article_text</td>\n",
       "      <td>6145</td>\n",
       "      <td>പിറ്റേന്ന് നേരം വെളുത്തപ്പോള്‍, ഇന്നലെ നടന്നതെ...</td>\n",
       "    </tr>\n",
       "    <tr>\n",
       "      <th>9997</th>\n",
       "      <td>Datasets\\articles_raw\\article9997.txt</td>\n",
       "      <td>article_text</td>\n",
       "      <td>6323</td>\n",
       "      <td>ബാരക്കിലെ ഒ.വി വിജയൻ (കഥ) മൂവന്തിയിലെ ഇരുട്ട് ...</td>\n",
       "    </tr>\n",
       "    <tr>\n",
       "      <th>268</th>\n",
       "      <td>Datasets\\articles_raw\\article268.txt</td>\n",
       "      <td>article_text</td>\n",
       "      <td>6727</td>\n",
       "      <td>ചരിത്രസ്മാരക ങ്ങളിലേക്കുള്ള യാത്രയ്ക്കിടയില്‍ ...</td>\n",
       "    </tr>\n",
       "  </tbody>\n",
       "</table>\n",
       "</div>"
      ],
      "text/plain": [
       "                                  file_path  dataset_name  length  \\\n",
       "1740  Datasets\\articles_raw\\article1740.txt  article_text    1712   \n",
       "165    Datasets\\articles_raw\\article165.txt  article_text    6145   \n",
       "9997  Datasets\\articles_raw\\article9997.txt  article_text    6323   \n",
       "268    Datasets\\articles_raw\\article268.txt  article_text    6727   \n",
       "\n",
       "                                                content  \n",
       "1740  മഹാരാഷ്ട്രയിലെ പൂന്തോപ്പുകളിലും വഴിയോരങ്ങളിലും...  \n",
       "165   പിറ്റേന്ന് നേരം വെളുത്തപ്പോള്‍, ഇന്നലെ നടന്നതെ...  \n",
       "9997  ബാരക്കിലെ ഒ.വി വിജയൻ (കഥ) മൂവന്തിയിലെ ഇരുട്ട് ...  \n",
       "268   ചരിത്രസ്മാരക ങ്ങളിലേക്കുള്ള യാത്രയ്ക്കിടയില്‍ ...  "
      ]
     },
     "execution_count": 20,
     "metadata": {},
     "output_type": "execute_result"
    }
   ],
   "source": [
    "art.sample(4)"
   ]
  },
  {
   "cell_type": "markdown",
   "id": "4557bd9f",
   "metadata": {},
   "source": [
    "### Analysing"
   ]
  },
  {
   "cell_type": "code",
   "execution_count": 24,
   "id": "67c07eb9",
   "metadata": {},
   "outputs": [
    {
     "data": {
      "image/png": "[encoded data removed]",
      "text/plain": [
       "<Figure size 1008x216 with 3 Axes>"
      ]
     },
     "metadata": {},
     "output_type": "display_data"
    }
   ],
   "source": [
    "fig, ax = plt.subplots(ncols = 3, nrows = 1, figsize = (14, 3))\n",
    "\n",
    "sns.histplot(wiki['length'], ax = ax[0], color = 'green', label=\"Wiki dataset\")\n",
    "sns.histplot(mag['length'], ax = ax[1], color = 'red', label=\"Mag dataset\")\n",
    "sns.histplot(art['length'], ax = ax[2], color='blue', label='Art datdaset')\n",
    "\n",
    "ax[0].legend()\n",
    "ax[1].legend()\n",
    "ax[2].legend()\n",
    "ax[0].set_title('Wiki text length distribution')\n",
    "ax[1].set_title('Magazine text length distribution')\n",
    "ax[1].set_title('Article text length distribution')\n",
    "\n",
    "plt.show()"
   ]
  },
  {
   "cell_type": "code",
   "execution_count": null,
   "id": "95a00a26-2aad-45ba-ae8f-d10e5ab616a6",
   "metadata": {},
   "outputs": [],
   "source": []
  },
  {
   "cell_type": "markdown",
   "id": "2cdadf15-f0d0-4bcc-bb5e-b5607f89360f",
   "metadata": {},
   "source": [
    "#### Checking for Duplicates"
   ]
  },
  {
   "cell_type": "code",
   "execution_count": 53,
   "id": "d7bb7409-af4f-440f-b586-c203c4a8b7a4",
   "metadata": {},
   "outputs": [
    {
     "data": {
      "image/png": "[encoded data removed]",
      "text/plain": [
       "<Figure size 432x288 with 1 Axes>"
      ]
     },
     "metadata": {},
     "output_type": "display_data"
    }
   ],
   "source": [
    "wiki['length'].value_counts().head(10).plot.barh();"
   ]
  },
  {
   "cell_type": "code",
   "execution_count": 55,
   "id": "b6e9dad6-7f6e-4004-ac8b-d12fd8cfbf56",
   "metadata": {},
   "outputs": [
    {
     "data": {
      "text/html": [
       "<div>\n",
       "<style scoped>\n",
       "    .dataframe tbody tr th:only-of-type {\n",
       "        vertical-align: middle;\n",
       "    }\n",
       "\n",
       "    .dataframe tbody tr th {\n",
       "        vertical-align: top;\n",
       "    }\n",
       "\n",
       "    .dataframe thead th {\n",
       "        text-align: right;\n",
       "    }\n",
       "</style>\n",
       "<table border=\"1\" class=\"dataframe\">\n",
       "  <thead>\n",
       "    <tr style=\"text-align: right;\">\n",
       "      <th></th>\n",
       "      <th>length</th>\n",
       "    </tr>\n",
       "  </thead>\n",
       "  <tbody>\n",
       "    <tr>\n",
       "      <th>count</th>\n",
       "      <td>12388.000000</td>\n",
       "    </tr>\n",
       "    <tr>\n",
       "      <th>mean</th>\n",
       "      <td>2269.721101</td>\n",
       "    </tr>\n",
       "    <tr>\n",
       "      <th>std</th>\n",
       "      <td>4845.988836</td>\n",
       "    </tr>\n",
       "    <tr>\n",
       "      <th>min</th>\n",
       "      <td>0.000000</td>\n",
       "    </tr>\n",
       "    <tr>\n",
       "      <th>25%</th>\n",
       "      <td>451.750000</td>\n",
       "    </tr>\n",
       "    <tr>\n",
       "      <th>50%</th>\n",
       "      <td>959.000000</td>\n",
       "    </tr>\n",
       "    <tr>\n",
       "      <th>75%</th>\n",
       "      <td>2200.000000</td>\n",
       "    </tr>\n",
       "    <tr>\n",
       "      <th>max</th>\n",
       "      <td>106224.000000</td>\n",
       "    </tr>\n",
       "  </tbody>\n",
       "</table>\n",
       "</div>"
      ],
      "text/plain": [
       "              length\n",
       "count   12388.000000\n",
       "mean     2269.721101\n",
       "std      4845.988836\n",
       "min         0.000000\n",
       "25%       451.750000\n",
       "50%       959.000000\n",
       "75%      2200.000000\n",
       "max    106224.000000"
      ]
     },
     "execution_count": 55,
     "metadata": {},
     "output_type": "execute_result"
    }
   ],
   "source": [
    "wiki.describe()"
   ]
  },
  {
   "cell_type": "code",
   "execution_count": 79,
   "id": "06724f67-cd9b-45a8-a7ca-a6f7e3913302",
   "metadata": {},
   "outputs": [],
   "source": [
    "wiki = wiki[wiki['length'] >= 200]\n",
    "wiki.drop('content', axis =1).to_csv(BASE_PATH/\"wikitext_files.csv\", index = False)"
   ]
  },
  {
   "cell_type": "code",
   "execution_count": 60,
   "id": "f2701570-d074-4113-a136-290d61c0251c",
   "metadata": {},
   "outputs": [
    {
     "data": {
      "image/png": "[encoded data removed]",
      "text/plain": [
       "<Figure size 432x288 with 1 Axes>"
      ]
     },
     "metadata": {},
     "output_type": "display_data"
    }
   ],
   "source": [
    "wiki['length'].value_counts().head(10).plot.barh();"
   ]
  },
  {
   "cell_type": "code",
   "execution_count": 33,
   "id": "0c406509-ae99-441f-9a7c-af3d97090d60",
   "metadata": {},
   "outputs": [
    {
     "data": {
      "text/plain": [
       "3539     ലോകത്തിലെ ഏറ്റവും ഉയരം കൂടിയ കൊടുമുടികളിലൊന്നാ...\n",
       "7625     സമൃദ്ധിയുടേയും ഉർവരതയുടേയും ദേവതയാണു ലജ്ജാ ഗൗര...\n",
       "7943     പഞ്ചാബ് സംസ്ഥാനത്തെ കപൂർത്തല ജില്ലയിലെ ഒരു വില...\n",
       "3469     പഞ്ചാബ് സംസ്ഥാനത്തെ കപൂർത്തല ജില്ലയിലെ ഒരു വില...\n",
       "3607     പ്രശസ്ത ഗണിതശാസ്ത്രജ്ഞനും, സാമ്പത്തിക ശാസ്ത്രത...\n",
       "1558     സമൃദ്ധിയുടേയും ഉർവരതയുടേയും ദേവതയാണു ലജ്ജാ ഗൗര...\n",
       "7230     ഡഗ്മാറാ ഡോമിൻസ്കിക്ക് ഒരു പോളിഷ്-അമേരിക്കൻ അഭി...\n",
       "2037     ലോകത്തിലെ ഏറ്റവും ഉയരം കൂടിയ കൊടുമുടികളിലൊന്നാ...\n",
       "11138    ലോകത്തിലെ ഏറ്റവും ഉയരം കൂടിയ കൊടുമുടികളിലൊന്നാ...\n",
       "1647     ലോകത്തിലെ ഏറ്റവും ഉയരം കൂടിയ കൊടുമുടികളിലൊന്നാ...\n",
       "Name: content, dtype: object"
      ]
     },
     "execution_count": 33,
     "metadata": {},
     "output_type": "execute_result"
    }
   ],
   "source": [
    "wiki[wiki['length'] == 995]['content'].sample(10)\n",
    "# just keeping the data because we're going to build language model."
   ]
  },
  {
   "cell_type": "code",
   "execution_count": 34,
   "id": "33774c98",
   "metadata": {},
   "outputs": [
    {
     "data": {
      "text/plain": [
       "(11227, 8329)"
      ]
     },
     "execution_count": 34,
     "metadata": {},
     "output_type": "execute_result"
    }
   ],
   "source": [
    "len(wiki), len(wiki['content'].unique())"
   ]
  },
  {
   "cell_type": "code",
   "execution_count": null,
   "id": "17238445-2ad1-412f-982e-1e837a3e7986",
   "metadata": {},
   "outputs": [],
   "source": []
  },
  {
   "cell_type": "code",
   "execution_count": 69,
   "id": "9a9406c5-3c08-4630-8eaf-063ca15c392e",
   "metadata": {},
   "outputs": [
    {
     "data": {
      "image/png": "[encoded data removed]",
      "text/plain": [
       "<Figure size 432x288 with 1 Axes>"
      ]
     },
     "metadata": {},
     "output_type": "display_data"
    }
   ],
   "source": [
    "mag['length'].value_counts().head(10).plot.barh();"
   ]
  },
  {
   "cell_type": "code",
   "execution_count": 56,
   "id": "b9a5facc-e297-4227-bd63-5ea9c88ba180",
   "metadata": {},
   "outputs": [
    {
     "data": {
      "text/html": [
       "<div>\n",
       "<style scoped>\n",
       "    .dataframe tbody tr th:only-of-type {\n",
       "        vertical-align: middle;\n",
       "    }\n",
       "\n",
       "    .dataframe tbody tr th {\n",
       "        vertical-align: top;\n",
       "    }\n",
       "\n",
       "    .dataframe thead th {\n",
       "        text-align: right;\n",
       "    }\n",
       "</style>\n",
       "<table border=\"1\" class=\"dataframe\">\n",
       "  <thead>\n",
       "    <tr style=\"text-align: right;\">\n",
       "      <th></th>\n",
       "      <th>length</th>\n",
       "    </tr>\n",
       "  </thead>\n",
       "  <tbody>\n",
       "    <tr>\n",
       "      <th>count</th>\n",
       "      <td>7863.000000</td>\n",
       "    </tr>\n",
       "    <tr>\n",
       "      <th>mean</th>\n",
       "      <td>4887.352792</td>\n",
       "    </tr>\n",
       "    <tr>\n",
       "      <th>std</th>\n",
       "      <td>3907.649499</td>\n",
       "    </tr>\n",
       "    <tr>\n",
       "      <th>min</th>\n",
       "      <td>203.000000</td>\n",
       "    </tr>\n",
       "    <tr>\n",
       "      <th>25%</th>\n",
       "      <td>2417.000000</td>\n",
       "    </tr>\n",
       "    <tr>\n",
       "      <th>50%</th>\n",
       "      <td>3889.000000</td>\n",
       "    </tr>\n",
       "    <tr>\n",
       "      <th>75%</th>\n",
       "      <td>6188.000000</td>\n",
       "    </tr>\n",
       "    <tr>\n",
       "      <th>max</th>\n",
       "      <td>45545.000000</td>\n",
       "    </tr>\n",
       "  </tbody>\n",
       "</table>\n",
       "</div>"
      ],
      "text/plain": [
       "             length\n",
       "count   7863.000000\n",
       "mean    4887.352792\n",
       "std     3907.649499\n",
       "min      203.000000\n",
       "25%     2417.000000\n",
       "50%     3889.000000\n",
       "75%     6188.000000\n",
       "max    45545.000000"
      ]
     },
     "execution_count": 56,
     "metadata": {},
     "output_type": "execute_result"
    }
   ],
   "source": [
    "mag.describe()"
   ]
  },
  {
   "cell_type": "code",
   "execution_count": 77,
   "id": "61104ab8-47bb-4f3d-b2a7-1181bde3056c",
   "metadata": {},
   "outputs": [
    {
     "data": {
      "text/plain": [
       "5805    ഉള്ളിലുണ്ടാവും, തോരാതെ ചില മഴകള്‍. മഴക്കാലങ്ങള...\n",
       "2538    രാജ്യത്ത് ഉള്ളിവില വര്‍ദ്ധിച്ച് കിലോഗ്രാമിന് 2...\n",
       "1345    പെട്ടെന്നൊരു ദിവസം എല്ലാ മനുഷ്യരും ഉറുമ്പുകളായ...\n",
       "3910    കുഞ്ഞുങ്ങളുടെ വളര്‍ച്ചപോലെ മറ്റൊന്നില്ല. കുസൃത...\n",
       "6335    കുടുംബത്തോട് ഇണങ്ങിച്ചേരുന്ന വളര്‍ത്തുമൃഗമായാണ...\n",
       "2200    ഇന്ന് എണ്ണിയാലൊടുങ്ങാത്ത രോഗങ്ങളുടെ നാടുവിലാണ്...\n",
       "3993    കാണാമറയത്ത് നിങ്ങള്‍ അന്വേഷിക്കുന്ന പ്രിയപ്പെട...\n",
       "666     നിങ്ങളിൽ ആരെങ്കിലും ഒരു റഷ്യൻ ചാരനെ, ഒരു കെജിബ...\n",
       "Name: content, dtype: object"
      ]
     },
     "execution_count": 77,
     "metadata": {},
     "output_type": "execute_result"
    }
   ],
   "source": [
    "mag[mag['length'] == 3585]['content'].sample(8)\n",
    "# just keeping the data because we're going to build language model."
   ]
  },
  {
   "cell_type": "code",
   "execution_count": 32,
   "id": "3cdc4141-083b-40f0-bb32-fca4a07b6728",
   "metadata": {},
   "outputs": [
    {
     "data": {
      "text/plain": [
       "(7539, 7536)"
      ]
     },
     "execution_count": 32,
     "metadata": {},
     "output_type": "execute_result"
    }
   ],
   "source": [
    "len(mag), len(mag['content'].unique())"
   ]
  },
  {
   "cell_type": "code",
   "execution_count": null,
   "id": "8e1431b4",
   "metadata": {},
   "outputs": [],
   "source": []
  },
  {
   "cell_type": "code",
   "execution_count": 25,
   "id": "c4d1ff25",
   "metadata": {},
   "outputs": [
    {
     "data": {
      "image/png": "[encoded data removed]",
      "text/plain": [
       "<Figure size 432x288 with 1 Axes>"
      ]
     },
     "metadata": {},
     "output_type": "display_data"
    }
   ],
   "source": [
    "art['length'].value_counts().head(10).plot.barh();"
   ]
  },
  {
   "cell_type": "code",
   "execution_count": 31,
   "id": "af1ec15b",
   "metadata": {},
   "outputs": [
    {
     "data": {
      "text/html": [
       "<div>\n",
       "<style scoped>\n",
       "    .dataframe tbody tr th:only-of-type {\n",
       "        vertical-align: middle;\n",
       "    }\n",
       "\n",
       "    .dataframe tbody tr th {\n",
       "        vertical-align: top;\n",
       "    }\n",
       "\n",
       "    .dataframe thead th {\n",
       "        text-align: right;\n",
       "    }\n",
       "</style>\n",
       "<table border=\"1\" class=\"dataframe\">\n",
       "  <thead>\n",
       "    <tr style=\"text-align: right;\">\n",
       "      <th></th>\n",
       "      <th>length</th>\n",
       "    </tr>\n",
       "  </thead>\n",
       "  <tbody>\n",
       "    <tr>\n",
       "      <th>count</th>\n",
       "      <td>16844.000000</td>\n",
       "    </tr>\n",
       "    <tr>\n",
       "      <th>mean</th>\n",
       "      <td>3501.558656</td>\n",
       "    </tr>\n",
       "    <tr>\n",
       "      <th>std</th>\n",
       "      <td>6111.416941</td>\n",
       "    </tr>\n",
       "    <tr>\n",
       "      <th>min</th>\n",
       "      <td>1.000000</td>\n",
       "    </tr>\n",
       "    <tr>\n",
       "      <th>25%</th>\n",
       "      <td>1447.000000</td>\n",
       "    </tr>\n",
       "    <tr>\n",
       "      <th>50%</th>\n",
       "      <td>2432.000000</td>\n",
       "    </tr>\n",
       "    <tr>\n",
       "      <th>75%</th>\n",
       "      <td>4060.000000</td>\n",
       "    </tr>\n",
       "    <tr>\n",
       "      <th>max</th>\n",
       "      <td>499724.000000</td>\n",
       "    </tr>\n",
       "  </tbody>\n",
       "</table>\n",
       "</div>"
      ],
      "text/plain": [
       "              length\n",
       "count   16844.000000\n",
       "mean     3501.558656\n",
       "std      6111.416941\n",
       "min         1.000000\n",
       "25%      1447.000000\n",
       "50%      2432.000000\n",
       "75%      4060.000000\n",
       "max    499724.000000"
      ]
     },
     "execution_count": 31,
     "metadata": {},
     "output_type": "execute_result"
    }
   ],
   "source": [
    "art.describe()"
   ]
  },
  {
   "cell_type": "code",
   "execution_count": 28,
   "id": "21080078",
   "metadata": {},
   "outputs": [
    {
     "data": {
      "text/plain": [
       "13417    കഥകളിലും സിനിമകളിലും നിഗൂഢത പരത്തി പറന്നുനടന്ന...\n",
       "12648    പിച്ചവച്ചു നടക്കുന്ന  പ്രായത്തിൽത്തന്നെ തകർപ്പ...\n",
       "16782    കരിങ്കോഴി വളർത്തൽ ഏറ്റവും ലാഭകരമായ ബിസിനസാണെന്...\n",
       "5886     ബാഹ്യപ്രകൃതിയും സ്വഭാവ സവിശേഷതകളും അടിസ്ഥാനമാക...\n",
       "167      വിചിത്രവും ഭയമുളവാക്കുന്നതുമായ ധാരാളം ആചാരങ്ങള...\n",
       "15543    പറമ്പിക്കുളം കടുവ സങ്കേതത്തിലെ സന്ദർശക വിലക്ക്...\n",
       "8231     ഒരു സ്ത്രീ സന്യാസിയുടെ അടുത്തുചെന്നു സങ്കടം പറ...\n",
       "6111     കാല്‍നൂറ്റാണ്ടിലേറെയായി പശുവിനെ കുടുംബാംഗത്തെ ...\n",
       "Name: content, dtype: object"
      ]
     },
     "execution_count": 28,
     "metadata": {},
     "output_type": "execute_result"
    }
   ],
   "source": [
    "art[art['length'] == 1354]['content'].sample(8)"
   ]
  },
  {
   "cell_type": "code",
   "execution_count": 29,
   "id": "c683a8f5",
   "metadata": {},
   "outputs": [
    {
     "data": {
      "text/plain": [
       "(16844, 16719)"
      ]
     },
     "execution_count": 29,
     "metadata": {},
     "output_type": "execute_result"
    }
   ],
   "source": [
    "len(art), len(art['content'].unique())"
   ]
  }
 ],
 "metadata": {
  "kernelspec": {
   "display_name": "Python 3",
   "language": "python",
   "name": "python3"
  },
  "language_info": {
   "codemirror_mode": {
    "name": "ipython",
    "version": 3
   },
   "file_extension": ".py",
   "mimetype": "text/x-python",
   "name": "python",
   "nbconvert_exporter": "python",
   "pygments_lexer": "ipython3",
   "version": "3.9.5"
  }
 },
 "nbformat": 4,
 "nbformat_minor": 5
}
