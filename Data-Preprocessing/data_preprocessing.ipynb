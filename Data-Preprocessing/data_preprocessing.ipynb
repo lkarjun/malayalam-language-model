{
  "cells": [
    {
      "cell_type": "markdown",
      "metadata": {
        "id": "view-in-github",
        "colab_type": "text"
      },
      "source": [
        "<a href=\"https://colab.research.google.com/github/lkarjun/malayalam-language-model/blob/main/Data-Preprocessing/data_preprocessing.ipynb\" target=\"_parent\"><img src=\"https://colab.research.google.com/assets/colab-badge.svg\" alt=\"Open In Colab\"/></a>"
      ]
    },
    {
      "cell_type": "markdown",
      "id": "-weJG0B6F5iN",
      "metadata": {
        "id": "-weJG0B6F5iN",
        "jp-MarkdownHeadingCollapsed": true,
        "tags": []
      },
      "source": [
        "# Dataset Downloading"
      ]
    },
    {
      "cell_type": "code",
      "execution_count": 1,
      "id": "5196cc3c-4418-4bee-9bb1-a4602e9cb51a",
      "metadata": {
        "id": "5196cc3c-4418-4bee-9bb1-a4602e9cb51a",
        "outputId": "7ae1729e-85a9-4208-b50d-dde01fd150be",
        "colab": {
          "base_uri": "https://localhost:8080/"
        }
      },
      "outputs": [
        {
          "output_type": "stream",
          "name": "stdout",
          "text": [
            "\u001b[K     |████████████████████████████████| 401 kB 27.2 MB/s \n",
            "\u001b[K     |████████████████████████████████| 216 kB 43.7 MB/s \n",
            "\u001b[K     |████████████████████████████████| 49 kB 6.0 MB/s \n",
            "\u001b[K     |████████████████████████████████| 280 kB 44.9 MB/s \n",
            "\u001b[K     |████████████████████████████████| 48 kB 5.7 MB/s \n",
            "\u001b[K     |████████████████████████████████| 109 kB 43.3 MB/s \n",
            "\u001b[K     |████████████████████████████████| 133 kB 35.9 MB/s \n",
            "\u001b[K     |████████████████████████████████| 44 kB 3.3 MB/s \n",
            "\u001b[K     |████████████████████████████████| 41 kB 32 kB/s \n",
            "\u001b[K     |████████████████████████████████| 180 kB 54.8 MB/s \n",
            "\u001b[K     |████████████████████████████████| 287 kB 27.1 MB/s \n",
            "\u001b[K     |████████████████████████████████| 548 kB 41.9 MB/s \n",
            "\u001b[K     |████████████████████████████████| 4.5 MB 37.1 MB/s \n",
            "\u001b[K     |████████████████████████████████| 1.1 MB 8.7 MB/s \n",
            "\u001b[K     |████████████████████████████████| 3.6 MB 43.2 MB/s \n",
            "\u001b[K     |████████████████████████████████| 63 kB 2.4 MB/s \n",
            "\u001b[K     |████████████████████████████████| 55 kB 4.5 MB/s \n",
            "\u001b[K     |████████████████████████████████| 2.6 MB 46.7 MB/s \n",
            "\u001b[K     |████████████████████████████████| 229 kB 56.5 MB/s \n",
            "\u001b[K     |████████████████████████████████| 64 kB 3.5 MB/s \n",
            "\u001b[K     |████████████████████████████████| 51 kB 8.8 MB/s \n",
            "\u001b[K     |████████████████████████████████| 546 kB 53.3 MB/s \n",
            "\u001b[K     |████████████████████████████████| 271 kB 76.3 MB/s \n",
            "\u001b[K     |████████████████████████████████| 144 kB 60.3 MB/s \n",
            "\u001b[K     |████████████████████████████████| 94 kB 4.3 MB/s \n",
            "\u001b[?25h  Building wheel for configobj (setup.py) ... \u001b[?25l\u001b[?25hdone\n",
            "  Building wheel for nanotime (setup.py) ... \u001b[?25l\u001b[?25hdone\n",
            "  Building wheel for pygtrie (setup.py) ... \u001b[?25l\u001b[?25hdone\n",
            "  Building wheel for voluptuous (setup.py) ... \u001b[?25l\u001b[?25hdone\n",
            "  Building wheel for ftfy (setup.py) ... \u001b[?25l\u001b[?25hdone\n",
            "  Building wheel for mailchecker (setup.py) ... \u001b[?25l\u001b[?25hdone\n",
            "Downloading directory:  14% 1/7 [00:00<00:01,  4.01Files/s{'info': ''}]Go to the following link in your browser:\n",
            "\n",
            "    https://accounts.google.com/o/oauth2/auth?client_id=710796635688-iivsgbgsb6uv1fap6635dhvuei09o66c.apps.googleusercontent.com&redirect_uri=urn%3Aietf%3Awg%3Aoauth%3A2.0%3Aoob&scope=https%3A%2F%2Fwww.googleapis.com%2Fauth%2Fdrive+https%3A%2F%2Fwww.googleapis.com%2Fauth%2Fdrive.appdata&access_type=offline&response_type=code&approval_prompt=force\n",
            "\n",
            "Enter verification code: 4/1AX4XfWhWDgbXOvLbDKx2M2QtS-W1t3Fv5Mf9RrKgwxFduSMfW_pCqc3Ay7c\n",
            "Authentication successful.\n",
            "\u001b[0m"
          ]
        }
      ],
      "source": [
        "!pip install -qq dvc[gdrive]\n",
        "\n",
        "!dvc get https://github.com/lkarjun/malayalam-language-model \\\n",
        "Datasets/"
      ]
    },
    {
      "cell_type": "code",
      "execution_count": 18,
      "id": "TmTXVX-mCpt3",
      "metadata": {
        "id": "TmTXVX-mCpt3",
        "outputId": "38240a49-0959-4a93-f6a6-ec89b7ffdd9d",
        "colab": {
          "base_uri": "https://localhost:8080/"
        }
      },
      "outputs": [
        {
          "output_type": "stream",
          "name": "stdout",
          "text": [
            "\n",
            "3 archives were successfully processed.\n"
          ]
        }
      ],
      "source": [
        "!unzip -q 'Datasets/*.zip' -d Datasets/"
      ]
    },
    {
      "cell_type": "markdown",
      "id": "4kV8O5LpF99S",
      "metadata": {
        "id": "4kV8O5LpF99S",
        "tags": []
      },
      "source": [
        "# Packages importing"
      ]
    },
    {
      "cell_type": "code",
      "source": [
        "!pip install -qq fastai==2.5.3\n",
        "!pip install -qq textacy"
      ],
      "metadata": {
        "id": "38Y3OQF97aLA",
        "outputId": "3a83f1e6-c7d5-4275-b563-0c15835ef966",
        "colab": {
          "base_uri": "https://localhost:8080/"
        }
      },
      "id": "38Y3OQF97aLA",
      "execution_count": 3,
      "outputs": [
        {
          "output_type": "stream",
          "name": "stdout",
          "text": [
            "\u001b[K     |████████████████████████████████| 189 kB 7.1 MB/s \n",
            "\u001b[K     |████████████████████████████████| 56 kB 4.8 MB/s \n",
            "\u001b[K     |████████████████████████████████| 200 kB 23.8 MB/s \n",
            "\u001b[K     |████████████████████████████████| 132 kB 66.9 MB/s \n",
            "\u001b[K     |████████████████████████████████| 481 kB 49.5 MB/s \n",
            "\u001b[K     |████████████████████████████████| 2.0 MB 58.5 MB/s \n",
            "\u001b[K     |████████████████████████████████| 6.0 MB 44.2 MB/s \n",
            "\u001b[K     |████████████████████████████████| 10.1 MB 43.1 MB/s \n",
            "\u001b[K     |████████████████████████████████| 42 kB 1.7 MB/s \n",
            "\u001b[K     |████████████████████████████████| 451 kB 55.1 MB/s \n",
            "\u001b[K     |████████████████████████████████| 181 kB 64.9 MB/s \n",
            "\u001b[K     |████████████████████████████████| 628 kB 34.7 MB/s \n",
            "\u001b[?25h  Building wheel for cytoolz (setup.py) ... \u001b[?25l\u001b[?25hdone\n",
            "  Building wheel for jellyfish (setup.py) ... \u001b[?25l\u001b[?25hdone\n"
          ]
        }
      ]
    },
    {
      "cell_type": "code",
      "execution_count": 5,
      "id": "ZNBuehjFDAOV",
      "metadata": {
        "id": "ZNBuehjFDAOV"
      },
      "outputs": [],
      "source": [
        "import pandas as pd\n",
        "from tqdm import tqdm\n",
        "from pathlib import Path\n",
        "import textacy.preprocessing as tprep\n",
        "import re\n",
        "\n",
        "tqdm.pandas(colour = 'red')\n",
        "\n",
        "BASE_PATH = Path(\"Datasets/\")"
      ]
    },
    {
      "cell_type": "code",
      "execution_count": 6,
      "id": "e9f0da32-592c-4e79-99e7-d54b54b48705",
      "metadata": {
        "id": "e9f0da32-592c-4e79-99e7-d54b54b48705"
      },
      "outputs": [],
      "source": [
        "from fastai.text.core import *\n",
        "from fastai.text.all import *"
      ]
    },
    {
      "cell_type": "markdown",
      "id": "B7sgw0RhpMTi",
      "metadata": {
        "id": "B7sgw0RhpMTi",
        "tags": []
      },
      "source": [
        "# Dataset Loading"
      ]
    },
    {
      "cell_type": "code",
      "execution_count": 19,
      "id": "sY7UO7-UpOZM",
      "metadata": {
        "id": "sY7UO7-UpOZM"
      },
      "outputs": [],
      "source": [
        "mag = pd.read_csv(BASE_PATH/'magazine_files.csv')\n",
        "wiki = pd.read_csv(BASE_PATH/'wikitext_files.csv')\n",
        "art = pd.read_csv(BASE_PATH/'article_files.csv')"
      ]
    },
    {
      "cell_type": "code",
      "execution_count": 38,
      "id": "JVtv2RcrpbXg",
      "metadata": {
        "colab": {
          "base_uri": "https://localhost:8080/"
        },
        "id": "JVtv2RcrpbXg",
        "outputId": "7a532191-0b80-4bb6-ec14-cbc4ac8d0b3f"
      },
      "outputs": [
        {
          "output_type": "stream",
          "name": "stderr",
          "text": [
            "100%|\u001b[31m██████████\u001b[0m| 7539/7539 [00:00<00:00, 15425.24it/s]\n",
            "100%|\u001b[31m██████████\u001b[0m| 11227/11227 [00:00<00:00, 21283.55it/s]\n",
            "100%|\u001b[31m██████████\u001b[0m| 15568/15568 [00:00<00:00, 17716.83it/s]\n"
          ]
        }
      ],
      "source": [
        "def open_files(path: str):\n",
        "    with open(path, 'r', encoding='utf-8') as file:\n",
        "        txt = file.read()\n",
        "    return txt\n",
        "\n",
        "mag['content'] = mag['file_path'].progress_apply(open_files)\n",
        "wiki['content'] = wiki['file_path'].progress_apply(open_files)\n",
        "art['content'] = art['file_path'].progress_apply(open_files)"
      ]
    },
    {
      "cell_type": "code",
      "execution_count": 21,
      "id": "TTOhVeQdqTY0",
      "metadata": {
        "colab": {
          "base_uri": "https://localhost:8080/",
          "height": 246
        },
        "id": "TTOhVeQdqTY0",
        "outputId": "0b9e0cc8-af2c-42e6-9d07-deda24fb357e"
      },
      "outputs": [
        {
          "output_type": "execute_result",
          "data": {
            "text/html": [
              "\n",
              "  <div id=\"df-87c232ee-0bbf-43d0-b075-9715ffbdef98\">\n",
              "    <div class=\"colab-df-container\">\n",
              "      <div>\n",
              "<style scoped>\n",
              "    .dataframe tbody tr th:only-of-type {\n",
              "        vertical-align: middle;\n",
              "    }\n",
              "\n",
              "    .dataframe tbody tr th {\n",
              "        vertical-align: top;\n",
              "    }\n",
              "\n",
              "    .dataframe thead th {\n",
              "        text-align: right;\n",
              "    }\n",
              "</style>\n",
              "<table border=\"1\" class=\"dataframe\">\n",
              "  <thead>\n",
              "    <tr style=\"text-align: right;\">\n",
              "      <th></th>\n",
              "      <th>file_path</th>\n",
              "      <th>dataset_name</th>\n",
              "      <th>content</th>\n",
              "    </tr>\n",
              "  </thead>\n",
              "  <tbody>\n",
              "    <tr>\n",
              "      <th>12936</th>\n",
              "      <td>Datasets/articles_raw/article13034.txt</td>\n",
              "      <td>article_text</td>\n",
              "      <td>ഈ സെലിബ്രിറ്റി അമ്മമാരൊക്കെ എങ്ങനെയാ കുട്ടികളെ വളർത്തുന്നത്? അവർക്ക് കുട്ടികൾക്കൊപ്പം കളിക്കാനും അവർക്കൊപ്പം സമയം പങ്കിടാനുമൊക്കെ സാധിക്കാറുണ്ടോ? അതോ ഈ സിനിമാ തിരക്കിനിടയിൽ കുട്ടികളുടെ കാര്യങ്ങളിൽ ഇടപെടാൻ സമയം കിട്ടാറില്ലേ? ഇങ്ങനെ നൂറുകൂട്ടം സംശയംകാണും നമുക്കെല്ലാം അല്ലേ?  ബോളിവുഡിലെ എനർജറ്റിക് താരമായ കജോളിന്റെ പേരന്റിങ് മന്ത്രങ്ങൾ സൂപ്പറാ... ബോളിവുഡിലെ ഏറ്റവും കൂളസ്റ്റും അടിപൊളിയുമായ അമ്മയാണ് കജോൾ എന്നാണ് പറയപ്പെടുന്നത്. സിനിമയിൽ തിളങ്ങി നിന്നപ്പോഴാണ് വിവാഹിതയായതും അമ്മയായതും സിനിമയിൽ നിന്ന് പതിയെ വിട്ടുനിന്നതും. അജയ് ദേവ്ഗണിനും കജോളിനും മക്കൾ രണ്ടാണ്. മൂത്തയാൾ നൈസ, രണ്ടാമൻ യു...</td>\n",
              "    </tr>\n",
              "  </tbody>\n",
              "</table>\n",
              "</div>\n",
              "      <button class=\"colab-df-convert\" onclick=\"convertToInteractive('df-87c232ee-0bbf-43d0-b075-9715ffbdef98')\"\n",
              "              title=\"Convert this dataframe to an interactive table.\"\n",
              "              style=\"display:none;\">\n",
              "        \n",
              "  <svg xmlns=\"http://www.w3.org/2000/svg\" height=\"24px\"viewBox=\"0 0 24 24\"\n",
              "       width=\"24px\">\n",
              "    <path d=\"M0 0h24v24H0V0z\" fill=\"none\"/>\n",
              "    <path d=\"M18.56 5.44l.94 2.06.94-2.06 2.06-.94-2.06-.94-.94-2.06-.94 2.06-2.06.94zm-11 1L8.5 8.5l.94-2.06 2.06-.94-2.06-.94L8.5 2.5l-.94 2.06-2.06.94zm10 10l.94 2.06.94-2.06 2.06-.94-2.06-.94-.94-2.06-.94 2.06-2.06.94z\"/><path d=\"M17.41 7.96l-1.37-1.37c-.4-.4-.92-.59-1.43-.59-.52 0-1.04.2-1.43.59L10.3 9.45l-7.72 7.72c-.78.78-.78 2.05 0 2.83L4 21.41c.39.39.9.59 1.41.59.51 0 1.02-.2 1.41-.59l7.78-7.78 2.81-2.81c.8-.78.8-2.07 0-2.86zM5.41 20L4 18.59l7.72-7.72 1.47 1.35L5.41 20z\"/>\n",
              "  </svg>\n",
              "      </button>\n",
              "      \n",
              "  <style>\n",
              "    .colab-df-container {\n",
              "      display:flex;\n",
              "      flex-wrap:wrap;\n",
              "      gap: 12px;\n",
              "    }\n",
              "\n",
              "    .colab-df-convert {\n",
              "      background-color: #E8F0FE;\n",
              "      border: none;\n",
              "      border-radius: 50%;\n",
              "      cursor: pointer;\n",
              "      display: none;\n",
              "      fill: #1967D2;\n",
              "      height: 32px;\n",
              "      padding: 0 0 0 0;\n",
              "      width: 32px;\n",
              "    }\n",
              "\n",
              "    .colab-df-convert:hover {\n",
              "      background-color: #E2EBFA;\n",
              "      box-shadow: 0px 1px 2px rgba(60, 64, 67, 0.3), 0px 1px 3px 1px rgba(60, 64, 67, 0.15);\n",
              "      fill: #174EA6;\n",
              "    }\n",
              "\n",
              "    [theme=dark] .colab-df-convert {\n",
              "      background-color: #3B4455;\n",
              "      fill: #D2E3FC;\n",
              "    }\n",
              "\n",
              "    [theme=dark] .colab-df-convert:hover {\n",
              "      background-color: #434B5C;\n",
              "      box-shadow: 0px 1px 3px 1px rgba(0, 0, 0, 0.15);\n",
              "      filter: drop-shadow(0px 1px 2px rgba(0, 0, 0, 0.3));\n",
              "      fill: #FFFFFF;\n",
              "    }\n",
              "  </style>\n",
              "\n",
              "      <script>\n",
              "        const buttonEl =\n",
              "          document.querySelector('#df-87c232ee-0bbf-43d0-b075-9715ffbdef98 button.colab-df-convert');\n",
              "        buttonEl.style.display =\n",
              "          google.colab.kernel.accessAllowed ? 'block' : 'none';\n",
              "\n",
              "        async function convertToInteractive(key) {\n",
              "          const element = document.querySelector('#df-87c232ee-0bbf-43d0-b075-9715ffbdef98');\n",
              "          const dataTable =\n",
              "            await google.colab.kernel.invokeFunction('convertToInteractive',\n",
              "                                                     [key], {});\n",
              "          if (!dataTable) return;\n",
              "\n",
              "          const docLinkHtml = 'Like what you see? Visit the ' +\n",
              "            '<a target=\"_blank\" href=https://colab.research.google.com/notebooks/data_table.ipynb>data table notebook</a>'\n",
              "            + ' to learn more about interactive tables.';\n",
              "          element.innerHTML = '';\n",
              "          dataTable['output_type'] = 'display_data';\n",
              "          await google.colab.output.renderOutput(dataTable, element);\n",
              "          const docLink = document.createElement('div');\n",
              "          docLink.innerHTML = docLinkHtml;\n",
              "          element.appendChild(docLink);\n",
              "        }\n",
              "      </script>\n",
              "    </div>\n",
              "  </div>\n",
              "  "
            ],
            "text/plain": [
              "                                    file_path  ...                                                                                                                                                                                                                                                                                                                                                                                                                                                                                                                                                                                                                  content\n",
              "12936  Datasets/articles_raw/article13034.txt  ...  ഈ സെലിബ്രിറ്റി അമ്മമാരൊക്കെ എങ്ങനെയാ കുട്ടികളെ വളർത്തുന്നത്? അവർക്ക് കുട്ടികൾക്കൊപ്പം കളിക്കാനും അവർക്കൊപ്പം സമയം പങ്കിടാനുമൊക്കെ സാധിക്കാറുണ്ടോ? അതോ ഈ സിനിമാ തിരക്കിനിടയിൽ കുട്ടികളുടെ കാര്യങ്ങളിൽ ഇടപെടാൻ സമയം കിട്ടാറില്ലേ? ഇങ്ങനെ നൂറുകൂട്ടം സംശയംകാണും നമുക്കെല്ലാം അല്ലേ?  ബോളിവുഡിലെ എനർജറ്റിക് താരമായ കജോളിന്റെ പേരന്റിങ് മന്ത്രങ്ങൾ സൂപ്പറാ... ബോളിവുഡിലെ ഏറ്റവും കൂളസ്റ്റും അടിപൊളിയുമായ അമ്മയാണ് കജോൾ എന്നാണ് പറയപ്പെടുന്നത്. സിനിമയിൽ തിളങ്ങി നിന്നപ്പോഴാണ് വിവാഹിതയായതും അമ്മയായതും സിനിമയിൽ നിന്ന് പതിയെ വിട്ടുനിന്നതും. അജയ് ദേവ്ഗണിനും കജോളിനും മക്കൾ രണ്ടാണ്. മൂത്തയാൾ നൈസ, രണ്ടാമൻ യു...\n",
              "\n",
              "[1 rows x 3 columns]"
            ]
          },
          "metadata": {},
          "execution_count": 21
        }
      ],
      "source": [
        "art.sample()"
      ]
    },
    {
      "cell_type": "code",
      "execution_count": 22,
      "id": "cBCu8CYiqVHf",
      "metadata": {
        "id": "cBCu8CYiqVHf",
        "outputId": "0626aa53-79e5-4eb1-aa6a-5c536c349381",
        "colab": {
          "base_uri": "https://localhost:8080/",
          "height": 159
        }
      },
      "outputs": [
        {
          "output_type": "execute_result",
          "data": {
            "text/html": [
              "\n",
              "  <div id=\"df-a25f3399-0db6-40ed-b64d-8465a2101749\">\n",
              "    <div class=\"colab-df-container\">\n",
              "      <div>\n",
              "<style scoped>\n",
              "    .dataframe tbody tr th:only-of-type {\n",
              "        vertical-align: middle;\n",
              "    }\n",
              "\n",
              "    .dataframe tbody tr th {\n",
              "        vertical-align: top;\n",
              "    }\n",
              "\n",
              "    .dataframe thead th {\n",
              "        text-align: right;\n",
              "    }\n",
              "</style>\n",
              "<table border=\"1\" class=\"dataframe\">\n",
              "  <thead>\n",
              "    <tr style=\"text-align: right;\">\n",
              "      <th></th>\n",
              "      <th>file_path</th>\n",
              "      <th>dataset_name</th>\n",
              "      <th>content</th>\n",
              "    </tr>\n",
              "  </thead>\n",
              "  <tbody>\n",
              "    <tr>\n",
              "      <th>5692</th>\n",
              "      <td>Datasets/wikitext_raw/wiki6300.txt</td>\n",
              "      <td>wiki_text</td>\n",
              "      <td>ഒരു ഒറിയ അഭിനേത്രിയാണ് തന്ദ്ര റായ് \". 80-90 കാലഘട്ടങ്ങളിൽ ഒറിയ സിനിമകളിൽ അഭിനയിച്ചിട്ടുണ്ട്. ബിജയ് മൊഹന്തിയാണ് ഭർത്താവ്. ബിജയ് മൊഹന്തിയുടെ കൂടെ അഭിനയിച്ച ചിൽക തിരെ ആണ് അവരുടെ ആദ്യചിത്രം.\\nഇന്റർനെറ്റ് മൂവി ഡാറ്റാബേസിൽ നിന്ന് തന്ദ്ര റായ്\\n</td>\n",
              "    </tr>\n",
              "  </tbody>\n",
              "</table>\n",
              "</div>\n",
              "      <button class=\"colab-df-convert\" onclick=\"convertToInteractive('df-a25f3399-0db6-40ed-b64d-8465a2101749')\"\n",
              "              title=\"Convert this dataframe to an interactive table.\"\n",
              "              style=\"display:none;\">\n",
              "        \n",
              "  <svg xmlns=\"http://www.w3.org/2000/svg\" height=\"24px\"viewBox=\"0 0 24 24\"\n",
              "       width=\"24px\">\n",
              "    <path d=\"M0 0h24v24H0V0z\" fill=\"none\"/>\n",
              "    <path d=\"M18.56 5.44l.94 2.06.94-2.06 2.06-.94-2.06-.94-.94-2.06-.94 2.06-2.06.94zm-11 1L8.5 8.5l.94-2.06 2.06-.94-2.06-.94L8.5 2.5l-.94 2.06-2.06.94zm10 10l.94 2.06.94-2.06 2.06-.94-2.06-.94-.94-2.06-.94 2.06-2.06.94z\"/><path d=\"M17.41 7.96l-1.37-1.37c-.4-.4-.92-.59-1.43-.59-.52 0-1.04.2-1.43.59L10.3 9.45l-7.72 7.72c-.78.78-.78 2.05 0 2.83L4 21.41c.39.39.9.59 1.41.59.51 0 1.02-.2 1.41-.59l7.78-7.78 2.81-2.81c.8-.78.8-2.07 0-2.86zM5.41 20L4 18.59l7.72-7.72 1.47 1.35L5.41 20z\"/>\n",
              "  </svg>\n",
              "      </button>\n",
              "      \n",
              "  <style>\n",
              "    .colab-df-container {\n",
              "      display:flex;\n",
              "      flex-wrap:wrap;\n",
              "      gap: 12px;\n",
              "    }\n",
              "\n",
              "    .colab-df-convert {\n",
              "      background-color: #E8F0FE;\n",
              "      border: none;\n",
              "      border-radius: 50%;\n",
              "      cursor: pointer;\n",
              "      display: none;\n",
              "      fill: #1967D2;\n",
              "      height: 32px;\n",
              "      padding: 0 0 0 0;\n",
              "      width: 32px;\n",
              "    }\n",
              "\n",
              "    .colab-df-convert:hover {\n",
              "      background-color: #E2EBFA;\n",
              "      box-shadow: 0px 1px 2px rgba(60, 64, 67, 0.3), 0px 1px 3px 1px rgba(60, 64, 67, 0.15);\n",
              "      fill: #174EA6;\n",
              "    }\n",
              "\n",
              "    [theme=dark] .colab-df-convert {\n",
              "      background-color: #3B4455;\n",
              "      fill: #D2E3FC;\n",
              "    }\n",
              "\n",
              "    [theme=dark] .colab-df-convert:hover {\n",
              "      background-color: #434B5C;\n",
              "      box-shadow: 0px 1px 3px 1px rgba(0, 0, 0, 0.15);\n",
              "      filter: drop-shadow(0px 1px 2px rgba(0, 0, 0, 0.3));\n",
              "      fill: #FFFFFF;\n",
              "    }\n",
              "  </style>\n",
              "\n",
              "      <script>\n",
              "        const buttonEl =\n",
              "          document.querySelector('#df-a25f3399-0db6-40ed-b64d-8465a2101749 button.colab-df-convert');\n",
              "        buttonEl.style.display =\n",
              "          google.colab.kernel.accessAllowed ? 'block' : 'none';\n",
              "\n",
              "        async function convertToInteractive(key) {\n",
              "          const element = document.querySelector('#df-a25f3399-0db6-40ed-b64d-8465a2101749');\n",
              "          const dataTable =\n",
              "            await google.colab.kernel.invokeFunction('convertToInteractive',\n",
              "                                                     [key], {});\n",
              "          if (!dataTable) return;\n",
              "\n",
              "          const docLinkHtml = 'Like what you see? Visit the ' +\n",
              "            '<a target=\"_blank\" href=https://colab.research.google.com/notebooks/data_table.ipynb>data table notebook</a>'\n",
              "            + ' to learn more about interactive tables.';\n",
              "          element.innerHTML = '';\n",
              "          dataTable['output_type'] = 'display_data';\n",
              "          await google.colab.output.renderOutput(dataTable, element);\n",
              "          const docLink = document.createElement('div');\n",
              "          docLink.innerHTML = docLinkHtml;\n",
              "          element.appendChild(docLink);\n",
              "        }\n",
              "      </script>\n",
              "    </div>\n",
              "  </div>\n",
              "  "
            ],
            "text/plain": [
              "                               file_path  ...                                                                                                                                                                                                                                        content\n",
              "5692  Datasets/wikitext_raw/wiki6300.txt  ...  ഒരു ഒറിയ അഭിനേത്രിയാണ് തന്ദ്ര റായ് \". 80-90 കാലഘട്ടങ്ങളിൽ ഒറിയ സിനിമകളിൽ അഭിനയിച്ചിട്ടുണ്ട്. ബിജയ് മൊഹന്തിയാണ് ഭർത്താവ്. ബിജയ് മൊഹന്തിയുടെ കൂടെ അഭിനയിച്ച ചിൽക തിരെ ആണ് അവരുടെ ആദ്യചിത്രം.\\nഇന്റർനെറ്റ് മൂവി ഡാറ്റാബേസിൽ നിന്ന് തന്ദ്ര റായ്\\n\n",
              "\n",
              "[1 rows x 3 columns]"
            ]
          },
          "metadata": {},
          "execution_count": 22
        }
      ],
      "source": [
        "wiki.sample()"
      ]
    },
    {
      "cell_type": "code",
      "execution_count": 23,
      "id": "897e3c4d-cdec-440e-a975-7dc24c0ddbd6",
      "metadata": {
        "id": "897e3c4d-cdec-440e-a975-7dc24c0ddbd6",
        "outputId": "f39a34f8-ddc5-416b-c362-0c19240ed602",
        "colab": {
          "base_uri": "https://localhost:8080/",
          "height": 246
        }
      },
      "outputs": [
        {
          "output_type": "execute_result",
          "data": {
            "text/html": [
              "\n",
              "  <div id=\"df-1134c364-5688-4a3a-b73f-a3765bf01617\">\n",
              "    <div class=\"colab-df-container\">\n",
              "      <div>\n",
              "<style scoped>\n",
              "    .dataframe tbody tr th:only-of-type {\n",
              "        vertical-align: middle;\n",
              "    }\n",
              "\n",
              "    .dataframe tbody tr th {\n",
              "        vertical-align: top;\n",
              "    }\n",
              "\n",
              "    .dataframe thead th {\n",
              "        text-align: right;\n",
              "    }\n",
              "</style>\n",
              "<table border=\"1\" class=\"dataframe\">\n",
              "  <thead>\n",
              "    <tr style=\"text-align: right;\">\n",
              "      <th></th>\n",
              "      <th>file_path</th>\n",
              "      <th>dataset_name</th>\n",
              "      <th>content</th>\n",
              "    </tr>\n",
              "  </thead>\n",
              "  <tbody>\n",
              "    <tr>\n",
              "      <th>1422</th>\n",
              "      <td>Datasets/magazine_raw/mag1453.txt</td>\n",
              "      <td>magazine_text</td>\n",
              "      <td>ഉത്തർപ്രദേശിൽ നിന്ന് ഇന്നലെ വീണ്ടുമൊരു ബലാത്സംഗ വാർത്ത കൂടി റിപ്പോർട്ട് ചെയ്യപ്പെട്ടിരിക്കുകയാണ്. ഉന്നതപഠനത്തിനുള്ള സ്‌കോളർഷിപ്പിന് അപേക്ഷിക്കാൻ വേണ്ടി, ലാഖിം‌പൂര്‍ ഖേരി ജില്ലയിലെ ഒരു ഗ്രാമത്തിൽ നിന്ന് പട്ടണത്തിലേക്ക് പോയ ഒരു പതിനേഴുകാരിയാണ് ഓഗസ്റ്റ് 25 -ന് അതിക്രൂരമായി കൊലചെയ്യപ്പെട്ടത്. ക്രൂരമായി ബലാത്സംഗം ചെയ്യപ്പെട്ട് കഴുത്തറുത്ത നിലയില്‍ വെള്ളമില്ലാത്ത കുളത്തിലാണ് മൃതദേഹം കണ്ടെത്തിയത്. പെണ്‍കുട്ടിയുടെ ഗ്രാമത്തിന്റെ 200 മീറ്റര്‍ അകലെയായിരുന്നു മൃതദേഹം ഉപേക്ഷിക്കപ്പെട്ട നിലയിൽ കണ്ടെത്തിയത്. തിങ്കളാഴ്ച രാവിലെ എട്ടരയോടെ, സ്‌കോളർഷിപ്പിനുള്ള അപേക്ഷാ ഫോറം ഫിൽ ചെയ്യാൻ എന്നും പറഞ്ഞ് വീട്ടിൽ നി...</td>\n",
              "    </tr>\n",
              "  </tbody>\n",
              "</table>\n",
              "</div>\n",
              "      <button class=\"colab-df-convert\" onclick=\"convertToInteractive('df-1134c364-5688-4a3a-b73f-a3765bf01617')\"\n",
              "              title=\"Convert this dataframe to an interactive table.\"\n",
              "              style=\"display:none;\">\n",
              "        \n",
              "  <svg xmlns=\"http://www.w3.org/2000/svg\" height=\"24px\"viewBox=\"0 0 24 24\"\n",
              "       width=\"24px\">\n",
              "    <path d=\"M0 0h24v24H0V0z\" fill=\"none\"/>\n",
              "    <path d=\"M18.56 5.44l.94 2.06.94-2.06 2.06-.94-2.06-.94-.94-2.06-.94 2.06-2.06.94zm-11 1L8.5 8.5l.94-2.06 2.06-.94-2.06-.94L8.5 2.5l-.94 2.06-2.06.94zm10 10l.94 2.06.94-2.06 2.06-.94-2.06-.94-.94-2.06-.94 2.06-2.06.94z\"/><path d=\"M17.41 7.96l-1.37-1.37c-.4-.4-.92-.59-1.43-.59-.52 0-1.04.2-1.43.59L10.3 9.45l-7.72 7.72c-.78.78-.78 2.05 0 2.83L4 21.41c.39.39.9.59 1.41.59.51 0 1.02-.2 1.41-.59l7.78-7.78 2.81-2.81c.8-.78.8-2.07 0-2.86zM5.41 20L4 18.59l7.72-7.72 1.47 1.35L5.41 20z\"/>\n",
              "  </svg>\n",
              "      </button>\n",
              "      \n",
              "  <style>\n",
              "    .colab-df-container {\n",
              "      display:flex;\n",
              "      flex-wrap:wrap;\n",
              "      gap: 12px;\n",
              "    }\n",
              "\n",
              "    .colab-df-convert {\n",
              "      background-color: #E8F0FE;\n",
              "      border: none;\n",
              "      border-radius: 50%;\n",
              "      cursor: pointer;\n",
              "      display: none;\n",
              "      fill: #1967D2;\n",
              "      height: 32px;\n",
              "      padding: 0 0 0 0;\n",
              "      width: 32px;\n",
              "    }\n",
              "\n",
              "    .colab-df-convert:hover {\n",
              "      background-color: #E2EBFA;\n",
              "      box-shadow: 0px 1px 2px rgba(60, 64, 67, 0.3), 0px 1px 3px 1px rgba(60, 64, 67, 0.15);\n",
              "      fill: #174EA6;\n",
              "    }\n",
              "\n",
              "    [theme=dark] .colab-df-convert {\n",
              "      background-color: #3B4455;\n",
              "      fill: #D2E3FC;\n",
              "    }\n",
              "\n",
              "    [theme=dark] .colab-df-convert:hover {\n",
              "      background-color: #434B5C;\n",
              "      box-shadow: 0px 1px 3px 1px rgba(0, 0, 0, 0.15);\n",
              "      filter: drop-shadow(0px 1px 2px rgba(0, 0, 0, 0.3));\n",
              "      fill: #FFFFFF;\n",
              "    }\n",
              "  </style>\n",
              "\n",
              "      <script>\n",
              "        const buttonEl =\n",
              "          document.querySelector('#df-1134c364-5688-4a3a-b73f-a3765bf01617 button.colab-df-convert');\n",
              "        buttonEl.style.display =\n",
              "          google.colab.kernel.accessAllowed ? 'block' : 'none';\n",
              "\n",
              "        async function convertToInteractive(key) {\n",
              "          const element = document.querySelector('#df-1134c364-5688-4a3a-b73f-a3765bf01617');\n",
              "          const dataTable =\n",
              "            await google.colab.kernel.invokeFunction('convertToInteractive',\n",
              "                                                     [key], {});\n",
              "          if (!dataTable) return;\n",
              "\n",
              "          const docLinkHtml = 'Like what you see? Visit the ' +\n",
              "            '<a target=\"_blank\" href=https://colab.research.google.com/notebooks/data_table.ipynb>data table notebook</a>'\n",
              "            + ' to learn more about interactive tables.';\n",
              "          element.innerHTML = '';\n",
              "          dataTable['output_type'] = 'display_data';\n",
              "          await google.colab.output.renderOutput(dataTable, element);\n",
              "          const docLink = document.createElement('div');\n",
              "          docLink.innerHTML = docLinkHtml;\n",
              "          element.appendChild(docLink);\n",
              "        }\n",
              "      </script>\n",
              "    </div>\n",
              "  </div>\n",
              "  "
            ],
            "text/plain": [
              "                              file_path  ...                                                                                                                                                                                                                                                                                                                                                                                                                                                                                                                                                                                                                  content\n",
              "1422  Datasets/magazine_raw/mag1453.txt  ...  ഉത്തർപ്രദേശിൽ നിന്ന് ഇന്നലെ വീണ്ടുമൊരു ബലാത്സംഗ വാർത്ത കൂടി റിപ്പോർട്ട് ചെയ്യപ്പെട്ടിരിക്കുകയാണ്. ഉന്നതപഠനത്തിനുള്ള സ്‌കോളർഷിപ്പിന് അപേക്ഷിക്കാൻ വേണ്ടി, ലാഖിം‌പൂര്‍ ഖേരി ജില്ലയിലെ ഒരു ഗ്രാമത്തിൽ നിന്ന് പട്ടണത്തിലേക്ക് പോയ ഒരു പതിനേഴുകാരിയാണ് ഓഗസ്റ്റ് 25 -ന് അതിക്രൂരമായി കൊലചെയ്യപ്പെട്ടത്. ക്രൂരമായി ബലാത്സംഗം ചെയ്യപ്പെട്ട് കഴുത്തറുത്ത നിലയില്‍ വെള്ളമില്ലാത്ത കുളത്തിലാണ് മൃതദേഹം കണ്ടെത്തിയത്. പെണ്‍കുട്ടിയുടെ ഗ്രാമത്തിന്റെ 200 മീറ്റര്‍ അകലെയായിരുന്നു മൃതദേഹം ഉപേക്ഷിക്കപ്പെട്ട നിലയിൽ കണ്ടെത്തിയത്. തിങ്കളാഴ്ച രാവിലെ എട്ടരയോടെ, സ്‌കോളർഷിപ്പിനുള്ള അപേക്ഷാ ഫോറം ഫിൽ ചെയ്യാൻ എന്നും പറഞ്ഞ് വീട്ടിൽ നി...\n",
              "\n",
              "[1 rows x 3 columns]"
            ]
          },
          "metadata": {},
          "execution_count": 23
        }
      ],
      "source": [
        "mag.sample()"
      ]
    },
    {
      "cell_type": "code",
      "source": [
        ""
      ],
      "metadata": {
        "id": "_8Ymj9mWJjkA"
      },
      "id": "_8Ymj9mWJjkA",
      "execution_count": null,
      "outputs": []
    },
    {
      "cell_type": "markdown",
      "id": "292d805e-5be6-41ad-8252-2a00e4a04a2f",
      "metadata": {
        "id": "292d805e-5be6-41ad-8252-2a00e4a04a2f"
      },
      "source": [
        "# Preprocessing"
      ]
    },
    {
      "cell_type": "markdown",
      "id": "sFY5_ZUAqjsx",
      "metadata": {
        "id": "sFY5_ZUAqjsx",
        "jp-MarkdownHeadingCollapsed": true,
        "tags": []
      },
      "source": [
        "## Checking impurity"
      ]
    },
    {
      "cell_type": "code",
      "execution_count": 24,
      "id": "YQxHumQ0qjbm",
      "metadata": {
        "id": "YQxHumQ0qjbm"
      },
      "outputs": [],
      "source": [
        "RE_SUSPICIOUS = re.compile(r'\\(.*?\\)|[a-zA-Z]')\n",
        "\n",
        "def check_impurity(content: str, min_len = 200):\n",
        "    '''returns the share of suspicious characters in a text'''\n",
        "    len_text = len(content)\n",
        "    if content == None or len_text < min_len:\n",
        "        return 0\n",
        "    return len(RE_SUSPICIOUS.findall(content)) / len_text\n"
      ]
    },
    {
      "cell_type": "code",
      "execution_count": null,
      "id": "mrof_f49sg6d",
      "metadata": {
        "id": "mrof_f49sg6d"
      },
      "outputs": [],
      "source": [
        ""
      ]
    },
    {
      "cell_type": "code",
      "execution_count": 36,
      "id": "_hpuJMJnsask",
      "metadata": {
        "colab": {
          "base_uri": "https://localhost:8080/"
        },
        "id": "_hpuJMJnsask",
        "outputId": "b82e2549-de6f-4847-a27c-9d5135a615c9"
      },
      "outputs": [
        {
          "output_type": "stream",
          "name": "stderr",
          "text": [
            "100%|\u001b[31m██████████\u001b[0m| 7539/7539 [00:00<00:00, 7716.54it/s]\n",
            "100%|\u001b[31m██████████\u001b[0m| 11227/11227 [00:00<00:00, 16896.54it/s]\n",
            "100%|\u001b[31m██████████\u001b[0m| 15568/15568 [00:01<00:00, 10815.69it/s]\n"
          ]
        }
      ],
      "source": [
        "mag['impurity'] = mag['content'].progress_apply(check_impurity)\n",
        "wiki['impurity'] = wiki['content'].progress_apply(check_impurity)\n",
        "art['impurity'] = art['content'].progress_apply(check_impurity)"
      ]
    },
    {
      "cell_type": "code",
      "execution_count": null,
      "id": "840b6360-555a-423a-adfd-438ecd5db74c",
      "metadata": {
        "id": "840b6360-555a-423a-adfd-438ecd5db74c"
      },
      "outputs": [],
      "source": [
        ""
      ]
    },
    {
      "cell_type": "code",
      "execution_count": null,
      "id": "xmMk9fwF9RFh",
      "metadata": {
        "colab": {
          "base_uri": "https://localhost:8080/"
        },
        "id": "xmMk9fwF9RFh",
        "outputId": "ac43de36-cb42-4e87-d4d5-23c0315fb5f3"
      },
      "outputs": [
        {
          "output_type": "stream",
          "name": "stdout",
          "text": [
            "----------------------------------------------------------\n",
            "\n",
            "Total Magazine Files:  7863\n",
            "Total Impure Magazine Files:  324\n",
            "\n",
            "----------------------------------------------------------\n"
          ]
        }
      ],
      "source": [
        "print(\"----------------------------------------------------------\\n\")\n",
        "print(\"Total Magazine Files: \", len(mag))\n",
        "print(\"Total Impure Magazine Files: \", len(mag[mag['impurity'] >= .03]))\n",
        "print(\"\\n----------------------------------------------------------\")"
      ]
    },
    {
      "cell_type": "code",
      "execution_count": null,
      "id": "102ac270-ec09-424c-b3ad-84b1d9c59436",
      "metadata": {
        "id": "102ac270-ec09-424c-b3ad-84b1d9c59436",
        "outputId": "bd9dd4b8-b76e-4d18-e534-d434fc7be74f",
        "colab": {
          "base_uri": "https://localhost:8080/"
        }
      },
      "outputs": [
        {
          "output_type": "stream",
          "name": "stdout",
          "text": [
            "----------------------------------------------------------\n",
            "\n",
            "Total WikiText Files:  12388\n",
            "Total Impure  WikiText Files:  1161\n",
            "\n",
            "----------------------------------------------------------\n"
          ]
        }
      ],
      "source": [
        "print(\"----------------------------------------------------------\\n\")\n",
        "print(\"Total WikiText Files: \", len(wiki))\n",
        "print(\"Total Impure  WikiText Files: \", len(wiki[wiki['impurity'] >= .03]))\n",
        "print(\"\\n----------------------------------------------------------\")"
      ]
    },
    {
      "cell_type": "code",
      "source": [
        "print(\"----------------------------------------------------------\\n\")\n",
        "print(\"Total Article Files: \", len(art))\n",
        "print(\"Total Impure  Article Files: \", len(art[art['impurity'] >= .03]))\n",
        "print(\"\\n----------------------------------------------------------\")"
      ],
      "metadata": {
        "id": "DB3PTSQbMVCO",
        "outputId": "bc454d74-4848-47cd-f483-2848eb10ef79",
        "colab": {
          "base_uri": "https://localhost:8080/"
        }
      },
      "id": "DB3PTSQbMVCO",
      "execution_count": 29,
      "outputs": [
        {
          "output_type": "stream",
          "name": "stdout",
          "text": [
            "----------------------------------------------------------\n",
            "\n",
            "Total Article Files:  16724\n",
            "Total Impure  Article Files:  1156\n",
            "\n",
            "----------------------------------------------------------\n"
          ]
        }
      ]
    },
    {
      "cell_type": "code",
      "execution_count": null,
      "id": "4cf480f3-fab8-4d61-864e-7ba7faeff62e",
      "metadata": {
        "id": "4cf480f3-fab8-4d61-864e-7ba7faeff62e",
        "outputId": "3594c392-46fe-40ab-f00d-f1cb0189847f",
        "colab": {
          "base_uri": "https://localhost:8080/",
          "height": 268
        }
      },
      "outputs": [
        {
          "output_type": "display_data",
          "data": {
            "image/png": "[encoded data removed]",
            "text/plain": [
              "<Figure size 432x288 with 1 Axes>"
            ]
          },
          "metadata": {
            "needs_background": "light"
          }
        }
      ],
      "source": [
        "mag.impurity.plot.hist();"
      ]
    },
    {
      "cell_type": "code",
      "execution_count": null,
      "id": "9381950e-a3b7-4077-abca-4860501a2e12",
      "metadata": {
        "id": "9381950e-a3b7-4077-abca-4860501a2e12",
        "outputId": "f8ad17b0-ab4d-449f-b81e-6d513a608dd2",
        "colab": {
          "base_uri": "https://localhost:8080/",
          "height": 265
        }
      },
      "outputs": [
        {
          "output_type": "display_data",
          "data": {
            "image/png": "[encoded data removed]",
            "text/plain": [
              "<Figure size 432x288 with 1 Axes>"
            ]
          },
          "metadata": {
            "needs_background": "light"
          }
        }
      ],
      "source": [
        "wiki.impurity.plot.hist();"
      ]
    },
    {
      "cell_type": "code",
      "source": [
        "art.impurity.plot.hist();"
      ],
      "metadata": {
        "id": "qYCrS8loMcIn",
        "outputId": "fe3b10bd-17bd-43ea-ad70-d0a744ca40c3",
        "colab": {
          "base_uri": "https://localhost:8080/",
          "height": 265
        }
      },
      "id": "qYCrS8loMcIn",
      "execution_count": 30,
      "outputs": [
        {
          "output_type": "display_data",
          "data": {
            "image/png": "[encoded data removed]",
            "text/plain": [
              "<Figure size 432x288 with 1 Axes>"
            ]
          },
          "metadata": {
            "needs_background": "light"
          }
        }
      ]
    },
    {
      "cell_type": "code",
      "source": [
        ""
      ],
      "metadata": {
        "id": "wa8F6S5x9yoX"
      },
      "id": "wa8F6S5x9yoX",
      "execution_count": null,
      "outputs": []
    },
    {
      "cell_type": "code",
      "execution_count": 37,
      "id": "2e55c233-b969-4bf1-9946-42be6395d57b",
      "metadata": {
        "id": "2e55c233-b969-4bf1-9946-42be6395d57b"
      },
      "outputs": [],
      "source": [
        "mag = mag[mag['impurity'] <= .03].drop(['impurity', 'content'], axis = 1)\n",
        "wiki = wiki[wiki['impurity'] <= .03].drop(['impurity', 'content'], axis = 1)\n",
        "art = art[art['impurity'] <= .03].drop(['impurity', 'content'], axis = 1)"
      ]
    },
    {
      "cell_type": "code",
      "execution_count": 33,
      "id": "0f8eccb8-90e7-40d7-9872-c58d3e3f9704",
      "metadata": {
        "id": "0f8eccb8-90e7-40d7-9872-c58d3e3f9704"
      },
      "outputs": [],
      "source": [
        "mag.to_csv(BASE_PATH/'magazine_files.csv', index = False)\n",
        "wiki.to_csv(BASE_PATH/'wikitext_files.csv', index = False)\n",
        "art.to_csv(BASE_PATH/'wikitext_files.csv', index = False)"
      ]
    },
    {
      "cell_type": "code",
      "execution_count": null,
      "id": "dc45bf98-d7ae-4d42-816b-7ff0605717ff",
      "metadata": {
        "id": "dc45bf98-d7ae-4d42-816b-7ff0605717ff"
      },
      "outputs": [],
      "source": [
        ""
      ]
    },
    {
      "cell_type": "markdown",
      "id": "38275665-c73b-47b3-94be-9931005cef74",
      "metadata": {
        "id": "38275665-c73b-47b3-94be-9931005cef74"
      },
      "source": [
        "## Checking Word Tokenizer"
      ]
    },
    {
      "cell_type": "code",
      "execution_count": null,
      "id": "8d175b51-0d16-4fe8-8370-5979feb1c69b",
      "metadata": {
        "id": "8d175b51-0d16-4fe8-8370-5979feb1c69b"
      },
      "outputs": [],
      "source": [
        "tok = WordTokenizer(lang='ml')"
      ]
    },
    {
      "cell_type": "code",
      "execution_count": null,
      "id": "2ac9fbd4-4ca8-4384-a7ed-8c654188a39f",
      "metadata": {
        "id": "2ac9fbd4-4ca8-4384-a7ed-8c654188a39f"
      },
      "outputs": [],
      "source": [
        ""
      ]
    },
    {
      "cell_type": "code",
      "execution_count": null,
      "id": "214fe7fa-03f5-4a7f-9305-dbe912e2ce2c",
      "metadata": {
        "id": "214fe7fa-03f5-4a7f-9305-dbe912e2ce2c"
      },
      "outputs": [],
      "source": [
        "def get_sample(wiki_=True, size = 1, random_state = 32):\n",
        "    if wiki_:\n",
        "        return first(wiki.sample(size)['content'], random_state=32)\n",
        "    return first(mag.sample(size)['content'], random_state=32)"
      ]
    },
    {
      "cell_type": "code",
      "execution_count": null,
      "id": "6c5fa090-6eaf-4d55-94b8-5b833ccd0903",
      "metadata": {
        "id": "6c5fa090-6eaf-4d55-94b8-5b833ccd0903"
      },
      "outputs": [],
      "source": [
        ""
      ]
    },
    {
      "cell_type": "code",
      "execution_count": null,
      "id": "9ba3272a-1eb3-4f78-9b35-b71ee0c42e9b",
      "metadata": {
        "id": "9ba3272a-1eb3-4f78-9b35-b71ee0c42e9b",
        "outputId": "82ed48f9-9412-4e2a-899b-6b96b10df2b8"
      },
      "outputs": [
        {
          "data": {
            "text/plain": [
              "\"(#48) ['ഭാരതീയസംഗീതപദ്ധതികളിൽ','ഉപയോഗിക്കപ്പെടുന്ന','സപ്തസ്വരങ്ങളിൽ','അഞ്ചാമത്തേതാണ്\\\\u200c','പഞ്ചമം.','സ്വരം','പാടുന്നതിനും','സൂചിപ്പിക്കുന്നതിനും','പ','എന്ന','അക്ഷരം','ഉപയോഗിക്കുന്നു.','കർണ്ണാടകസംഗീതത്തിൽ','ഷഡ്ജവും','പഞ്ചമവും','പ്രകൃതിസ്വരങ്ങളായി','കണക്കാക്കുന്നു.','പഞ്ചമത്തെ','കുയിലിന്റെ','സ്വരത്തോടാണ്\\\\u200c','താരതമ്യപ്പെടുത്താറുള്ളത്.','\\\\n','ഭാരതീയശാസ്ത്രീയസംഗീതപദ്ധതികളിൽ','ശ്രുതിഭേദങ്ങളില്ലാത്ത','പ്രകൃതിസ്വരങ്ങളായ','ഷഡ്ജം',',','പഞ്ചമം','എന്നിവ','മീട്ടുന്ന','രീതിയിലാണ്\\\\u200c','വയലിൻ',',','വീണ','മുതലായവയുടെ','കമ്പികൾ','ക്രമീകരിക്കുന്നത്.','\\\\n','കർണ്ണാടകസംഗീത','സംഗീതവുമായി','ബന്ധപ്പെട്ട','ഈ','ലേഖനം','അപൂർണ്ണമാണ്\\\\u200c.','ഇതു','വികസിപ്പിക്കുവാൻ','സഹായിക്കുക.','\\\\n']\""
            ]
          },
          "execution_count": 264,
          "metadata": {},
          "output_type": "execute_result"
        }
      ],
      "source": [
        "coll_repr(first(tok([get_sample()])), 50)"
      ]
    },
    {
      "cell_type": "code",
      "execution_count": null,
      "id": "a9ee2e4a-259e-429a-97d4-d3d6f7050ec6",
      "metadata": {
        "id": "a9ee2e4a-259e-429a-97d4-d3d6f7050ec6"
      },
      "outputs": [],
      "source": [
        "# 'പഞ്ചമം.' tokenizer is not separating the fullstop. its due to unicode."
      ]
    },
    {
      "cell_type": "code",
      "execution_count": null,
      "id": "72c32705-ba2e-4aa0-9d16-f9f00417e795",
      "metadata": {
        "id": "72c32705-ba2e-4aa0-9d16-f9f00417e795"
      },
      "outputs": [],
      "source": [
        ""
      ]
    },
    {
      "cell_type": "code",
      "execution_count": null,
      "id": "20b79c70-0254-41f6-b0ff-15eda143c313",
      "metadata": {
        "id": "20b79c70-0254-41f6-b0ff-15eda143c313",
        "outputId": "d95400c8-5d10-4975-cccb-1fe3ed9c8e90"
      },
      "outputs": [
        {
          "data": {
            "text/plain": [
              "\"(#443) ['ട്രാഫിക്','രാമസ്വാമി','എന്നറിയപ്പെടുന്ന','കെ.','ആർ','രാമസ്വാമി','ഒരു','അഴിമതി','വിരുദ്ധ','പ്രവർത്തകനാണ്.','ഉന്നതരുടെയും','ശക്തരുടെയും','അനധികൃത','പോസ്റ്ററുകളും','പരസ്യബോർഡുകളും','ചെന്നൈയിലെ','തെരുവോരങ്ങളിൽ','നിന്ന്','എടുത്തുമാറ്റാനുള്ള','ശ്രമങ്ങളാണ്','രാമസ്വാമിയെ','വ്യത്യസ്\\\\u200dതനാക്കിയത്.','അതിനായി','കോടതിയെ','സമീപിക്കാനും','അദ്ദേഹം','മടി','കാണിച്ചിരുന്നില്ല.','തന്റെ','വഴിയിൽ','ഒരു','തടസമാകാൻ','വാർദ്ധക്യത്തെ','അദ്ദേഹം','ഒരിക്കലും','അനുവദിച്ചിരുന്നുമില്ല.','എന്നാൽ',',','ജനങ്ങളുടെ','ആവശ്യങ്ങൾക്ക്','വേണ്ടി','പ്രവർത്തിച്ച','അദ്ദേഹം','ഹൃദയാഘാതത്തെ','തുടർന്ന്','ചൊവ്വാഴ്ച','രാത്രി','ചെന്നൈയിലെ','രാജീവ്','ഗാന്ധി'...]\""
            ]
          },
          "execution_count": 266,
          "metadata": {},
          "output_type": "execute_result"
        }
      ],
      "source": [
        "coll_repr(first(tok([get_sample(False)])), 50)"
      ]
    },
    {
      "cell_type": "code",
      "execution_count": null,
      "id": "a361187e-0f77-4d79-9daf-ee55ee72c81d",
      "metadata": {
        "id": "a361187e-0f77-4d79-9daf-ee55ee72c81d"
      },
      "outputs": [],
      "source": [
        ""
      ]
    },
    {
      "cell_type": "code",
      "execution_count": null,
      "id": "52574a56-18f6-4191-a722-a34fa7c55838",
      "metadata": {
        "id": "52574a56-18f6-4191-a722-a34fa7c55838"
      },
      "outputs": [],
      "source": [
        "sample = '''മികച്ച... മെക്സിക്കന്‍. ഷെഫ്-ഉണ്ടാക്കുന്; .ഭക്ഷണം കഴിക്കണം! കരീബിയന്‍ സമുദ്രത്തില്‍ തിമിംഗലക്കുഞ്ഞുങ്ങള്‍ക്കൊപ്പം കുളിക്കണം അങ്ങനെ... അങ്ങനെ... ഒരു വിനോദസഞ്ചാരിയാവുകയാണ് ജോലി... ശമ്പളമോ വര്‍ഷത്തില്‍ എണ്‍പത് ലക്ഷത്തിനു മുകളില്‍. ഭക്ഷണത്തിനുള്ള കാര്‍ഡുകളും, \"യാത്രാ\" ചെലവും പുറമേയും കിട്ടും. അപേക്ഷ അയച്ച് തെരഞ്ഞെടുക്കപ്പെട്ടാല്‍ റിസോര്‍ട്ടിന്‍റെ ബ്രാൻഡ് അംബാസഡറായി മാറാം. '''"
      ]
    },
    {
      "cell_type": "code",
      "execution_count": null,
      "id": "b7e91f17-9b63-4abb-9d98-a3c0bde0112e",
      "metadata": {
        "id": "b7e91f17-9b63-4abb-9d98-a3c0bde0112e",
        "outputId": "278e4edb-a1e8-4328-f8d2-b42c84832716"
      },
      "outputs": [
        {
          "data": {
            "text/plain": [
              "\"(#41) ['മികച്ച','...','മെക്സിക്കന്\\\\u200d.','ഷെഫ്-ഉണ്ടാക്കുന്',';','.ഭക്ഷണം','കഴിക്കണം','!','കരീബിയന്\\\\u200d','സമുദ്രത്തില്\\\\u200d'...]\""
            ]
          },
          "execution_count": 268,
          "metadata": {},
          "output_type": "execute_result"
        }
      ],
      "source": [
        "coll_repr(first(tok([sample])), 10)"
      ]
    },
    {
      "cell_type": "code",
      "execution_count": null,
      "id": "e721e3d3-a4d9-49ac-adbe-1bf0766b71fc",
      "metadata": {
        "id": "e721e3d3-a4d9-49ac-adbe-1bf0766b71fc"
      },
      "outputs": [],
      "source": [
        ""
      ]
    },
    {
      "cell_type": "code",
      "execution_count": null,
      "id": "16ea0a79-44c1-4a6f-8c8e-14771d5a294d",
      "metadata": {
        "id": "16ea0a79-44c1-4a6f-8c8e-14771d5a294d"
      },
      "outputs": [],
      "source": [
        ""
      ]
    },
    {
      "cell_type": "code",
      "execution_count": 42,
      "id": "c5f3d071-539b-48fa-bfff-f1f5a0d4869c",
      "metadata": {
        "id": "c5f3d071-539b-48fa-bfff-f1f5a0d4869c"
      },
      "outputs": [],
      "source": [
        "from spacy.tokenizer import Tokenizer as sTokenizer\n",
        "from spacy.util import compile_prefix_regex, \\\n",
        " compile_infix_regex, compile_suffix_regex\n",
        "import spacy"
      ]
    },
    {
      "cell_type": "code",
      "execution_count": 42,
      "id": "faaafefd-3fa8-4754-94c2-fc6cd5692e20",
      "metadata": {
        "id": "faaafefd-3fa8-4754-94c2-fc6cd5692e20"
      },
      "outputs": [],
      "source": [
        ""
      ]
    },
    {
      "cell_type": "code",
      "execution_count": 58,
      "id": "e27692ef-a1ba-4f9a-b5d4-0b20f6183c64",
      "metadata": {
        "id": "e27692ef-a1ba-4f9a-b5d4-0b20f6183c64"
      },
      "outputs": [],
      "source": [
        "nlp = spacy.blank('ml')\n",
        "\n",
        "prefixes = [pattern for pattern in nlp.Defaults.prefixes\n",
        "             if pattern not in ['-', '_', '#']]\n",
        "             \n",
        "suffixes = [pattern for pattern in nlp.Defaults.suffixes\n",
        "             if pattern not in ['_']] + ['.']\n",
        "            \n",
        "infixes =  [pattern for pattern in nlp.Defaults.infixes\n",
        "            if not re.search(pattern, 'xx-xx')]\n",
        "\n",
        "\n",
        "nlp.tokenizer = sTokenizer(vocab = nlp.vocab,\n",
        "                    rules = nlp.Defaults.tokenizer_exceptions,\n",
        "                    prefix_search = compile_prefix_regex(prefixes).search,\n",
        "                    suffix_search = compile_suffix_regex(suffixes).search,\n",
        "                    infix_finditer = compile_infix_regex(infixes).finditer,\n",
        "                    token_match = nlp.Defaults.token_match\n",
        "                    )\n"
      ]
    },
    {
      "cell_type": "code",
      "execution_count": 59,
      "id": "0d477eed-eff4-46dc-8eb9-405741ce93a7",
      "metadata": {
        "id": "0d477eed-eff4-46dc-8eb9-405741ce93a7",
        "outputId": "0e2ec166-4be6-45d0-d3be-66b3f0e03b4d",
        "colab": {
          "base_uri": "https://localhost:8080/",
          "height": 35
        }
      },
      "outputs": [
        {
          "output_type": "execute_result",
          "data": {
            "application/vnd.google.colaboratory.intrinsic+json": {
              "type": "string"
            },
            "text/plain": [
              "'മികച്ച… മെക്സിക്കന്\\u200d. ഷെഫ്-ഉണ്ടാക്കുന്; .ഭക്ഷണം കഴിക്കണം! '"
            ]
          },
          "metadata": {},
          "execution_count": 59
        }
      ],
      "source": [
        "sample = '''മികച്ച... മെക്സിക്കന്‍. ഷെഫ്-ഉണ്ടാക്കുന്; .ഭക്ഷണം കഴിക്കണം! '''\n",
        "\n",
        "sample = sample.replace(\"...\", '…').replace('..', '…')\n",
        "sample"
      ]
    },
    {
      "cell_type": "code",
      "execution_count": 59,
      "id": "b13bf443-673d-486a-8b20-38fcb79ec694",
      "metadata": {
        "id": "b13bf443-673d-486a-8b20-38fcb79ec694"
      },
      "outputs": [],
      "source": [
        "\n"
      ]
    },
    {
      "cell_type": "code",
      "execution_count": 64,
      "id": "8ba93d9f-8247-40ea-8ed8-9342d797bf4a",
      "metadata": {
        "id": "8ba93d9f-8247-40ea-8ed8-9342d797bf4a",
        "outputId": "f97c3f49-dfc4-4e1d-ea6d-96b1024f81a4",
        "colab": {
          "base_uri": "https://localhost:8080/"
        }
      },
      "outputs": [
        {
          "output_type": "execute_result",
          "data": {
            "text/plain": [
              "[മ, ി, ക, ച, ്]"
            ]
          },
          "metadata": {},
          "execution_count": 64
        }
      ],
      "source": [
        "list(nlp(sample))[:5] # still not working"
      ]
    },
    {
      "cell_type": "code",
      "execution_count": null,
      "id": "1169d695-19d1-4653-a7e2-2fb2a07a3477",
      "metadata": {
        "id": "1169d695-19d1-4653-a7e2-2fb2a07a3477"
      },
      "outputs": [],
      "source": [
        ""
      ]
    },
    {
      "cell_type": "markdown",
      "source": [
        "## Cleaning"
      ],
      "metadata": {
        "id": "SB6zI0__OgIe"
      },
      "id": "SB6zI0__OgIe"
    },
    {
      "cell_type": "code",
      "source": [
        "nlp = spacy.blank('ml')\n",
        "\n",
        "import html\n",
        "\n",
        "def replace_words(txt: str, word: str, repl: str):\n",
        "    txt = txt.replace(word, repl)\n",
        "    return txt\n",
        "\n",
        "\n",
        "def replace_symbol(text):\n",
        "    text = replace_words(text, '??', '?')\n",
        "    text = replace_words(text, '...', '…')\n",
        "    text = replace_words(text, '..', '…')\n",
        "    text = replace_words(text, '.', ' . ')\n",
        "    text = re.sub(r'\\(.*?\\)', '', text)\n",
        "    return text\n",
        "\n",
        "def remove_miscellaneous(text):\n",
        "    text = re.sub('[a-zA-Z]', '', text)\n",
        "    text = re.sub(r'<[^<>]*>', ' ', text)\n",
        "    text = re.sub(r'\\[([^\\[\\]]*)\\]\\([^\\(\\)]*\\)', r'\\1', text)\n",
        "    text = re.sub(r'\\[[^\\[\\]]*\\]', ' ', text)\n",
        "    text = re.sub(r'(?:^|\\s)[&#<>{}\\[\\]+|\\\\:-]{1,}(?:\\s|$)', ' ', text)\n",
        "    text = re.sub(r'(?:^|\\s)[\\-=\\+]{2,}(?:\\s|$)', ' ', text)\n",
        "    text = re.sub(r'\\s+', ' ', text)\n",
        "    return text\n",
        "\n",
        "def clean(text):\n",
        "    text = html.unescape(text)\n",
        "    text = replace_symbol(text)\n",
        "    text = remove_miscellaneous(text)\n",
        "    return text.strip()\n",
        "\n",
        "def make_perfect(txt: str):\n",
        "    txt = ' '.join(map(str, list(nlp(clean(txt)))))\n",
        "    return txt\n",
        "\n"
      ],
      "metadata": {
        "id": "Fnpw3sa2OkFe"
      },
      "id": "Fnpw3sa2OkFe",
      "execution_count": 74,
      "outputs": []
    },
    {
      "cell_type": "code",
      "source": [
        "print(make_perfect(mag['content'][2][:50]))"
      ],
      "metadata": {
        "id": "97rf_Kc5O8JU",
        "outputId": "98da9f96-e636-4284-a209-d95473e1b99a",
        "colab": {
          "base_uri": "https://localhost:8080/"
        }
      },
      "execution_count": 86,
      "outputs": [
        {
          "output_type": "stream",
          "name": "stdout",
          "text": [
            "ജീവിതത്തോടുള്ള ആര്‍ത്തി . അതായിരുന്നു , വനം വകുപ്പിന\n"
          ]
        }
      ],
      "id": "97rf_Kc5O8JU"
    },
    {
      "cell_type": "code",
      "source": [
        ""
      ],
      "metadata": {
        "id": "K-T5u9RGPqlV"
      },
      "id": "K-T5u9RGPqlV",
      "execution_count": null,
      "outputs": []
    },
    {
      "cell_type": "code",
      "source": [
        "mag['content'] = mag['content'].progress_apply(make_perfect)\n",
        "wiki['content'] = wiki['content'].progress_apply(make_perfect)\n",
        "art['content'] = art['content'].progress_apply(make_perfect)"
      ],
      "metadata": {
        "id": "5MZkLYFtQJKu",
        "outputId": "364bf473-e838-4c6b-cbc3-d05835e4ec3d",
        "colab": {
          "base_uri": "https://localhost:8080/"
        }
      },
      "id": "5MZkLYFtQJKu",
      "execution_count": 87,
      "outputs": [
        {
          "output_type": "stream",
          "name": "stderr",
          "text": [
            "100%|\u001b[31m██████████\u001b[0m| 7539/7539 [01:04<00:00, 117.18it/s]\n",
            "100%|\u001b[31m██████████\u001b[0m| 11227/11227 [00:32<00:00, 341.37it/s]\n",
            "100%|\u001b[31m██████████\u001b[0m| 15568/15568 [01:14<00:00, 208.28it/s]\n"
          ]
        }
      ]
    },
    {
      "cell_type": "code",
      "source": [
        ""
      ],
      "metadata": {
        "id": "wV-H2pGQQmKL"
      },
      "id": "wV-H2pGQQmKL",
      "execution_count": null,
      "outputs": []
    }
  ],
  "metadata": {
    "colab": {
      "name": "notebook.ipynb",
      "provenance": [],
      "include_colab_link": true
    },
    "kernelspec": {
      "display_name": "Python 3 (ipykernel)",
      "language": "python",
      "name": "python3"
    },
    "language_info": {
      "codemirror_mode": {
        "name": "ipython",
        "version": 3
      },
      "file_extension": ".py",
      "mimetype": "text/x-python",
      "name": "python",
      "nbconvert_exporter": "python",
      "pygments_lexer": "ipython3",
      "version": "3.9.5"
    }
  },
  "nbformat": 4,
  "nbformat_minor": 5
}