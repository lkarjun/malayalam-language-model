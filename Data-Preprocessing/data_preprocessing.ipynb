{
  "cells": [
    {
      "cell_type": "markdown",
      "metadata": {
        "id": "view-in-github",
        "colab_type": "text"
      },
      "source": [
        "<a href=\"https://colab.research.google.com/github/lkarjun/malayalam-language-model/blob/main/Data-Preprocessing/data_preprocessing.ipynb\" target=\"_parent\"><img src=\"https://colab.research.google.com/assets/colab-badge.svg\" alt=\"Open In Colab\"/></a>"
      ]
    },
    {
      "cell_type": "markdown",
      "id": "-weJG0B6F5iN",
      "metadata": {
        "id": "-weJG0B6F5iN",
        "jp-MarkdownHeadingCollapsed": true,
        "tags": []
      },
      "source": [
        "# Dataset Downloading"
      ]
    },
    {
      "cell_type": "code",
      "execution_count": null,
      "id": "5196cc3c-4418-4bee-9bb1-a4602e9cb51a",
      "metadata": {
        "id": "5196cc3c-4418-4bee-9bb1-a4602e9cb51a"
      },
      "outputs": [],
      "source": [
        "!pip install dvc[gdrive]\n",
        "\n",
        "!dvc get https://github.com/lkarjun/malayalam-language-model \\\n",
        "Datasets/"
      ]
    },
    {
      "cell_type": "code",
      "execution_count": null,
      "id": "TmTXVX-mCpt3",
      "metadata": {
        "id": "TmTXVX-mCpt3"
      },
      "outputs": [],
      "source": [
        "!unzip 'Datasets/*.zip' -d Datasets/"
      ]
    },
    {
      "cell_type": "markdown",
      "id": "4kV8O5LpF99S",
      "metadata": {
        "id": "4kV8O5LpF99S",
        "tags": []
      },
      "source": [
        "# Packages importing"
      ]
    },
    {
      "cell_type": "code",
      "source": [
        "# !pip install fastai==2.5.3\n",
        "# !pip install textacy"
      ],
      "metadata": {
        "id": "38Y3OQF97aLA"
      },
      "id": "38Y3OQF97aLA",
      "execution_count": null,
      "outputs": []
    },
    {
      "cell_type": "code",
      "execution_count": 6,
      "id": "ZNBuehjFDAOV",
      "metadata": {
        "id": "ZNBuehjFDAOV"
      },
      "outputs": [],
      "source": [
        "import pandas as pd\n",
        "import spacy\n",
        "from tqdm import tqdm\n",
        "from pathlib import Path\n",
        "import textacy.preprocessing as tprep\n",
        "import re\n",
        "\n",
        "tqdm.pandas()\n",
        "\n",
        "BASE_PATH = Path(\"../Datasets/\")"
      ]
    },
    {
      "cell_type": "code",
      "execution_count": 7,
      "id": "e9f0da32-592c-4e79-99e7-d54b54b48705",
      "metadata": {
        "id": "e9f0da32-592c-4e79-99e7-d54b54b48705"
      },
      "outputs": [],
      "source": [
        "from fastai.text.core import *\n",
        "from fastai.text.all import *"
      ]
    },
    {
      "cell_type": "code",
      "execution_count": null,
      "id": "55pVBs-NGF8Z",
      "metadata": {
        "id": "55pVBs-NGF8Z"
      },
      "outputs": [],
      "source": [
        ""
      ]
    },
    {
      "cell_type": "markdown",
      "id": "B7sgw0RhpMTi",
      "metadata": {
        "id": "B7sgw0RhpMTi",
        "tags": []
      },
      "source": [
        "# Dataset Loading"
      ]
    },
    {
      "cell_type": "code",
      "execution_count": 8,
      "id": "sY7UO7-UpOZM",
      "metadata": {
        "id": "sY7UO7-UpOZM"
      },
      "outputs": [],
      "source": [
        "mag = pd.read_csv(BASE_PATH/'magazine_files.csv')\n",
        "wiki = pd.read_csv(BASE_PATH/'wikitext_files.csv')"
      ]
    },
    {
      "cell_type": "code",
      "source": [
        "wiki.head(2)"
      ],
      "metadata": {
        "id": "f0N7yrn875tt",
        "outputId": "ca519549-c673-4f8a-c690-e7c2ed048d39",
        "colab": {
          "base_uri": "https://localhost:8080/",
          "height": 112
        }
      },
      "id": "f0N7yrn875tt",
      "execution_count": 11,
      "outputs": [
        {
          "output_type": "execute_result",
          "data": {
            "text/html": [
              "\n",
              "  <div id=\"df-e38dff27-8e24-41e4-a0cf-be2faa84e24f\">\n",
              "    <div class=\"colab-df-container\">\n",
              "      <div>\n",
              "<style scoped>\n",
              "    .dataframe tbody tr th:only-of-type {\n",
              "        vertical-align: middle;\n",
              "    }\n",
              "\n",
              "    .dataframe tbody tr th {\n",
              "        vertical-align: top;\n",
              "    }\n",
              "\n",
              "    .dataframe thead th {\n",
              "        text-align: right;\n",
              "    }\n",
              "</style>\n",
              "<table border=\"1\" class=\"dataframe\">\n",
              "  <thead>\n",
              "    <tr style=\"text-align: right;\">\n",
              "      <th></th>\n",
              "      <th>file_path</th>\n",
              "      <th>dataset_name</th>\n",
              "      <th>length</th>\n",
              "    </tr>\n",
              "  </thead>\n",
              "  <tbody>\n",
              "    <tr>\n",
              "      <th>0</th>\n",
              "      <td>Datasets/wikitext_raw/wiki0.txt</td>\n",
              "      <td>wiki_text</td>\n",
              "      <td>303</td>\n",
              "    </tr>\n",
              "    <tr>\n",
              "      <th>1</th>\n",
              "      <td>Datasets/wikitext_raw/wiki1.txt</td>\n",
              "      <td>wiki_text</td>\n",
              "      <td>3242</td>\n",
              "    </tr>\n",
              "  </tbody>\n",
              "</table>\n",
              "</div>\n",
              "      <button class=\"colab-df-convert\" onclick=\"convertToInteractive('df-e38dff27-8e24-41e4-a0cf-be2faa84e24f')\"\n",
              "              title=\"Convert this dataframe to an interactive table.\"\n",
              "              style=\"display:none;\">\n",
              "        \n",
              "  <svg xmlns=\"http://www.w3.org/2000/svg\" height=\"24px\"viewBox=\"0 0 24 24\"\n",
              "       width=\"24px\">\n",
              "    <path d=\"M0 0h24v24H0V0z\" fill=\"none\"/>\n",
              "    <path d=\"M18.56 5.44l.94 2.06.94-2.06 2.06-.94-2.06-.94-.94-2.06-.94 2.06-2.06.94zm-11 1L8.5 8.5l.94-2.06 2.06-.94-2.06-.94L8.5 2.5l-.94 2.06-2.06.94zm10 10l.94 2.06.94-2.06 2.06-.94-2.06-.94-.94-2.06-.94 2.06-2.06.94z\"/><path d=\"M17.41 7.96l-1.37-1.37c-.4-.4-.92-.59-1.43-.59-.52 0-1.04.2-1.43.59L10.3 9.45l-7.72 7.72c-.78.78-.78 2.05 0 2.83L4 21.41c.39.39.9.59 1.41.59.51 0 1.02-.2 1.41-.59l7.78-7.78 2.81-2.81c.8-.78.8-2.07 0-2.86zM5.41 20L4 18.59l7.72-7.72 1.47 1.35L5.41 20z\"/>\n",
              "  </svg>\n",
              "      </button>\n",
              "      \n",
              "  <style>\n",
              "    .colab-df-container {\n",
              "      display:flex;\n",
              "      flex-wrap:wrap;\n",
              "      gap: 12px;\n",
              "    }\n",
              "\n",
              "    .colab-df-convert {\n",
              "      background-color: #E8F0FE;\n",
              "      border: none;\n",
              "      border-radius: 50%;\n",
              "      cursor: pointer;\n",
              "      display: none;\n",
              "      fill: #1967D2;\n",
              "      height: 32px;\n",
              "      padding: 0 0 0 0;\n",
              "      width: 32px;\n",
              "    }\n",
              "\n",
              "    .colab-df-convert:hover {\n",
              "      background-color: #E2EBFA;\n",
              "      box-shadow: 0px 1px 2px rgba(60, 64, 67, 0.3), 0px 1px 3px 1px rgba(60, 64, 67, 0.15);\n",
              "      fill: #174EA6;\n",
              "    }\n",
              "\n",
              "    [theme=dark] .colab-df-convert {\n",
              "      background-color: #3B4455;\n",
              "      fill: #D2E3FC;\n",
              "    }\n",
              "\n",
              "    [theme=dark] .colab-df-convert:hover {\n",
              "      background-color: #434B5C;\n",
              "      box-shadow: 0px 1px 3px 1px rgba(0, 0, 0, 0.15);\n",
              "      filter: drop-shadow(0px 1px 2px rgba(0, 0, 0, 0.3));\n",
              "      fill: #FFFFFF;\n",
              "    }\n",
              "  </style>\n",
              "\n",
              "      <script>\n",
              "        const buttonEl =\n",
              "          document.querySelector('#df-e38dff27-8e24-41e4-a0cf-be2faa84e24f button.colab-df-convert');\n",
              "        buttonEl.style.display =\n",
              "          google.colab.kernel.accessAllowed ? 'block' : 'none';\n",
              "\n",
              "        async function convertToInteractive(key) {\n",
              "          const element = document.querySelector('#df-e38dff27-8e24-41e4-a0cf-be2faa84e24f');\n",
              "          const dataTable =\n",
              "            await google.colab.kernel.invokeFunction('convertToInteractive',\n",
              "                                                     [key], {});\n",
              "          if (!dataTable) return;\n",
              "\n",
              "          const docLinkHtml = 'Like what you see? Visit the ' +\n",
              "            '<a target=\"_blank\" href=https://colab.research.google.com/notebooks/data_table.ipynb>data table notebook</a>'\n",
              "            + ' to learn more about interactive tables.';\n",
              "          element.innerHTML = '';\n",
              "          dataTable['output_type'] = 'display_data';\n",
              "          await google.colab.output.renderOutput(dataTable, element);\n",
              "          const docLink = document.createElement('div');\n",
              "          docLink.innerHTML = docLinkHtml;\n",
              "          element.appendChild(docLink);\n",
              "        }\n",
              "      </script>\n",
              "    </div>\n",
              "  </div>\n",
              "  "
            ],
            "text/plain": [
              "                         file_path dataset_name  length\n",
              "0  Datasets/wikitext_raw/wiki0.txt    wiki_text     303\n",
              "1  Datasets/wikitext_raw/wiki1.txt    wiki_text    3242"
            ]
          },
          "metadata": {},
          "execution_count": 11
        }
      ]
    },
    {
      "cell_type": "code",
      "execution_count": 10,
      "id": "SdfqPzcwpV--",
      "metadata": {
        "colab": {
          "base_uri": "https://localhost:8080/",
          "height": 112
        },
        "id": "SdfqPzcwpV--",
        "outputId": "daf8dcb0-4bdd-46c2-fa03-b48d1d7713b1"
      },
      "outputs": [
        {
          "output_type": "execute_result",
          "data": {
            "text/html": [
              "\n",
              "  <div id=\"df-a3ed6741-7b6c-4201-be8f-c99120567ec4\">\n",
              "    <div class=\"colab-df-container\">\n",
              "      <div>\n",
              "<style scoped>\n",
              "    .dataframe tbody tr th:only-of-type {\n",
              "        vertical-align: middle;\n",
              "    }\n",
              "\n",
              "    .dataframe tbody tr th {\n",
              "        vertical-align: top;\n",
              "    }\n",
              "\n",
              "    .dataframe thead th {\n",
              "        text-align: right;\n",
              "    }\n",
              "</style>\n",
              "<table border=\"1\" class=\"dataframe\">\n",
              "  <thead>\n",
              "    <tr style=\"text-align: right;\">\n",
              "      <th></th>\n",
              "      <th>file_path</th>\n",
              "      <th>dataset_name</th>\n",
              "      <th>length</th>\n",
              "    </tr>\n",
              "  </thead>\n",
              "  <tbody>\n",
              "    <tr>\n",
              "      <th>0</th>\n",
              "      <td>Datasets/magazine_raw/mag0.txt</td>\n",
              "      <td>magazine_text</td>\n",
              "      <td>4383</td>\n",
              "    </tr>\n",
              "    <tr>\n",
              "      <th>1</th>\n",
              "      <td>Datasets/magazine_raw/mag1.txt</td>\n",
              "      <td>magazine_text</td>\n",
              "      <td>1140</td>\n",
              "    </tr>\n",
              "  </tbody>\n",
              "</table>\n",
              "</div>\n",
              "      <button class=\"colab-df-convert\" onclick=\"convertToInteractive('df-a3ed6741-7b6c-4201-be8f-c99120567ec4')\"\n",
              "              title=\"Convert this dataframe to an interactive table.\"\n",
              "              style=\"display:none;\">\n",
              "        \n",
              "  <svg xmlns=\"http://www.w3.org/2000/svg\" height=\"24px\"viewBox=\"0 0 24 24\"\n",
              "       width=\"24px\">\n",
              "    <path d=\"M0 0h24v24H0V0z\" fill=\"none\"/>\n",
              "    <path d=\"M18.56 5.44l.94 2.06.94-2.06 2.06-.94-2.06-.94-.94-2.06-.94 2.06-2.06.94zm-11 1L8.5 8.5l.94-2.06 2.06-.94-2.06-.94L8.5 2.5l-.94 2.06-2.06.94zm10 10l.94 2.06.94-2.06 2.06-.94-2.06-.94-.94-2.06-.94 2.06-2.06.94z\"/><path d=\"M17.41 7.96l-1.37-1.37c-.4-.4-.92-.59-1.43-.59-.52 0-1.04.2-1.43.59L10.3 9.45l-7.72 7.72c-.78.78-.78 2.05 0 2.83L4 21.41c.39.39.9.59 1.41.59.51 0 1.02-.2 1.41-.59l7.78-7.78 2.81-2.81c.8-.78.8-2.07 0-2.86zM5.41 20L4 18.59l7.72-7.72 1.47 1.35L5.41 20z\"/>\n",
              "  </svg>\n",
              "      </button>\n",
              "      \n",
              "  <style>\n",
              "    .colab-df-container {\n",
              "      display:flex;\n",
              "      flex-wrap:wrap;\n",
              "      gap: 12px;\n",
              "    }\n",
              "\n",
              "    .colab-df-convert {\n",
              "      background-color: #E8F0FE;\n",
              "      border: none;\n",
              "      border-radius: 50%;\n",
              "      cursor: pointer;\n",
              "      display: none;\n",
              "      fill: #1967D2;\n",
              "      height: 32px;\n",
              "      padding: 0 0 0 0;\n",
              "      width: 32px;\n",
              "    }\n",
              "\n",
              "    .colab-df-convert:hover {\n",
              "      background-color: #E2EBFA;\n",
              "      box-shadow: 0px 1px 2px rgba(60, 64, 67, 0.3), 0px 1px 3px 1px rgba(60, 64, 67, 0.15);\n",
              "      fill: #174EA6;\n",
              "    }\n",
              "\n",
              "    [theme=dark] .colab-df-convert {\n",
              "      background-color: #3B4455;\n",
              "      fill: #D2E3FC;\n",
              "    }\n",
              "\n",
              "    [theme=dark] .colab-df-convert:hover {\n",
              "      background-color: #434B5C;\n",
              "      box-shadow: 0px 1px 3px 1px rgba(0, 0, 0, 0.15);\n",
              "      filter: drop-shadow(0px 1px 2px rgba(0, 0, 0, 0.3));\n",
              "      fill: #FFFFFF;\n",
              "    }\n",
              "  </style>\n",
              "\n",
              "      <script>\n",
              "        const buttonEl =\n",
              "          document.querySelector('#df-a3ed6741-7b6c-4201-be8f-c99120567ec4 button.colab-df-convert');\n",
              "        buttonEl.style.display =\n",
              "          google.colab.kernel.accessAllowed ? 'block' : 'none';\n",
              "\n",
              "        async function convertToInteractive(key) {\n",
              "          const element = document.querySelector('#df-a3ed6741-7b6c-4201-be8f-c99120567ec4');\n",
              "          const dataTable =\n",
              "            await google.colab.kernel.invokeFunction('convertToInteractive',\n",
              "                                                     [key], {});\n",
              "          if (!dataTable) return;\n",
              "\n",
              "          const docLinkHtml = 'Like what you see? Visit the ' +\n",
              "            '<a target=\"_blank\" href=https://colab.research.google.com/notebooks/data_table.ipynb>data table notebook</a>'\n",
              "            + ' to learn more about interactive tables.';\n",
              "          element.innerHTML = '';\n",
              "          dataTable['output_type'] = 'display_data';\n",
              "          await google.colab.output.renderOutput(dataTable, element);\n",
              "          const docLink = document.createElement('div');\n",
              "          docLink.innerHTML = docLinkHtml;\n",
              "          element.appendChild(docLink);\n",
              "        }\n",
              "      </script>\n",
              "    </div>\n",
              "  </div>\n",
              "  "
            ],
            "text/plain": [
              "                        file_path   dataset_name  length\n",
              "0  Datasets/magazine_raw/mag0.txt  magazine_text    4383\n",
              "1  Datasets/magazine_raw/mag1.txt  magazine_text    1140"
            ]
          },
          "metadata": {},
          "execution_count": 10
        }
      ],
      "source": [
        "mag.head(2)"
      ]
    },
    {
      "cell_type": "code",
      "execution_count": 12,
      "id": "JVtv2RcrpbXg",
      "metadata": {
        "colab": {
          "base_uri": "https://localhost:8080/"
        },
        "id": "JVtv2RcrpbXg",
        "outputId": "e8bd4a7d-e83b-4e66-8649-1e74a2234f3e"
      },
      "outputs": [
        {
          "output_type": "stream",
          "name": "stderr",
          "text": [
            "100%|██████████| 7863/7863 [00:00<00:00, 12947.79it/s]\n",
            "100%|██████████| 12388/12388 [00:00<00:00, 19878.22it/s]\n"
          ]
        }
      ],
      "source": [
        "def open_files(path: str):\n",
        "    with open(path, 'r', encoding='utf-8') as file:\n",
        "        txt = file.read()\n",
        "    return txt\n",
        "\n",
        "mag['content'] = mag['file_path'].progress_apply(open_files)\n",
        "wiki['content'] = wiki['file_path'].progress_apply(open_files)"
      ]
    },
    {
      "cell_type": "code",
      "execution_count": 13,
      "id": "TTOhVeQdqTY0",
      "metadata": {
        "colab": {
          "base_uri": "https://localhost:8080/",
          "height": 531
        },
        "id": "TTOhVeQdqTY0",
        "outputId": "91f00539-b9a7-49df-8ca6-b6cb29604664"
      },
      "outputs": [
        {
          "output_type": "execute_result",
          "data": {
            "text/html": [
              "\n",
              "  <div id=\"df-1bba402e-5502-45d9-b252-7d4b3ff2283b\">\n",
              "    <div class=\"colab-df-container\">\n",
              "      <div>\n",
              "<style scoped>\n",
              "    .dataframe tbody tr th:only-of-type {\n",
              "        vertical-align: middle;\n",
              "    }\n",
              "\n",
              "    .dataframe tbody tr th {\n",
              "        vertical-align: top;\n",
              "    }\n",
              "\n",
              "    .dataframe thead th {\n",
              "        text-align: right;\n",
              "    }\n",
              "</style>\n",
              "<table border=\"1\" class=\"dataframe\">\n",
              "  <thead>\n",
              "    <tr style=\"text-align: right;\">\n",
              "      <th></th>\n",
              "      <th>file_path</th>\n",
              "      <th>dataset_name</th>\n",
              "      <th>length</th>\n",
              "      <th>content</th>\n",
              "    </tr>\n",
              "  </thead>\n",
              "  <tbody>\n",
              "    <tr>\n",
              "      <th>0</th>\n",
              "      <td>Datasets/magazine_raw/mag0.txt</td>\n",
              "      <td>magazine_text</td>\n",
              "      <td>4383</td>\n",
              "      <td>ഇന്ത്യയിലെ ആദ്യത്തെ വനിതാ ഐ‌എ‌എസ് ഉദ്യോഗസ്ഥയെ കുറിച്ചറിയാമോ? അവരുടെ പേരാണ് അന്ന രാജം മൽഹോത്ര. അവർ ഒരു മലയാളി കൂടിയാണ് എന്നത് നാം മലയാളികൾക്ക് അഭിമാനിക്കാനുള്ള വകയാണ്. കുഞ്ഞുകുട്ടി പ്രാരാബ്ദങ്ങളുമായി വീടുകളിൽ ഒതുങ്ങി കഴിഞ്ഞിരുന്ന സ്ത്രീകൾക്കിടയിൽ അന്ന രാജം മൽ‌ഹോത്ര വേറിട്ട് നിന്നു. സമൂഹത്തിൽ നിലനിന്നിരുന്ന അസമത്വത്തിനെതിരെ, ലിംഗ അനീതികൾക്കെതിരെ പോരാടിയ സ്ത്രീയാണ് അവർ, ഇന്ത്യയിലെ ആദ്യത്തെ വനിതാ ഐ‌എ‌എസ് ഉദ്യോഗസ്ഥ. കേന്ദ്രസർക്കാരിൽ സെക്രട്ടേറിയൽ പദവി വഹിച്ച ആദ്യ വനിത കൂടിയായിരുന്നു അവർ. വളരെ പ്രചോദനാത്മകമായ അവരുടെ കഥ. 1927 ജൂലൈ 17 -ന് കേരളത്തിലെ നിരണം ഗ്രാമത്തിൽ ജനിച്ച അന്ന, മദ്രാസ് സർവകലാശാലയ...</td>\n",
              "    </tr>\n",
              "    <tr>\n",
              "      <th>1</th>\n",
              "      <td>Datasets/magazine_raw/mag1.txt</td>\n",
              "      <td>magazine_text</td>\n",
              "      <td>1140</td>\n",
              "      <td>ഒരു മ്യുസീഷന് ഡാന്‍സ് ചെയ്യാനാവും, ഡ്രം വായിക്കാനുമാവും. ഡ്രം വായിച്ചുകൊണ്ടിരിക്കെ ഡാന്‍സ് ചെയ്യാനാവും. ആ കലാകാരന്‍റെ വീഡിയോ ഇപ്പോള്‍ സാമൂഹിക മാധ്യമങ്ങളില്‍ വൈറലാവുകയാണ്. നിരവധിപ്പേരാണ് ഇദ്ദേഹത്തിന്‍റെ കഴിവുകളെ പ്രശംസിച്ചിട്ടു കൊണ്ട് മുന്നോട്ട് വന്നിരിക്കുന്നത്. തിമോത്തി ഫ്ലെച്ചര്‍ എന്നാണ് അദ്ദേഹത്തിന്‍റെ പേര്. 'ബാൾട്ടിമോറിന്‍റെ കുട്ടി, കൂടുതൽ എന്തെങ്കിലും ആവാന്‍ ആഗ്രഹിക്കുകയും അതിനായി പ്രവർത്തിക്കുകയും ചെയ്യുന്നയാളാണ്' എന്നാണ് തിമോത്തി ഫ്ലെച്ചറിന്‍റെ ഇന്‍സ്റ്റഗ്രാം ബയോ പറയുന്നത്. ഏതായാലും ഫ്ലെച്ചര്‍ പങ്കുവച്ച വീഡിയോ വളരെ ചുരുങ്ങിയ സമയം കൊണ്ടാണ് വൈറലായത്.  A post shared by Formerly Known A...</td>\n",
              "    </tr>\n",
              "    <tr>\n",
              "      <th>2</th>\n",
              "      <td>Datasets/magazine_raw/mag2.txt</td>\n",
              "      <td>magazine_text</td>\n",
              "      <td>11197</td>\n",
              "      <td>വായന തുറന്നുതരുന്ന ലോകത്തെ കുറിച്ച് നിങ്ങളെന്ത് പറയുന്നു? ഏത് ഒറ്റമുറിയിൽ കുടുങ്ങിപ്പോയവർക്കും ഒരടി പോലും കാലുവയ്ക്കാതെ നടത്താവുന്ന അനേകസാധ്യതകളുള്ള യാത്രകളാണ് പുസ്തകം സമ്മാനിക്കുന്നത്. എഴുത്തുകാരൻ എഴുതി അവസാനിച്ചിടത്തുനിന്നുമാണ് ശരിക്കും ആ പുസ്തകം തുടങ്ങുന്നത് തന്നെ. പിന്നീടുള്ള 'വിഷ്വലു'കൾ മുഴുവനും നമ്മുടെ ഉള്ളിൽ നിന്നുമാണ് പിറക്കുന്നത്. എങ്ങനെയും രൂപം നൽകാം, ഏത് വഴിയിലൂടെയും നടത്തിക്കാം. ചില പുസ്തകങ്ങളാകട്ടെ തീർക്കാതെ കയ്യിൽ നിന്നും താഴെ വയ്ക്കാൻ തോന്നാത്തവയാണ്. വായിച്ചവസാനിക്കാതെ നമ്മെക്കൊണ്ട് മറ്റൊന്നും ചെയ്യിക്കാത്തവ. ആ ലോകത്തിലാണ് നമ്മളെന്ന് തോന്നിപ്പിക്കുന്നവ. വായിച്ച് തീർത്ത് അടച്...</td>\n",
              "    </tr>\n",
              "    <tr>\n",
              "      <th>3</th>\n",
              "      <td>Datasets/magazine_raw/mag3.txt</td>\n",
              "      <td>magazine_text</td>\n",
              "      <td>845</td>\n",
              "      <td>ജീവിതത്തോടുള്ള ആര്‍ത്തി. അതായിരുന്നു, വനം വകുപ്പിന്റെ കൂട്ടില്‍നിന്നും കാട്ടിലേക്കുള്ള ആ കടുവയുടെ ചാട്ടത്തിന്റെ കരുത്ത്.  ട്വിറ്ററില്‍ ഏറെ ചര്‍ച്ച ചെയ്യപ്പെട്ട ഒരു വീഡിയോയിലാണ് ആ കടുവയുള്ളത്. ബിഹാറിലെ ഉന്നത വനംവകുപ്പ് ഉദ്യോഗസ്ഥന്‍ രമേശ് പാണ്ഡേയാണ് കടുവയുടെ അതിജീവന ഉല്‍സാഹങ്ങള്‍ തുളുമ്പുന്ന ആ ഫോട്ടോ ട്വീറ്റ് ചെയ്തത്.  ആ വീഡിയോയിലുള്ളത് ഒരു വനംവകുപ്പ് വാഹനമാണ്. അതിന്റെ പുറകില്‍ ഒരു കൂടുണ്ട്, കൂട്ടിലൊരു കടുവയും.  ഉത്തരവ് ലഭിക്കുമ്പോള്‍, കൂടു പതിയെ തുറന്നു വരുന്നു. കടുവ ജീവനും കൊണ്ട് രക്ഷപ്പെട്ട് കാട്ടിലേക്ക് കുതിക്കുന്നു.  ബിഹാറിലെ വാല്‍മീകി ടൈഗര്‍ റിസര്‍വിലാണ് സംഭവമെന്നാണ് ട്വീറ്റ് വിശദീകരി...</td>\n",
              "    </tr>\n",
              "  </tbody>\n",
              "</table>\n",
              "</div>\n",
              "      <button class=\"colab-df-convert\" onclick=\"convertToInteractive('df-1bba402e-5502-45d9-b252-7d4b3ff2283b')\"\n",
              "              title=\"Convert this dataframe to an interactive table.\"\n",
              "              style=\"display:none;\">\n",
              "        \n",
              "  <svg xmlns=\"http://www.w3.org/2000/svg\" height=\"24px\"viewBox=\"0 0 24 24\"\n",
              "       width=\"24px\">\n",
              "    <path d=\"M0 0h24v24H0V0z\" fill=\"none\"/>\n",
              "    <path d=\"M18.56 5.44l.94 2.06.94-2.06 2.06-.94-2.06-.94-.94-2.06-.94 2.06-2.06.94zm-11 1L8.5 8.5l.94-2.06 2.06-.94-2.06-.94L8.5 2.5l-.94 2.06-2.06.94zm10 10l.94 2.06.94-2.06 2.06-.94-2.06-.94-.94-2.06-.94 2.06-2.06.94z\"/><path d=\"M17.41 7.96l-1.37-1.37c-.4-.4-.92-.59-1.43-.59-.52 0-1.04.2-1.43.59L10.3 9.45l-7.72 7.72c-.78.78-.78 2.05 0 2.83L4 21.41c.39.39.9.59 1.41.59.51 0 1.02-.2 1.41-.59l7.78-7.78 2.81-2.81c.8-.78.8-2.07 0-2.86zM5.41 20L4 18.59l7.72-7.72 1.47 1.35L5.41 20z\"/>\n",
              "  </svg>\n",
              "      </button>\n",
              "      \n",
              "  <style>\n",
              "    .colab-df-container {\n",
              "      display:flex;\n",
              "      flex-wrap:wrap;\n",
              "      gap: 12px;\n",
              "    }\n",
              "\n",
              "    .colab-df-convert {\n",
              "      background-color: #E8F0FE;\n",
              "      border: none;\n",
              "      border-radius: 50%;\n",
              "      cursor: pointer;\n",
              "      display: none;\n",
              "      fill: #1967D2;\n",
              "      height: 32px;\n",
              "      padding: 0 0 0 0;\n",
              "      width: 32px;\n",
              "    }\n",
              "\n",
              "    .colab-df-convert:hover {\n",
              "      background-color: #E2EBFA;\n",
              "      box-shadow: 0px 1px 2px rgba(60, 64, 67, 0.3), 0px 1px 3px 1px rgba(60, 64, 67, 0.15);\n",
              "      fill: #174EA6;\n",
              "    }\n",
              "\n",
              "    [theme=dark] .colab-df-convert {\n",
              "      background-color: #3B4455;\n",
              "      fill: #D2E3FC;\n",
              "    }\n",
              "\n",
              "    [theme=dark] .colab-df-convert:hover {\n",
              "      background-color: #434B5C;\n",
              "      box-shadow: 0px 1px 3px 1px rgba(0, 0, 0, 0.15);\n",
              "      filter: drop-shadow(0px 1px 2px rgba(0, 0, 0, 0.3));\n",
              "      fill: #FFFFFF;\n",
              "    }\n",
              "  </style>\n",
              "\n",
              "      <script>\n",
              "        const buttonEl =\n",
              "          document.querySelector('#df-1bba402e-5502-45d9-b252-7d4b3ff2283b button.colab-df-convert');\n",
              "        buttonEl.style.display =\n",
              "          google.colab.kernel.accessAllowed ? 'block' : 'none';\n",
              "\n",
              "        async function convertToInteractive(key) {\n",
              "          const element = document.querySelector('#df-1bba402e-5502-45d9-b252-7d4b3ff2283b');\n",
              "          const dataTable =\n",
              "            await google.colab.kernel.invokeFunction('convertToInteractive',\n",
              "                                                     [key], {});\n",
              "          if (!dataTable) return;\n",
              "\n",
              "          const docLinkHtml = 'Like what you see? Visit the ' +\n",
              "            '<a target=\"_blank\" href=https://colab.research.google.com/notebooks/data_table.ipynb>data table notebook</a>'\n",
              "            + ' to learn more about interactive tables.';\n",
              "          element.innerHTML = '';\n",
              "          dataTable['output_type'] = 'display_data';\n",
              "          await google.colab.output.renderOutput(dataTable, element);\n",
              "          const docLink = document.createElement('div');\n",
              "          docLink.innerHTML = docLinkHtml;\n",
              "          element.appendChild(docLink);\n",
              "        }\n",
              "      </script>\n",
              "    </div>\n",
              "  </div>\n",
              "  "
            ],
            "text/plain": [
              "                        file_path  ...                                                                                                                                                                                                                                                                                                                                                                                                                                                                                                                                                                                                                  content\n",
              "0  Datasets/magazine_raw/mag0.txt  ...  ഇന്ത്യയിലെ ആദ്യത്തെ വനിതാ ഐ‌എ‌എസ് ഉദ്യോഗസ്ഥയെ കുറിച്ചറിയാമോ? അവരുടെ പേരാണ് അന്ന രാജം മൽഹോത്ര. അവർ ഒരു മലയാളി കൂടിയാണ് എന്നത് നാം മലയാളികൾക്ക് അഭിമാനിക്കാനുള്ള വകയാണ്. കുഞ്ഞുകുട്ടി പ്രാരാബ്ദങ്ങളുമായി വീടുകളിൽ ഒതുങ്ങി കഴിഞ്ഞിരുന്ന സ്ത്രീകൾക്കിടയിൽ അന്ന രാജം മൽ‌ഹോത്ര വേറിട്ട് നിന്നു. സമൂഹത്തിൽ നിലനിന്നിരുന്ന അസമത്വത്തിനെതിരെ, ലിംഗ അനീതികൾക്കെതിരെ പോരാടിയ സ്ത്രീയാണ് അവർ, ഇന്ത്യയിലെ ആദ്യത്തെ വനിതാ ഐ‌എ‌എസ് ഉദ്യോഗസ്ഥ. കേന്ദ്രസർക്കാരിൽ സെക്രട്ടേറിയൽ പദവി വഹിച്ച ആദ്യ വനിത കൂടിയായിരുന്നു അവർ. വളരെ പ്രചോദനാത്മകമായ അവരുടെ കഥ. 1927 ജൂലൈ 17 -ന് കേരളത്തിലെ നിരണം ഗ്രാമത്തിൽ ജനിച്ച അന്ന, മദ്രാസ് സർവകലാശാലയ...\n",
              "1  Datasets/magazine_raw/mag1.txt  ...  ഒരു മ്യുസീഷന് ഡാന്‍സ് ചെയ്യാനാവും, ഡ്രം വായിക്കാനുമാവും. ഡ്രം വായിച്ചുകൊണ്ടിരിക്കെ ഡാന്‍സ് ചെയ്യാനാവും. ആ കലാകാരന്‍റെ വീഡിയോ ഇപ്പോള്‍ സാമൂഹിക മാധ്യമങ്ങളില്‍ വൈറലാവുകയാണ്. നിരവധിപ്പേരാണ് ഇദ്ദേഹത്തിന്‍റെ കഴിവുകളെ പ്രശംസിച്ചിട്ടു കൊണ്ട് മുന്നോട്ട് വന്നിരിക്കുന്നത്. തിമോത്തി ഫ്ലെച്ചര്‍ എന്നാണ് അദ്ദേഹത്തിന്‍റെ പേര്. 'ബാൾട്ടിമോറിന്‍റെ കുട്ടി, കൂടുതൽ എന്തെങ്കിലും ആവാന്‍ ആഗ്രഹിക്കുകയും അതിനായി പ്രവർത്തിക്കുകയും ചെയ്യുന്നയാളാണ്' എന്നാണ് തിമോത്തി ഫ്ലെച്ചറിന്‍റെ ഇന്‍സ്റ്റഗ്രാം ബയോ പറയുന്നത്. ഏതായാലും ഫ്ലെച്ചര്‍ പങ്കുവച്ച വീഡിയോ വളരെ ചുരുങ്ങിയ സമയം കൊണ്ടാണ് വൈറലായത്.  A post shared by Formerly Known A...\n",
              "2  Datasets/magazine_raw/mag2.txt  ...  വായന തുറന്നുതരുന്ന ലോകത്തെ കുറിച്ച് നിങ്ങളെന്ത് പറയുന്നു? ഏത് ഒറ്റമുറിയിൽ കുടുങ്ങിപ്പോയവർക്കും ഒരടി പോലും കാലുവയ്ക്കാതെ നടത്താവുന്ന അനേകസാധ്യതകളുള്ള യാത്രകളാണ് പുസ്തകം സമ്മാനിക്കുന്നത്. എഴുത്തുകാരൻ എഴുതി അവസാനിച്ചിടത്തുനിന്നുമാണ് ശരിക്കും ആ പുസ്തകം തുടങ്ങുന്നത് തന്നെ. പിന്നീടുള്ള 'വിഷ്വലു'കൾ മുഴുവനും നമ്മുടെ ഉള്ളിൽ നിന്നുമാണ് പിറക്കുന്നത്. എങ്ങനെയും രൂപം നൽകാം, ഏത് വഴിയിലൂടെയും നടത്തിക്കാം. ചില പുസ്തകങ്ങളാകട്ടെ തീർക്കാതെ കയ്യിൽ നിന്നും താഴെ വയ്ക്കാൻ തോന്നാത്തവയാണ്. വായിച്ചവസാനിക്കാതെ നമ്മെക്കൊണ്ട് മറ്റൊന്നും ചെയ്യിക്കാത്തവ. ആ ലോകത്തിലാണ് നമ്മളെന്ന് തോന്നിപ്പിക്കുന്നവ. വായിച്ച് തീർത്ത് അടച്...\n",
              "3  Datasets/magazine_raw/mag3.txt  ...  ജീവിതത്തോടുള്ള ആര്‍ത്തി. അതായിരുന്നു, വനം വകുപ്പിന്റെ കൂട്ടില്‍നിന്നും കാട്ടിലേക്കുള്ള ആ കടുവയുടെ ചാട്ടത്തിന്റെ കരുത്ത്.  ട്വിറ്ററില്‍ ഏറെ ചര്‍ച്ച ചെയ്യപ്പെട്ട ഒരു വീഡിയോയിലാണ് ആ കടുവയുള്ളത്. ബിഹാറിലെ ഉന്നത വനംവകുപ്പ് ഉദ്യോഗസ്ഥന്‍ രമേശ് പാണ്ഡേയാണ് കടുവയുടെ അതിജീവന ഉല്‍സാഹങ്ങള്‍ തുളുമ്പുന്ന ആ ഫോട്ടോ ട്വീറ്റ് ചെയ്തത്.  ആ വീഡിയോയിലുള്ളത് ഒരു വനംവകുപ്പ് വാഹനമാണ്. അതിന്റെ പുറകില്‍ ഒരു കൂടുണ്ട്, കൂട്ടിലൊരു കടുവയും.  ഉത്തരവ് ലഭിക്കുമ്പോള്‍, കൂടു പതിയെ തുറന്നു വരുന്നു. കടുവ ജീവനും കൊണ്ട് രക്ഷപ്പെട്ട് കാട്ടിലേക്ക് കുതിക്കുന്നു.  ബിഹാറിലെ വാല്‍മീകി ടൈഗര്‍ റിസര്‍വിലാണ് സംഭവമെന്നാണ് ട്വീറ്റ് വിശദീകരി...\n",
              "\n",
              "[4 rows x 4 columns]"
            ]
          },
          "metadata": {},
          "execution_count": 13
        }
      ],
      "source": [
        "mag.head(4)"
      ]
    },
    {
      "cell_type": "code",
      "execution_count": 14,
      "id": "cBCu8CYiqVHf",
      "metadata": {
        "id": "cBCu8CYiqVHf",
        "outputId": "e054e593-b1e6-49ab-e94b-f54b44caea6a",
        "colab": {
          "base_uri": "https://localhost:8080/",
          "height": 497
        }
      },
      "outputs": [
        {
          "output_type": "execute_result",
          "data": {
            "text/html": [
              "\n",
              "  <div id=\"df-21f06392-f52a-417c-a303-e4afe81a6b87\">\n",
              "    <div class=\"colab-df-container\">\n",
              "      <div>\n",
              "<style scoped>\n",
              "    .dataframe tbody tr th:only-of-type {\n",
              "        vertical-align: middle;\n",
              "    }\n",
              "\n",
              "    .dataframe tbody tr th {\n",
              "        vertical-align: top;\n",
              "    }\n",
              "\n",
              "    .dataframe thead th {\n",
              "        text-align: right;\n",
              "    }\n",
              "</style>\n",
              "<table border=\"1\" class=\"dataframe\">\n",
              "  <thead>\n",
              "    <tr style=\"text-align: right;\">\n",
              "      <th></th>\n",
              "      <th>file_path</th>\n",
              "      <th>dataset_name</th>\n",
              "      <th>length</th>\n",
              "      <th>content</th>\n",
              "    </tr>\n",
              "  </thead>\n",
              "  <tbody>\n",
              "    <tr>\n",
              "      <th>0</th>\n",
              "      <td>Datasets/wikitext_raw/wiki0.txt</td>\n",
              "      <td>wiki_text</td>\n",
              "      <td>303</td>\n",
              "      <td>2015 ലെ ഇടശ്ശേരി പുരസ്കാരം നേടിയ ചെറുകഥാകൃത്ത് ആണ് ഷാഹിന ഇ കെ .മലയാള സാഹിത്യത്തിലെ ശ്രദ്ധേയരായ ചെറുകഥ എഴുത്തുകാരിൽ ഒരാളാണ്.പുതുമഴ ചൂരുള്ള ചുംബനങ്ങൾ എന്ന കൃതിക്കാണ് പുരസ്‌കാരം ലഭിച്ചത് .കേരളത്തിലെ മലപ്പുറം ജില്ലയിലെ പെരിന്തൽമണ്ണ സ്വദേശിയാണ് .മലപ്പുറം ഇരുമ്പുഴി ഹയർ സെക്കന്ററി സ്കൂൾ അധ്യാപികയാണ് .\\n\\n\\n\\n\\n\\n\\n\\n</td>\n",
              "    </tr>\n",
              "    <tr>\n",
              "      <th>1</th>\n",
              "      <td>Datasets/wikitext_raw/wiki1.txt</td>\n",
              "      <td>wiki_text</td>\n",
              "      <td>3242</td>\n",
              "      <td>മൃദുവും, വെളുത്ത നിറത്തിലുള്ളതും, തിളക്കമേറിയതുമായ ഒരു ലോഹമാണ് വെള്ളി അഥവാ രജതം . ആവർത്തനപ്പട്ടികയിൽ സംക്രമണമൂലകങ്ങളുടെ കൂട്ടത്തിലാണ് ഇതിന്റെ സ്ഥാനം. വെള്ളിയുടെ ആറ്റോമിക സംഖ്യ 47 ആണ്. പ്രതീകം: Ag. എല്ലാ ലോഹങ്ങളിലും വച്ച് ഏറ്റവും കൂടുതൽ താപ വൈദ്യുത ചാലകത പ്രകടിപ്പിക്കുന്നത് വെള്ളിയാണ്. പ്രകൃതിയിൽ ഇത് ധാതു രൂപത്തിലും അല്ലാതെ സ്വതന്ത്രമായും ഇത് കാണപ്പെടുന്നു. നാണയങ്ങൾ, ആഭരണങ്ങൾ, കരണ്ടികൾ, പാത്രങ്ങൾ, കണ്ണാടികൾ എന്നിവയുടെ നിർമ്മാണത്തിനും ഛായഗ്രഹണമേഖലയിലും വെള്ളി ഉപയോഗിക്കുന്നു.\\t\\nവെള്ളി വളരെ ലോലമായ ഒരു ലോഹമായതിനാൽ അതിനെ അടിച്ചു പരത്താനും വലിച്ചു നീട്ടാനും എളുപ്പമാണ്. ലോഹങ്ങളിൽ വച്ച് ഏറ്റവും നല...</td>\n",
              "    </tr>\n",
              "    <tr>\n",
              "      <th>2</th>\n",
              "      <td>Datasets/wikitext_raw/wiki2.txt</td>\n",
              "      <td>wiki_text</td>\n",
              "      <td>1151</td>\n",
              "      <td>പ്രാഗ്ജ്യോതിഷത്തിലെ രാജാവായ നരകാസുരന്റെ പുത്രനാണ് ഭഗദത്തൻ. നരകാസുരനെ വധിച്ചത് ഭഗവാൻ ശ്രീകൃഷ്ണനായിരുന്നു. ഭഗദത്തനെ കുരുക്ഷേത്രയുദ്ധത്തിൽ അർജ്ജുനനാണ് വധിച്ചത്. ഭഗദത്തൻ ആനപ്പുറത്തേറിയാണ് പാണ്ഡവരോട് യുദ്ധം ചെയ്തത്. കുരുക്ഷേത്രയുദ്ധത്തിലെ ഭഗദത്തന്റെ ആനയെ മഹാഭാരതത്തിൽ വ്യാസൻ ഉപമിക്കുന്നത് അഷ്ടദിക്ഗജങ്ങളിലെ ഒരാനയായ സുപ്രതികനോടാണ്. \\nമഹാഭാരതത്തിൽ ദ്രോണപർവ്വത്തിൽ ഭഗദത്തനെക്കുറിച്ച് വിവരിക്കുന്നുണ്ട്. കുരുക്ഷേത്രയുദ്ധത്തിൽ പ്രാഗ്ജ്യോതിഷവും പങ്കെടുത്തിരുന്നു. അന്നത്തെ രാജാവായിരുന്ന ഭഗദത്തൻ കൗരവപക്ഷത്തു ചേർന്നാണ് യുദ്ധം ചെയ്തത്. വാർദ്ധക്യം ഉണ്ടായിരുന്നെങ്കിലും തന്റെ ആനപ്പുറത്തേറി പന്ത്രണ്ടു ദിവസം പാണ്...</td>\n",
              "    </tr>\n",
              "    <tr>\n",
              "      <th>3</th>\n",
              "      <td>Datasets/wikitext_raw/wiki3.txt</td>\n",
              "      <td>wiki_text</td>\n",
              "      <td>3989</td>\n",
              "      <td>Coordinates: 25°16′55″N 82°57′23″E / 25.282°N 82.9563°E / 25.282; 82.9563\\nഉത്തർ പ്രദേശ് സംസ്ഥാനത്ത് ഗംഗ നദിയുടെ പടിഞ്ഞാറൻ തീരത്ത് ഏതാണ്ട് 6 കിലോമീറ്ററിലധികം‌ നീളത്തിൽ സ്ഥിതി ചെയ്യുന്ന ഒരു പട്ടണമാണ് ബനാറസ് ), കാശി ) എന്നീ പേരുകളിൽ അറിയപ്പെടുന്ന വാരാണസി ). ഹിന്ദുക്കളുടെയും, ബുദ്ധമതക്കാരുടേയും, ജൈനമതക്കാരുടേയും പുണ്യ നഗരമായ ഇത് ലോകത്തിലെ ഏറ്റവും പഴയ നഗരങ്ങളിൽ ഒന്നായി കണക്കാക്കപ്പെടുന്നു. 1200 ബി.സി.ഇ. മുതലേ ഇവിടെ നഗരം നിലനിന്നിരുന്നു എന്നു കരുതുന്നു.ഹിന്ദു ത്രിമൂർത്തികളിലൊരാളായ ശിവൻറെ ത്രിശ്ശൂലത്തിന്മേലാണത്രെ കാശിയുടെ കിടപ്പ്. കാശി എന്നതിന് പ്രകാശമാനം എന്നും അർത്ഥമുണ്ട്. പണ്ഡിതരുടേയും ജ്ഞാനി...</td>\n",
              "    </tr>\n",
              "  </tbody>\n",
              "</table>\n",
              "</div>\n",
              "      <button class=\"colab-df-convert\" onclick=\"convertToInteractive('df-21f06392-f52a-417c-a303-e4afe81a6b87')\"\n",
              "              title=\"Convert this dataframe to an interactive table.\"\n",
              "              style=\"display:none;\">\n",
              "        \n",
              "  <svg xmlns=\"http://www.w3.org/2000/svg\" height=\"24px\"viewBox=\"0 0 24 24\"\n",
              "       width=\"24px\">\n",
              "    <path d=\"M0 0h24v24H0V0z\" fill=\"none\"/>\n",
              "    <path d=\"M18.56 5.44l.94 2.06.94-2.06 2.06-.94-2.06-.94-.94-2.06-.94 2.06-2.06.94zm-11 1L8.5 8.5l.94-2.06 2.06-.94-2.06-.94L8.5 2.5l-.94 2.06-2.06.94zm10 10l.94 2.06.94-2.06 2.06-.94-2.06-.94-.94-2.06-.94 2.06-2.06.94z\"/><path d=\"M17.41 7.96l-1.37-1.37c-.4-.4-.92-.59-1.43-.59-.52 0-1.04.2-1.43.59L10.3 9.45l-7.72 7.72c-.78.78-.78 2.05 0 2.83L4 21.41c.39.39.9.59 1.41.59.51 0 1.02-.2 1.41-.59l7.78-7.78 2.81-2.81c.8-.78.8-2.07 0-2.86zM5.41 20L4 18.59l7.72-7.72 1.47 1.35L5.41 20z\"/>\n",
              "  </svg>\n",
              "      </button>\n",
              "      \n",
              "  <style>\n",
              "    .colab-df-container {\n",
              "      display:flex;\n",
              "      flex-wrap:wrap;\n",
              "      gap: 12px;\n",
              "    }\n",
              "\n",
              "    .colab-df-convert {\n",
              "      background-color: #E8F0FE;\n",
              "      border: none;\n",
              "      border-radius: 50%;\n",
              "      cursor: pointer;\n",
              "      display: none;\n",
              "      fill: #1967D2;\n",
              "      height: 32px;\n",
              "      padding: 0 0 0 0;\n",
              "      width: 32px;\n",
              "    }\n",
              "\n",
              "    .colab-df-convert:hover {\n",
              "      background-color: #E2EBFA;\n",
              "      box-shadow: 0px 1px 2px rgba(60, 64, 67, 0.3), 0px 1px 3px 1px rgba(60, 64, 67, 0.15);\n",
              "      fill: #174EA6;\n",
              "    }\n",
              "\n",
              "    [theme=dark] .colab-df-convert {\n",
              "      background-color: #3B4455;\n",
              "      fill: #D2E3FC;\n",
              "    }\n",
              "\n",
              "    [theme=dark] .colab-df-convert:hover {\n",
              "      background-color: #434B5C;\n",
              "      box-shadow: 0px 1px 3px 1px rgba(0, 0, 0, 0.15);\n",
              "      filter: drop-shadow(0px 1px 2px rgba(0, 0, 0, 0.3));\n",
              "      fill: #FFFFFF;\n",
              "    }\n",
              "  </style>\n",
              "\n",
              "      <script>\n",
              "        const buttonEl =\n",
              "          document.querySelector('#df-21f06392-f52a-417c-a303-e4afe81a6b87 button.colab-df-convert');\n",
              "        buttonEl.style.display =\n",
              "          google.colab.kernel.accessAllowed ? 'block' : 'none';\n",
              "\n",
              "        async function convertToInteractive(key) {\n",
              "          const element = document.querySelector('#df-21f06392-f52a-417c-a303-e4afe81a6b87');\n",
              "          const dataTable =\n",
              "            await google.colab.kernel.invokeFunction('convertToInteractive',\n",
              "                                                     [key], {});\n",
              "          if (!dataTable) return;\n",
              "\n",
              "          const docLinkHtml = 'Like what you see? Visit the ' +\n",
              "            '<a target=\"_blank\" href=https://colab.research.google.com/notebooks/data_table.ipynb>data table notebook</a>'\n",
              "            + ' to learn more about interactive tables.';\n",
              "          element.innerHTML = '';\n",
              "          dataTable['output_type'] = 'display_data';\n",
              "          await google.colab.output.renderOutput(dataTable, element);\n",
              "          const docLink = document.createElement('div');\n",
              "          docLink.innerHTML = docLinkHtml;\n",
              "          element.appendChild(docLink);\n",
              "        }\n",
              "      </script>\n",
              "    </div>\n",
              "  </div>\n",
              "  "
            ],
            "text/plain": [
              "                         file_path  ...                                                                                                                                                                                                                                                                                                                                                                                                                                                                                                                                                                                                                  content\n",
              "0  Datasets/wikitext_raw/wiki0.txt  ...                                                                                                                                                                                                                                                                                                  2015 ലെ ഇടശ്ശേരി പുരസ്കാരം നേടിയ ചെറുകഥാകൃത്ത് ആണ് ഷാഹിന ഇ കെ .മലയാള സാഹിത്യത്തിലെ ശ്രദ്ധേയരായ ചെറുകഥ എഴുത്തുകാരിൽ ഒരാളാണ്.പുതുമഴ ചൂരുള്ള ചുംബനങ്ങൾ എന്ന കൃതിക്കാണ് പുരസ്‌കാരം ലഭിച്ചത് .കേരളത്തിലെ മലപ്പുറം ജില്ലയിലെ പെരിന്തൽമണ്ണ സ്വദേശിയാണ് .മലപ്പുറം ഇരുമ്പുഴി ഹയർ സെക്കന്ററി സ്കൂൾ അധ്യാപികയാണ് .\\n\\n\\n\\n\\n\\n\\n\\n\n",
              "1  Datasets/wikitext_raw/wiki1.txt  ...  മൃദുവും, വെളുത്ത നിറത്തിലുള്ളതും, തിളക്കമേറിയതുമായ ഒരു ലോഹമാണ് വെള്ളി അഥവാ രജതം . ആവർത്തനപ്പട്ടികയിൽ സംക്രമണമൂലകങ്ങളുടെ കൂട്ടത്തിലാണ് ഇതിന്റെ സ്ഥാനം. വെള്ളിയുടെ ആറ്റോമിക സംഖ്യ 47 ആണ്. പ്രതീകം: Ag. എല്ലാ ലോഹങ്ങളിലും വച്ച് ഏറ്റവും കൂടുതൽ താപ വൈദ്യുത ചാലകത പ്രകടിപ്പിക്കുന്നത് വെള്ളിയാണ്. പ്രകൃതിയിൽ ഇത് ധാതു രൂപത്തിലും അല്ലാതെ സ്വതന്ത്രമായും ഇത് കാണപ്പെടുന്നു. നാണയങ്ങൾ, ആഭരണങ്ങൾ, കരണ്ടികൾ, പാത്രങ്ങൾ, കണ്ണാടികൾ എന്നിവയുടെ നിർമ്മാണത്തിനും ഛായഗ്രഹണമേഖലയിലും വെള്ളി ഉപയോഗിക്കുന്നു.\\t\\nവെള്ളി വളരെ ലോലമായ ഒരു ലോഹമായതിനാൽ അതിനെ അടിച്ചു പരത്താനും വലിച്ചു നീട്ടാനും എളുപ്പമാണ്. ലോഹങ്ങളിൽ വച്ച് ഏറ്റവും നല...\n",
              "2  Datasets/wikitext_raw/wiki2.txt  ...  പ്രാഗ്ജ്യോതിഷത്തിലെ രാജാവായ നരകാസുരന്റെ പുത്രനാണ് ഭഗദത്തൻ. നരകാസുരനെ വധിച്ചത് ഭഗവാൻ ശ്രീകൃഷ്ണനായിരുന്നു. ഭഗദത്തനെ കുരുക്ഷേത്രയുദ്ധത്തിൽ അർജ്ജുനനാണ് വധിച്ചത്. ഭഗദത്തൻ ആനപ്പുറത്തേറിയാണ് പാണ്ഡവരോട് യുദ്ധം ചെയ്തത്. കുരുക്ഷേത്രയുദ്ധത്തിലെ ഭഗദത്തന്റെ ആനയെ മഹാഭാരതത്തിൽ വ്യാസൻ ഉപമിക്കുന്നത് അഷ്ടദിക്ഗജങ്ങളിലെ ഒരാനയായ സുപ്രതികനോടാണ്. \\nമഹാഭാരതത്തിൽ ദ്രോണപർവ്വത്തിൽ ഭഗദത്തനെക്കുറിച്ച് വിവരിക്കുന്നുണ്ട്. കുരുക്ഷേത്രയുദ്ധത്തിൽ പ്രാഗ്ജ്യോതിഷവും പങ്കെടുത്തിരുന്നു. അന്നത്തെ രാജാവായിരുന്ന ഭഗദത്തൻ കൗരവപക്ഷത്തു ചേർന്നാണ് യുദ്ധം ചെയ്തത്. വാർദ്ധക്യം ഉണ്ടായിരുന്നെങ്കിലും തന്റെ ആനപ്പുറത്തേറി പന്ത്രണ്ടു ദിവസം പാണ്...\n",
              "3  Datasets/wikitext_raw/wiki3.txt  ...  Coordinates: 25°16′55″N 82°57′23″E / 25.282°N 82.9563°E / 25.282; 82.9563\\nഉത്തർ പ്രദേശ് സംസ്ഥാനത്ത് ഗംഗ നദിയുടെ പടിഞ്ഞാറൻ തീരത്ത് ഏതാണ്ട് 6 കിലോമീറ്ററിലധികം‌ നീളത്തിൽ സ്ഥിതി ചെയ്യുന്ന ഒരു പട്ടണമാണ് ബനാറസ് ), കാശി ) എന്നീ പേരുകളിൽ അറിയപ്പെടുന്ന വാരാണസി ). ഹിന്ദുക്കളുടെയും, ബുദ്ധമതക്കാരുടേയും, ജൈനമതക്കാരുടേയും പുണ്യ നഗരമായ ഇത് ലോകത്തിലെ ഏറ്റവും പഴയ നഗരങ്ങളിൽ ഒന്നായി കണക്കാക്കപ്പെടുന്നു. 1200 ബി.സി.ഇ. മുതലേ ഇവിടെ നഗരം നിലനിന്നിരുന്നു എന്നു കരുതുന്നു.ഹിന്ദു ത്രിമൂർത്തികളിലൊരാളായ ശിവൻറെ ത്രിശ്ശൂലത്തിന്മേലാണത്രെ കാശിയുടെ കിടപ്പ്. കാശി എന്നതിന് പ്രകാശമാനം എന്നും അർത്ഥമുണ്ട്. പണ്ഡിതരുടേയും ജ്ഞാനി...\n",
              "\n",
              "[4 rows x 4 columns]"
            ]
          },
          "metadata": {},
          "execution_count": 14
        }
      ],
      "source": [
        "wiki.head(4)"
      ]
    },
    {
      "cell_type": "code",
      "execution_count": null,
      "id": "897e3c4d-cdec-440e-a975-7dc24c0ddbd6",
      "metadata": {
        "id": "897e3c4d-cdec-440e-a975-7dc24c0ddbd6"
      },
      "outputs": [],
      "source": [
        ""
      ]
    },
    {
      "cell_type": "markdown",
      "id": "292d805e-5be6-41ad-8252-2a00e4a04a2f",
      "metadata": {
        "id": "292d805e-5be6-41ad-8252-2a00e4a04a2f"
      },
      "source": [
        "# Preprocessing"
      ]
    },
    {
      "cell_type": "markdown",
      "id": "sFY5_ZUAqjsx",
      "metadata": {
        "id": "sFY5_ZUAqjsx",
        "jp-MarkdownHeadingCollapsed": true,
        "tags": []
      },
      "source": [
        "## Checking impurity"
      ]
    },
    {
      "cell_type": "code",
      "execution_count": 15,
      "id": "YQxHumQ0qjbm",
      "metadata": {
        "id": "YQxHumQ0qjbm"
      },
      "outputs": [],
      "source": [
        "RE_SUSPICIOUS = re.compile(r'\\(.*?\\)|[a-zA-Z]')\n",
        "\n",
        "def check_impurity(content: str, min_len = 200):\n",
        "    '''returns the share of suspicious characters in a text'''\n",
        "    len_text = len(content)\n",
        "    if content == None or len_text < min_len:\n",
        "        return 0\n",
        "    return len(RE_SUSPICIOUS.findall(content)) / len_text\n"
      ]
    },
    {
      "cell_type": "code",
      "execution_count": null,
      "id": "mrof_f49sg6d",
      "metadata": {
        "id": "mrof_f49sg6d"
      },
      "outputs": [],
      "source": [
        ""
      ]
    },
    {
      "cell_type": "code",
      "execution_count": 16,
      "id": "_hpuJMJnsask",
      "metadata": {
        "colab": {
          "base_uri": "https://localhost:8080/"
        },
        "id": "_hpuJMJnsask",
        "outputId": "b90f89fe-e981-4359-85b4-2738e6f0e07b"
      },
      "outputs": [
        {
          "output_type": "stream",
          "name": "stderr",
          "text": [
            "100%|██████████| 7863/7863 [00:01<00:00, 7421.80it/s]\n",
            "100%|██████████| 12388/12388 [00:00<00:00, 15871.70it/s]\n"
          ]
        }
      ],
      "source": [
        "mag['impurity'] = mag['content'].progress_apply(check_impurity)\n",
        "wiki['impurity'] = wiki['content'].progress_apply(check_impurity)"
      ]
    },
    {
      "cell_type": "code",
      "execution_count": null,
      "id": "840b6360-555a-423a-adfd-438ecd5db74c",
      "metadata": {
        "id": "840b6360-555a-423a-adfd-438ecd5db74c"
      },
      "outputs": [],
      "source": [
        ""
      ]
    },
    {
      "cell_type": "code",
      "execution_count": 17,
      "id": "RfyYrB8EswdC",
      "metadata": {
        "colab": {
          "base_uri": "https://localhost:8080/",
          "height": 667
        },
        "id": "RfyYrB8EswdC",
        "outputId": "771b4fea-63d5-4a86-9c06-b46e0af343da"
      },
      "outputs": [
        {
          "output_type": "execute_result",
          "data": {
            "text/html": [
              "\n",
              "  <div id=\"df-2aad293c-2aa5-49ec-86a8-fb6af9be80b3\">\n",
              "    <div class=\"colab-df-container\">\n",
              "      <div>\n",
              "<style scoped>\n",
              "    .dataframe tbody tr th:only-of-type {\n",
              "        vertical-align: middle;\n",
              "    }\n",
              "\n",
              "    .dataframe tbody tr th {\n",
              "        vertical-align: top;\n",
              "    }\n",
              "\n",
              "    .dataframe thead th {\n",
              "        text-align: right;\n",
              "    }\n",
              "</style>\n",
              "<table border=\"1\" class=\"dataframe\">\n",
              "  <thead>\n",
              "    <tr style=\"text-align: right;\">\n",
              "      <th></th>\n",
              "      <th>file_path</th>\n",
              "      <th>dataset_name</th>\n",
              "      <th>length</th>\n",
              "      <th>content</th>\n",
              "      <th>impurity</th>\n",
              "    </tr>\n",
              "  </thead>\n",
              "  <tbody>\n",
              "    <tr>\n",
              "      <th>7649</th>\n",
              "      <td>Datasets/magazine_raw/mag7649.txt</td>\n",
              "      <td>magazine_text</td>\n",
              "      <td>1736</td>\n",
              "      <td>രാജ്യം സ്വാതന്ത്ര്യ ദിനം  ആഘോഷിക്കുമ്പോള്‍, നാം നിര്‍ബന്ധമായും കണ്ടിരിക്കേണ്ട കുറച്ചു ചിത്രങ്ങള്‍ ഇതാ ഇവിടെ. ഇന്ത്യയുടെ ആദ്യത്തെ സ്വാതന്ത്ര്യ ദിനാഘോഷ വേളയിലുള്ള ഈ ചിത്രങ്ങള്‍ ട്വിറ്ററിലാണ് ഷെയര്‍ ചെയ്തത്. കാണാം, ആ ചിത്രങ്ങള്‍:   15 August 1947 :: Scene on Independence Day in Delhi pic.twitter.com/Ra9Ygb5qlM 15 August 1947 :: Crowd Gathered at Delhi’s Red Fort #India जय हिन्द pic.twitter.com/dp02uHOk6B 15 August 1947 :: Scene at Red Fort on First Independence Day (Photo - Homai Vyarawalla ) #India pic.twitter.com/ZhoNrZrjHq 15 August 1947 :: Citizens in Calcutta celebrating Independence day...</td>\n",
              "      <td>0.591014</td>\n",
              "    </tr>\n",
              "    <tr>\n",
              "      <th>7749</th>\n",
              "      <td>Datasets/magazine_raw/mag7749.txt</td>\n",
              "      <td>magazine_text</td>\n",
              "      <td>7809</td>\n",
              "      <td>കാലിഫോര്‍ണിയ: ഗ്ലാമറിന്റെ ലോകം ഉപേക്ഷിച്ച് ആത്മീയ ജീവിതത്തിലേക്ക് തിരിഞ്ഞ പ്രശസ്ത മോഡല്‍ സോഫിയ ഹയാത്ത് ഇപ്പോള്‍ ഇന്ത്യന്‍ ആത്മീയതയില്‍ മുഴുകിയിരിക്കുകയാണ്. ബിഗ് ബോസ് റിയാലിറ്റി ഷോയിലൂടെ പ്രശസ്തയായ സോഫിയാ ഹയാത്ത് ഈയിടെ നടത്തിയ ഇന്ത്യന്‍ യാത്രകളുടെ അനുഭവം ഇന്‍സ്റ്റഗ്രാമിലൂടെ പങ്കുവെച്ചു. ഔറംഗബാദിലെ കൈലാശ് ക്ഷേത്രത്തില്‍ നടത്തിയ യാത്രയിലുടനീളം ശിവഭക്തിയുടെ ലഹരിയിലായിരുന്നു താനെന്ന് അവര്‍ ഇന്‍സ്റ്റഗ്രാമില്‍ എഴുതി.  ശരീര പ്രദര്‍ശനത്തിലൂടെ വാര്‍ത്തകളില്‍ നിറഞ്ഞ സോഫിയ ഹയാത്ത് സന്യാസിനി ആയി. താന്‍ സന്യാസ ജീവിതത്തിലേക്ക് മാറിയതായി സോഫിയ ഇന്‍സ്റ്റഗ്രാമിലൂടെയാണ് നേരത്തെ അറിയിച്ചത്.ഇത് വലിയ വാര്‍ത്തയാ...</td>\n",
              "      <td>0.576770</td>\n",
              "    </tr>\n",
              "    <tr>\n",
              "      <th>5885</th>\n",
              "      <td>Datasets/magazine_raw/mag5885.txt</td>\n",
              "      <td>magazine_text</td>\n",
              "      <td>3058</td>\n",
              "      <td>അഞ്ചുവയസുകാരിയായ ഈ നൈജീരിയന്‍ പെണ്‍കുട്ടി സകല മോഡലുകളെയും പിറകിലാക്കി സോഷ്യല്‍ മീഡിയ കീഴടക്കുകയാണ്. 'ലോകത്തിലെ തന്നെ സുന്ദരി' എന്ന് വിളിക്കാന്‍ തോന്നുന്ന ആ പെണ്‍കുട്ടിയുടെ പേര് ജാരെ എന്നാണ്. പ്രൊഫഷണല്‍ മോഡലുകളെ വെല്ലുന്ന നോട്ടവും ഇരിപ്പും അവളെ പ്രത്യേകതയുള്ളവളാക്കുന്നു.  J A R E @the_j3_sisters CHILDREN ARE A GIFT FROM HEAVEN. I’m pretty excited and elated about my new style of child portraiture . Before I thought of Photographing the @the_j3_sisters , I have had frivolous ideas of how I can make artsy portraits of kids And do away from the norm . The opportunity came and I had to take a b...</td>\n",
              "      <td>0.466645</td>\n",
              "    </tr>\n",
              "    <tr>\n",
              "      <th>7668</th>\n",
              "      <td>Datasets/magazine_raw/mag7668.txt</td>\n",
              "      <td>magazine_text</td>\n",
              "      <td>4918</td>\n",
              "      <td>തിരുവനന്തപുരം: വ്യത്യസ്ത ലൈംഗികതയുടെ സൗന്ദര്യം വിളിച്ചോതി, മാനവീയം വീഥിയില്‍ നടന്ന ലൈംഗിക സ്വാഭിമാന ഘോഷയാത്ര വ്യത്യസ്തമായ ഒരനുഭവമായിരുന്നു.  ഈ മാസം 12ന് കോഴിക്കോട് നടക്കുന്ന ഏഴാമത് ലൈംഗിക സ്വാഭിമാന ഘോഷയാത്രക്ക് മുന്നോടിയായാണ് തിരുവനന്തപുരത്ത് രണ്ടായിരത്തോളം പേര്‍ ഒത്തുചേര്‍ന്നത്.        കൂട്ടായ്മക്ക് പിന്തുണ പ്രഖ്യാപിച്ച് മന്ത്രി കടകംപള്ളി സുരേന്ദ്രനും പ്രമുഖ എഴുത്തുകാരന്‍ സക്കറിയ അടക്കമുള്ള സാംസ്‌കാരിക പ്രവര്‍ത്തകരും എത്തിയിരുന്നു. 'വിമത ലൈംഗികത' എന്ന പുസ്തകം ശീതളിന് നല്‍കി സക്കറിയ പ്രകാശനം ചെയ്തു.\\n \\nമാനവീയം വീഥിയില്‍ നിന്നും എബി തരകന്‍ പകര്‍ത്തിയ ചിത്രങ്ങളും വീഡിയോകളുമാണ് ഇവിടെ.   Kera...</td>\n",
              "      <td>0.458723</td>\n",
              "    </tr>\n",
              "    <tr>\n",
              "      <th>5232</th>\n",
              "      <td>Datasets/magazine_raw/mag5232.txt</td>\n",
              "      <td>magazine_text</td>\n",
              "      <td>1965</td>\n",
              "      <td>ദില്ലി: മഞ്ഞുകാലമായി, വാര്‍ഡ്രോബില്‍ നിന്നും സ്വെറ്ററടക്കമുള്ള വസ്ത്രങ്ങള്‍ പുറത്തെടുക്കാന്‍ സമയമായി. പ്രത്യേകിച്ച് ഉത്തരേന്ത്യന്‍ നഗരങ്ങളില്‍. മനുഷ്യര്‍ ഷാളും, സ്വെറ്ററും ഒക്കെയായിട്ടാണ് മഞ്ഞുകാലത്തെ മറികടക്കുന്നത്. ഈ സമയത്ത് ഏറ്റവുമധികം തണുത്ത് വലയുന്നത് തെരുവില്‍ ജീവിക്കുന്ന മൃഗങ്ങളാണ്.  ഹൌസ് ഓഫ് സ്ട്രേ ആനിമല്‍സ്, തുടങ്ങിയ എന്‍.ജി.ഒകള്‍ തെരുവുനായകളെ തണുപ്പില്‍ നിന്ന് രക്ഷിക്കാനായി എത്തിയിരിക്കുകയാണ്.  ഇതിനായി വൂളന്‍ പുതപ്പുകള്‍, സ്വെറ്ററുകള്‍, ബെഡ്ഡുകള്‍ എന്നിവയാണ് നല്‍കുന്നത്. തണുപ്പിനെ മറികടക്കാന്‍ ഇങ്ങനെയാണ് അവര്‍ പ്രിയപ്പെട്ട മൃഗങ്ങളെ സഹായിക്കുന്നത്.  ഹൌസ് ഓഫ് സ്ട്രേ ആനിമല്‍സ് പ്രവര...</td>\n",
              "      <td>0.450382</td>\n",
              "    </tr>\n",
              "  </tbody>\n",
              "</table>\n",
              "</div>\n",
              "      <button class=\"colab-df-convert\" onclick=\"convertToInteractive('df-2aad293c-2aa5-49ec-86a8-fb6af9be80b3')\"\n",
              "              title=\"Convert this dataframe to an interactive table.\"\n",
              "              style=\"display:none;\">\n",
              "        \n",
              "  <svg xmlns=\"http://www.w3.org/2000/svg\" height=\"24px\"viewBox=\"0 0 24 24\"\n",
              "       width=\"24px\">\n",
              "    <path d=\"M0 0h24v24H0V0z\" fill=\"none\"/>\n",
              "    <path d=\"M18.56 5.44l.94 2.06.94-2.06 2.06-.94-2.06-.94-.94-2.06-.94 2.06-2.06.94zm-11 1L8.5 8.5l.94-2.06 2.06-.94-2.06-.94L8.5 2.5l-.94 2.06-2.06.94zm10 10l.94 2.06.94-2.06 2.06-.94-2.06-.94-.94-2.06-.94 2.06-2.06.94z\"/><path d=\"M17.41 7.96l-1.37-1.37c-.4-.4-.92-.59-1.43-.59-.52 0-1.04.2-1.43.59L10.3 9.45l-7.72 7.72c-.78.78-.78 2.05 0 2.83L4 21.41c.39.39.9.59 1.41.59.51 0 1.02-.2 1.41-.59l7.78-7.78 2.81-2.81c.8-.78.8-2.07 0-2.86zM5.41 20L4 18.59l7.72-7.72 1.47 1.35L5.41 20z\"/>\n",
              "  </svg>\n",
              "      </button>\n",
              "      \n",
              "  <style>\n",
              "    .colab-df-container {\n",
              "      display:flex;\n",
              "      flex-wrap:wrap;\n",
              "      gap: 12px;\n",
              "    }\n",
              "\n",
              "    .colab-df-convert {\n",
              "      background-color: #E8F0FE;\n",
              "      border: none;\n",
              "      border-radius: 50%;\n",
              "      cursor: pointer;\n",
              "      display: none;\n",
              "      fill: #1967D2;\n",
              "      height: 32px;\n",
              "      padding: 0 0 0 0;\n",
              "      width: 32px;\n",
              "    }\n",
              "\n",
              "    .colab-df-convert:hover {\n",
              "      background-color: #E2EBFA;\n",
              "      box-shadow: 0px 1px 2px rgba(60, 64, 67, 0.3), 0px 1px 3px 1px rgba(60, 64, 67, 0.15);\n",
              "      fill: #174EA6;\n",
              "    }\n",
              "\n",
              "    [theme=dark] .colab-df-convert {\n",
              "      background-color: #3B4455;\n",
              "      fill: #D2E3FC;\n",
              "    }\n",
              "\n",
              "    [theme=dark] .colab-df-convert:hover {\n",
              "      background-color: #434B5C;\n",
              "      box-shadow: 0px 1px 3px 1px rgba(0, 0, 0, 0.15);\n",
              "      filter: drop-shadow(0px 1px 2px rgba(0, 0, 0, 0.3));\n",
              "      fill: #FFFFFF;\n",
              "    }\n",
              "  </style>\n",
              "\n",
              "      <script>\n",
              "        const buttonEl =\n",
              "          document.querySelector('#df-2aad293c-2aa5-49ec-86a8-fb6af9be80b3 button.colab-df-convert');\n",
              "        buttonEl.style.display =\n",
              "          google.colab.kernel.accessAllowed ? 'block' : 'none';\n",
              "\n",
              "        async function convertToInteractive(key) {\n",
              "          const element = document.querySelector('#df-2aad293c-2aa5-49ec-86a8-fb6af9be80b3');\n",
              "          const dataTable =\n",
              "            await google.colab.kernel.invokeFunction('convertToInteractive',\n",
              "                                                     [key], {});\n",
              "          if (!dataTable) return;\n",
              "\n",
              "          const docLinkHtml = 'Like what you see? Visit the ' +\n",
              "            '<a target=\"_blank\" href=https://colab.research.google.com/notebooks/data_table.ipynb>data table notebook</a>'\n",
              "            + ' to learn more about interactive tables.';\n",
              "          element.innerHTML = '';\n",
              "          dataTable['output_type'] = 'display_data';\n",
              "          await google.colab.output.renderOutput(dataTable, element);\n",
              "          const docLink = document.createElement('div');\n",
              "          docLink.innerHTML = docLinkHtml;\n",
              "          element.appendChild(docLink);\n",
              "        }\n",
              "      </script>\n",
              "    </div>\n",
              "  </div>\n",
              "  "
            ],
            "text/plain": [
              "                              file_path  ...  impurity\n",
              "7649  Datasets/magazine_raw/mag7649.txt  ...  0.591014\n",
              "7749  Datasets/magazine_raw/mag7749.txt  ...  0.576770\n",
              "5885  Datasets/magazine_raw/mag5885.txt  ...  0.466645\n",
              "7668  Datasets/magazine_raw/mag7668.txt  ...  0.458723\n",
              "5232  Datasets/magazine_raw/mag5232.txt  ...  0.450382\n",
              "\n",
              "[5 rows x 5 columns]"
            ]
          },
          "metadata": {},
          "execution_count": 17
        }
      ],
      "source": [
        "mag.sort_values(by = 'impurity', ascending=False).head(5)"
      ]
    },
    {
      "cell_type": "code",
      "execution_count": 18,
      "id": "9da4a373-ea01-4491-a572-a94b1574239d",
      "metadata": {
        "id": "9da4a373-ea01-4491-a572-a94b1574239d",
        "outputId": "e1809532-dce3-4bb6-b5bf-6051cd752a79",
        "colab": {
          "base_uri": "https://localhost:8080/",
          "height": 527
        }
      },
      "outputs": [
        {
          "output_type": "execute_result",
          "data": {
            "text/html": [
              "\n",
              "  <div id=\"df-1a6ab8e7-1fcd-43d1-b9ae-66e36bc41d44\">\n",
              "    <div class=\"colab-df-container\">\n",
              "      <div>\n",
              "<style scoped>\n",
              "    .dataframe tbody tr th:only-of-type {\n",
              "        vertical-align: middle;\n",
              "    }\n",
              "\n",
              "    .dataframe tbody tr th {\n",
              "        vertical-align: top;\n",
              "    }\n",
              "\n",
              "    .dataframe thead th {\n",
              "        text-align: right;\n",
              "    }\n",
              "</style>\n",
              "<table border=\"1\" class=\"dataframe\">\n",
              "  <thead>\n",
              "    <tr style=\"text-align: right;\">\n",
              "      <th></th>\n",
              "      <th>file_path</th>\n",
              "      <th>dataset_name</th>\n",
              "      <th>length</th>\n",
              "      <th>content</th>\n",
              "      <th>impurity</th>\n",
              "    </tr>\n",
              "  </thead>\n",
              "  <tbody>\n",
              "    <tr>\n",
              "      <th>6028</th>\n",
              "      <td>Datasets/wikitext_raw/wiki6028.txt</td>\n",
              "      <td>wiki_text</td>\n",
              "      <td>3400</td>\n",
              "      <td>\\nXenochloa arundinacea Licht.Trichoon phragmites RendleRemirea diffusa Sieber ex Steud.Reimaria diffusa Spreng.Phragmites xenochloa Trin. ex Steud.Phragmites willkommianus MabillePhragmites vulgaris Crép.Phragmites stenophyllus RouyPhragmites pungens A.Chev.Phragmites pumilus Willk.Phragmites phragmites var. subuniflorus Phragmites phragmites H.Karst.Phragmites occidentalis Trin. ex Steud.Phragmites nigricans MabillePhragmites nakaianus HondaPhragmites nagus Steud.Phragmites minor Steud.Phragmites maximus var. variegatus Phragmites maximus var. berlandieri Phragmites martinicensis Trin. e...</td>\n",
              "      <td>0.811765</td>\n",
              "    </tr>\n",
              "    <tr>\n",
              "      <th>5587</th>\n",
              "      <td>Datasets/wikitext_raw/wiki5587.txt</td>\n",
              "      <td>wiki_text</td>\n",
              "      <td>1406</td>\n",
              "      <td>\\n.Gyrocarpus americanus is a flowering plant in the Hernandiaceae family, with a wide pantropical distribution. Its common names include the helicopter tree, propeller tree, whirly whirly tree, stinkwood or shitwood.\\nGyrocarpus americanus is a slender, deciduous tree with smooth, grey bark. The tree grows to about 12 m in height. \\nThe leaves are spirally arranged, crowded near the ends of the branches, and grow up to 150 × 120 mm in size. They are ovate, often 3-lobed, dark green above, paler and greyer below, with velvety surfaces, 3-veined from the base. The veins are yellowish and th...</td>\n",
              "      <td>0.794452</td>\n",
              "    </tr>\n",
              "    <tr>\n",
              "      <th>7581</th>\n",
              "      <td>Datasets/wikitext_raw/wiki7581.txt</td>\n",
              "      <td>wiki_text</td>\n",
              "      <td>223</td>\n",
              "      <td>Version 2014.2 of the IUCN Red List of Threatened Species identified 4574 Critically Endangered species, subspecies and varieties, stocks and subpopulations.\\nFor IUCN lists of critically endangered species by kingdom, see:\\n</td>\n",
              "      <td>0.793722</td>\n",
              "    </tr>\n",
              "    <tr>\n",
              "      <th>2807</th>\n",
              "      <td>Datasets/wikitext_raw/wiki2807.txt</td>\n",
              "      <td>wiki_text</td>\n",
              "      <td>778</td>\n",
              "      <td>This is a list of winners of the Academy Award for Performance by an Actress in a Leading Role, presented annually by the Academy of Motion Picture Arts and Sciences to an actress who has delivered an outstanding performance while working within the film industry. More popularly known as the Academy Award for Best Actress, this award was initially presented at the 1st Academy Awards ceremony for 1927–1928 and was most recently presented at the 88th Academy Awards ceremony for 2015. Throughout the past 89 years, accounting for ties and repeat winners, AMPAS has presented a total of 90 Best ...</td>\n",
              "      <td>0.778920</td>\n",
              "    </tr>\n",
              "    <tr>\n",
              "      <th>9037</th>\n",
              "      <td>Datasets/wikitext_raw/wiki9037.txt</td>\n",
              "      <td>wiki_text</td>\n",
              "      <td>5225</td>\n",
              "      <td>വംശനാശഭീഷണിയുള്ള ജീവവർഗ്ഗങ്ങളുടെ സംരക്ഷണത്തിനായുള്ള ഒരു ബഹുരാഷ്ട്ര ഉടമ്പടിയാണ് വംശനാശഭീഷണിയുള്ള ജീവവർഗ്ഗങ്ങളുടെ അന്താരാഷ്ട്രവ്യാപാരത്തിനുള്ള ഉടമ്പടി അഥവാ CITES . The convention was opened for signature in 1973 and CITES entered into force on 1 July 1975. Its aim is to ensure that international trade in specimens of wild animals and plants does not threaten the survival of the species in the wild, and it accords varying degrees of protection to more than 35,000 species of animals and plants. In order to ensure that the General Agreement on Tariffs and Trade was not violated, the Secretariat...</td>\n",
              "      <td>0.776459</td>\n",
              "    </tr>\n",
              "  </tbody>\n",
              "</table>\n",
              "</div>\n",
              "      <button class=\"colab-df-convert\" onclick=\"convertToInteractive('df-1a6ab8e7-1fcd-43d1-b9ae-66e36bc41d44')\"\n",
              "              title=\"Convert this dataframe to an interactive table.\"\n",
              "              style=\"display:none;\">\n",
              "        \n",
              "  <svg xmlns=\"http://www.w3.org/2000/svg\" height=\"24px\"viewBox=\"0 0 24 24\"\n",
              "       width=\"24px\">\n",
              "    <path d=\"M0 0h24v24H0V0z\" fill=\"none\"/>\n",
              "    <path d=\"M18.56 5.44l.94 2.06.94-2.06 2.06-.94-2.06-.94-.94-2.06-.94 2.06-2.06.94zm-11 1L8.5 8.5l.94-2.06 2.06-.94-2.06-.94L8.5 2.5l-.94 2.06-2.06.94zm10 10l.94 2.06.94-2.06 2.06-.94-2.06-.94-.94-2.06-.94 2.06-2.06.94z\"/><path d=\"M17.41 7.96l-1.37-1.37c-.4-.4-.92-.59-1.43-.59-.52 0-1.04.2-1.43.59L10.3 9.45l-7.72 7.72c-.78.78-.78 2.05 0 2.83L4 21.41c.39.39.9.59 1.41.59.51 0 1.02-.2 1.41-.59l7.78-7.78 2.81-2.81c.8-.78.8-2.07 0-2.86zM5.41 20L4 18.59l7.72-7.72 1.47 1.35L5.41 20z\"/>\n",
              "  </svg>\n",
              "      </button>\n",
              "      \n",
              "  <style>\n",
              "    .colab-df-container {\n",
              "      display:flex;\n",
              "      flex-wrap:wrap;\n",
              "      gap: 12px;\n",
              "    }\n",
              "\n",
              "    .colab-df-convert {\n",
              "      background-color: #E8F0FE;\n",
              "      border: none;\n",
              "      border-radius: 50%;\n",
              "      cursor: pointer;\n",
              "      display: none;\n",
              "      fill: #1967D2;\n",
              "      height: 32px;\n",
              "      padding: 0 0 0 0;\n",
              "      width: 32px;\n",
              "    }\n",
              "\n",
              "    .colab-df-convert:hover {\n",
              "      background-color: #E2EBFA;\n",
              "      box-shadow: 0px 1px 2px rgba(60, 64, 67, 0.3), 0px 1px 3px 1px rgba(60, 64, 67, 0.15);\n",
              "      fill: #174EA6;\n",
              "    }\n",
              "\n",
              "    [theme=dark] .colab-df-convert {\n",
              "      background-color: #3B4455;\n",
              "      fill: #D2E3FC;\n",
              "    }\n",
              "\n",
              "    [theme=dark] .colab-df-convert:hover {\n",
              "      background-color: #434B5C;\n",
              "      box-shadow: 0px 1px 3px 1px rgba(0, 0, 0, 0.15);\n",
              "      filter: drop-shadow(0px 1px 2px rgba(0, 0, 0, 0.3));\n",
              "      fill: #FFFFFF;\n",
              "    }\n",
              "  </style>\n",
              "\n",
              "      <script>\n",
              "        const buttonEl =\n",
              "          document.querySelector('#df-1a6ab8e7-1fcd-43d1-b9ae-66e36bc41d44 button.colab-df-convert');\n",
              "        buttonEl.style.display =\n",
              "          google.colab.kernel.accessAllowed ? 'block' : 'none';\n",
              "\n",
              "        async function convertToInteractive(key) {\n",
              "          const element = document.querySelector('#df-1a6ab8e7-1fcd-43d1-b9ae-66e36bc41d44');\n",
              "          const dataTable =\n",
              "            await google.colab.kernel.invokeFunction('convertToInteractive',\n",
              "                                                     [key], {});\n",
              "          if (!dataTable) return;\n",
              "\n",
              "          const docLinkHtml = 'Like what you see? Visit the ' +\n",
              "            '<a target=\"_blank\" href=https://colab.research.google.com/notebooks/data_table.ipynb>data table notebook</a>'\n",
              "            + ' to learn more about interactive tables.';\n",
              "          element.innerHTML = '';\n",
              "          dataTable['output_type'] = 'display_data';\n",
              "          await google.colab.output.renderOutput(dataTable, element);\n",
              "          const docLink = document.createElement('div');\n",
              "          docLink.innerHTML = docLinkHtml;\n",
              "          element.appendChild(docLink);\n",
              "        }\n",
              "      </script>\n",
              "    </div>\n",
              "  </div>\n",
              "  "
            ],
            "text/plain": [
              "                               file_path  ...  impurity\n",
              "6028  Datasets/wikitext_raw/wiki6028.txt  ...  0.811765\n",
              "5587  Datasets/wikitext_raw/wiki5587.txt  ...  0.794452\n",
              "7581  Datasets/wikitext_raw/wiki7581.txt  ...  0.793722\n",
              "2807  Datasets/wikitext_raw/wiki2807.txt  ...  0.778920\n",
              "9037  Datasets/wikitext_raw/wiki9037.txt  ...  0.776459\n",
              "\n",
              "[5 rows x 5 columns]"
            ]
          },
          "metadata": {},
          "execution_count": 18
        }
      ],
      "source": [
        "wiki.sort_values(by = 'impurity', ascending=False).head(5)"
      ]
    },
    {
      "cell_type": "code",
      "execution_count": null,
      "id": "c5efbd5e-a4eb-4007-b88c-fa71c1e0906b",
      "metadata": {
        "id": "c5efbd5e-a4eb-4007-b88c-fa71c1e0906b"
      },
      "outputs": [],
      "source": [
        ""
      ]
    },
    {
      "cell_type": "code",
      "execution_count": 32,
      "id": "xmMk9fwF9RFh",
      "metadata": {
        "colab": {
          "base_uri": "https://localhost:8080/"
        },
        "id": "xmMk9fwF9RFh",
        "outputId": "ac43de36-cb42-4e87-d4d5-23c0315fb5f3"
      },
      "outputs": [
        {
          "output_type": "stream",
          "name": "stdout",
          "text": [
            "----------------------------------------------------------\n",
            "\n",
            "Total Magazine Files:  7863\n",
            "Total Impure Magazine Files:  324\n",
            "\n",
            "----------------------------------------------------------\n"
          ]
        }
      ],
      "source": [
        "print(\"----------------------------------------------------------\\n\")\n",
        "print(\"Total Magazine Files: \", len(mag))\n",
        "print(\"Total Impure Magazine Files: \", len(mag[mag['impurity'] >= .03]))\n",
        "print(\"\\n----------------------------------------------------------\")"
      ]
    },
    {
      "cell_type": "code",
      "execution_count": 23,
      "id": "102ac270-ec09-424c-b3ad-84b1d9c59436",
      "metadata": {
        "id": "102ac270-ec09-424c-b3ad-84b1d9c59436",
        "outputId": "bd9dd4b8-b76e-4d18-e534-d434fc7be74f",
        "colab": {
          "base_uri": "https://localhost:8080/"
        }
      },
      "outputs": [
        {
          "output_type": "stream",
          "name": "stdout",
          "text": [
            "----------------------------------------------------------\n",
            "\n",
            "Total WikiText Files:  12388\n",
            "Total Impure  WikiText Files:  1161\n",
            "\n",
            "----------------------------------------------------------\n"
          ]
        }
      ],
      "source": [
        "print(\"----------------------------------------------------------\\n\")\n",
        "print(\"Total WikiText Files: \", len(wiki))\n",
        "print(\"Total Impure  WikiText Files: \", len(wiki[wiki['impurity'] >= .03]))\n",
        "print(\"\\n----------------------------------------------------------\")"
      ]
    },
    {
      "cell_type": "code",
      "execution_count": 24,
      "id": "4cf480f3-fab8-4d61-864e-7ba7faeff62e",
      "metadata": {
        "id": "4cf480f3-fab8-4d61-864e-7ba7faeff62e",
        "outputId": "3594c392-46fe-40ab-f00d-f1cb0189847f",
        "colab": {
          "base_uri": "https://localhost:8080/",
          "height": 268
        }
      },
      "outputs": [
        {
          "output_type": "display_data",
          "data": {
            "image/png": "[encoded data removed]",
            "text/plain": [
              "<Figure size 432x288 with 1 Axes>"
            ]
          },
          "metadata": {
            "needs_background": "light"
          }
        }
      ],
      "source": [
        "mag.impurity.plot.hist();"
      ]
    },
    {
      "cell_type": "code",
      "execution_count": 25,
      "id": "9381950e-a3b7-4077-abca-4860501a2e12",
      "metadata": {
        "id": "9381950e-a3b7-4077-abca-4860501a2e12",
        "outputId": "f8ad17b0-ab4d-449f-b81e-6d513a608dd2",
        "colab": {
          "base_uri": "https://localhost:8080/",
          "height": 265
        }
      },
      "outputs": [
        {
          "output_type": "display_data",
          "data": {
            "image/png": "[encoded data removed]",
            "text/plain": [
              "<Figure size 432x288 with 1 Axes>"
            ]
          },
          "metadata": {
            "needs_background": "light"
          }
        }
      ],
      "source": [
        "wiki.impurity.plot.hist();"
      ]
    },
    {
      "cell_type": "code",
      "source": [
        ""
      ],
      "metadata": {
        "id": "wa8F6S5x9yoX"
      },
      "id": "wa8F6S5x9yoX",
      "execution_count": null,
      "outputs": []
    },
    {
      "cell_type": "code",
      "execution_count": 38,
      "id": "2e55c233-b969-4bf1-9946-42be6395d57b",
      "metadata": {
        "id": "2e55c233-b969-4bf1-9946-42be6395d57b"
      },
      "outputs": [],
      "source": [
        "mag = mag[mag['impurity'] <= .03].drop(['impurity', 'content'], axis = 1)\n",
        "wiki = wiki[wiki['impurity'] <= .03].drop(['impurity', 'content'], axis = 1)"
      ]
    },
    {
      "cell_type": "code",
      "execution_count": 39,
      "id": "0f8eccb8-90e7-40d7-9872-c58d3e3f9704",
      "metadata": {
        "id": "0f8eccb8-90e7-40d7-9872-c58d3e3f9704"
      },
      "outputs": [],
      "source": [
        "mag.to_csv(BASE_PATH/'magazine_files.csv', index = False)\n",
        "wiki.to_csv(BASE_PATH/'wikitext_files.csv', index = False)"
      ]
    },
    {
      "cell_type": "code",
      "execution_count": null,
      "id": "dc45bf98-d7ae-4d42-816b-7ff0605717ff",
      "metadata": {
        "id": "dc45bf98-d7ae-4d42-816b-7ff0605717ff"
      },
      "outputs": [],
      "source": [
        ""
      ]
    },
    {
      "cell_type": "markdown",
      "id": "38275665-c73b-47b3-94be-9931005cef74",
      "metadata": {
        "id": "38275665-c73b-47b3-94be-9931005cef74"
      },
      "source": [
        "## Checking Proper Tokenizing or Not"
      ]
    },
    {
      "cell_type": "code",
      "execution_count": 40,
      "id": "6fdd9cbe-dfdc-47ee-9ae2-2ba96fb930da",
      "metadata": {
        "id": "6fdd9cbe-dfdc-47ee-9ae2-2ba96fb930da"
      },
      "outputs": [],
      "source": [
        "mag = pd.read_csv(BASE_PATH/'magazine_files.csv')\n",
        "wiki = pd.read_csv(BASE_PATH/'wikitext_files.csv')"
      ]
    },
    {
      "cell_type": "code",
      "execution_count": 41,
      "id": "75ae3e41-a487-4645-aeb9-fa8fc0ca2b4b",
      "metadata": {
        "id": "75ae3e41-a487-4645-aeb9-fa8fc0ca2b4b",
        "outputId": "0712a87d-1472-4afa-e871-d4238a82a5a2",
        "colab": {
          "base_uri": "https://localhost:8080/"
        }
      },
      "outputs": [
        {
          "output_type": "stream",
          "name": "stderr",
          "text": [
            "100%|██████████| 7539/7539 [00:01<00:00, 4668.66it/s]\n",
            "100%|██████████| 11227/11227 [00:01<00:00, 7346.45it/s]\n"
          ]
        }
      ],
      "source": [
        "mag['content'] = mag['file_path'].progress_apply(open_files)\n",
        "wiki['content'] = wiki['file_path'].progress_apply(open_files)"
      ]
    },
    {
      "cell_type": "code",
      "execution_count": null,
      "id": "25b75efd-9743-4bad-a184-89121a04e107",
      "metadata": {
        "id": "25b75efd-9743-4bad-a184-89121a04e107"
      },
      "outputs": [],
      "source": [
        ""
      ]
    },
    {
      "cell_type": "code",
      "execution_count": null,
      "id": "8d175b51-0d16-4fe8-8370-5979feb1c69b",
      "metadata": {
        "id": "8d175b51-0d16-4fe8-8370-5979feb1c69b"
      },
      "outputs": [],
      "source": [
        "tok = WordTokenizer(lang='ml')"
      ]
    },
    {
      "cell_type": "code",
      "execution_count": null,
      "id": "2ac9fbd4-4ca8-4384-a7ed-8c654188a39f",
      "metadata": {
        "id": "2ac9fbd4-4ca8-4384-a7ed-8c654188a39f"
      },
      "outputs": [],
      "source": [
        ""
      ]
    },
    {
      "cell_type": "code",
      "execution_count": null,
      "id": "214fe7fa-03f5-4a7f-9305-dbe912e2ce2c",
      "metadata": {
        "id": "214fe7fa-03f5-4a7f-9305-dbe912e2ce2c"
      },
      "outputs": [],
      "source": [
        "def get_sample(wiki_=True, size = 1, random_state = 32):\n",
        "    if wiki_:\n",
        "        return first(wiki.sample(size)['content'], random_state=32)\n",
        "    return first(mag.sample(size)['content'], random_state=32)"
      ]
    },
    {
      "cell_type": "code",
      "execution_count": null,
      "id": "6c5fa090-6eaf-4d55-94b8-5b833ccd0903",
      "metadata": {
        "id": "6c5fa090-6eaf-4d55-94b8-5b833ccd0903"
      },
      "outputs": [],
      "source": [
        ""
      ]
    },
    {
      "cell_type": "code",
      "execution_count": null,
      "id": "9ba3272a-1eb3-4f78-9b35-b71ee0c42e9b",
      "metadata": {
        "id": "9ba3272a-1eb3-4f78-9b35-b71ee0c42e9b",
        "outputId": "82ed48f9-9412-4e2a-899b-6b96b10df2b8"
      },
      "outputs": [
        {
          "data": {
            "text/plain": [
              "\"(#48) ['ഭാരതീയസംഗീതപദ്ധതികളിൽ','ഉപയോഗിക്കപ്പെടുന്ന','സപ്തസ്വരങ്ങളിൽ','അഞ്ചാമത്തേതാണ്\\\\u200c','പഞ്ചമം.','സ്വരം','പാടുന്നതിനും','സൂചിപ്പിക്കുന്നതിനും','പ','എന്ന','അക്ഷരം','ഉപയോഗിക്കുന്നു.','കർണ്ണാടകസംഗീതത്തിൽ','ഷഡ്ജവും','പഞ്ചമവും','പ്രകൃതിസ്വരങ്ങളായി','കണക്കാക്കുന്നു.','പഞ്ചമത്തെ','കുയിലിന്റെ','സ്വരത്തോടാണ്\\\\u200c','താരതമ്യപ്പെടുത്താറുള്ളത്.','\\\\n','ഭാരതീയശാസ്ത്രീയസംഗീതപദ്ധതികളിൽ','ശ്രുതിഭേദങ്ങളില്ലാത്ത','പ്രകൃതിസ്വരങ്ങളായ','ഷഡ്ജം',',','പഞ്ചമം','എന്നിവ','മീട്ടുന്ന','രീതിയിലാണ്\\\\u200c','വയലിൻ',',','വീണ','മുതലായവയുടെ','കമ്പികൾ','ക്രമീകരിക്കുന്നത്.','\\\\n','കർണ്ണാടകസംഗീത','സംഗീതവുമായി','ബന്ധപ്പെട്ട','ഈ','ലേഖനം','അപൂർണ്ണമാണ്\\\\u200c.','ഇതു','വികസിപ്പിക്കുവാൻ','സഹായിക്കുക.','\\\\n']\""
            ]
          },
          "execution_count": 264,
          "metadata": {},
          "output_type": "execute_result"
        }
      ],
      "source": [
        "coll_repr(first(tok([get_sample()])), 50)"
      ]
    },
    {
      "cell_type": "code",
      "execution_count": null,
      "id": "a9ee2e4a-259e-429a-97d4-d3d6f7050ec6",
      "metadata": {
        "id": "a9ee2e4a-259e-429a-97d4-d3d6f7050ec6"
      },
      "outputs": [],
      "source": [
        "# 'കണക്കാക്കുന്നു.' tokenizer is not separating the fullstop."
      ]
    },
    {
      "cell_type": "code",
      "execution_count": null,
      "id": "72c32705-ba2e-4aa0-9d16-f9f00417e795",
      "metadata": {
        "id": "72c32705-ba2e-4aa0-9d16-f9f00417e795"
      },
      "outputs": [],
      "source": [
        ""
      ]
    },
    {
      "cell_type": "code",
      "execution_count": null,
      "id": "20b79c70-0254-41f6-b0ff-15eda143c313",
      "metadata": {
        "id": "20b79c70-0254-41f6-b0ff-15eda143c313",
        "outputId": "d95400c8-5d10-4975-cccb-1fe3ed9c8e90"
      },
      "outputs": [
        {
          "data": {
            "text/plain": [
              "\"(#443) ['ട്രാഫിക്','രാമസ്വാമി','എന്നറിയപ്പെടുന്ന','കെ.','ആർ','രാമസ്വാമി','ഒരു','അഴിമതി','വിരുദ്ധ','പ്രവർത്തകനാണ്.','ഉന്നതരുടെയും','ശക്തരുടെയും','അനധികൃത','പോസ്റ്ററുകളും','പരസ്യബോർഡുകളും','ചെന്നൈയിലെ','തെരുവോരങ്ങളിൽ','നിന്ന്','എടുത്തുമാറ്റാനുള്ള','ശ്രമങ്ങളാണ്','രാമസ്വാമിയെ','വ്യത്യസ്\\\\u200dതനാക്കിയത്.','അതിനായി','കോടതിയെ','സമീപിക്കാനും','അദ്ദേഹം','മടി','കാണിച്ചിരുന്നില്ല.','തന്റെ','വഴിയിൽ','ഒരു','തടസമാകാൻ','വാർദ്ധക്യത്തെ','അദ്ദേഹം','ഒരിക്കലും','അനുവദിച്ചിരുന്നുമില്ല.','എന്നാൽ',',','ജനങ്ങളുടെ','ആവശ്യങ്ങൾക്ക്','വേണ്ടി','പ്രവർത്തിച്ച','അദ്ദേഹം','ഹൃദയാഘാതത്തെ','തുടർന്ന്','ചൊവ്വാഴ്ച','രാത്രി','ചെന്നൈയിലെ','രാജീവ്','ഗാന്ധി'...]\""
            ]
          },
          "execution_count": 266,
          "metadata": {},
          "output_type": "execute_result"
        }
      ],
      "source": [
        "coll_repr(first(tok([get_sample(False)])), 50)"
      ]
    },
    {
      "cell_type": "code",
      "execution_count": null,
      "id": "e3c05b5e-9b9e-4e68-b10d-eae958c6770a",
      "metadata": {
        "id": "e3c05b5e-9b9e-4e68-b10d-eae958c6770a",
        "outputId": "ce430c81-ba73-49e6-d286-8440394a3344"
      },
      "outputs": [
        {
          "data": {
            "text/html": [
              "<div>\n",
              "<style scoped>\n",
              "    .dataframe tbody tr th:only-of-type {\n",
              "        vertical-align: middle;\n",
              "    }\n",
              "\n",
              "    .dataframe tbody tr th {\n",
              "        vertical-align: top;\n",
              "    }\n",
              "\n",
              "    .dataframe thead th {\n",
              "        text-align: right;\n",
              "    }\n",
              "</style>\n",
              "<table border=\"1\" class=\"dataframe\">\n",
              "  <thead>\n",
              "    <tr style=\"text-align: right;\">\n",
              "      <th></th>\n",
              "      <th>file_path</th>\n",
              "      <th>dataset_name</th>\n",
              "      <th>length</th>\n",
              "      <th>content</th>\n",
              "    </tr>\n",
              "  </thead>\n",
              "  <tbody>\n",
              "    <tr>\n",
              "      <th>5047</th>\n",
              "      <td>datasets/magazine_raw/mag5731.txt</td>\n",
              "      <td>magazine_text</td>\n",
              "      <td>1692</td>\n",
              "      <td>ലോസ് കാബോസ്: മെക്സിക്കോയിലെ ഏറ്റവും മികച്ച റിസോര്‍ട്ടായ വിഡാന്ത, ലോകത്തിലെ തന്നെ മികച്ച ജോലിക്കായി അപേക്ഷ ക്ഷണിക്കുന്നു. ജോലി വളരെ സിമ്പിളാണ്. അവരുടെ വിവിധ റിസോര്‍ട്ടുകളില്‍ താമസിക്കണം. മികച്ച മെക്സിക്കന്‍ ഷെഫ് ഉണ്ടാക്കുന്ന ഭക്ഷണം കഴിക്കണം. കരീബിയന്‍ സമുദ്രത്തില്‍ തിമിംഗലക്കുഞ്ഞുങ്ങള്‍ക്കൊപ്പം കുളിക്കണം അങ്ങനെ... അങ്ങനെ... ഒരു വിനോദസഞ്ചാരിയാവുകയാണ് ജോലി. ശമ്പളമോ വര്‍ഷത്തില്‍ എണ്‍പത് ലക്ഷത്തിനു മുകളില്‍. ഭക്ഷണത്തിനുള്ള കാര്‍ഡുകളും, യാത്രാ ചെലവും പുറമേയും കിട്ടും. അപേക്ഷ അയച്ച് തെരഞ്ഞെടുക്കപ്പെട്ടാല്‍ റിസോര്‍ട്ടിന്‍റെ ബ്രാൻഡ് അംബാസഡറായി മാറാം. ഒപ്പം വിവിധ സ്ഥലങ്ങളിലെ വിഡാന്തയിലെ റിസോര്‍ട്ടുക...</td>\n",
              "    </tr>\n",
              "  </tbody>\n",
              "</table>\n",
              "</div>"
            ],
            "text/plain": [
              "                              file_path   dataset_name  length  \\\n",
              "5047  datasets/magazine_raw/mag5731.txt  magazine_text    1692   \n",
              "\n",
              "                                                                                                                                                                                                                                                                                                                                                                                                                                                                                                                                                                                                                      content  \n",
              "5047  ലോസ് കാബോസ്: മെക്സിക്കോയിലെ ഏറ്റവും മികച്ച റിസോര്‍ട്ടായ വിഡാന്ത, ലോകത്തിലെ തന്നെ മികച്ച ജോലിക്കായി അപേക്ഷ ക്ഷണിക്കുന്നു. ജോലി വളരെ സിമ്പിളാണ്. അവരുടെ വിവിധ റിസോര്‍ട്ടുകളില്‍ താമസിക്കണം. മികച്ച മെക്സിക്കന്‍ ഷെഫ് ഉണ്ടാക്കുന്ന ഭക്ഷണം കഴിക്കണം. കരീബിയന്‍ സമുദ്രത്തില്‍ തിമിംഗലക്കുഞ്ഞുങ്ങള്‍ക്കൊപ്പം കുളിക്കണം അങ്ങനെ... അങ്ങനെ... ഒരു വിനോദസഞ്ചാരിയാവുകയാണ് ജോലി. ശമ്പളമോ വര്‍ഷത്തില്‍ എണ്‍പത് ലക്ഷത്തിനു മുകളില്‍. ഭക്ഷണത്തിനുള്ള കാര്‍ഡുകളും, യാത്രാ ചെലവും പുറമേയും കിട്ടും. അപേക്ഷ അയച്ച് തെരഞ്ഞെടുക്കപ്പെട്ടാല്‍ റിസോര്‍ട്ടിന്‍റെ ബ്രാൻഡ് അംബാസഡറായി മാറാം. ഒപ്പം വിവിധ സ്ഥലങ്ങളിലെ വിഡാന്തയിലെ റിസോര്‍ട്ടുക...  "
            ]
          },
          "execution_count": 79,
          "metadata": {},
          "output_type": "execute_result"
        }
      ],
      "source": [
        "mag[mag['content'].str.contains('ലോസ് കാബോസ്')]"
      ]
    },
    {
      "cell_type": "code",
      "execution_count": null,
      "id": "0b99d03a-e161-4829-97b7-15d9dcc722c0",
      "metadata": {
        "id": "0b99d03a-e161-4829-97b7-15d9dcc722c0"
      },
      "outputs": [],
      "source": [
        ""
      ]
    },
    {
      "cell_type": "code",
      "execution_count": null,
      "id": "a361187e-0f77-4d79-9daf-ee55ee72c81d",
      "metadata": {
        "id": "a361187e-0f77-4d79-9daf-ee55ee72c81d"
      },
      "outputs": [],
      "source": [
        ""
      ]
    },
    {
      "cell_type": "code",
      "execution_count": null,
      "id": "52574a56-18f6-4191-a722-a34fa7c55838",
      "metadata": {
        "id": "52574a56-18f6-4191-a722-a34fa7c55838"
      },
      "outputs": [],
      "source": [
        "sample = '''മികച്ച... മെക്സിക്കന്‍. ഷെഫ്-ഉണ്ടാക്കുന്; .ഭക്ഷണം കഴിക്കണം! കരീബിയന്‍ സമുദ്രത്തില്‍ തിമിംഗലക്കുഞ്ഞുങ്ങള്‍ക്കൊപ്പം കുളിക്കണം അങ്ങനെ... അങ്ങനെ... ഒരു വിനോദസഞ്ചാരിയാവുകയാണ് ജോലി... ശമ്പളമോ വര്‍ഷത്തില്‍ എണ്‍പത് ലക്ഷത്തിനു മുകളില്‍. ഭക്ഷണത്തിനുള്ള കാര്‍ഡുകളും, \"യാത്രാ\" ചെലവും പുറമേയും കിട്ടും. അപേക്ഷ അയച്ച് തെരഞ്ഞെടുക്കപ്പെട്ടാല്‍ റിസോര്‍ട്ടിന്‍റെ ബ്രാൻഡ് അംബാസഡറായി മാറാം. '''"
      ]
    },
    {
      "cell_type": "code",
      "execution_count": null,
      "id": "b7e91f17-9b63-4abb-9d98-a3c0bde0112e",
      "metadata": {
        "id": "b7e91f17-9b63-4abb-9d98-a3c0bde0112e",
        "outputId": "278e4edb-a1e8-4328-f8d2-b42c84832716"
      },
      "outputs": [
        {
          "data": {
            "text/plain": [
              "\"(#41) ['മികച്ച','...','മെക്സിക്കന്\\\\u200d.','ഷെഫ്-ഉണ്ടാക്കുന്',';','.ഭക്ഷണം','കഴിക്കണം','!','കരീബിയന്\\\\u200d','സമുദ്രത്തില്\\\\u200d'...]\""
            ]
          },
          "execution_count": 268,
          "metadata": {},
          "output_type": "execute_result"
        }
      ],
      "source": [
        "coll_repr(first(tok([sample])), 10)"
      ]
    },
    {
      "cell_type": "code",
      "execution_count": null,
      "id": "e721e3d3-a4d9-49ac-adbe-1bf0766b71fc",
      "metadata": {
        "id": "e721e3d3-a4d9-49ac-adbe-1bf0766b71fc"
      },
      "outputs": [],
      "source": [
        ""
      ]
    },
    {
      "cell_type": "code",
      "execution_count": null,
      "id": "16ea0a79-44c1-4a6f-8c8e-14771d5a294d",
      "metadata": {
        "id": "16ea0a79-44c1-4a6f-8c8e-14771d5a294d"
      },
      "outputs": [],
      "source": [
        ""
      ]
    },
    {
      "cell_type": "code",
      "execution_count": null,
      "id": "58a031d9-6f67-4c0c-85b0-835476c6ce2a",
      "metadata": {
        "id": "58a031d9-6f67-4c0c-85b0-835476c6ce2a"
      },
      "outputs": [],
      "source": [
        "class SpacyTokenizer():\n",
        "    \n",
        "    \"Spacy Customized tokenizer for `lang`\"\n",
        "    \n",
        "    def __init__(self, lang='ml', special_toks=None, buf_sz=5000):\n",
        "        self.special_toks = ifnone(special_toks, defaults.text_spec_tok)\n",
        "        nlp = spacy.blank(lang)\n",
        "        for w in self.special_toks: nlp.tokenizer.add_special_case(w, [{ORTH: w}])\n",
        "        self.pipe,self.buf_sz = nlp.pipe,buf_sz\n",
        "\n",
        "    def __call__(self, items):\n",
        "        return (L(doc).attrgot('text') for doc in self.pipe(map(str,items), batch_size=self.buf_sz))\n"
      ]
    },
    {
      "cell_type": "code",
      "execution_count": null,
      "id": "73485570-e3d1-4210-921d-2fb6886e4d8b",
      "metadata": {
        "id": "73485570-e3d1-4210-921d-2fb6886e4d8b"
      },
      "outputs": [],
      "source": [
        ""
      ]
    },
    {
      "cell_type": "code",
      "execution_count": null,
      "id": "b232b3f1-b5cf-4afa-a74f-30d29d158844",
      "metadata": {
        "id": "b232b3f1-b5cf-4afa-a74f-30d29d158844"
      },
      "outputs": [],
      "source": [
        ""
      ]
    },
    {
      "cell_type": "code",
      "execution_count": null,
      "id": "b11dac57-6887-48d8-ab29-2981cd442452",
      "metadata": {
        "id": "b11dac57-6887-48d8-ab29-2981cd442452"
      },
      "outputs": [],
      "source": [
        ""
      ]
    },
    {
      "cell_type": "code",
      "execution_count": null,
      "id": "c5f3d071-539b-48fa-bfff-f1f5a0d4869c",
      "metadata": {
        "id": "c5f3d071-539b-48fa-bfff-f1f5a0d4869c"
      },
      "outputs": [],
      "source": [
        "from spacy.tokenizer import Tokenizer as sTokenizer\n",
        "from spacy.util import compile_prefix_regex, \\\n",
        " compile_infix_regex, compile_suffix_regex"
      ]
    },
    {
      "cell_type": "code",
      "execution_count": null,
      "id": "faaafefd-3fa8-4754-94c2-fc6cd5692e20",
      "metadata": {
        "id": "faaafefd-3fa8-4754-94c2-fc6cd5692e20"
      },
      "outputs": [],
      "source": [
        ""
      ]
    },
    {
      "cell_type": "code",
      "execution_count": null,
      "id": "e27692ef-a1ba-4f9a-b5d4-0b20f6183c64",
      "metadata": {
        "id": "e27692ef-a1ba-4f9a-b5d4-0b20f6183c64"
      },
      "outputs": [],
      "source": [
        "prefixes = [pattern for pattern in nlp.Defaults.prefixes\n",
        "             if pattern not in ['-', '_', '#']]\n",
        "\n",
        "suffixes = [pattern for pattern in nlp.Defaults.suffixes\n",
        "             if pattern not in ['_']]\n",
        "            \n",
        "infixes =  [pattern for pattern in nlp.Defaults.infixes\n",
        "            if not re.search(pattern, 'xx-xx')]\n"
      ]
    },
    {
      "cell_type": "code",
      "execution_count": null,
      "id": "0d477eed-eff4-46dc-8eb9-405741ce93a7",
      "metadata": {
        "id": "0d477eed-eff4-46dc-8eb9-405741ce93a7"
      },
      "outputs": [],
      "source": [
        "sample = '''മികച്ച... മെക്സിക്കന്‍. ഷെഫ്-ഉണ്ടാക്കുന്; .ഭക്ഷണം കഴിക്കണം! '''"
      ]
    },
    {
      "cell_type": "code",
      "execution_count": null,
      "id": "b13bf443-673d-486a-8b20-38fcb79ec694",
      "metadata": {
        "id": "b13bf443-673d-486a-8b20-38fcb79ec694"
      },
      "outputs": [],
      "source": [
        "nlp = spacy.blank('ml')\n",
        "\n",
        "nlp.tokenizer = sTokenizer(vocab = nlp.vocab,\n",
        " rules = nlp.Defaults.tokenizer_exceptions,\n",
        " prefix_search = compile_prefix_regex(prefixes).search,\n",
        " suffix_search = compile_suffix_regex(['.']).search,\n",
        " infix_finditer = compile_infix_regex(infixes).finditer,\n",
        " token_match = nlp.Defaults.token_match)\n"
      ]
    },
    {
      "cell_type": "code",
      "execution_count": null,
      "id": "8ba93d9f-8247-40ea-8ed8-9342d797bf4a",
      "metadata": {
        "id": "8ba93d9f-8247-40ea-8ed8-9342d797bf4a",
        "outputId": "4c00baa5-f175-4ca0-9a87-fd1c84c2c535"
      },
      "outputs": [
        {
          "data": {
            "text/plain": [
              "[മ,\n",
              " ി,\n",
              " ക,\n",
              " ച,\n",
              " ്,\n",
              " ച,\n",
              " .,\n",
              " .,\n",
              " .,\n",
              " മ,\n",
              " െ,\n",
              " ക,\n",
              " ്,\n",
              " സ,\n",
              " ി,\n",
              " ക,\n",
              " ്,\n",
              " ക,\n",
              " ന,\n",
              " ്,\n",
              " ‍,\n",
              " .,\n",
              " ഷ,\n",
              " െ,\n",
              " ഫ,\n",
              " ്,\n",
              " -,\n",
              " ഉ,\n",
              " ണ,\n",
              " ്,\n",
              " ട,\n",
              " ാ,\n",
              " ക,\n",
              " ്,\n",
              " ക,\n",
              " ു,\n",
              " ന,\n",
              " ്,\n",
              " ;,\n",
              " .,\n",
              " ഭ,\n",
              " ക,\n",
              " ്,\n",
              " ഷ,\n",
              " ണ,\n",
              " ം,\n",
              " ക,\n",
              " ഴ,\n",
              " ി,\n",
              " ക,\n",
              " ്,\n",
              " ക,\n",
              " ണ,\n",
              " ം,\n",
              " !]"
            ]
          },
          "execution_count": 383,
          "metadata": {},
          "output_type": "execute_result"
        }
      ],
      "source": [
        "list(nlp(sample))"
      ]
    },
    {
      "cell_type": "code",
      "execution_count": null,
      "id": "1169d695-19d1-4653-a7e2-2fb2a07a3477",
      "metadata": {
        "id": "1169d695-19d1-4653-a7e2-2fb2a07a3477"
      },
      "outputs": [],
      "source": [
        ""
      ]
    },
    {
      "cell_type": "code",
      "execution_count": null,
      "id": "620b6aee-35b6-4c8a-a4e0-0611352506a4",
      "metadata": {
        "id": "620b6aee-35b6-4c8a-a4e0-0611352506a4"
      },
      "outputs": [],
      "source": [
        "nlp = spacy.blank('ml')"
      ]
    },
    {
      "cell_type": "code",
      "execution_count": null,
      "id": "b3878da2-9dff-4c85-8cd8-77dada6dd1b1",
      "metadata": {
        "id": "b3878da2-9dff-4c85-8cd8-77dada6dd1b1",
        "outputId": "a755b6a5-3dbe-4192-e521-649ce73ffc65"
      },
      "outputs": [
        {
          "data": {
            "text/plain": [
              "[മികച്ച,\n",
              " ...,\n",
              " മെക്സിക്കന്‍.,\n",
              " ഷെഫ്-ഉണ്ടാക്കുന്,\n",
              " ;,\n",
              " .ഭക്ഷണം,\n",
              " കഴിക്കണം,\n",
              " !,\n",
              " കരീബിയന്‍,\n",
              " സമുദ്രത്തില്‍,\n",
              " തിമിംഗലക്കുഞ്ഞുങ്ങള്‍ക്കൊപ്പം,\n",
              " കുളിക്കണം,\n",
              " അങ്ങനെ,\n",
              " ...,\n",
              " അങ്ങനെ,\n",
              " ...,\n",
              " ഒരു,\n",
              " വിനോദസഞ്ചാരിയാവുകയാണ്,\n",
              " ജോലി,\n",
              " ...,\n",
              " ശമ്പളമോ,\n",
              " വര്‍ഷത്തില്‍,\n",
              " എണ്‍പത്,\n",
              " ലക്ഷത്തിനു,\n",
              " മുകളില്‍.,\n",
              " ഭക്ഷണത്തിനുള്ള,\n",
              " കാര്‍ഡുകളും,\n",
              " ,,\n",
              " \",\n",
              " യാത്രാ,\n",
              " \",\n",
              " ചെലവും,\n",
              " പുറമേയും,\n",
              " കിട്ടും.,\n",
              " അപേക്ഷ,\n",
              " അയച്ച്,\n",
              " തെരഞ്ഞെടുക്കപ്പെട്ടാല്‍,\n",
              " റിസോര്‍ട്ടിന്‍റെ,\n",
              " ബ്രാൻഡ്,\n",
              " അംബാസഡറായി,\n",
              " മാറാം.]"
            ]
          },
          "execution_count": 292,
          "metadata": {},
          "output_type": "execute_result"
        }
      ],
      "source": [
        "list(nlp(sample))"
      ]
    },
    {
      "cell_type": "code",
      "execution_count": null,
      "id": "9f01b52a-7013-4700-a8c1-1b8268039c57",
      "metadata": {
        "id": "9f01b52a-7013-4700-a8c1-1b8268039c57"
      },
      "outputs": [],
      "source": [
        ""
      ]
    }
  ],
  "metadata": {
    "colab": {
      "name": "notebook.ipynb",
      "provenance": [],
      "include_colab_link": true
    },
    "kernelspec": {
      "display_name": "Python 3 (ipykernel)",
      "language": "python",
      "name": "python3"
    },
    "language_info": {
      "codemirror_mode": {
        "name": "ipython",
        "version": 3
      },
      "file_extension": ".py",
      "mimetype": "text/x-python",
      "name": "python",
      "nbconvert_exporter": "python",
      "pygments_lexer": "ipython3",
      "version": "3.9.5"
    }
  },
  "nbformat": 4,
  "nbformat_minor": 5
}